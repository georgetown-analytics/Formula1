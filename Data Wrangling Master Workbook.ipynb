{
 "cells": [
  {
   "cell_type": "markdown",
   "id": "9d139dfa",
   "metadata": {},
   "source": [
    "# Team F1 Data Wrangling Master "
   ]
  },
  {
   "cell_type": "markdown",
   "id": "90fe275f",
   "metadata": {},
   "source": [
    "-Goals and Objectives:\n",
    "1. Mold the Results csv into basic shape\n",
    "2. Add in all required columns\n",
    "3. address all N/A's\n",
    "4. Save as a separate CSV\n",
    "5. Enact test/train split"
   ]
  },
  {
   "cell_type": "code",
   "execution_count": 30,
   "id": "b19ed408",
   "metadata": {},
   "outputs": [],
   "source": [
    "import numpy as np\n",
    "import pandas as pd\n",
    "from collections import Counter"
   ]
  },
  {
   "cell_type": "markdown",
   "id": "7c71c878",
   "metadata": {},
   "source": [
    "## Import statements for our CSV's"
   ]
  },
  {
   "cell_type": "code",
   "execution_count": 31,
   "id": "12bdeba8",
   "metadata": {},
   "outputs": [],
   "source": [
    "#results\n",
    "results_url = 'https://raw.githubusercontent.com/georgetown-analytics/Formula1/main/data/results.csv'\n",
    "results_df = pd.read_csv(results_url, sep = ',', engine = 'python')\n",
    "results_df.head()\n",
    "\n",
    "#status\n",
    "status_url = 'https://raw.githubusercontent.com/georgetown-analytics/Formula1/main/data/status.csv'\n",
    "status_df = pd.read_csv(status_url, sep = ',', engine = 'python')\n",
    "\n",
    "#circuits\n",
    "circuits_url = 'https://raw.githubusercontent.com/georgetown-analytics/Formula1/main/data/circuits.csv'\n",
    "circuits_df = pd.read_csv(circuits_url, sep = ',', encoding = 'latin-1')\n",
    "\n",
    "#races\n",
    "races_url = 'https://raw.githubusercontent.com/georgetown-analytics/Formula1/main/data/races.csv'\n",
    "races_df = pd.read_csv(races_url, sep = ',', engine = 'c')\n",
    "\n",
    "#Drivers\n",
    "drivers_url = 'https://raw.githubusercontent.com/georgetown-analytics/Formula1/main/data/drivers.csv'\n",
    "drivers_df = pd.read_csv(drivers_url, sep = ',', encoding = 'latin-1')\n",
    "\n",
    "#lap Times\n",
    "lap_times_url = 'https://raw.githubusercontent.com/georgetown-analytics/Formula1/main/data/lap_times.csv'\n",
    "lap_times_df = pd.read_csv(lap_times_url, sep = ',', engine = 'python')\n",
    "\n",
    "#MasterData1\n",
    "MasterData1_url = 'https://raw.githubusercontent.com/georgetown-analytics/Formula1/main/data/MasterData1.csv'\n",
    "MasterData1_df = pd.read_csv(MasterData1_url, sep = ',', engine = 'python')\n",
    "\n",
    "#races-v4\n",
    "race_weather_url = 'https://raw.githubusercontent.com/georgetown-analytics/Formula1/main/data/interim/races-v4.csv'\n",
    "race_weather_df = pd.read_csv(race_weather_url, sep = ',', engine = 'python')"
   ]
  },
  {
   "cell_type": "markdown",
   "id": "f846ac9c",
   "metadata": {},
   "source": [
    "## Molding Results.csv into basic shape"
   ]
  },
  {
   "cell_type": "markdown",
   "id": "d454d06a",
   "metadata": {},
   "source": [
    "### Tasks\n",
    "1. drop:\n",
    "    1. resultID\n",
    "    2. number\n",
    "    3. points\n",
    "    4. time\n",
    "    5. fastestLapTime"
   ]
  },
  {
   "cell_type": "code",
   "execution_count": 4,
   "id": "038ebe1b",
   "metadata": {},
   "outputs": [
    {
     "data": {
      "text/html": [
       "<div>\n",
       "<style scoped>\n",
       "    .dataframe tbody tr th:only-of-type {\n",
       "        vertical-align: middle;\n",
       "    }\n",
       "\n",
       "    .dataframe tbody tr th {\n",
       "        vertical-align: top;\n",
       "    }\n",
       "\n",
       "    .dataframe thead th {\n",
       "        text-align: right;\n",
       "    }\n",
       "</style>\n",
       "<table border=\"1\" class=\"dataframe\">\n",
       "  <thead>\n",
       "    <tr style=\"text-align: right;\">\n",
       "      <th></th>\n",
       "      <th>raceId</th>\n",
       "      <th>driverId</th>\n",
       "      <th>constructorId</th>\n",
       "      <th>grid</th>\n",
       "      <th>position</th>\n",
       "      <th>positionText</th>\n",
       "      <th>positionOrder</th>\n",
       "      <th>laps</th>\n",
       "      <th>milliseconds</th>\n",
       "      <th>fastestLap</th>\n",
       "      <th>rank</th>\n",
       "      <th>fastestLapSpeed</th>\n",
       "      <th>statusId</th>\n",
       "    </tr>\n",
       "  </thead>\n",
       "  <tbody>\n",
       "    <tr>\n",
       "      <th>0</th>\n",
       "      <td>18</td>\n",
       "      <td>1</td>\n",
       "      <td>1</td>\n",
       "      <td>1</td>\n",
       "      <td>1</td>\n",
       "      <td>1</td>\n",
       "      <td>1</td>\n",
       "      <td>58</td>\n",
       "      <td>5690616</td>\n",
       "      <td>39</td>\n",
       "      <td>2</td>\n",
       "      <td>218.300</td>\n",
       "      <td>1</td>\n",
       "    </tr>\n",
       "    <tr>\n",
       "      <th>1</th>\n",
       "      <td>18</td>\n",
       "      <td>2</td>\n",
       "      <td>2</td>\n",
       "      <td>5</td>\n",
       "      <td>2</td>\n",
       "      <td>2</td>\n",
       "      <td>2</td>\n",
       "      <td>58</td>\n",
       "      <td>5696094</td>\n",
       "      <td>41</td>\n",
       "      <td>3</td>\n",
       "      <td>217.586</td>\n",
       "      <td>1</td>\n",
       "    </tr>\n",
       "    <tr>\n",
       "      <th>2</th>\n",
       "      <td>18</td>\n",
       "      <td>3</td>\n",
       "      <td>3</td>\n",
       "      <td>7</td>\n",
       "      <td>3</td>\n",
       "      <td>3</td>\n",
       "      <td>3</td>\n",
       "      <td>58</td>\n",
       "      <td>5698779</td>\n",
       "      <td>41</td>\n",
       "      <td>5</td>\n",
       "      <td>216.719</td>\n",
       "      <td>1</td>\n",
       "    </tr>\n",
       "    <tr>\n",
       "      <th>3</th>\n",
       "      <td>18</td>\n",
       "      <td>4</td>\n",
       "      <td>4</td>\n",
       "      <td>11</td>\n",
       "      <td>4</td>\n",
       "      <td>4</td>\n",
       "      <td>4</td>\n",
       "      <td>58</td>\n",
       "      <td>5707797</td>\n",
       "      <td>58</td>\n",
       "      <td>7</td>\n",
       "      <td>215.464</td>\n",
       "      <td>1</td>\n",
       "    </tr>\n",
       "    <tr>\n",
       "      <th>4</th>\n",
       "      <td>18</td>\n",
       "      <td>5</td>\n",
       "      <td>1</td>\n",
       "      <td>3</td>\n",
       "      <td>5</td>\n",
       "      <td>5</td>\n",
       "      <td>5</td>\n",
       "      <td>58</td>\n",
       "      <td>5708630</td>\n",
       "      <td>43</td>\n",
       "      <td>1</td>\n",
       "      <td>218.385</td>\n",
       "      <td>1</td>\n",
       "    </tr>\n",
       "  </tbody>\n",
       "</table>\n",
       "</div>"
      ],
      "text/plain": [
       "   raceId  driverId  constructorId  grid position positionText  positionOrder  \\\n",
       "0      18         1              1     1        1            1              1   \n",
       "1      18         2              2     5        2            2              2   \n",
       "2      18         3              3     7        3            3              3   \n",
       "3      18         4              4    11        4            4              4   \n",
       "4      18         5              1     3        5            5              5   \n",
       "\n",
       "   laps milliseconds fastestLap rank fastestLapSpeed  statusId  \n",
       "0    58      5690616         39    2         218.300         1  \n",
       "1    58      5696094         41    3         217.586         1  \n",
       "2    58      5698779         41    5         216.719         1  \n",
       "3    58      5707797         58    7         215.464         1  \n",
       "4    58      5708630         43    1         218.385         1  "
      ]
     },
     "execution_count": 4,
     "metadata": {},
     "output_type": "execute_result"
    }
   ],
   "source": [
    "results_df = results_df.drop(['resultId','number','points','time','fastestLapTime'], axis=1, inplace=False)\n",
    "results_df.head()"
   ]
  },
  {
   "cell_type": "markdown",
   "id": "9924bf8d",
   "metadata": {},
   "source": [
    "## Adding Required Columns\n",
    "\n",
    "### Tasks:\n",
    "1. Add Race Outcome from status.csv\n",
    "2. Add FamilyID from status.csv\n",
    "3. Add circuitType from circuits.csv\n",
    "4. Add isHistoric from circuits.csv\n",
    "5. Add Driver Place of Origin"
   ]
  },
  {
   "cell_type": "markdown",
   "id": "bca8e0cb",
   "metadata": {},
   "source": [
    "#### #1 and #2\n",
    "Adding race outcome and familyID from status.csv"
   ]
  },
  {
   "cell_type": "code",
   "execution_count": 5,
   "id": "9261f548",
   "metadata": {},
   "outputs": [],
   "source": [
    "merged2_df = pd.merge(results_df,status_df,on='statusId')\n",
    "#note - I did this with just an inner join because we know for sure that there are no nulls in statusID"
   ]
  },
  {
   "cell_type": "code",
   "execution_count": 6,
   "id": "1bbef0d0",
   "metadata": {},
   "outputs": [],
   "source": [
    "#get rid of the leftovers on merged2\n",
    "merged2_df = merged2_df.drop(columns=['status','statusId'],axis=1,inplace=False)"
   ]
  },
  {
   "cell_type": "markdown",
   "id": "f4b30984",
   "metadata": {},
   "source": [
    "#### #3 and #4\n",
    "adding circuitType and isHistoric from circuits.csv"
   ]
  },
  {
   "cell_type": "code",
   "execution_count": 7,
   "id": "09ac8d71",
   "metadata": {},
   "outputs": [],
   "source": [
    "#step 1, prep a trimmed version of races_df for left merging into merged2_df\n",
    "races_df = races_df.drop(['round','name','date','time','url'],axis=1, inplace=False)"
   ]
  },
  {
   "cell_type": "code",
   "execution_count": 8,
   "id": "b6939f0c",
   "metadata": {},
   "outputs": [],
   "source": [
    "#step 2, bring in circuitID from races.csv INTO merged2_df (refined results.csv) to prep the join\n",
    "merged3_df = pd.merge(merged2_df, races_df, on='raceId', how='left')"
   ]
  },
  {
   "cell_type": "code",
   "execution_count": 9,
   "id": "5f0a919a",
   "metadata": {},
   "outputs": [],
   "source": [
    "#step 3, left join the relevant columns into merged3_df from circuits.csv using circuitID as the joining column"
   ]
  },
  {
   "cell_type": "code",
   "execution_count": 10,
   "id": "18bead08",
   "metadata": {},
   "outputs": [],
   "source": [
    "#dropping the fluff out of circuits ahead of merge\n",
    "circuits_df = circuits_df.drop(columns=['circuitRef','name','location','lat','lng','url'],axis=1,inplace=False)"
   ]
  },
  {
   "cell_type": "code",
   "execution_count": 20,
   "id": "051bf871",
   "metadata": {},
   "outputs": [
    {
     "data": {
      "text/plain": [
       "0    47\n",
       "2    20\n",
       "1    10\n",
       "Name: trackType, dtype: int64"
      ]
     },
     "execution_count": 20,
     "metadata": {},
     "output_type": "execute_result"
    }
   ],
   "source": [
    "circuits_df['trackType'].value_counts()"
   ]
  },
  {
   "cell_type": "code",
   "execution_count": 21,
   "id": "0e6b045d",
   "metadata": {},
   "outputs": [],
   "source": [
    "#merging in circuits to merged3_df on circuitID\n",
    "merge4_df = pd.merge(merged3_df,circuits_df,on='circuitId',how='left')"
   ]
  },
  {
   "cell_type": "code",
   "execution_count": 29,
   "id": "da94701c",
   "metadata": {
    "scrolled": true
   },
   "outputs": [
    {
     "data": {
      "text/plain": [
       "0    19363\n",
       "2     5018\n",
       "1      759\n",
       "Name: trackType, dtype: int64"
      ]
     },
     "execution_count": 29,
     "metadata": {},
     "output_type": "execute_result"
    }
   ],
   "source": [
    "merge4_df['trackType'].value_counts()"
   ]
  },
  {
   "cell_type": "markdown",
   "id": "6ebdbba8",
   "metadata": {},
   "source": [
    "### #5, Adding in Driver Nationality"
   ]
  },
  {
   "cell_type": "code",
   "execution_count": 22,
   "id": "97a3bdba",
   "metadata": {},
   "outputs": [],
   "source": [
    "merge5_df = pd.merge(merge4_df,drivers_df[['driverId','nationality']],on='driverId',how='left')\n",
    "#did it a different way here, merged just some select columns so I didn't need to do any drops"
   ]
  },
  {
   "cell_type": "code",
   "execution_count": 38,
   "id": "1d32d087",
   "metadata": {},
   "outputs": [
    {
     "data": {
      "text/plain": [
       "0    19363\n",
       "2     5018\n",
       "1      759\n",
       "Name: trackType, dtype: int64"
      ]
     },
     "execution_count": 38,
     "metadata": {},
     "output_type": "execute_result"
    }
   ],
   "source": [
    "merge5_df['trackType'].value_counts()"
   ]
  },
  {
   "cell_type": "markdown",
   "id": "916b8751",
   "metadata": {},
   "source": [
    "# Data Wrangling / Fixing Nulls Work\n",
    "## 1 - fixing milliseconds (there are a lot of nulls)\n",
    "\n",
    "### Plan -\n",
    "\n",
    "#### Step 1 - Drop the old Milliseconds from merged5_df and add the new milliseconds (from our new df called summed_df)\n",
    "\n",
    "#### Step 2 - Take all Laptimes (in milliseconds) from LapTimes_df and sum them for each driver in each race, thus replicating the total time column (this does NOT factor in laps completed, so even if a driver completes just one lap, they will still have a time)\n",
    "\n",
    "\n",
    "##### Key Note - Drivers who don't complete a lap at all (vehicle failure at start-line) will still have a Null, there are approx. 217 of these)"
   ]
  },
  {
   "cell_type": "code",
   "execution_count": 23,
   "id": "36b0f15f",
   "metadata": {},
   "outputs": [],
   "source": [
    "merge5_df = merge5_df.drop(columns=['milliseconds'],axis=1,inplace=False)"
   ]
  },
  {
   "cell_type": "code",
   "execution_count": 24,
   "id": "fd34c70c",
   "metadata": {},
   "outputs": [],
   "source": [
    "summed_lapTimes = lap_times_df.groupby(['raceId','driverId'], as_index = False).agg({'milliseconds':'sum'})"
   ]
  },
  {
   "cell_type": "code",
   "execution_count": 32,
   "id": "4db9eeab",
   "metadata": {},
   "outputs": [
    {
     "data": {
      "text/html": [
       "<div>\n",
       "<style scoped>\n",
       "    .dataframe tbody tr th:only-of-type {\n",
       "        vertical-align: middle;\n",
       "    }\n",
       "\n",
       "    .dataframe tbody tr th {\n",
       "        vertical-align: top;\n",
       "    }\n",
       "\n",
       "    .dataframe thead th {\n",
       "        text-align: right;\n",
       "    }\n",
       "</style>\n",
       "<table border=\"1\" class=\"dataframe\">\n",
       "  <thead>\n",
       "    <tr style=\"text-align: right;\">\n",
       "      <th></th>\n",
       "      <th>raceId</th>\n",
       "      <th>driverId</th>\n",
       "      <th>milliseconds</th>\n",
       "    </tr>\n",
       "  </thead>\n",
       "  <tbody>\n",
       "    <tr>\n",
       "      <th>0</th>\n",
       "      <td>1</td>\n",
       "      <td>1</td>\n",
       "      <td>5658698</td>\n",
       "    </tr>\n",
       "    <tr>\n",
       "      <th>1</th>\n",
       "      <td>1</td>\n",
       "      <td>2</td>\n",
       "      <td>5662869</td>\n",
       "    </tr>\n",
       "    <tr>\n",
       "      <th>2</th>\n",
       "      <td>1</td>\n",
       "      <td>3</td>\n",
       "      <td>5661506</td>\n",
       "    </tr>\n",
       "    <tr>\n",
       "      <th>3</th>\n",
       "      <td>1</td>\n",
       "      <td>4</td>\n",
       "      <td>5660663</td>\n",
       "    </tr>\n",
       "    <tr>\n",
       "      <th>4</th>\n",
       "      <td>1</td>\n",
       "      <td>6</td>\n",
       "      <td>1560978</td>\n",
       "    </tr>\n",
       "  </tbody>\n",
       "</table>\n",
       "</div>"
      ],
      "text/plain": [
       "   raceId  driverId  milliseconds\n",
       "0       1         1       5658698\n",
       "1       1         2       5662869\n",
       "2       1         3       5661506\n",
       "3       1         4       5660663\n",
       "4       1         6       1560978"
      ]
     },
     "execution_count": 32,
     "metadata": {},
     "output_type": "execute_result"
    }
   ],
   "source": [
    "summed_lapTimes.head()"
   ]
  },
  {
   "cell_type": "code",
   "execution_count": 39,
   "id": "f21e4189",
   "metadata": {},
   "outputs": [],
   "source": [
    "merge6_df = pd.merge(merge5_df,summed_lapTimes, on=['raceId','driverId'], how='right')\n",
    "#When I attempted this using a left join on accident, we got numerous nulls in a variety of columns."
   ]
  },
  {
   "cell_type": "code",
   "execution_count": 40,
   "id": "97eebc72",
   "metadata": {},
   "outputs": [],
   "source": [
    "#Renaming Columns\n",
    "merge6_df.rename(columns={'milliseconds':'total_lap_time'}, inplace= True)"
   ]
  },
  {
   "cell_type": "code",
   "execution_count": 41,
   "id": "56e014ef",
   "metadata": {},
   "outputs": [
    {
     "data": {
      "text/plain": [
       "0    7212\n",
       "2    2254\n",
       "Name: trackType, dtype: int64"
      ]
     },
     "execution_count": 41,
     "metadata": {},
     "output_type": "execute_result"
    }
   ],
   "source": [
    "merge6_df['trackType'].value_counts()"
   ]
  },
  {
   "cell_type": "markdown",
   "id": "732e0202",
   "metadata": {},
   "source": [
    "## Creating Tables of Average Race times (milliseconds) and minimum laptimes (milliseconds) for each driver in each race"
   ]
  },
  {
   "cell_type": "markdown",
   "id": "ba28be89",
   "metadata": {},
   "source": [
    "#### Average Laptime"
   ]
  },
  {
   "cell_type": "code",
   "execution_count": 44,
   "id": "aa9973dc",
   "metadata": {
    "scrolled": true
   },
   "outputs": [],
   "source": [
    "average_lapTime = lap_times_df.groupby(['raceId','driverId'], as_index = False).agg({'milliseconds':'mean'})\n",
    "average_lapTime.rename(columns={'milliseconds':'average_lap_time'}, inplace= True)"
   ]
  },
  {
   "cell_type": "markdown",
   "id": "2dfd1d19",
   "metadata": {},
   "source": [
    "#### Minimum Lap Time"
   ]
  },
  {
   "cell_type": "code",
   "execution_count": 45,
   "id": "afe09dfb",
   "metadata": {},
   "outputs": [],
   "source": [
    "min_lapTime = lap_times_df.groupby(['raceId','driverId'], as_index = False).agg({'milliseconds':'min'})\n",
    "min_lapTime.rename(columns={'milliseconds':'minimum_lap_time'}, inplace= True)"
   ]
  },
  {
   "cell_type": "markdown",
   "id": "cfa16484",
   "metadata": {},
   "source": [
    "#### Bringing it all together now"
   ]
  },
  {
   "cell_type": "code",
   "execution_count": 46,
   "id": "2d5fab64",
   "metadata": {},
   "outputs": [],
   "source": [
    "#Bringing in avg lap time\n",
    "merge7_df = pd.merge(merge6_df,average_lapTime, on=['raceId','driverId'])"
   ]
  },
  {
   "cell_type": "code",
   "execution_count": 47,
   "id": "87a20c7e",
   "metadata": {},
   "outputs": [],
   "source": [
    "#bringing in minimum lap time\n",
    "merge8_df = pd.merge(merge7_df,min_lapTime, on=['raceId','driverId'])"
   ]
  },
  {
   "cell_type": "code",
   "execution_count": 48,
   "id": "33759b9a",
   "metadata": {},
   "outputs": [],
   "source": [
    "#replacing \\N with real NaN, probably should have done this sooner\n",
    "merge8_df = merge8_df.replace(r'\\N', np.NaN)"
   ]
  },
  {
   "cell_type": "code",
   "execution_count": 49,
   "id": "fe0aae32",
   "metadata": {},
   "outputs": [],
   "source": [
    "#bringing in weather data\n",
    "merge9 = pd.merge(merge8_df, race_weather_df[['raceId', 'PRCP','TAVG', 'TMAX', 'TMIN']], on = 'raceId', how='left')"
   ]
  },
  {
   "cell_type": "code",
   "execution_count": 23,
   "id": "9e97dbb4",
   "metadata": {
    "scrolled": false
   },
   "outputs": [
    {
     "data": {
      "text/plain": [
       "raceId                  0\n",
       "driverId                0\n",
       "constructorId           0\n",
       "grid                    0\n",
       "position             2164\n",
       "positionText            0\n",
       "positionOrder           0\n",
       "laps                    0\n",
       "fastestLap           2745\n",
       "rank                 2704\n",
       "fastestLapSpeed      2745\n",
       "familyStatus            0\n",
       "Completion Status       0\n",
       "year                    0\n",
       "circuitId               0\n",
       "country                 0\n",
       "alt                     0\n",
       "isHistoric              0\n",
       "trackType               0\n",
       "nationality             0\n",
       "total_lap_time          0\n",
       "average_lap_time        0\n",
       "minimum_lap_time        0\n",
       "PRCP                    0\n",
       "TAVG                    0\n",
       "TMAX                    0\n",
       "TMIN                    0\n",
       "dtype: int64"
      ]
     },
     "execution_count": 23,
     "metadata": {},
     "output_type": "execute_result"
    }
   ],
   "source": [
    "#No nulls confirmed\n",
    "merge9.isna().sum()"
   ]
  },
  {
   "cell_type": "code",
   "execution_count": 50,
   "id": "89c893f6",
   "metadata": {},
   "outputs": [],
   "source": [
    "#dropping unnecessary columns\n",
    "merge9 = merge9.drop(columns=['position','positionText', 'positionOrder', 'fastestLap', 'rank', 'fastestLapSpeed'],axis=1,inplace=False)"
   ]
  },
  {
   "cell_type": "markdown",
   "id": "897d7092",
   "metadata": {},
   "source": [
    "# Grouping up Circuit IDs by Frequency of races"
   ]
  },
  {
   "cell_type": "code",
   "execution_count": 51,
   "id": "3c18956d",
   "metadata": {},
   "outputs": [
    {
     "data": {
      "text/plain": [
       "9     531\n",
       "4     528\n",
       "11    523\n",
       "14    514\n",
       "6     512\n",
       "18    490\n",
       "7     475\n",
       "1     469\n",
       "22    452\n",
       "13    452\n",
       "2     395\n",
       "10    369\n",
       "3     367\n",
       "17    337\n",
       "20    331\n",
       "8     270\n",
       "21    267\n",
       "15    251\n",
       "24    250\n",
       "70    200\n",
       "5     169\n",
       "69    164\n",
       "23    142\n",
       "19    140\n",
       "71    132\n",
       "12    110\n",
       "32    101\n",
       "73    100\n",
       "35     93\n",
       "68     69\n",
       "25     64\n",
       "34     58\n",
       "16     41\n",
       "75     40\n",
       "26     22\n",
       "27     20\n",
       "76     18\n",
       "Name: circuitId, dtype: int64"
      ]
     },
     "execution_count": 51,
     "metadata": {},
     "output_type": "execute_result"
    }
   ],
   "source": [
    "merge9['circuitId'].value_counts()"
   ]
  },
  {
   "cell_type": "code",
   "execution_count": 52,
   "id": "8dcbc810",
   "metadata": {},
   "outputs": [],
   "source": [
    "def circuit_binner2(row):\n",
    "    if row['circuitId'] in (9, 4, 11, 14, 6): #500s\n",
    "        val = \"1\"\n",
    "    elif row['circuitId'] in (18, 7, 1, 22, 13): #400s\n",
    "        val = \"2\"\n",
    "    elif row['circuitId'] in (2, 10, 3, 17, 20): #300s\n",
    "        val = \"3\"\n",
    "    elif row['circuitId'] in (8, 21, 15, 24, 70): #200s\n",
    "        val = \"4\"\n",
    "    elif row['circuitId'] in (5, 69, 23, 19, 71, 12, 32, 73): #100s\n",
    "        val = \"5\"\n",
    "    elif row['circuitId'] in (35, 68, 25, 34, 16, 75, 26, 27, 76): #<100s\n",
    "        val = \"6\"\n",
    "    else:\n",
    "        val = \"error\"\n",
    "    return val"
   ]
  },
  {
   "cell_type": "code",
   "execution_count": 53,
   "id": "961c7d7e",
   "metadata": {},
   "outputs": [],
   "source": [
    "merge9['binned_circuits'] = merge9.apply(circuit_binner2, axis=1)"
   ]
  },
  {
   "cell_type": "code",
   "execution_count": 54,
   "id": "3e848ddc",
   "metadata": {},
   "outputs": [
    {
     "data": {
      "text/plain": [
       "1    2608\n",
       "2    2338\n",
       "3    1799\n",
       "4    1238\n",
       "5    1058\n",
       "6     425\n",
       "Name: binned_circuits, dtype: int64"
      ]
     },
     "execution_count": 54,
     "metadata": {},
     "output_type": "execute_result"
    }
   ],
   "source": [
    "merge9['binned_circuits'].value_counts()"
   ]
  },
  {
   "cell_type": "code",
   "execution_count": 55,
   "id": "515482f2",
   "metadata": {},
   "outputs": [
    {
     "data": {
      "text/plain": [
       "raceId               0\n",
       "driverId             0\n",
       "constructorId        0\n",
       "grid                 0\n",
       "laps                 0\n",
       "familyStatus         0\n",
       "Completion Status    0\n",
       "year                 0\n",
       "circuitId            0\n",
       "country              0\n",
       "alt                  0\n",
       "isHistoric           0\n",
       "trackType            0\n",
       "nationality          0\n",
       "total_lap_time       0\n",
       "average_lap_time     0\n",
       "minimum_lap_time     0\n",
       "PRCP                 0\n",
       "TAVG                 0\n",
       "TMAX                 0\n",
       "TMIN                 0\n",
       "binned_circuits      0\n",
       "dtype: int64"
      ]
     },
     "execution_count": 55,
     "metadata": {},
     "output_type": "execute_result"
    }
   ],
   "source": [
    "merge9.isna().sum()"
   ]
  },
  {
   "cell_type": "markdown",
   "id": "d07942f9",
   "metadata": {},
   "source": [
    "# Dropping Noise from Data\n",
    "\n",
    "## Dropped two phenomenon here:\n",
    "\n",
    "### 1. Dropped all Lap 0 vehicle failures (nothing in our data explains why car failures occur at start line)\n",
    "\n",
    "### 2. Dropped all DQ's and other erroneous failures not based strictly on car performance"
   ]
  },
  {
   "cell_type": "code",
   "execution_count": 56,
   "id": "c22c3bbb",
   "metadata": {},
   "outputs": [
    {
     "data": {
      "text/plain": [
       "4    7108\n",
       "6    1377\n",
       "1     435\n",
       "2     302\n",
       "3     208\n",
       "5      36\n",
       "Name: familyStatus, dtype: int64"
      ]
     },
     "execution_count": 56,
     "metadata": {},
     "output_type": "execute_result"
    }
   ],
   "source": [
    "merge9['familyStatus'].value_counts()"
   ]
  },
  {
   "cell_type": "code",
   "execution_count": 57,
   "id": "28eacf4d",
   "metadata": {},
   "outputs": [
    {
     "data": {
      "text/plain": [
       "1    0.750898\n",
       "0    0.249102\n",
       "Name: Completion Status, dtype: float64"
      ]
     },
     "execution_count": 57,
     "metadata": {},
     "output_type": "execute_result"
    }
   ],
   "source": [
    "merge9['Completion Status'].value_counts(normalize = True)"
   ]
  },
  {
   "cell_type": "code",
   "execution_count": 58,
   "id": "789a96da",
   "metadata": {},
   "outputs": [],
   "source": [
    "filtered_master = merge9.loc[~((merge9['laps'] == 0) & (merge9['familyStatus'] == 6)),:]"
   ]
  },
  {
   "cell_type": "code",
   "execution_count": 59,
   "id": "b861c00f",
   "metadata": {},
   "outputs": [],
   "source": [
    "filtered2_master = filtered_master.loc[(filtered_master['familyStatus'] != 3)]"
   ]
  },
  {
   "cell_type": "code",
   "execution_count": 60,
   "id": "9163bbb7",
   "metadata": {},
   "outputs": [
    {
     "data": {
      "text/html": [
       "<div>\n",
       "<style scoped>\n",
       "    .dataframe tbody tr th:only-of-type {\n",
       "        vertical-align: middle;\n",
       "    }\n",
       "\n",
       "    .dataframe tbody tr th {\n",
       "        vertical-align: top;\n",
       "    }\n",
       "\n",
       "    .dataframe thead th {\n",
       "        text-align: right;\n",
       "    }\n",
       "</style>\n",
       "<table border=\"1\" class=\"dataframe\">\n",
       "  <thead>\n",
       "    <tr style=\"text-align: right;\">\n",
       "      <th></th>\n",
       "      <th>raceId</th>\n",
       "      <th>driverId</th>\n",
       "      <th>constructorId</th>\n",
       "      <th>grid</th>\n",
       "      <th>laps</th>\n",
       "      <th>familyStatus</th>\n",
       "      <th>Completion Status</th>\n",
       "      <th>year</th>\n",
       "      <th>circuitId</th>\n",
       "      <th>country</th>\n",
       "      <th>...</th>\n",
       "      <th>trackType</th>\n",
       "      <th>nationality</th>\n",
       "      <th>total_lap_time</th>\n",
       "      <th>average_lap_time</th>\n",
       "      <th>minimum_lap_time</th>\n",
       "      <th>PRCP</th>\n",
       "      <th>TAVG</th>\n",
       "      <th>TMAX</th>\n",
       "      <th>TMIN</th>\n",
       "      <th>binned_circuits</th>\n",
       "    </tr>\n",
       "  </thead>\n",
       "  <tbody>\n",
       "    <tr>\n",
       "      <th>1</th>\n",
       "      <td>1</td>\n",
       "      <td>2</td>\n",
       "      <td>2</td>\n",
       "      <td>9</td>\n",
       "      <td>58</td>\n",
       "      <td>4</td>\n",
       "      <td>1</td>\n",
       "      <td>2009</td>\n",
       "      <td>1</td>\n",
       "      <td>Australia</td>\n",
       "      <td>...</td>\n",
       "      <td>2</td>\n",
       "      <td>German</td>\n",
       "      <td>5662869</td>\n",
       "      <td>97635.672414</td>\n",
       "      <td>88283</td>\n",
       "      <td>0.0</td>\n",
       "      <td>72.0</td>\n",
       "      <td>78.0</td>\n",
       "      <td>66.0</td>\n",
       "      <td>2</td>\n",
       "    </tr>\n",
       "    <tr>\n",
       "      <th>2</th>\n",
       "      <td>1</td>\n",
       "      <td>3</td>\n",
       "      <td>3</td>\n",
       "      <td>5</td>\n",
       "      <td>58</td>\n",
       "      <td>4</td>\n",
       "      <td>1</td>\n",
       "      <td>2009</td>\n",
       "      <td>1</td>\n",
       "      <td>Australia</td>\n",
       "      <td>...</td>\n",
       "      <td>2</td>\n",
       "      <td>German</td>\n",
       "      <td>5661506</td>\n",
       "      <td>97612.172414</td>\n",
       "      <td>87706</td>\n",
       "      <td>0.0</td>\n",
       "      <td>72.0</td>\n",
       "      <td>78.0</td>\n",
       "      <td>66.0</td>\n",
       "      <td>2</td>\n",
       "    </tr>\n",
       "    <tr>\n",
       "      <th>3</th>\n",
       "      <td>1</td>\n",
       "      <td>4</td>\n",
       "      <td>4</td>\n",
       "      <td>10</td>\n",
       "      <td>58</td>\n",
       "      <td>4</td>\n",
       "      <td>1</td>\n",
       "      <td>2009</td>\n",
       "      <td>1</td>\n",
       "      <td>Australia</td>\n",
       "      <td>...</td>\n",
       "      <td>2</td>\n",
       "      <td>Spanish</td>\n",
       "      <td>5660663</td>\n",
       "      <td>97597.637931</td>\n",
       "      <td>88712</td>\n",
       "      <td>0.0</td>\n",
       "      <td>72.0</td>\n",
       "      <td>78.0</td>\n",
       "      <td>66.0</td>\n",
       "      <td>2</td>\n",
       "    </tr>\n",
       "    <tr>\n",
       "      <th>4</th>\n",
       "      <td>1</td>\n",
       "      <td>6</td>\n",
       "      <td>3</td>\n",
       "      <td>11</td>\n",
       "      <td>17</td>\n",
       "      <td>1</td>\n",
       "      <td>0</td>\n",
       "      <td>2009</td>\n",
       "      <td>1</td>\n",
       "      <td>Australia</td>\n",
       "      <td>...</td>\n",
       "      <td>2</td>\n",
       "      <td>Japanese</td>\n",
       "      <td>1560978</td>\n",
       "      <td>91822.235294</td>\n",
       "      <td>89923</td>\n",
       "      <td>0.0</td>\n",
       "      <td>72.0</td>\n",
       "      <td>78.0</td>\n",
       "      <td>66.0</td>\n",
       "      <td>2</td>\n",
       "    </tr>\n",
       "    <tr>\n",
       "      <th>5</th>\n",
       "      <td>1</td>\n",
       "      <td>7</td>\n",
       "      <td>5</td>\n",
       "      <td>17</td>\n",
       "      <td>58</td>\n",
       "      <td>4</td>\n",
       "      <td>1</td>\n",
       "      <td>2009</td>\n",
       "      <td>1</td>\n",
       "      <td>Australia</td>\n",
       "      <td>...</td>\n",
       "      <td>2</td>\n",
       "      <td>French</td>\n",
       "      <td>5662082</td>\n",
       "      <td>97622.103448</td>\n",
       "      <td>89823</td>\n",
       "      <td>0.0</td>\n",
       "      <td>72.0</td>\n",
       "      <td>78.0</td>\n",
       "      <td>66.0</td>\n",
       "      <td>2</td>\n",
       "    </tr>\n",
       "  </tbody>\n",
       "</table>\n",
       "<p>5 rows × 22 columns</p>\n",
       "</div>"
      ],
      "text/plain": [
       "   raceId  driverId  constructorId  grid  laps  familyStatus  \\\n",
       "1       1         2              2     9    58             4   \n",
       "2       1         3              3     5    58             4   \n",
       "3       1         4              4    10    58             4   \n",
       "4       1         6              3    11    17             1   \n",
       "5       1         7              5    17    58             4   \n",
       "\n",
       "   Completion Status  year  circuitId    country  ...  trackType  nationality  \\\n",
       "1                  1  2009          1  Australia  ...          2       German   \n",
       "2                  1  2009          1  Australia  ...          2       German   \n",
       "3                  1  2009          1  Australia  ...          2      Spanish   \n",
       "4                  0  2009          1  Australia  ...          2     Japanese   \n",
       "5                  1  2009          1  Australia  ...          2       French   \n",
       "\n",
       "   total_lap_time average_lap_time  minimum_lap_time  PRCP  TAVG  TMAX  TMIN  \\\n",
       "1         5662869     97635.672414             88283   0.0  72.0  78.0  66.0   \n",
       "2         5661506     97612.172414             87706   0.0  72.0  78.0  66.0   \n",
       "3         5660663     97597.637931             88712   0.0  72.0  78.0  66.0   \n",
       "4         1560978     91822.235294             89923   0.0  72.0  78.0  66.0   \n",
       "5         5662082     97622.103448             89823   0.0  72.0  78.0  66.0   \n",
       "\n",
       "   binned_circuits  \n",
       "1                2  \n",
       "2                2  \n",
       "3                2  \n",
       "4                2  \n",
       "5                2  \n",
       "\n",
       "[5 rows x 22 columns]"
      ]
     },
     "execution_count": 60,
     "metadata": {},
     "output_type": "execute_result"
    }
   ],
   "source": [
    "filtered2_master.head()"
   ]
  },
  {
   "cell_type": "code",
   "execution_count": 34,
   "id": "666b5938",
   "metadata": {},
   "outputs": [
    {
     "data": {
      "text/plain": [
       "4    7108\n",
       "6    1377\n",
       "1     435\n",
       "2     302\n",
       "5      36\n",
       "Name: familyStatus, dtype: int64"
      ]
     },
     "execution_count": 34,
     "metadata": {},
     "output_type": "execute_result"
    }
   ],
   "source": [
    "filtered2_master['familyStatus'].value_counts()"
   ]
  },
  {
   "cell_type": "code",
   "execution_count": null,
   "id": "19fe5fd4",
   "metadata": {},
   "outputs": [],
   "source": [
    "FinalData = filtered2_master.drop(columns=['laps','positionText', 'positionOrder', 'fastestLap', 'rank', 'fastestLapSpeed'],axis=1,inplace=False)"
   ]
  },
  {
   "cell_type": "code",
   "execution_count": 35,
   "id": "bffcf571",
   "metadata": {},
   "outputs": [],
   "source": [
    "filtered2_master.to_csv(\"./data/processed/MasterData5.csv\", index = False)"
   ]
  }
 ],
 "metadata": {
  "kernelspec": {
   "display_name": "Python 3",
   "language": "python",
   "name": "python3"
  },
  "language_info": {
   "codemirror_mode": {
    "name": "ipython",
    "version": 3
   },
   "file_extension": ".py",
   "mimetype": "text/x-python",
   "name": "python",
   "nbconvert_exporter": "python",
   "pygments_lexer": "ipython3",
   "version": "3.8.10"
  }
 },
 "nbformat": 4,
 "nbformat_minor": 5
}
