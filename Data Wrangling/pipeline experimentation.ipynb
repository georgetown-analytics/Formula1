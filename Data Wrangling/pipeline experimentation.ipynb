{
 "cells": [
  {
   "cell_type": "markdown",
   "id": "6b3a54a7",
   "metadata": {},
   "source": [
    "# Testing One-Hot Encoding with MasterData5"
   ]
  },
  {
   "cell_type": "markdown",
   "id": "730cd5dc",
   "metadata": {},
   "source": [
    "Our original \"Testing One-Hot Encoding\" workbook used MasterData3 and looked at encoding for our multi-class models. Here we'll use MasterData5 and look at encoding for our binary models, with Completion Status as our target variable instead of familyStatus."
   ]
  },
  {
   "cell_type": "markdown",
   "id": "049cfe4d",
   "metadata": {},
   "source": [
    "## Set Up Libraries and Data"
   ]
  },
  {
   "cell_type": "code",
   "execution_count": 1,
   "id": "1181e296",
   "metadata": {},
   "outputs": [],
   "source": [
    "# Import necessary data libraries.\n",
    "import pandas as pd\n",
    "import numpy as np\n",
    "from sklearn.preprocessing import OneHotEncoder\n",
    "from sklearn.compose import make_column_transformer\n",
    "import category_encoders as ce\n",
    "from sklearn.pipeline import make_pipeline\n",
    "from sklearn.linear_model import LogisticRegression\n",
    "from sklearn.model_selection import cross_val_score\n",
    "from sklearn.preprocessing import StandardScaler\n",
    "from sklearn import preprocessing"
   ]
  },
  {
   "cell_type": "code",
   "execution_count": 2,
   "id": "921799f3",
   "metadata": {},
   "outputs": [],
   "source": [
    "# Set up URLs.\n",
    "master_data_url = 'https://raw.githubusercontent.com/georgetown-analytics/Formula1/main/data/processed/MasterData5.csv'"
   ]
  },
  {
   "cell_type": "code",
   "execution_count": 3,
   "id": "e30697f1",
   "metadata": {},
   "outputs": [],
   "source": [
    "# Set up dataframes.\n",
    "master_data = pd.read_csv(master_data_url, sep = ',', engine = 'python')"
   ]
  },
  {
   "cell_type": "markdown",
   "id": "4a6f020f",
   "metadata": {},
   "source": [
    "## Establishing Variables"
   ]
  },
  {
   "cell_type": "code",
   "execution_count": 4,
   "id": "9118c41b",
   "metadata": {
    "scrolled": false
   },
   "outputs": [
    {
     "name": "stdout",
     "output_type": "stream",
     "text": [
      "1    2558\n",
      "2    2262\n",
      "3    1771\n",
      "4    1218\n",
      "5    1030\n",
      "6     419\n",
      "Name: binned_circuits, dtype: int64\n"
     ]
    }
   ],
   "source": [
    "# Looking at how many uniques we have in each major column\n",
    "#the columns below are what we would like to oneHot\n",
    "print(\n",
    "    #master_data['Completion Status'].value_counts()\n",
    "    #master_data['isHistoric'].value_counts()\n",
    "    #master_data['trackType'].value_counts()\n",
    "    master_data['binned_circuits'].value_counts()\n",
    ")"
   ]
  },
  {
   "cell_type": "code",
   "execution_count": 5,
   "id": "d7d99346",
   "metadata": {},
   "outputs": [
    {
     "data": {
      "text/html": [
       "<div>\n",
       "<style scoped>\n",
       "    .dataframe tbody tr th:only-of-type {\n",
       "        vertical-align: middle;\n",
       "    }\n",
       "\n",
       "    .dataframe tbody tr th {\n",
       "        vertical-align: top;\n",
       "    }\n",
       "\n",
       "    .dataframe thead th {\n",
       "        text-align: right;\n",
       "    }\n",
       "</style>\n",
       "<table border=\"1\" class=\"dataframe\">\n",
       "  <thead>\n",
       "    <tr style=\"text-align: right;\">\n",
       "      <th></th>\n",
       "      <th>raceId</th>\n",
       "      <th>driverId</th>\n",
       "      <th>constructorId</th>\n",
       "      <th>grid</th>\n",
       "      <th>familyStatus</th>\n",
       "      <th>Completion Status</th>\n",
       "      <th>year</th>\n",
       "      <th>circuitId</th>\n",
       "      <th>country</th>\n",
       "      <th>alt</th>\n",
       "      <th>...</th>\n",
       "      <th>trackType</th>\n",
       "      <th>nationality</th>\n",
       "      <th>total_lap_time</th>\n",
       "      <th>average_lap_time</th>\n",
       "      <th>minimum_lap_time</th>\n",
       "      <th>PRCP</th>\n",
       "      <th>TAVG</th>\n",
       "      <th>TMAX</th>\n",
       "      <th>TMIN</th>\n",
       "      <th>binned_circuits</th>\n",
       "    </tr>\n",
       "  </thead>\n",
       "  <tbody>\n",
       "    <tr>\n",
       "      <th>0</th>\n",
       "      <td>1</td>\n",
       "      <td>2</td>\n",
       "      <td>2</td>\n",
       "      <td>9</td>\n",
       "      <td>4</td>\n",
       "      <td>1</td>\n",
       "      <td>2009</td>\n",
       "      <td>1</td>\n",
       "      <td>Australia</td>\n",
       "      <td>10</td>\n",
       "      <td>...</td>\n",
       "      <td>2</td>\n",
       "      <td>German</td>\n",
       "      <td>5662869</td>\n",
       "      <td>97635.672414</td>\n",
       "      <td>88283</td>\n",
       "      <td>0.0</td>\n",
       "      <td>72.0</td>\n",
       "      <td>78.0</td>\n",
       "      <td>66.0</td>\n",
       "      <td>2</td>\n",
       "    </tr>\n",
       "    <tr>\n",
       "      <th>1</th>\n",
       "      <td>1</td>\n",
       "      <td>3</td>\n",
       "      <td>3</td>\n",
       "      <td>5</td>\n",
       "      <td>4</td>\n",
       "      <td>1</td>\n",
       "      <td>2009</td>\n",
       "      <td>1</td>\n",
       "      <td>Australia</td>\n",
       "      <td>10</td>\n",
       "      <td>...</td>\n",
       "      <td>2</td>\n",
       "      <td>German</td>\n",
       "      <td>5661506</td>\n",
       "      <td>97612.172414</td>\n",
       "      <td>87706</td>\n",
       "      <td>0.0</td>\n",
       "      <td>72.0</td>\n",
       "      <td>78.0</td>\n",
       "      <td>66.0</td>\n",
       "      <td>2</td>\n",
       "    </tr>\n",
       "    <tr>\n",
       "      <th>2</th>\n",
       "      <td>1</td>\n",
       "      <td>4</td>\n",
       "      <td>4</td>\n",
       "      <td>10</td>\n",
       "      <td>4</td>\n",
       "      <td>1</td>\n",
       "      <td>2009</td>\n",
       "      <td>1</td>\n",
       "      <td>Australia</td>\n",
       "      <td>10</td>\n",
       "      <td>...</td>\n",
       "      <td>2</td>\n",
       "      <td>Spanish</td>\n",
       "      <td>5660663</td>\n",
       "      <td>97597.637931</td>\n",
       "      <td>88712</td>\n",
       "      <td>0.0</td>\n",
       "      <td>72.0</td>\n",
       "      <td>78.0</td>\n",
       "      <td>66.0</td>\n",
       "      <td>2</td>\n",
       "    </tr>\n",
       "    <tr>\n",
       "      <th>3</th>\n",
       "      <td>1</td>\n",
       "      <td>6</td>\n",
       "      <td>3</td>\n",
       "      <td>11</td>\n",
       "      <td>1</td>\n",
       "      <td>0</td>\n",
       "      <td>2009</td>\n",
       "      <td>1</td>\n",
       "      <td>Australia</td>\n",
       "      <td>10</td>\n",
       "      <td>...</td>\n",
       "      <td>2</td>\n",
       "      <td>Japanese</td>\n",
       "      <td>1560978</td>\n",
       "      <td>91822.235294</td>\n",
       "      <td>89923</td>\n",
       "      <td>0.0</td>\n",
       "      <td>72.0</td>\n",
       "      <td>78.0</td>\n",
       "      <td>66.0</td>\n",
       "      <td>2</td>\n",
       "    </tr>\n",
       "    <tr>\n",
       "      <th>4</th>\n",
       "      <td>1</td>\n",
       "      <td>7</td>\n",
       "      <td>5</td>\n",
       "      <td>17</td>\n",
       "      <td>4</td>\n",
       "      <td>1</td>\n",
       "      <td>2009</td>\n",
       "      <td>1</td>\n",
       "      <td>Australia</td>\n",
       "      <td>10</td>\n",
       "      <td>...</td>\n",
       "      <td>2</td>\n",
       "      <td>French</td>\n",
       "      <td>5662082</td>\n",
       "      <td>97622.103448</td>\n",
       "      <td>89823</td>\n",
       "      <td>0.0</td>\n",
       "      <td>72.0</td>\n",
       "      <td>78.0</td>\n",
       "      <td>66.0</td>\n",
       "      <td>2</td>\n",
       "    </tr>\n",
       "  </tbody>\n",
       "</table>\n",
       "<p>5 rows × 21 columns</p>\n",
       "</div>"
      ],
      "text/plain": [
       "   raceId  driverId  constructorId  grid  familyStatus  Completion Status  \\\n",
       "0       1         2              2     9             4                  1   \n",
       "1       1         3              3     5             4                  1   \n",
       "2       1         4              4    10             4                  1   \n",
       "3       1         6              3    11             1                  0   \n",
       "4       1         7              5    17             4                  1   \n",
       "\n",
       "   year  circuitId    country  alt  ...  trackType  nationality  \\\n",
       "0  2009          1  Australia   10  ...          2       German   \n",
       "1  2009          1  Australia   10  ...          2       German   \n",
       "2  2009          1  Australia   10  ...          2      Spanish   \n",
       "3  2009          1  Australia   10  ...          2     Japanese   \n",
       "4  2009          1  Australia   10  ...          2       French   \n",
       "\n",
       "  total_lap_time  average_lap_time  minimum_lap_time  PRCP  TAVG  TMAX  TMIN  \\\n",
       "0        5662869      97635.672414             88283   0.0  72.0  78.0  66.0   \n",
       "1        5661506      97612.172414             87706   0.0  72.0  78.0  66.0   \n",
       "2        5660663      97597.637931             88712   0.0  72.0  78.0  66.0   \n",
       "3        1560978      91822.235294             89923   0.0  72.0  78.0  66.0   \n",
       "4        5662082      97622.103448             89823   0.0  72.0  78.0  66.0   \n",
       "\n",
       "   binned_circuits  \n",
       "0                2  \n",
       "1                2  \n",
       "2                2  \n",
       "3                2  \n",
       "4                2  \n",
       "\n",
       "[5 rows x 21 columns]"
      ]
     },
     "execution_count": 5,
     "metadata": {},
     "output_type": "execute_result"
    }
   ],
   "source": [
    "master_data.head()"
   ]
  },
  {
   "cell_type": "code",
   "execution_count": 6,
   "id": "4f98b089",
   "metadata": {},
   "outputs": [
    {
     "data": {
      "text/plain": [
       "dtype('int64')"
      ]
     },
     "execution_count": 6,
     "metadata": {},
     "output_type": "execute_result"
    }
   ],
   "source": [
    "master_data['binned_circuits'].dtype"
   ]
  },
  {
   "cell_type": "code",
   "execution_count": 17,
   "id": "28ae841f",
   "metadata": {},
   "outputs": [],
   "source": [
    "master_data['binned_circuits'] = master_data.binned_circuits.astype(\"str\")"
   ]
  },
  {
   "cell_type": "code",
   "execution_count": 8,
   "id": "5fd3410d",
   "metadata": {},
   "outputs": [
    {
     "data": {
      "text/plain": [
       "dtype('O')"
      ]
     },
     "execution_count": 8,
     "metadata": {},
     "output_type": "execute_result"
    }
   ],
   "source": [
    "master_data['binned_circuits'].dtype"
   ]
  },
  {
   "cell_type": "code",
   "execution_count": 22,
   "id": "220acc30",
   "metadata": {},
   "outputs": [
    {
     "data": {
      "text/plain": [
       "Index(['country', 'nationality', 'binned_circuits'], dtype='object')"
      ]
     },
     "execution_count": 22,
     "metadata": {},
     "output_type": "execute_result"
    }
   ],
   "source": [
    "# Analytics Vidhya suggests we check features before proceeding. Do so using their code.\n",
    "check_features = master_data.select_dtypes(include='O').keys()\n",
    "# Display variables.\n",
    "check_features"
   ]
  },
  {
   "cell_type": "markdown",
   "id": "c06636ff",
   "metadata": {},
   "source": [
    "# Quick Column Rename"
   ]
  },
  {
   "cell_type": "code",
   "execution_count": 23,
   "id": "628e24c1",
   "metadata": {},
   "outputs": [],
   "source": [
    "# Rename Completion Status so it doesn't have any spaces. This will make it easier to use in the code below.\n",
    "master_data = master_data.rename(columns={\"Completion Status\": \"CompletionStatus\"})"
   ]
  },
  {
   "cell_type": "markdown",
   "id": "f6ec84ac",
   "metadata": {},
   "source": [
    "# X,y Setup"
   ]
  },
  {
   "cell_type": "code",
   "execution_count": 24,
   "id": "641a0bc3",
   "metadata": {},
   "outputs": [
    {
     "data": {
      "text/plain": [
       "0"
      ]
     },
     "execution_count": 24,
     "metadata": {},
     "output_type": "execute_result"
    }
   ],
   "source": [
    "# Are there any NAs in our data?\n",
    "master_data['binned_circuits'].isna().sum()"
   ]
  },
  {
   "cell_type": "code",
   "execution_count": 25,
   "id": "2541285d",
   "metadata": {},
   "outputs": [],
   "source": [
    "X = master_data.loc[:, ['average_lap_time', #Numeric\n",
    "                        'trackType', #categorical\n",
    "                        'alt', #numeric\n",
    "                        'grid', #numeric\n",
    "                        'average_lap_time', #numeric\n",
    "                        'minimum_lap_time', #numeric\n",
    "                        'year', #numeric\n",
    "                        'PRCP', #numeric\n",
    "                        'TAVG', #numeric\n",
    "                        'isHistoric', #categorical\n",
    "                        'binned_circuits' #categorical\n",
    "                       ]]\n",
    "y = master_data.loc[:, 'CompletionStatus'] #categorical"
   ]
  },
  {
   "cell_type": "markdown",
   "id": "73168851",
   "metadata": {},
   "source": [
    "# Basic Linear Regression Test"
   ]
  },
  {
   "cell_type": "code",
   "execution_count": 26,
   "id": "d750e752",
   "metadata": {},
   "outputs": [],
   "source": [
    "logreg = LogisticRegression(solver = 'lbfgs')"
   ]
  },
  {
   "cell_type": "markdown",
   "id": "403b38c2",
   "metadata": {},
   "source": [
    "# Transformations"
   ]
  },
  {
   "cell_type": "code",
   "execution_count": 27,
   "id": "72a9690d",
   "metadata": {},
   "outputs": [],
   "source": [
    "column_trans =  make_column_transformer(\n",
    "    (OneHotEncoder(), ['trackType', 'isHistoric', 'binned_circuits']),\n",
    "    remainder = 'passthrough')"
   ]
  },
  {
   "cell_type": "code",
   "execution_count": 28,
   "id": "520395ec",
   "metadata": {
    "scrolled": false
   },
   "outputs": [
    {
     "data": {
      "text/plain": [
       "array([[0.000e+00, 1.000e+00, 1.000e+00, ..., 2.009e+03, 0.000e+00,\n",
       "        7.200e+01],\n",
       "       [0.000e+00, 1.000e+00, 1.000e+00, ..., 2.009e+03, 0.000e+00,\n",
       "        7.200e+01],\n",
       "       [0.000e+00, 1.000e+00, 1.000e+00, ..., 2.009e+03, 0.000e+00,\n",
       "        7.200e+01],\n",
       "       ...,\n",
       "       [1.000e+00, 0.000e+00, 1.000e+00, ..., 2.021e+03, 3.000e-02,\n",
       "        6.700e+01],\n",
       "       [1.000e+00, 0.000e+00, 1.000e+00, ..., 2.021e+03, 3.000e-02,\n",
       "        6.700e+01],\n",
       "       [1.000e+00, 0.000e+00, 1.000e+00, ..., 2.021e+03, 3.000e-02,\n",
       "        6.700e+01]])"
      ]
     },
     "execution_count": 28,
     "metadata": {},
     "output_type": "execute_result"
    }
   ],
   "source": [
    "column_trans.fit_transform(X)"
   ]
  },
  {
   "cell_type": "code",
   "execution_count": 29,
   "id": "1a13b2fc",
   "metadata": {},
   "outputs": [],
   "source": [
    "pipe = make_pipeline(column_trans, logreg) "
   ]
  },
  {
   "cell_type": "code",
   "execution_count": 30,
   "id": "bfa9b15c",
   "metadata": {},
   "outputs": [
    {
     "name": "stderr",
     "output_type": "stream",
     "text": [
      "/opt/anaconda3/lib/python3.8/site-packages/sklearn/linear_model/_logistic.py:763: ConvergenceWarning: lbfgs failed to converge (status=1):\n",
      "STOP: TOTAL NO. of ITERATIONS REACHED LIMIT.\n",
      "\n",
      "Increase the number of iterations (max_iter) or scale the data as shown in:\n",
      "    https://scikit-learn.org/stable/modules/preprocessing.html\n",
      "Please also refer to the documentation for alternative solver options:\n",
      "    https://scikit-learn.org/stable/modules/linear_model.html#logistic-regression\n",
      "  n_iter_i = _check_optimize_result(\n"
     ]
    },
    {
     "data": {
      "text/plain": [
       "0.7663651543208796"
      ]
     },
     "execution_count": 30,
     "metadata": {},
     "output_type": "execute_result"
    }
   ],
   "source": [
    "cross_val_score(pipe, X, y, cv=5, scoring='accuracy').mean()"
   ]
  },
  {
   "cell_type": "code",
   "execution_count": null,
   "id": "20652987",
   "metadata": {},
   "outputs": [],
   "source": []
  }
 ],
 "metadata": {
  "kernelspec": {
   "display_name": "Python 3",
   "language": "python",
   "name": "python3"
  },
  "language_info": {
   "codemirror_mode": {
    "name": "ipython",
    "version": 3
   },
   "file_extension": ".py",
   "mimetype": "text/x-python",
   "name": "python",
   "nbconvert_exporter": "python",
   "pygments_lexer": "ipython3",
   "version": "3.8.3"
  }
 },
 "nbformat": 4,
 "nbformat_minor": 5
}
