{
 "cells": [
  {
   "cell_type": "markdown",
   "id": "caaa4e5f",
   "metadata": {},
   "source": [
    "**Import the Data**"
   ]
  },
  {
   "cell_type": "code",
   "execution_count": 2,
   "id": "3a032f43",
   "metadata": {},
   "outputs": [],
   "source": [
    "# Import necessary libraries.\n",
    "import pandas as pd\n",
    "import os \n",
    "import csv\n",
    "import io\n",
    "import requests\n",
    "import numpy as np\n",
    "import matplotlib.pyplot as plt\n",
    "import re\n",
    "\n",
    "%matplotlib inline"
   ]
  },
  {
   "cell_type": "code",
   "execution_count": 85,
   "id": "c79c0d44",
   "metadata": {},
   "outputs": [],
   "source": [
    "# Set up URLs.\n",
    "circuits_url = 'https://raw.githubusercontent.com/georgetown-analytics/Formula1/main/data/circuits.csv'\n",
    "constructor_results_url = 'https://raw.githubusercontent.com/georgetown-analytics/Formula1/main/data/constructor_results.csv'\n",
    "constructor_standings_url = 'https://raw.githubusercontent.com/georgetown-analytics/Formula1/main/data/constructor_standings.csv'\n",
    "constructors_url = 'https://raw.githubusercontent.com/georgetown-analytics/Formula1/main/data/constructors.csv'\n",
    "driver_standings_url = 'https://raw.githubusercontent.com/georgetown-analytics/Formula1/main/data/driver_standings.csv'\n",
    "drivers_url = 'https://raw.githubusercontent.com/georgetown-analytics/Formula1/main/data/drivers.csv'\n",
    "lap_times_url = 'https://raw.githubusercontent.com/georgetown-analytics/Formula1/main/data/lap_times.csv'\n",
    "pit_stop_url = 'https://raw.githubusercontent.com/georgetown-analytics/Formula1/main/data/pit_stops.csv'\n",
    "qualifying_url = 'https://raw.githubusercontent.com/georgetown-analytics/Formula1/main/data/qualifying.csv'\n",
    "races_url = 'https://raw.githubusercontent.com/georgetown-analytics/Formula1/main/data/races.csv'\n",
    "results_url = 'https://raw.githubusercontent.com/georgetown-analytics/Formula1/main/data/results.csv'\n",
    "seasons_url = 'https://raw.githubusercontent.com/georgetown-analytics/Formula1/main/data/seasons.csv'\n",
    "status_url = 'https://raw.githubusercontent.com/georgetown-analytics/Formula1/main/data/status.csv'\n",
    "race_status_url = 'https://raw.githubusercontent.com/georgetown-analytics/Formula1/main/data/race_status.csv'\n",
    "MasterData1_url = 'https://raw.githubusercontent.com/georgetown-analytics/Formula1/main/data/MasterData1.csv'\n",
    "MasterData2_url = 'https://raw.githubusercontent.com/georgetown-analytics/Formula1/main/data/processed/MasterData2.csv'\n",
    "MasterData3_url = 'https://raw.githubusercontent.com/georgetown-analytics/Formula1/main/data/processed/MasterData3.csv'"
   ]
  },
  {
   "cell_type": "code",
   "execution_count": 86,
   "id": "9209aa8f",
   "metadata": {},
   "outputs": [],
   "source": [
    "# Set up dataframes.\n",
    "circuits_df = pd.read_csv(circuits_url, sep = ',', encoding = 'latin-1')\n",
    "constructor_results_df = pd.read_csv(constructor_results_url, sep = ',', engine = 'python')\n",
    "constructor_standings_df = pd.read_csv(constructor_standings_url, sep = ',', engine = 'python')\n",
    "constructors_df = pd.read_csv(constructor_standings_url, sep = ',', engine = 'python')\n",
    "driver_standings_df = pd.read_csv(driver_standings_url, sep = ',', engine = 'python')\n",
    "lap_times_df = pd.read_csv(lap_times_url, sep = ',', engine = 'python')\n",
    "pit_stop_df = pd.read_csv(pit_stop_url, sep = ',', engine = 'python')\n",
    "qualifying_df = pd.read_csv(constructor_standings_url, sep = ',', engine = 'python')\n",
    "results_df = pd.read_csv(results_url, sep = ',', engine = 'python')\n",
    "seasons_df = pd.read_csv(seasons_url, sep = ',', engine = 'python')\n",
    "status_df = pd.read_csv(status_url, sep = ',', engine = 'python')\n",
    "races_df = pd.read_csv(races_url, sep = ',', engine = 'c')\n",
    "drivers_df = pd.read_csv(drivers_url, sep = ',', encoding = 'latin-1')\n",
    "race_status_df = pd.read_csv(race_status_url, sep = ',', engine = 'python')\n",
    "MasterData1_df = pd.read_csv(MasterData1_url, sep = ',', engine = 'python', encoding = 'latin-1')\n",
    "MasterData2_df = pd.read_csv(MasterData2_url, sep = ',', engine = 'python')\n",
    "MasterData3_df = pd.read_csv(MasterData3_url, sep = ',', engine = 'python')"
   ]
  },
  {
   "cell_type": "markdown",
   "id": "f50a7426",
   "metadata": {},
   "source": [
    "### **MasterData3 Evaluation**"
   ]
  },
  {
   "cell_type": "code",
   "execution_count": 124,
   "id": "80019d86",
   "metadata": {},
   "outputs": [
    {
     "data": {
      "text/html": [
       "<div>\n",
       "<style scoped>\n",
       "    .dataframe tbody tr th:only-of-type {\n",
       "        vertical-align: middle;\n",
       "    }\n",
       "\n",
       "    .dataframe tbody tr th {\n",
       "        vertical-align: top;\n",
       "    }\n",
       "\n",
       "    .dataframe thead th {\n",
       "        text-align: right;\n",
       "    }\n",
       "</style>\n",
       "<table border=\"1\" class=\"dataframe\">\n",
       "  <thead>\n",
       "    <tr style=\"text-align: right;\">\n",
       "      <th></th>\n",
       "      <th>raceId</th>\n",
       "      <th>driverId</th>\n",
       "      <th>constructorId</th>\n",
       "      <th>grid</th>\n",
       "      <th>position</th>\n",
       "      <th>positionText</th>\n",
       "      <th>positionOrder</th>\n",
       "      <th>laps</th>\n",
       "      <th>fastestLap</th>\n",
       "      <th>rank</th>\n",
       "      <th>...</th>\n",
       "      <th>isHistoric</th>\n",
       "      <th>trackType</th>\n",
       "      <th>nationality</th>\n",
       "      <th>total_lap_time</th>\n",
       "      <th>average_lap_time</th>\n",
       "      <th>minimum_lap_time</th>\n",
       "      <th>PRCP</th>\n",
       "      <th>TAVG</th>\n",
       "      <th>TMAX</th>\n",
       "      <th>TMIN</th>\n",
       "    </tr>\n",
       "  </thead>\n",
       "  <tbody>\n",
       "    <tr>\n",
       "      <th>0</th>\n",
       "      <td>1</td>\n",
       "      <td>1</td>\n",
       "      <td>1</td>\n",
       "      <td>18</td>\n",
       "      <td>NaN</td>\n",
       "      <td>D</td>\n",
       "      <td>20</td>\n",
       "      <td>58</td>\n",
       "      <td>39.0</td>\n",
       "      <td>13</td>\n",
       "      <td>...</td>\n",
       "      <td>0</td>\n",
       "      <td>2</td>\n",
       "      <td>British</td>\n",
       "      <td>5658698</td>\n",
       "      <td>97563.758621</td>\n",
       "      <td>89020</td>\n",
       "      <td>0.0</td>\n",
       "      <td>72.15</td>\n",
       "      <td>78.0</td>\n",
       "      <td>66.3</td>\n",
       "    </tr>\n",
       "    <tr>\n",
       "      <th>1</th>\n",
       "      <td>1</td>\n",
       "      <td>2</td>\n",
       "      <td>2</td>\n",
       "      <td>9</td>\n",
       "      <td>10.0</td>\n",
       "      <td>10</td>\n",
       "      <td>10</td>\n",
       "      <td>58</td>\n",
       "      <td>48.0</td>\n",
       "      <td>5</td>\n",
       "      <td>...</td>\n",
       "      <td>0</td>\n",
       "      <td>2</td>\n",
       "      <td>German</td>\n",
       "      <td>5662869</td>\n",
       "      <td>97635.672414</td>\n",
       "      <td>88283</td>\n",
       "      <td>0.0</td>\n",
       "      <td>72.15</td>\n",
       "      <td>78.0</td>\n",
       "      <td>66.3</td>\n",
       "    </tr>\n",
       "    <tr>\n",
       "      <th>2</th>\n",
       "      <td>1</td>\n",
       "      <td>3</td>\n",
       "      <td>3</td>\n",
       "      <td>5</td>\n",
       "      <td>6.0</td>\n",
       "      <td>6</td>\n",
       "      <td>6</td>\n",
       "      <td>58</td>\n",
       "      <td>48.0</td>\n",
       "      <td>1</td>\n",
       "      <td>...</td>\n",
       "      <td>0</td>\n",
       "      <td>2</td>\n",
       "      <td>German</td>\n",
       "      <td>5661506</td>\n",
       "      <td>97612.172414</td>\n",
       "      <td>87706</td>\n",
       "      <td>0.0</td>\n",
       "      <td>72.15</td>\n",
       "      <td>78.0</td>\n",
       "      <td>66.3</td>\n",
       "    </tr>\n",
       "    <tr>\n",
       "      <th>3</th>\n",
       "      <td>1</td>\n",
       "      <td>4</td>\n",
       "      <td>4</td>\n",
       "      <td>10</td>\n",
       "      <td>5.0</td>\n",
       "      <td>5</td>\n",
       "      <td>5</td>\n",
       "      <td>58</td>\n",
       "      <td>53.0</td>\n",
       "      <td>9</td>\n",
       "      <td>...</td>\n",
       "      <td>0</td>\n",
       "      <td>2</td>\n",
       "      <td>Spanish</td>\n",
       "      <td>5660663</td>\n",
       "      <td>97597.637931</td>\n",
       "      <td>88712</td>\n",
       "      <td>0.0</td>\n",
       "      <td>72.15</td>\n",
       "      <td>78.0</td>\n",
       "      <td>66.3</td>\n",
       "    </tr>\n",
       "    <tr>\n",
       "      <th>4</th>\n",
       "      <td>1</td>\n",
       "      <td>6</td>\n",
       "      <td>3</td>\n",
       "      <td>11</td>\n",
       "      <td>NaN</td>\n",
       "      <td>R</td>\n",
       "      <td>18</td>\n",
       "      <td>17</td>\n",
       "      <td>6.0</td>\n",
       "      <td>18</td>\n",
       "      <td>...</td>\n",
       "      <td>0</td>\n",
       "      <td>2</td>\n",
       "      <td>Japanese</td>\n",
       "      <td>1560978</td>\n",
       "      <td>91822.235294</td>\n",
       "      <td>89923</td>\n",
       "      <td>0.0</td>\n",
       "      <td>72.15</td>\n",
       "      <td>78.0</td>\n",
       "      <td>66.3</td>\n",
       "    </tr>\n",
       "    <tr>\n",
       "      <th>...</th>\n",
       "      <td>...</td>\n",
       "      <td>...</td>\n",
       "      <td>...</td>\n",
       "      <td>...</td>\n",
       "      <td>...</td>\n",
       "      <td>...</td>\n",
       "      <td>...</td>\n",
       "      <td>...</td>\n",
       "      <td>...</td>\n",
       "      <td>...</td>\n",
       "      <td>...</td>\n",
       "      <td>...</td>\n",
       "      <td>...</td>\n",
       "      <td>...</td>\n",
       "      <td>...</td>\n",
       "      <td>...</td>\n",
       "      <td>...</td>\n",
       "      <td>...</td>\n",
       "      <td>...</td>\n",
       "      <td>...</td>\n",
       "      <td>...</td>\n",
       "    </tr>\n",
       "    <tr>\n",
       "      <th>8536</th>\n",
       "      <td>1009</td>\n",
       "      <td>840</td>\n",
       "      <td>3</td>\n",
       "      <td>20</td>\n",
       "      <td>13.0</td>\n",
       "      <td>13</td>\n",
       "      <td>13</td>\n",
       "      <td>54</td>\n",
       "      <td>53.0</td>\n",
       "      <td>16</td>\n",
       "      <td>...</td>\n",
       "      <td>0</td>\n",
       "      <td>0</td>\n",
       "      <td>Canadian</td>\n",
       "      <td>6031261</td>\n",
       "      <td>111690.018519</td>\n",
       "      <td>104033</td>\n",
       "      <td>0.0</td>\n",
       "      <td>80.00</td>\n",
       "      <td>88.0</td>\n",
       "      <td>72.0</td>\n",
       "    </tr>\n",
       "    <tr>\n",
       "      <th>8537</th>\n",
       "      <td>1009</td>\n",
       "      <td>842</td>\n",
       "      <td>5</td>\n",
       "      <td>17</td>\n",
       "      <td>NaN</td>\n",
       "      <td>R</td>\n",
       "      <td>16</td>\n",
       "      <td>46</td>\n",
       "      <td>42.0</td>\n",
       "      <td>15</td>\n",
       "      <td>...</td>\n",
       "      <td>0</td>\n",
       "      <td>0</td>\n",
       "      <td>French</td>\n",
       "      <td>5169517</td>\n",
       "      <td>112380.804348</td>\n",
       "      <td>103988</td>\n",
       "      <td>0.0</td>\n",
       "      <td>80.00</td>\n",
       "      <td>88.0</td>\n",
       "      <td>72.0</td>\n",
       "    </tr>\n",
       "    <tr>\n",
       "      <th>8538</th>\n",
       "      <td>1009</td>\n",
       "      <td>843</td>\n",
       "      <td>5</td>\n",
       "      <td>16</td>\n",
       "      <td>12.0</td>\n",
       "      <td>12</td>\n",
       "      <td>12</td>\n",
       "      <td>54</td>\n",
       "      <td>53.0</td>\n",
       "      <td>17</td>\n",
       "      <td>...</td>\n",
       "      <td>0</td>\n",
       "      <td>0</td>\n",
       "      <td>New Zealander</td>\n",
       "      <td>6030045</td>\n",
       "      <td>111667.500000</td>\n",
       "      <td>104174</td>\n",
       "      <td>0.0</td>\n",
       "      <td>80.00</td>\n",
       "      <td>88.0</td>\n",
       "      <td>72.0</td>\n",
       "    </tr>\n",
       "    <tr>\n",
       "      <th>8539</th>\n",
       "      <td>1009</td>\n",
       "      <td>844</td>\n",
       "      <td>15</td>\n",
       "      <td>8</td>\n",
       "      <td>7.0</td>\n",
       "      <td>7</td>\n",
       "      <td>7</td>\n",
       "      <td>55</td>\n",
       "      <td>54.0</td>\n",
       "      <td>10</td>\n",
       "      <td>...</td>\n",
       "      <td>0</td>\n",
       "      <td>0</td>\n",
       "      <td>Monegasque</td>\n",
       "      <td>6071171</td>\n",
       "      <td>110384.927273</td>\n",
       "      <td>102876</td>\n",
       "      <td>0.0</td>\n",
       "      <td>80.00</td>\n",
       "      <td>88.0</td>\n",
       "      <td>72.0</td>\n",
       "    </tr>\n",
       "    <tr>\n",
       "      <th>8540</th>\n",
       "      <td>1009</td>\n",
       "      <td>845</td>\n",
       "      <td>3</td>\n",
       "      <td>19</td>\n",
       "      <td>15.0</td>\n",
       "      <td>15</td>\n",
       "      <td>15</td>\n",
       "      <td>54</td>\n",
       "      <td>54.0</td>\n",
       "      <td>14</td>\n",
       "      <td>...</td>\n",
       "      <td>0</td>\n",
       "      <td>0</td>\n",
       "      <td>Russian</td>\n",
       "      <td>6047948</td>\n",
       "      <td>111999.037037</td>\n",
       "      <td>103831</td>\n",
       "      <td>0.0</td>\n",
       "      <td>80.00</td>\n",
       "      <td>88.0</td>\n",
       "      <td>72.0</td>\n",
       "    </tr>\n",
       "  </tbody>\n",
       "</table>\n",
       "<p>5837 rows × 27 columns</p>\n",
       "</div>"
      ],
      "text/plain": [
       "      raceId  driverId  constructorId  grid  position positionText  \\\n",
       "0          1         1              1    18       NaN            D   \n",
       "1          1         2              2     9      10.0           10   \n",
       "2          1         3              3     5       6.0            6   \n",
       "3          1         4              4    10       5.0            5   \n",
       "4          1         6              3    11       NaN            R   \n",
       "...      ...       ...            ...   ...       ...          ...   \n",
       "8536    1009       840              3    20      13.0           13   \n",
       "8537    1009       842              5    17       NaN            R   \n",
       "8538    1009       843              5    16      12.0           12   \n",
       "8539    1009       844             15     8       7.0            7   \n",
       "8540    1009       845              3    19      15.0           15   \n",
       "\n",
       "      positionOrder  laps  fastestLap  rank  ...  isHistoric  trackType  \\\n",
       "0                20    58        39.0    13  ...           0          2   \n",
       "1                10    58        48.0     5  ...           0          2   \n",
       "2                 6    58        48.0     1  ...           0          2   \n",
       "3                 5    58        53.0     9  ...           0          2   \n",
       "4                18    17         6.0    18  ...           0          2   \n",
       "...             ...   ...         ...   ...  ...         ...        ...   \n",
       "8536             13    54        53.0    16  ...           0          0   \n",
       "8537             16    46        42.0    15  ...           0          0   \n",
       "8538             12    54        53.0    17  ...           0          0   \n",
       "8539              7    55        54.0    10  ...           0          0   \n",
       "8540             15    54        54.0    14  ...           0          0   \n",
       "\n",
       "        nationality  total_lap_time  average_lap_time minimum_lap_time  PRCP  \\\n",
       "0           British         5658698      97563.758621            89020   0.0   \n",
       "1            German         5662869      97635.672414            88283   0.0   \n",
       "2            German         5661506      97612.172414            87706   0.0   \n",
       "3           Spanish         5660663      97597.637931            88712   0.0   \n",
       "4          Japanese         1560978      91822.235294            89923   0.0   \n",
       "...             ...             ...               ...              ...   ...   \n",
       "8536       Canadian         6031261     111690.018519           104033   0.0   \n",
       "8537         French         5169517     112380.804348           103988   0.0   \n",
       "8538  New Zealander         6030045     111667.500000           104174   0.0   \n",
       "8539     Monegasque         6071171     110384.927273           102876   0.0   \n",
       "8540        Russian         6047948     111999.037037           103831   0.0   \n",
       "\n",
       "       TAVG  TMAX  TMIN  \n",
       "0     72.15  78.0  66.3  \n",
       "1     72.15  78.0  66.3  \n",
       "2     72.15  78.0  66.3  \n",
       "3     72.15  78.0  66.3  \n",
       "4     72.15  78.0  66.3  \n",
       "...     ...   ...   ...  \n",
       "8536  80.00  88.0  72.0  \n",
       "8537  80.00  88.0  72.0  \n",
       "8538  80.00  88.0  72.0  \n",
       "8539  80.00  88.0  72.0  \n",
       "8540  80.00  88.0  72.0  \n",
       "\n",
       "[5837 rows x 27 columns]"
      ]
     },
     "execution_count": 124,
     "metadata": {},
     "output_type": "execute_result"
    }
   ],
   "source": [
    "MasterData3_df"
   ]
  },
  {
   "cell_type": "code",
   "execution_count": 102,
   "id": "4fc6335e",
   "metadata": {},
   "outputs": [],
   "source": [
    "MasterData3_df = MasterData3_df[MasterData3_df['PRCP'].notna()]\n",
    "MasterData3_df = MasterData3_df[MasterData3_df['rank'].notna()]"
   ]
  },
  {
   "cell_type": "code",
   "execution_count": 7,
   "id": "8f751cd7",
   "metadata": {},
   "outputs": [],
   "source": [
    "# Assuming that Index is by Driver"
   ]
  },
  {
   "cell_type": "code",
   "execution_count": 126,
   "id": "3d8088e4",
   "metadata": {},
   "outputs": [
    {
     "name": "stdout",
     "output_type": "stream",
     "text": [
      "['raceId', 'driverId', 'constructorId', 'grid', 'position', 'positionText', 'positionOrder', 'laps', 'fastestLap', 'rank', 'fastestLapSpeed', 'familyStatus', 'Completion Status', 'year', 'circuitId', 'country', 'alt', 'isHistoric', 'trackType', 'nationality', 'total_lap_time', 'average_lap_time', 'minimum_lap_time', 'PRCP', 'TAVG', 'TMAX', 'TMIN']\n"
     ]
    }
   ],
   "source": [
    "print(MasterData3_df.columns.tolist())"
   ]
  },
  {
   "cell_type": "code",
   "execution_count": 127,
   "id": "a2683b24",
   "metadata": {},
   "outputs": [],
   "source": [
    "# Are we working with null values? "
   ]
  },
  {
   "cell_type": "code",
   "execution_count": 128,
   "id": "5a861b3b",
   "metadata": {},
   "outputs": [
    {
     "data": {
      "text/plain": [
       "raceId                  0\n",
       "driverId                0\n",
       "constructorId           0\n",
       "grid                    0\n",
       "position             1017\n",
       "positionText            0\n",
       "positionOrder           0\n",
       "laps                    0\n",
       "fastestLap             34\n",
       "rank                    0\n",
       "fastestLapSpeed        34\n",
       "familyStatus            0\n",
       "Completion Status       0\n",
       "year                    0\n",
       "circuitId               0\n",
       "country                 0\n",
       "alt                     0\n",
       "isHistoric              0\n",
       "trackType               0\n",
       "nationality             0\n",
       "total_lap_time          0\n",
       "average_lap_time        0\n",
       "minimum_lap_time        0\n",
       "PRCP                    0\n",
       "TAVG                    0\n",
       "TMAX                    0\n",
       "TMIN                    0\n",
       "dtype: int64"
      ]
     },
     "execution_count": 128,
     "metadata": {},
     "output_type": "execute_result"
    }
   ],
   "source": [
    "MasterData3_df.isna().sum()"
   ]
  },
  {
   "cell_type": "code",
   "execution_count": 11,
   "id": "2b03235c",
   "metadata": {},
   "outputs": [],
   "source": [
    "# It does not seem like we are, but upon attempting to model, we were left with an error. "
   ]
  },
  {
   "cell_type": "code",
   "execution_count": 12,
   "id": "0ed6c516",
   "metadata": {},
   "outputs": [],
   "source": [
    "#Replace \\N with null value \n",
    "\n",
    "MasterData1_df = MasterData1_df.replace(r'\\N', np.NaN)\n",
    "\n",
    "#Replace null values with median value of that column\n",
    "\n",
    "MasterData1_df[\"position\"] = MasterData1_df[\"position\"].fillna(MasterData1_df[\"position\"].median())\n",
    "MasterData1_df[\"circuitId\"] = MasterData1_df[\"circuitId\"].fillna(MasterData1_df[\"circuitId\"].median())\n",
    "MasterData1_df[\"rank\"] = MasterData1_df[\"rank\"].fillna(MasterData1_df[\"rank\"].median())\n",
    "MasterData1_df[\"grid\"] = MasterData1_df[\"grid\"].fillna(MasterData1_df[\"grid\"].median())"
   ]
  },
  {
   "cell_type": "code",
   "execution_count": 129,
   "id": "36153334",
   "metadata": {},
   "outputs": [],
   "source": [
    "MasterData3_df[\"rank\"] = MasterData3_df[\"rank\"].astype(\"int\")"
   ]
  },
  {
   "cell_type": "markdown",
   "id": "611a97fc",
   "metadata": {},
   "source": [
    "**Modeling Objectives**\n",
    "\n",
    "- Start off with Logistic Regression Model for Classification\n",
    "- At first we want to predict Completion Status (Binary)\n",
    "- Finished the race = 1\n",
    "- Did not finish the race = 0\n",
    "- Use small amount of variables based on intuition i.e:\n",
    "- grid, position, circuitId, rank\n",
    "- Visualize Findings & Evaluate Model\n",
    "- Run data through a series of models and evaluate\n",
    "- Evaluate Features, determine alterations for a better performing model. "
   ]
  },
  {
   "cell_type": "markdown",
   "id": "79882642",
   "metadata": {},
   "source": [
    "**Evaluating Classifiers**"
   ]
  },
  {
   "cell_type": "code",
   "execution_count": 130,
   "id": "c4b338f5",
   "metadata": {},
   "outputs": [],
   "source": [
    "from sklearn.linear_model import LogisticRegression\n",
    "from sklearn.model_selection import train_test_split\n",
    "from yellowbrick.classifier import ClassificationReport\n",
    "from yellowbrick.classifier import ROCAUC"
   ]
  },
  {
   "cell_type": "code",
   "execution_count": 118,
   "id": "794f81ad",
   "metadata": {},
   "outputs": [],
   "source": [
    "X = MasterData3_df[[\"grid\", \"year\", \"average_lap_time\", \"isHistoric\", \"trackType\", \"minimum_lap_time\", \"alt\", \"PRCP\", \"TAVG\", \"TMAX\", \"TMIN\"]]"
   ]
  },
  {
   "cell_type": "code",
   "execution_count": 119,
   "id": "1279e49f",
   "metadata": {},
   "outputs": [],
   "source": [
    "y = MasterData3_df[\"Completion Status\"]"
   ]
  },
  {
   "cell_type": "code",
   "execution_count": 134,
   "id": "86c6a4ee",
   "metadata": {},
   "outputs": [],
   "source": [
    "X_train, X_test, y_train, y_test = train_test_split(X, y, test_size=0.2)"
   ]
  },
  {
   "cell_type": "code",
   "execution_count": 133,
   "id": "58663075",
   "metadata": {},
   "outputs": [
    {
     "data": {
      "image/png": "[encoded data removed]",
      "text/plain": [
       "<Figure size 1080x720 with 2 Axes>"
      ]
     },
     "metadata": {},
     "output_type": "display_data"
    },
    {
     "data": {
      "text/plain": [
       "<AxesSubplot:title={'center':'LogisticRegression Classification Report'}>"
      ]
     },
     "execution_count": 133,
     "metadata": {},
     "output_type": "execute_result"
    }
   ],
   "source": [
    "# Instantiate the classification model and visualizer\n",
    "logreg = LogisticRegression()\n",
    "visualizer = ClassificationReport(\n",
    "    logreg, classes=[0,1], support=True, size=(1080, 720)\n",
    ")\n",
    "\n",
    "visualizer.fit(X_train, y_train)  # Fit the visualizer and the model\n",
    "visualizer.score(X_test, y_test)  # Evaluate the model on the test data\n",
    "visualizer.show()                 # Draw the data"
   ]
  },
  {
   "cell_type": "markdown",
   "id": "205da107",
   "metadata": {},
   "source": [
    "**Findings**\n",
    "- For all instances that were actually positive, 78% percent was classified correctly\n",
    "- 78% of the time the model is able to accurately predict when a driver would finish a race. \n",
    "- Why are the results for predicting non-finishes, \"0\", so poor?\n",
    "- Messing with the classes object in visualizer greatly alters results, did I make a mistake with this?"
   ]
  },
  {
   "cell_type": "markdown",
   "id": "7698b753",
   "metadata": {},
   "source": [
    "**Evaluating Multiple Classifiers at Once**"
   ]
  },
  {
   "cell_type": "code",
   "execution_count": 135,
   "id": "d7d3a409",
   "metadata": {},
   "outputs": [],
   "source": [
    "from sklearn.metrics import f1_score\n",
    "from sklearn.pipeline import Pipeline\n",
    "from sklearn.svm import LinearSVC, NuSVC, SVC\n",
    "from sklearn.neighbors import KNeighborsClassifier\n",
    "from sklearn.model_selection import train_test_split as tts\n",
    "from sklearn.preprocessing import OneHotEncoder, LabelEncoder\n",
    "from sklearn.linear_model import LogisticRegressionCV, LogisticRegression, SGDClassifier\n",
    "from sklearn.ensemble import BaggingClassifier, ExtraTreesClassifier, RandomForestClassifier\n",
    "\n",
    "from yellowbrick.classifier import ClassificationReport"
   ]
  },
  {
   "cell_type": "code",
   "execution_count": 139,
   "id": "a1bfddf6",
   "metadata": {},
   "outputs": [
    {
     "name": "stdout",
     "output_type": "stream",
     "text": [
      "SVC: 1.0\n"
     ]
    },
    {
     "name": "stderr",
     "output_type": "stream",
     "text": [
      "C:\\ProgramData\\Anaconda3\\lib\\site-packages\\sklearn\\svm\\_base.py:976: ConvergenceWarning: Liblinear failed to converge, increase the number of iterations.\n",
      "  warnings.warn(\"Liblinear failed to converge, increase \"\n",
      "C:\\ProgramData\\Anaconda3\\lib\\site-packages\\sklearn\\linear_model\\_stochastic_gradient.py:570: ConvergenceWarning: Maximum number of iteration reached before convergence. Consider increasing max_iter to improve the fit.\n",
      "  warnings.warn(\"Maximum number of iteration reached before \"\n"
     ]
    },
    {
     "name": "stdout",
     "output_type": "stream",
     "text": [
      "LinearSVC: 0.8937742821946366\n",
      "SGDClassifier: 0.8909472880061116\n",
      "KNeighborsClassifier: 0.9188437468957983\n",
      "LogisticRegression: 0.8933460076045627\n",
      "LogisticRegressionCV: 0.893831384849349\n",
      "BaggingClassifier: 0.9942845046570703\n",
      "ExtraTreesClassifier: 1.0\n",
      "RandomForestClassifier: 0.9998939891868971\n"
     ]
    }
   ],
   "source": [
    "def score_model(X, y, estimator, **kwargs):\n",
    "    \"\"\"\n",
    "    Test various estimators.\n",
    "    \"\"\"\n",
    "    X = MasterData3_df[[\"grid\", \"average_lap_time\", \"isHistoric\", \"trackType\", \"minimum_lap_time\", \"alt\", \"PRCP\", \"TAVG\", \"TMAX\", \"TMIN\"]]\n",
    "    \n",
    "    y = MasterData3_df[\"Completion Status\"]\n",
    "    \n",
    "    # Instantiate the classification model and visualizer\n",
    "    model.fit(X, y, **kwargs)  \n",
    "    \n",
    "    expected  = y\n",
    "    predicted = model.predict(X)\n",
    "    \n",
    "    # Compute and return F1 (harmonic mean of precision and recall)\n",
    "    print(\"{}: {}\".format(estimator.__class__.__name__, f1_score(expected, predicted)))\n",
    "    \n",
    "\n",
    "models = [\n",
    "    SVC(gamma='auto'), \n",
    "    #NuSVC(gamma='auto'), \n",
    "    LinearSVC(), \n",
    "    SGDClassifier(max_iter=100, tol=1e-3), \n",
    "    KNeighborsClassifier(), \n",
    "    LogisticRegression(solver='lbfgs'), \n",
    "    LogisticRegressionCV(cv=3), \n",
    "    BaggingClassifier(), \n",
    "    ExtraTreesClassifier(n_estimators=100), \n",
    "    RandomForestClassifier(n_estimators=100)\n",
    "]\n",
    "\n",
    "for model in models:\n",
    "    score_model(X, y, model)"
   ]
  },
  {
   "cell_type": "code",
   "execution_count": 20,
   "id": "5b1b5696",
   "metadata": {},
   "outputs": [
    {
     "data": {
      "text/plain": [
       "0.9682886216466235"
      ]
     },
     "execution_count": 20,
     "metadata": {},
     "output_type": "execute_result"
    }
   ],
   "source": [
    "#Based on this series of tests, the model that returned the highest F1 Score is the RandomForestClassifier with a score of \n",
    "0.9682886216466235\n"
   ]
  },
  {
   "cell_type": "code",
   "execution_count": 21,
   "id": "9360a8e7",
   "metadata": {},
   "outputs": [],
   "source": [
    "#It seems so far that the most viable models are: RandomForestClassifier, ExtraTreesClassifier, and BaggingClassifier"
   ]
  },
  {
   "cell_type": "markdown",
   "id": "f14f3eb7",
   "metadata": {},
   "source": [
    "**Visual Model Evaluation**"
   ]
  },
  {
   "cell_type": "code",
   "execution_count": 140,
   "id": "ab1e76e9",
   "metadata": {
    "scrolled": false
   },
   "outputs": [
    {
     "data": {
      "image/png": "[encoded data removed]",
      "text/plain": [
       "<Figure size 600x360 with 2 Axes>"
      ]
     },
     "metadata": {},
     "output_type": "display_data"
    },
    {
     "name": "stderr",
     "output_type": "stream",
     "text": [
      "C:\\ProgramData\\Anaconda3\\lib\\site-packages\\sklearn\\metrics\\_classification.py:1221: UndefinedMetricWarning: Precision and F-score are ill-defined and being set to 0.0 in labels with no predicted samples. Use `zero_division` parameter to control this behavior.\n",
      "  _warn_prf(average, modifier, msg_start, len(result))\n"
     ]
    },
    {
     "data": {
      "image/png": "[encoded data removed]",
      "text/plain": [
       "<Figure size 600x360 with 2 Axes>"
      ]
     },
     "metadata": {},
     "output_type": "display_data"
    },
    {
     "data": {
      "image/png": "[encoded data removed]",
      "text/plain": [
       "<Figure size 600x360 with 2 Axes>"
      ]
     },
     "metadata": {},
     "output_type": "display_data"
    },
    {
     "data": {
      "image/png": "[encoded data removed]",
      "text/plain": [
       "<Figure size 600x360 with 2 Axes>"
      ]
     },
     "metadata": {},
     "output_type": "display_data"
    },
    {
     "data": {
      "image/png": "[encoded data removed]",
      "text/plain": [
       "<Figure size 600x360 with 2 Axes>"
      ]
     },
     "metadata": {},
     "output_type": "display_data"
    },
    {
     "data": {
      "image/png": "[encoded data removed]",
      "text/plain": [
       "<Figure size 600x360 with 2 Axes>"
      ]
     },
     "metadata": {},
     "output_type": "display_data"
    },
    {
     "data": {
      "image/png": "[encoded data removed]",
      "text/plain": [
       "<Figure size 600x360 with 2 Axes>"
      ]
     },
     "metadata": {},
     "output_type": "display_data"
    },
    {
     "data": {
      "image/png": "[encoded data removed]",
      "text/plain": [
       "<Figure size 600x360 with 2 Axes>"
      ]
     },
     "metadata": {},
     "output_type": "display_data"
    },
    {
     "data": {
      "image/png": "[encoded data removed]",
      "text/plain": [
       "<Figure size 600x360 with 2 Axes>"
      ]
     },
     "metadata": {},
     "output_type": "display_data"
    }
   ],
   "source": [
    "def visualize_model(X, y, estimator):\n",
    "    \"\"\"\n",
    "    Test various estimators.\n",
    "    \"\"\" \n",
    "    X = MasterData3_df[[\"grid\", \"average_lap_time\", \"isHistoric\", \"trackType\", \"minimum_lap_time\", \"alt\", \"PRCP\", \"TAVG\", \"TMAX\", \"TMIN\"]]\n",
    "    y = MasterData3_df[\"Completion Status\"]\n",
    "\n",
    "    # Instantiate the classification model and visualizer\n",
    "    visualizer = ClassificationReport(\n",
    "        model, \n",
    "        classes=[0,1], \n",
    "        cmap=\"Reds\", \n",
    "        support=True,\n",
    "        size=(600, 360)\n",
    "    )\n",
    "    \n",
    "    X_train, X_test, y_train, y_test = tts(X, y, test_size=0.30)\n",
    "    \n",
    "    visualizer.fit(X_train, y_train)  \n",
    "    visualizer.score(X_test, y_test)\n",
    "    visualizer.show()  \n",
    "\n",
    "for model in models:\n",
    "    visualize_model(X, y, model)"
   ]
  },
  {
   "cell_type": "markdown",
   "id": "59db3de5",
   "metadata": {},
   "source": [
    "**Evaluating Features**"
   ]
  },
  {
   "cell_type": "markdown",
   "id": "fc7bfd45",
   "metadata": {},
   "source": [
    "- We have intuitively selected features and have gotten certain models to run well based on these features. \n",
    "- This is good, but it would be better to arrive at these results via a systematic approach. \n",
    "- It is hard to come to conclusions about our data and what our features explain about our hypothesis.\n",
    "- To get a better sense of our data we will use Recursive Feature Elimination, LASSO, or Tree Based evaluations."
   ]
  },
  {
   "cell_type": "code",
   "execution_count": 23,
   "id": "f733686e",
   "metadata": {},
   "outputs": [],
   "source": [
    "#Recursive Feature Analysis"
   ]
  },
  {
   "cell_type": "code",
   "execution_count": 24,
   "id": "e3629efd",
   "metadata": {},
   "outputs": [
    {
     "data": {
      "text/html": [
       "<div>\n",
       "<style scoped>\n",
       "    .dataframe tbody tr th:only-of-type {\n",
       "        vertical-align: middle;\n",
       "    }\n",
       "\n",
       "    .dataframe tbody tr th {\n",
       "        vertical-align: top;\n",
       "    }\n",
       "\n",
       "    .dataframe thead th {\n",
       "        text-align: right;\n",
       "    }\n",
       "</style>\n",
       "<table border=\"1\" class=\"dataframe\">\n",
       "  <thead>\n",
       "    <tr style=\"text-align: right;\">\n",
       "      <th></th>\n",
       "      <th>grid</th>\n",
       "      <th>position</th>\n",
       "      <th>positionText</th>\n",
       "      <th>positionOrder</th>\n",
       "      <th>laps</th>\n",
       "      <th>milliseconds</th>\n",
       "      <th>fastestLap</th>\n",
       "      <th>rank</th>\n",
       "      <th>fastestLapSpeed</th>\n",
       "      <th>familyStatus</th>\n",
       "      <th>Completion Status</th>\n",
       "      <th>year</th>\n",
       "      <th>circuitId</th>\n",
       "      <th>country</th>\n",
       "      <th>alt</th>\n",
       "      <th>nationality</th>\n",
       "    </tr>\n",
       "  </thead>\n",
       "  <tbody>\n",
       "    <tr>\n",
       "      <th>0</th>\n",
       "      <td>1</td>\n",
       "      <td>1</td>\n",
       "      <td>1</td>\n",
       "      <td>1</td>\n",
       "      <td>58</td>\n",
       "      <td>5690616</td>\n",
       "      <td>39</td>\n",
       "      <td>2</td>\n",
       "      <td>218.300</td>\n",
       "      <td>4</td>\n",
       "      <td>1</td>\n",
       "      <td>2008</td>\n",
       "      <td>1</td>\n",
       "      <td>Australia</td>\n",
       "      <td>10</td>\n",
       "      <td>British</td>\n",
       "    </tr>\n",
       "    <tr>\n",
       "      <th>1</th>\n",
       "      <td>5</td>\n",
       "      <td>2</td>\n",
       "      <td>2</td>\n",
       "      <td>2</td>\n",
       "      <td>58</td>\n",
       "      <td>5696094</td>\n",
       "      <td>41</td>\n",
       "      <td>3</td>\n",
       "      <td>217.586</td>\n",
       "      <td>4</td>\n",
       "      <td>1</td>\n",
       "      <td>2008</td>\n",
       "      <td>1</td>\n",
       "      <td>Australia</td>\n",
       "      <td>10</td>\n",
       "      <td>German</td>\n",
       "    </tr>\n",
       "    <tr>\n",
       "      <th>2</th>\n",
       "      <td>7</td>\n",
       "      <td>3</td>\n",
       "      <td>3</td>\n",
       "      <td>3</td>\n",
       "      <td>58</td>\n",
       "      <td>5698779</td>\n",
       "      <td>41</td>\n",
       "      <td>5</td>\n",
       "      <td>216.719</td>\n",
       "      <td>4</td>\n",
       "      <td>1</td>\n",
       "      <td>2008</td>\n",
       "      <td>1</td>\n",
       "      <td>Australia</td>\n",
       "      <td>10</td>\n",
       "      <td>German</td>\n",
       "    </tr>\n",
       "    <tr>\n",
       "      <th>3</th>\n",
       "      <td>11</td>\n",
       "      <td>4</td>\n",
       "      <td>4</td>\n",
       "      <td>4</td>\n",
       "      <td>58</td>\n",
       "      <td>5707797</td>\n",
       "      <td>58</td>\n",
       "      <td>7</td>\n",
       "      <td>215.464</td>\n",
       "      <td>4</td>\n",
       "      <td>1</td>\n",
       "      <td>2008</td>\n",
       "      <td>1</td>\n",
       "      <td>Australia</td>\n",
       "      <td>10</td>\n",
       "      <td>Spanish</td>\n",
       "    </tr>\n",
       "    <tr>\n",
       "      <th>4</th>\n",
       "      <td>3</td>\n",
       "      <td>5</td>\n",
       "      <td>5</td>\n",
       "      <td>5</td>\n",
       "      <td>58</td>\n",
       "      <td>5708630</td>\n",
       "      <td>43</td>\n",
       "      <td>1</td>\n",
       "      <td>218.385</td>\n",
       "      <td>4</td>\n",
       "      <td>1</td>\n",
       "      <td>2008</td>\n",
       "      <td>1</td>\n",
       "      <td>Australia</td>\n",
       "      <td>10</td>\n",
       "      <td>Finnish</td>\n",
       "    </tr>\n",
       "  </tbody>\n",
       "</table>\n",
       "</div>"
      ],
      "text/plain": [
       "   grid position positionText  positionOrder  laps milliseconds fastestLap  \\\n",
       "0     1        1            1              1    58      5690616         39   \n",
       "1     5        2            2              2    58      5696094         41   \n",
       "2     7        3            3              3    58      5698779         41   \n",
       "3    11        4            4              4    58      5707797         58   \n",
       "4     3        5            5              5    58      5708630         43   \n",
       "\n",
       "  rank fastestLapSpeed  familyStatus  Completion Status  year  circuitId  \\\n",
       "0    2         218.300             4                  1  2008          1   \n",
       "1    3         217.586             4                  1  2008          1   \n",
       "2    5         216.719             4                  1  2008          1   \n",
       "3    7         215.464             4                  1  2008          1   \n",
       "4    1         218.385             4                  1  2008          1   \n",
       "\n",
       "     country  alt nationality  \n",
       "0  Australia   10     British  \n",
       "1  Australia   10      German  \n",
       "2  Australia   10      German  \n",
       "3  Australia   10     Spanish  \n",
       "4  Australia   10     Finnish  "
      ]
     },
     "execution_count": 24,
     "metadata": {},
     "output_type": "execute_result"
    }
   ],
   "source": [
    "MasterData1_df.head()"
   ]
  },
  {
   "cell_type": "code",
   "execution_count": 25,
   "id": "e627e6b5",
   "metadata": {},
   "outputs": [
    {
     "name": "stdout",
     "output_type": "stream",
     "text": [
      "['grid', 'position', 'positionText', 'positionOrder', 'laps', 'milliseconds', 'fastestLap', 'rank', 'fastestLapSpeed', 'familyStatus', 'Completion Status', 'year', 'circuitId', 'country', 'alt', 'nationality']\n"
     ]
    }
   ],
   "source": [
    "print(MasterData1_df.columns.tolist())"
   ]
  },
  {
   "cell_type": "code",
   "execution_count": 27,
   "id": "8efa648e",
   "metadata": {},
   "outputs": [],
   "source": [
    "#Replace \\N with null value \n",
    "\n",
    "MasterData1_df = MasterData1_df.replace(r'\\N', np.NaN)\n",
    "\n",
    "#Replace null values with median value of that column\n",
    "\n",
    "MasterData1_df[\"position\"] = MasterData1_df[\"position\"].fillna(MasterData1_df[\"position\"].median())\n",
    "MasterData1_df[\"circuitId\"] = MasterData1_df[\"circuitId\"].fillna(MasterData1_df[\"circuitId\"].median())\n",
    "MasterData1_df[\"rank\"] = MasterData1_df[\"rank\"].fillna(MasterData1_df[\"rank\"].median())\n",
    "MasterData1_df[\"grid\"] = MasterData1_df[\"grid\"].fillna(MasterData1_df[\"grid\"].median())\n",
    "MasterData1_df[\"milliseconds\"] = MasterData1_df[\"milliseconds\"].fillna(MasterData1_df[\"milliseconds\"].median())\n",
    "MasterData1_df[\"fastestLap\"] = MasterData1_df[\"fastestLap\"].fillna(MasterData1_df[\"fastestLap\"].median())\n",
    "MasterData1_df[\"fastestLapSpeed\"] = MasterData1_df[\"fastestLapSpeed\"].fillna(MasterData1_df[\"fastestLapSpeed\"].median())\n",
    "MasterData1_df[\"year\"] = MasterData1_df[\"year\"].fillna(MasterData1_df[\"year\"].median())\n",
    "MasterData1_df[\"alt\"] = MasterData1_df[\"alt\"].fillna(MasterData1_df[\"alt\"].median())\n",
    "\n",
    "\n"
   ]
  },
  {
   "cell_type": "code",
   "execution_count": 40,
   "id": "b519b412",
   "metadata": {},
   "outputs": [],
   "source": [
    "from sklearn.metrics import f1_score\n",
    "from sklearn.pipeline import Pipeline\n",
    "from sklearn.svm import LinearSVC, NuSVC, SVC\n",
    "from sklearn.neighbors import KNeighborsClassifier\n",
    "from sklearn.model_selection import train_test_split as tts\n",
    "from sklearn.preprocessing import OneHotEncoder, LabelEncoder\n",
    "from sklearn.linear_model import LogisticRegressionCV, LogisticRegression, SGDClassifier\n",
    "from sklearn.ensemble import BaggingClassifier, ExtraTreesClassifier, RandomForestClassifier\n",
    "from sklearn.linear_model import Ridge, Lasso, ElasticNet\n",
    "from sklearn.feature_selection import SelectFromModel\n",
    "\n",
    "from yellowbrick.classifier import ClassificationReport\n",
    "from sklearn.feature_selection import RFE"
   ]
  },
  {
   "cell_type": "code",
   "execution_count": 41,
   "id": "c81b5067",
   "metadata": {},
   "outputs": [],
   "source": [
    "#set variables\n",
    "\n",
    "X = MasterData1_df[[\"alt\", \"year\", \"fastestLapSpeed\", \"fastestLap\", \"milliseconds\", \"grid\", \"rank\", \"circuitId\", \"position\"]]\n",
    "y = MasterData1_df[\"Completion Status\"]"
   ]
  },
  {
   "cell_type": "code",
   "execution_count": 47,
   "id": "96475050",
   "metadata": {},
   "outputs": [],
   "source": [
    "#LASSO- Regularization"
   ]
  },
  {
   "cell_type": "code",
   "execution_count": 48,
   "id": "b3bc6573",
   "metadata": {},
   "outputs": [
    {
     "name": "stdout",
     "output_type": "stream",
     "text": [
      "[('alt', -0.0), ('year', 0.004217935355577432), ('fastestLapSpeed', 0.0), ('fastestLap', 0.0), ('milliseconds', 8.604598069934724e-08), ('grid', -0.0), ('rank', -0.0), ('circuitId', 0.0), ('position', 0.0)]\n"
     ]
    }
   ],
   "source": [
    "model = Lasso()\n",
    "model.fit(X, y)\n",
    "print(list(zip(X, model.coef_.tolist())))"
   ]
  },
  {
   "cell_type": "code",
   "execution_count": 49,
   "id": "8ebb670d",
   "metadata": {},
   "outputs": [],
   "source": [
    "#What does this mean?"
   ]
  },
  {
   "cell_type": "code",
   "execution_count": 50,
   "id": "4a3c4d4f",
   "metadata": {},
   "outputs": [],
   "source": [
    "#Transformer"
   ]
  },
  {
   "cell_type": "code",
   "execution_count": 51,
   "id": "c2f108c7",
   "metadata": {},
   "outputs": [
    {
     "name": "stdout",
     "output_type": "stream",
     "text": [
      "['year']\n"
     ]
    }
   ],
   "source": [
    "model = Lasso()\n",
    "sfm = SelectFromModel(model)\n",
    "sfm.fit(X, y)\n",
    "print(list(X.iloc[:, sfm.get_support(indices=True)]))"
   ]
  }
 ],
 "metadata": {
  "kernelspec": {
   "display_name": "Python 3",
   "language": "python",
   "name": "python3"
  },
  "language_info": {
   "codemirror_mode": {
    "name": "ipython",
    "version": 3
   },
   "file_extension": ".py",
   "mimetype": "text/x-python",
   "name": "python",
   "nbconvert_exporter": "python",
   "pygments_lexer": "ipython3",
   "version": "3.8.10"
  }
 },
 "nbformat": 4,
 "nbformat_minor": 5
}
