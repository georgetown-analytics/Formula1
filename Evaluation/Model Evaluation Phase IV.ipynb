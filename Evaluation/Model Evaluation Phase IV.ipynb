{
 "cells": [
  {
   "cell_type": "markdown",
   "id": "339e5780",
   "metadata": {},
   "source": [
    "**Imports**"
   ]
  },
  {
   "cell_type": "code",
   "execution_count": 64,
   "id": "60e4a614",
   "metadata": {},
   "outputs": [],
   "source": [
    "from collections import Counter\n",
    "from sklearn.model_selection import train_test_split as tts\n",
    "from sklearn.model_selection import GridSearchCV, StratifiedKFold\n",
    "from sklearn.pipeline import make_pipeline\n",
    "from imblearn.pipeline import Pipeline as imbpipeline\n",
    "from sklearn.preprocessing import MinMaxScaler\n",
    "from imblearn.over_sampling import SMOTE\n",
    "from imblearn.metrics import classification_report_imbalanced\n",
    "from sklearn.metrics import precision_score, recall_score, f1_score, roc_auc_score, accuracy_score, classification_report\n",
    "from sklearn.ensemble import RandomForestClassifier\n",
    "from sklearn.pipeline import Pipeline\n",
    "from sklearn.svm import LinearSVC, NuSVC, SVC\n",
    "from sklearn.neighbors import KNeighborsClassifier\n",
    "from sklearn.preprocessing import OneHotEncoder, LabelEncoder\n",
    "from sklearn.linear_model import LogisticRegressionCV, LogisticRegression, SGDClassifier\n",
    "from sklearn.ensemble import BaggingClassifier, ExtraTreesClassifier, RandomForestClassifier\n",
    "\n",
    "from yellowbrick.classifier import ClassificationReport\n",
    "\n",
    "import numpy as np \n",
    "import pandas as pd"
   ]
  },
  {
   "cell_type": "code",
   "execution_count": 65,
   "id": "4d81664f",
   "metadata": {},
   "outputs": [],
   "source": [
    "#Import the Dataset we are working with"
   ]
  },
  {
   "cell_type": "code",
   "execution_count": 66,
   "id": "724f1721",
   "metadata": {},
   "outputs": [],
   "source": [
    "data_url = 'https://raw.githubusercontent.com/georgetown-analytics/Formula1/main/data/processed/OneHot_MasterData5.csv'\n",
    "data_df = pd.read_csv(data_url, sep = ',', engine = 'python', encoding = 'latin-1')"
   ]
  },
  {
   "cell_type": "markdown",
   "id": "9385ab70",
   "metadata": {},
   "source": [
    "**Modeling**"
   ]
  },
  {
   "cell_type": "code",
   "execution_count": 67,
   "id": "d2945e59",
   "metadata": {},
   "outputs": [
    {
     "data": {
      "text/html": [
       "<div>\n",
       "<style scoped>\n",
       "    .dataframe tbody tr th:only-of-type {\n",
       "        vertical-align: middle;\n",
       "    }\n",
       "\n",
       "    .dataframe tbody tr th {\n",
       "        vertical-align: top;\n",
       "    }\n",
       "\n",
       "    .dataframe thead th {\n",
       "        text-align: right;\n",
       "    }\n",
       "</style>\n",
       "<table border=\"1\" class=\"dataframe\">\n",
       "  <thead>\n",
       "    <tr style=\"text-align: right;\">\n",
       "      <th></th>\n",
       "      <th>raceId</th>\n",
       "      <th>driverId</th>\n",
       "      <th>constructorId</th>\n",
       "      <th>grid</th>\n",
       "      <th>position</th>\n",
       "      <th>positionOrder</th>\n",
       "      <th>laps</th>\n",
       "      <th>fastestLap</th>\n",
       "      <th>rank</th>\n",
       "      <th>fastestLapSpeed</th>\n",
       "      <th>...</th>\n",
       "      <th>trackType_CompletionStatus_1</th>\n",
       "      <th>nationality_CompletionStatus_1</th>\n",
       "      <th>bundled_circuitId_CompletionStatus_1</th>\n",
       "      <th>binned_circuits_CompletionStatus_1</th>\n",
       "      <th>positionText_CompletionStatus_2</th>\n",
       "      <th>country_CompletionStatus_2</th>\n",
       "      <th>trackType_CompletionStatus_2</th>\n",
       "      <th>nationality_CompletionStatus_2</th>\n",
       "      <th>bundled_circuitId_CompletionStatus_2</th>\n",
       "      <th>binned_circuits_CompletionStatus_2</th>\n",
       "    </tr>\n",
       "  </thead>\n",
       "  <tbody>\n",
       "    <tr>\n",
       "      <th>0</th>\n",
       "      <td>1</td>\n",
       "      <td>1</td>\n",
       "      <td>1</td>\n",
       "      <td>18</td>\n",
       "      <td>NaN</td>\n",
       "      <td>20</td>\n",
       "      <td>58</td>\n",
       "      <td>39.0</td>\n",
       "      <td>13.0</td>\n",
       "      <td>214.455</td>\n",
       "      <td>...</td>\n",
       "      <td>0.287045</td>\n",
       "      <td>0.240838</td>\n",
       "      <td>0.250732</td>\n",
       "      <td>0.277588</td>\n",
       "      <td>0.000000</td>\n",
       "      <td>0.648188</td>\n",
       "      <td>0.712955</td>\n",
       "      <td>0.759162</td>\n",
       "      <td>0.749268</td>\n",
       "      <td>0.722412</td>\n",
       "    </tr>\n",
       "    <tr>\n",
       "      <th>1</th>\n",
       "      <td>1</td>\n",
       "      <td>2</td>\n",
       "      <td>2</td>\n",
       "      <td>9</td>\n",
       "      <td>10.0</td>\n",
       "      <td>10</td>\n",
       "      <td>58</td>\n",
       "      <td>48.0</td>\n",
       "      <td>5.0</td>\n",
       "      <td>216.245</td>\n",
       "      <td>...</td>\n",
       "      <td>0.287045</td>\n",
       "      <td>0.209566</td>\n",
       "      <td>0.250732</td>\n",
       "      <td>0.277588</td>\n",
       "      <td>0.968680</td>\n",
       "      <td>0.648188</td>\n",
       "      <td>0.712955</td>\n",
       "      <td>0.790434</td>\n",
       "      <td>0.749268</td>\n",
       "      <td>0.722412</td>\n",
       "    </tr>\n",
       "    <tr>\n",
       "      <th>2</th>\n",
       "      <td>1</td>\n",
       "      <td>3</td>\n",
       "      <td>3</td>\n",
       "      <td>5</td>\n",
       "      <td>6.0</td>\n",
       "      <td>6</td>\n",
       "      <td>58</td>\n",
       "      <td>48.0</td>\n",
       "      <td>1.0</td>\n",
       "      <td>217.668</td>\n",
       "      <td>...</td>\n",
       "      <td>0.287045</td>\n",
       "      <td>0.209566</td>\n",
       "      <td>0.250732</td>\n",
       "      <td>0.277588</td>\n",
       "      <td>0.997835</td>\n",
       "      <td>0.648188</td>\n",
       "      <td>0.712955</td>\n",
       "      <td>0.790434</td>\n",
       "      <td>0.749268</td>\n",
       "      <td>0.722412</td>\n",
       "    </tr>\n",
       "    <tr>\n",
       "      <th>3</th>\n",
       "      <td>1</td>\n",
       "      <td>4</td>\n",
       "      <td>4</td>\n",
       "      <td>10</td>\n",
       "      <td>5.0</td>\n",
       "      <td>5</td>\n",
       "      <td>58</td>\n",
       "      <td>53.0</td>\n",
       "      <td>9.0</td>\n",
       "      <td>215.199</td>\n",
       "      <td>...</td>\n",
       "      <td>0.287045</td>\n",
       "      <td>0.231140</td>\n",
       "      <td>0.250732</td>\n",
       "      <td>0.277588</td>\n",
       "      <td>0.997840</td>\n",
       "      <td>0.648188</td>\n",
       "      <td>0.712955</td>\n",
       "      <td>0.768860</td>\n",
       "      <td>0.749268</td>\n",
       "      <td>0.722412</td>\n",
       "    </tr>\n",
       "    <tr>\n",
       "      <th>4</th>\n",
       "      <td>1</td>\n",
       "      <td>6</td>\n",
       "      <td>3</td>\n",
       "      <td>11</td>\n",
       "      <td>NaN</td>\n",
       "      <td>18</td>\n",
       "      <td>17</td>\n",
       "      <td>6.0</td>\n",
       "      <td>18.0</td>\n",
       "      <td>212.301</td>\n",
       "      <td>...</td>\n",
       "      <td>0.287045</td>\n",
       "      <td>0.361371</td>\n",
       "      <td>0.250732</td>\n",
       "      <td>0.277588</td>\n",
       "      <td>0.002367</td>\n",
       "      <td>0.648188</td>\n",
       "      <td>0.712955</td>\n",
       "      <td>0.638629</td>\n",
       "      <td>0.749268</td>\n",
       "      <td>0.722412</td>\n",
       "    </tr>\n",
       "  </tbody>\n",
       "</table>\n",
       "<p>5 rows × 35 columns</p>\n",
       "</div>"
      ],
      "text/plain": [
       "   raceId  driverId  constructorId  grid  position  positionOrder  laps  \\\n",
       "0       1         1              1    18       NaN             20    58   \n",
       "1       1         2              2     9      10.0             10    58   \n",
       "2       1         3              3     5       6.0              6    58   \n",
       "3       1         4              4    10       5.0              5    58   \n",
       "4       1         6              3    11       NaN             18    17   \n",
       "\n",
       "   fastestLap  rank  fastestLapSpeed  ...  trackType_CompletionStatus_1  \\\n",
       "0        39.0  13.0          214.455  ...                      0.287045   \n",
       "1        48.0   5.0          216.245  ...                      0.287045   \n",
       "2        48.0   1.0          217.668  ...                      0.287045   \n",
       "3        53.0   9.0          215.199  ...                      0.287045   \n",
       "4         6.0  18.0          212.301  ...                      0.287045   \n",
       "\n",
       "   nationality_CompletionStatus_1  bundled_circuitId_CompletionStatus_1  \\\n",
       "0                        0.240838                              0.250732   \n",
       "1                        0.209566                              0.250732   \n",
       "2                        0.209566                              0.250732   \n",
       "3                        0.231140                              0.250732   \n",
       "4                        0.361371                              0.250732   \n",
       "\n",
       "   binned_circuits_CompletionStatus_1  positionText_CompletionStatus_2  \\\n",
       "0                            0.277588                         0.000000   \n",
       "1                            0.277588                         0.968680   \n",
       "2                            0.277588                         0.997835   \n",
       "3                            0.277588                         0.997840   \n",
       "4                            0.277588                         0.002367   \n",
       "\n",
       "   country_CompletionStatus_2  trackType_CompletionStatus_2  \\\n",
       "0                    0.648188                      0.712955   \n",
       "1                    0.648188                      0.712955   \n",
       "2                    0.648188                      0.712955   \n",
       "3                    0.648188                      0.712955   \n",
       "4                    0.648188                      0.712955   \n",
       "\n",
       "   nationality_CompletionStatus_2  bundled_circuitId_CompletionStatus_2  \\\n",
       "0                        0.759162                              0.749268   \n",
       "1                        0.790434                              0.749268   \n",
       "2                        0.790434                              0.749268   \n",
       "3                        0.768860                              0.749268   \n",
       "4                        0.638629                              0.749268   \n",
       "\n",
       "   binned_circuits_CompletionStatus_2  \n",
       "0                            0.722412  \n",
       "1                            0.722412  \n",
       "2                            0.722412  \n",
       "3                            0.722412  \n",
       "4                            0.722412  \n",
       "\n",
       "[5 rows x 35 columns]"
      ]
     },
     "execution_count": 67,
     "metadata": {},
     "output_type": "execute_result"
    }
   ],
   "source": [
    "data_df.head()"
   ]
  },
  {
   "cell_type": "code",
   "execution_count": 68,
   "id": "21855e6d",
   "metadata": {},
   "outputs": [
    {
     "data": {
      "text/plain": [
       "(9466, 35)"
      ]
     },
     "execution_count": 68,
     "metadata": {},
     "output_type": "execute_result"
    }
   ],
   "source": [
    "data_df.shape"
   ]
  },
  {
   "cell_type": "code",
   "execution_count": 69,
   "id": "8df2d11e",
   "metadata": {},
   "outputs": [
    {
     "data": {
      "text/plain": [
       "1    7108\n",
       "0    2358\n",
       "Name: CompletionStatus, dtype: int64"
      ]
     },
     "execution_count": 69,
     "metadata": {},
     "output_type": "execute_result"
    }
   ],
   "source": [
    "data_df.CompletionStatus.value_counts()"
   ]
  },
  {
   "cell_type": "code",
   "execution_count": 70,
   "id": "4290bd0b",
   "metadata": {},
   "outputs": [
    {
     "data": {
      "text/plain": [
       "raceId                                     0\n",
       "driverId                                   0\n",
       "constructorId                              0\n",
       "grid                                       0\n",
       "position                                2164\n",
       "positionOrder                              0\n",
       "laps                                       0\n",
       "fastestLap                              2745\n",
       "rank                                    2704\n",
       "fastestLapSpeed                         2745\n",
       "familyStatus                               0\n",
       "CompletionStatus                           0\n",
       "year                                       0\n",
       "circuitId                                  0\n",
       "alt                                        0\n",
       "isHistoric                                 0\n",
       "total_lap_time                             0\n",
       "average_lap_time                           0\n",
       "minimum_lap_time                           0\n",
       "PRCP                                       0\n",
       "TAVG                                       0\n",
       "TMAX                                       0\n",
       "TMIN                                       0\n",
       "positionText_CompletionStatus_1            0\n",
       "country_CompletionStatus_1                 0\n",
       "trackType_CompletionStatus_1               0\n",
       "nationality_CompletionStatus_1             0\n",
       "bundled_circuitId_CompletionStatus_1       0\n",
       "binned_circuits_CompletionStatus_1         0\n",
       "positionText_CompletionStatus_2            0\n",
       "country_CompletionStatus_2                 0\n",
       "trackType_CompletionStatus_2               0\n",
       "nationality_CompletionStatus_2             0\n",
       "bundled_circuitId_CompletionStatus_2       0\n",
       "binned_circuits_CompletionStatus_2         0\n",
       "dtype: int64"
      ]
     },
     "execution_count": 70,
     "metadata": {},
     "output_type": "execute_result"
    }
   ],
   "source": [
    "data_df.isna().sum()"
   ]
  },
  {
   "cell_type": "code",
   "execution_count": 71,
   "id": "184a8f02",
   "metadata": {},
   "outputs": [],
   "source": [
    "#Position, fastest lap, rank, fastest lap speed all contain nulls. \n",
    "#This suggests that they would have high correlation to our target Completion Status. \n",
    "#These columns will be excluded from our feature selection. "
   ]
  },
  {
   "cell_type": "code",
   "execution_count": 72,
   "id": "99106ae5",
   "metadata": {},
   "outputs": [],
   "source": [
    "X = data_df[['grid',\n",
    "       'alt',\n",
    "        'average_lap_time',\n",
    "       'minimum_lap_time', 'PRCP', 'TAVG', 'TMAX', 'TMIN',\n",
    "       'country_CompletionStatus_1',\n",
    "       'nationality_CompletionStatus_1',\n",
    "       'bundled_circuitId_CompletionStatus_1',\n",
    "       'binned_circuits_CompletionStatus_1',\n",
    "       'country_CompletionStatus_2', 'nationality_CompletionStatus_2',\n",
    "       'bundled_circuitId_CompletionStatus_2',\n",
    "       'binned_circuits_CompletionStatus_2']]"
   ]
  },
  {
   "cell_type": "code",
   "execution_count": 73,
   "id": "c22870fe",
   "metadata": {},
   "outputs": [],
   "source": [
    "y = data_df.CompletionStatus"
   ]
  },
  {
   "cell_type": "code",
   "execution_count": 74,
   "id": "cf7a4ac0",
   "metadata": {},
   "outputs": [],
   "source": [
    "X_train, X_test, y_train, y_test = tts(X, y, test_size=0.20, random_state = 3)"
   ]
  },
  {
   "cell_type": "code",
   "execution_count": 75,
   "id": "cad682ab",
   "metadata": {},
   "outputs": [
    {
     "name": "stdout",
     "output_type": "stream",
     "text": [
      "SVC: 1.0\n"
     ]
    },
    {
     "name": "stderr",
     "output_type": "stream",
     "text": [
      "/Users/jamesbifulco/opt/anaconda3/lib/python3.8/site-packages/sklearn/svm/_base.py:985: ConvergenceWarning: Liblinear failed to converge, increase the number of iterations.\n",
      "  warnings.warn(\"Liblinear failed to converge, increase \"\n"
     ]
    },
    {
     "name": "stdout",
     "output_type": "stream",
     "text": [
      "LinearSVC: 0.8577289730903827\n",
      "KNeighborsClassifier: 0.8911214038750082\n",
      "LogisticRegression: 0.8586969660340869\n",
      "LogisticRegressionCV: 0.8582139186166031\n",
      "BaggingClassifier: 0.9936788874841972\n",
      "ExtraTreesClassifier: 1.0\n",
      "RandomForestClassifier: 1.0\n"
     ]
    }
   ],
   "source": [
    "#Test our data on various estimators.\n",
    "\n",
    "def score_model(X_train, y_train, estimator, **kwargs):\n",
    "   \n",
    "    model.fit(X_train, y_train, **kwargs)  \n",
    "    \n",
    "    expected  = y\n",
    "    predicted = model.predict(X_train)\n",
    "    \n",
    "    # Compute and return F1\n",
    "    print(\"{}: {}\".format(estimator.__class__.__name__, f1_score(expected, predicted)))\n",
    "    \n",
    "\n",
    "# Instantiate the classification models\n",
    "models = [\n",
    "    SVC(gamma='auto'), \n",
    "    LinearSVC(),  \n",
    "    KNeighborsClassifier(), \n",
    "    LogisticRegression(solver='lbfgs'), \n",
    "    LogisticRegressionCV(cv=3), \n",
    "    BaggingClassifier(), \n",
    "    ExtraTreesClassifier(n_estimators=100), \n",
    "    RandomForestClassifier(n_estimators=100)\n",
    "]\n",
    "\n",
    "for model in models:\n",
    "    score_model(X, y, model)"
   ]
  },
  {
   "cell_type": "code",
   "execution_count": 76,
   "id": "fecbdf5e",
   "metadata": {},
   "outputs": [
    {
     "data": {
      "image/png": "[encoded data removed]",
      "text/plain": [
       "<Figure size 600x360 with 2 Axes>"
      ]
     },
     "metadata": {},
     "output_type": "display_data"
    },
    {
     "name": "stderr",
     "output_type": "stream",
     "text": [
      "/Users/jamesbifulco/opt/anaconda3/lib/python3.8/site-packages/sklearn/metrics/_classification.py:1248: UndefinedMetricWarning: Precision and F-score are ill-defined and being set to 0.0 in labels with no predicted samples. Use `zero_division` parameter to control this behavior.\n",
      "  _warn_prf(average, modifier, msg_start, len(result))\n"
     ]
    },
    {
     "data": {
      "image/png": "[encoded data removed]",
      "text/plain": [
       "<Figure size 600x360 with 2 Axes>"
      ]
     },
     "metadata": {},
     "output_type": "display_data"
    },
    {
     "data": {
      "image/png": "[encoded data removed]",
      "text/plain": [
       "<Figure size 600x360 with 2 Axes>"
      ]
     },
     "metadata": {},
     "output_type": "display_data"
    },
    {
     "data": {
      "image/png": "[encoded data removed]",
      "text/plain": [
       "<Figure size 600x360 with 2 Axes>"
      ]
     },
     "metadata": {},
     "output_type": "display_data"
    },
    {
     "data": {
      "image/png": "[encoded data removed]",
      "text/plain": [
       "<Figure size 600x360 with 2 Axes>"
      ]
     },
     "metadata": {},
     "output_type": "display_data"
    },
    {
     "data": {
      "image/png": "[encoded data removed]",
      "text/plain": [
       "<Figure size 600x360 with 2 Axes>"
      ]
     },
     "metadata": {},
     "output_type": "display_data"
    },
    {
     "data": {
      "image/png": "[encoded data removed]",
      "text/plain": [
       "<Figure size 600x360 with 2 Axes>"
      ]
     },
     "metadata": {},
     "output_type": "display_data"
    },
    {
     "data": {
      "image/png": "[encoded data removed]",
      "text/plain": [
       "<Figure size 600x360 with 2 Axes>"
      ]
     },
     "metadata": {},
     "output_type": "display_data"
    }
   ],
   "source": [
    "#Visualize our data on various estimators. \n",
    "\n",
    "def visualize_model(X, y, estimator):\n",
    "   \n",
    "    # Instantiate the classification model and visualizer\n",
    "    visualizer = ClassificationReport(\n",
    "        model, \n",
    "        classes=[0,1], \n",
    "        cmap=\"Reds\", \n",
    "        support=True,\n",
    "        size=(600, 360)\n",
    "    )\n",
    "    \n",
    "    X_train, X_test, y_train, y_test = tts(X, y, test_size=0.20, random_state = 3)\n",
    "    visualizer.fit(X_train, y_train)  \n",
    "    visualizer.score(X_test, y_test)\n",
    "    visualizer.show()  \n",
    "\n",
    "for model in models:\n",
    "    visualize_model(X, y, model)"
   ]
  },
  {
   "cell_type": "code",
   "execution_count": 77,
   "id": "70d4c978",
   "metadata": {},
   "outputs": [],
   "source": [
    "#Based on the performance of these models, we can deduce that data leakage may be taking place due to class imbalance. \n",
    "#We will now address this issue to achieve greater model performance. "
   ]
  },
  {
   "cell_type": "markdown",
   "id": "6a83b625",
   "metadata": {},
   "source": [
    "**Logistic Regression**"
   ]
  },
  {
   "cell_type": "code",
   "execution_count": 82,
   "id": "66f6b2f0",
   "metadata": {},
   "outputs": [],
   "source": [
    "#Model Evaluation with SMOTE, Min Max Scaler, and Stratified K-Fold Cross Validation"
   ]
  },
  {
   "cell_type": "code",
   "execution_count": 83,
   "id": "c168ded8",
   "metadata": {},
   "outputs": [
    {
     "name": "stdout",
     "output_type": "stream",
     "text": [
      "Cross-validation score: 0.6599128871988835\n",
      "Test score: 0.6569063028916066\n"
     ]
    }
   ],
   "source": [
    "X_train, X_test, y_train, y_test = train_test_split(X,\n",
    "                                                    y,\n",
    "                                                    test_size=0.2,\n",
    "                                                    stratify=y,\n",
    "                                                    random_state=11)\n",
    "\n",
    "\n",
    "pipeline = imbpipeline(steps = [['smote', SMOTE(random_state=11)],\n",
    "                                ['scaler', MinMaxScaler()],\n",
    "                                ['classifier', LogisticRegression(random_state=11,\n",
    "                                                                  max_iter=1000)]])\n",
    "\n",
    "stratified_kfold = StratifiedKFold(n_splits=3,\n",
    "                                       shuffle=True,\n",
    "                                       random_state=11)\n",
    "    \n",
    "param_grid = {'classifier__C':[0.001, 0.01, 0.1, 1, 10, 100, 1000]}\n",
    "grid_search = GridSearchCV(estimator=pipeline,\n",
    "                           param_grid=param_grid,\n",
    "                           scoring='roc_auc',\n",
    "                           cv=stratified_kfold,\n",
    "                           n_jobs=-1)\n",
    "\n",
    "grid_search.fit(X_train, y_train)\n",
    "cv_score = grid_search.best_score_\n",
    "test_score = grid_search.score(X_test, y_test)\n",
    "print(f'Cross-validation score: {cv_score}\\nTest score: {test_score}')"
   ]
  },
  {
   "cell_type": "code",
   "execution_count": 84,
   "id": "b4ea6bbf",
   "metadata": {},
   "outputs": [],
   "source": [
    "#Alternate Method of Model Evaluation"
   ]
  },
  {
   "cell_type": "code",
   "execution_count": 94,
   "id": "a2b09436",
   "metadata": {},
   "outputs": [],
   "source": [
    "def print_results(headline, true_value, pred):\n",
    "    print(headline)\n",
    "    print(\"accuracy: {}\".format(accuracy_score(true_value, pred)))\n",
    "    print(\"precision: {}\".format(precision_score(true_value, pred)))\n",
    "    print(\"recall: {}\".format(recall_score(true_value, pred)))\n",
    "    print(\"f1: {}\".format(f1_score(true_value, pred)))"
   ]
  },
  {
   "cell_type": "code",
   "execution_count": 95,
   "id": "8996b7a5",
   "metadata": {},
   "outputs": [],
   "source": [
    "# our classifier to use\n",
    "classifier = LogisticRegression"
   ]
  },
  {
   "cell_type": "code",
   "execution_count": 96,
   "id": "d01a8839",
   "metadata": {},
   "outputs": [],
   "source": [
    "X_train, X_test, y_train, y_test = train_test_split(X, y, random_state=2)"
   ]
  },
  {
   "cell_type": "code",
   "execution_count": 97,
   "id": "bc793a99",
   "metadata": {},
   "outputs": [],
   "source": [
    "# build normal model\n",
    "pipeline = make_pipeline(classifier(random_state=42))\n",
    "model = pipeline.fit(X_train, y_train)\n",
    "prediction = model.predict(X_test)"
   ]
  },
  {
   "cell_type": "code",
   "execution_count": 98,
   "id": "eb5e670b",
   "metadata": {},
   "outputs": [],
   "source": [
    "# build model with SMOTE imblearn\n",
    "smote_pipeline = make_pipeline_imb(SMOTE(random_state=4), classifier(random_state=42))\n",
    "smote_model = smote_pipeline.fit(X_train, y_train)\n",
    "smote_prediction = smote_model.predict(X_test)"
   ]
  },
  {
   "cell_type": "code",
   "execution_count": 99,
   "id": "0022dffe",
   "metadata": {},
   "outputs": [
    {
     "name": "stdout",
     "output_type": "stream",
     "text": [
      "\n",
      "normal data distribution: Counter({1: 7108, 0: 2358})\n",
      "SMOTE data distribution: Counter({0: 7108, 1: 7108})\n"
     ]
    }
   ],
   "source": [
    "# print information about both models\n",
    "print()\n",
    "print(\"normal data distribution: {}\".format(Counter(y)))\n",
    "X_smote, y_smote = SMOTE().fit_resample(X, y)\n",
    "print(\"SMOTE data distribution: {}\".format(Counter(y_smote)))"
   ]
  },
  {
   "cell_type": "code",
   "execution_count": 100,
   "id": "1e4ec0d8",
   "metadata": {},
   "outputs": [
    {
     "name": "stdout",
     "output_type": "stream",
     "text": [
      "              precision    recall  f1-score   support\n",
      "\n",
      "           0       0.55      0.01      0.02       632\n",
      "           1       0.73      1.00      0.85      1735\n",
      "\n",
      "    accuracy                           0.73      2367\n",
      "   macro avg       0.64      0.50      0.43      2367\n",
      "weighted avg       0.68      0.73      0.62      2367\n",
      "\n"
     ]
    }
   ],
   "source": [
    "# classification report\n",
    "print(classification_report(y_test, prediction))"
   ]
  },
  {
   "cell_type": "code",
   "execution_count": 101,
   "id": "012c43b0",
   "metadata": {},
   "outputs": [
    {
     "name": "stdout",
     "output_type": "stream",
     "text": [
      "                   pre       rec       spe        f1       geo       iba       sup\n",
      "\n",
      "          0       0.32      0.57      0.56      0.41      0.57      0.32       632\n",
      "          1       0.78      0.56      0.57      0.65      0.57      0.32      1735\n",
      "\n",
      "avg / total       0.66      0.56      0.57      0.59      0.57      0.32      2367\n",
      "\n"
     ]
    }
   ],
   "source": [
    "print(classification_report_imbalanced(y_test, smote_prediction))"
   ]
  },
  {
   "cell_type": "code",
   "execution_count": 102,
   "id": "9fb46eaa",
   "metadata": {},
   "outputs": [
    {
     "name": "stdout",
     "output_type": "stream",
     "text": [
      "\n",
      "normal Pipeline Score 0.7334178284748627\n",
      "SMOTE Pipeline Score 0.5648500211237854\n"
     ]
    }
   ],
   "source": [
    "print()\n",
    "print('normal Pipeline Score {}'.format(pipeline.score(X_test, y_test)))\n",
    "print('SMOTE Pipeline Score {}'.format(smote_pipeline.score(X_test, y_test)))"
   ]
  },
  {
   "cell_type": "code",
   "execution_count": 103,
   "id": "bc27bda0",
   "metadata": {},
   "outputs": [
    {
     "name": "stdout",
     "output_type": "stream",
     "text": [
      "\n",
      "normal classification\n",
      "accuracy: 0.7334178284748627\n",
      "precision: 0.734295415959253\n",
      "recall: 0.9971181556195965\n",
      "f1: 0.8457589831337081\n",
      "\n",
      "SMOTE classification\n",
      "accuracy: 0.5648500211237854\n",
      "precision: 0.7822257806244995\n",
      "recall: 0.5631123919308357\n",
      "f1: 0.6548257372654156\n"
     ]
    }
   ],
   "source": [
    "print()\n",
    "print_results(\"normal classification\", y_test, prediction)\n",
    "print()\n",
    "print_results(\"SMOTE classification\", y_test, smote_prediction)"
   ]
  },
  {
   "cell_type": "code",
   "execution_count": 104,
   "id": "273e1426",
   "metadata": {},
   "outputs": [],
   "source": [
    "from sklearn.model_selection import KFold"
   ]
  },
  {
   "cell_type": "code",
   "execution_count": 105,
   "id": "eeaa6cf5",
   "metadata": {},
   "outputs": [],
   "source": [
    "kf = KFold(n_splits=12)\n",
    "accuracy = []\n",
    "precision = []\n",
    "recall = []\n",
    "f1 = []\n",
    "auc = []"
   ]
  },
  {
   "cell_type": "code",
   "execution_count": 106,
   "id": "6b05d3de",
   "metadata": {},
   "outputs": [
    {
     "name": "stdout",
     "output_type": "stream",
     "text": [
      "\n",
      "mean of scores 12-fold:\n",
      "accuracy: 0.5611705874066769\n",
      "precision: 0.7983129002876203\n",
      "recall: 0.5612165767107141\n",
      "f1: 0.656074561786158\n",
      "\n"
     ]
    }
   ],
   "source": [
    "for train, test in kf.split(X_train, y_train):\n",
    "    pipeline = make_pipeline_imb(SMOTE(), classifier(random_state=42))\n",
    "    model = pipeline.fit(X_train, y_train)\n",
    "    prediction = model.predict(X_train)\n",
    "    accuracy.append(pipeline.score(X_train, y_train))\n",
    "    precision.append(precision_score(y_train, prediction))\n",
    "    recall.append(recall_score(y_train, prediction))\n",
    "    f1.append(f1_score(y_train, prediction))\n",
    "    auc.append(roc_auc_score(y_train, prediction))\n",
    "\n",
    "print()\n",
    "print(\"mean of scores 12-fold:\")\n",
    "print(\"accuracy: {}\".format(np.mean(accuracy)))\n",
    "print(\"precision: {}\".format(np.mean(precision)))\n",
    "print(\"recall: {}\".format(np.mean(recall)))\n",
    "print(\"f1: {}\".format(np.mean(f1)))\n",
    "print()\n"
   ]
  },
  {
   "cell_type": "code",
   "execution_count": null,
   "id": "b1661c28",
   "metadata": {},
   "outputs": [],
   "source": []
  }
 ],
 "metadata": {
  "kernelspec": {
   "display_name": "Python 3",
   "language": "python",
   "name": "python3"
  },
  "language_info": {
   "codemirror_mode": {
    "name": "ipython",
    "version": 3
   },
   "file_extension": ".py",
   "mimetype": "text/x-python",
   "name": "python",
   "nbconvert_exporter": "python",
   "pygments_lexer": "ipython3",
   "version": "3.8.8"
  }
 },
 "nbformat": 4,
 "nbformat_minor": 5
}
