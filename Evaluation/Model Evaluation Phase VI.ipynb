{
 "cells": [
  {
   "cell_type": "code",
   "execution_count": 1,
   "id": "db171eaf",
   "metadata": {},
   "outputs": [],
   "source": [
    "from collections import Counter\n",
    "from sklearn.model_selection import train_test_split as tts\n",
    "from sklearn.model_selection import GridSearchCV, StratifiedKFold\n",
    "from sklearn.pipeline import make_pipeline\n",
    "from imblearn.pipeline import Pipeline as imbpipeline\n",
    "from sklearn.preprocessing import MinMaxScaler\n",
    "from imblearn.over_sampling import SMOTE\n",
    "from imblearn.metrics import classification_report_imbalanced\n",
    "from sklearn.metrics import precision_score, recall_score, f1_score, roc_auc_score, accuracy_score, classification_report\n",
    "from sklearn.ensemble import RandomForestClassifier\n",
    "from sklearn.pipeline import Pipeline\n",
    "from sklearn.svm import LinearSVC, NuSVC, SVC\n",
    "from sklearn.neighbors import KNeighborsClassifier\n",
    "from sklearn.preprocessing import OneHotEncoder, LabelEncoder\n",
    "from sklearn.linear_model import LogisticRegressionCV, LogisticRegression, SGDClassifier\n",
    "from sklearn.ensemble import BaggingClassifier, ExtraTreesClassifier, RandomForestClassifier\n",
    "\n",
    "from yellowbrick.classifier import ClassificationReport\n",
    "\n",
    "import numpy as np \n",
    "import pandas as pd"
   ]
  },
  {
   "cell_type": "code",
   "execution_count": 2,
   "id": "34d71f67",
   "metadata": {},
   "outputs": [],
   "source": [
    "#Import the Dataset we are working with"
   ]
  },
  {
   "cell_type": "code",
   "execution_count": 3,
   "id": "88e24d68",
   "metadata": {},
   "outputs": [],
   "source": [
    "data_url = 'https://raw.githubusercontent.com/georgetown-analytics/Formula1/main/data/processed/MasterData5.csv'\n",
    "data_df = pd.read_csv(data_url, sep = ',', engine = 'python', encoding = 'latin-1')"
   ]
  },
  {
   "cell_type": "markdown",
   "id": "7d643052",
   "metadata": {},
   "source": [
    "**Modeling**"
   ]
  },
  {
   "cell_type": "code",
   "execution_count": 4,
   "id": "65a6738b",
   "metadata": {},
   "outputs": [
    {
     "data": {
      "text/html": [
       "<div>\n",
       "<style scoped>\n",
       "    .dataframe tbody tr th:only-of-type {\n",
       "        vertical-align: middle;\n",
       "    }\n",
       "\n",
       "    .dataframe tbody tr th {\n",
       "        vertical-align: top;\n",
       "    }\n",
       "\n",
       "    .dataframe thead th {\n",
       "        text-align: right;\n",
       "    }\n",
       "</style>\n",
       "<table border=\"1\" class=\"dataframe\">\n",
       "  <thead>\n",
       "    <tr style=\"text-align: right;\">\n",
       "      <th></th>\n",
       "      <th>raceId</th>\n",
       "      <th>driverId</th>\n",
       "      <th>constructorId</th>\n",
       "      <th>grid</th>\n",
       "      <th>familyStatus</th>\n",
       "      <th>Completion Status</th>\n",
       "      <th>year</th>\n",
       "      <th>circuitId</th>\n",
       "      <th>country</th>\n",
       "      <th>alt</th>\n",
       "      <th>...</th>\n",
       "      <th>TAVG</th>\n",
       "      <th>TMAX</th>\n",
       "      <th>TMIN</th>\n",
       "      <th>oneHot_circuits_1</th>\n",
       "      <th>oneHot_circuits_2</th>\n",
       "      <th>oneHot_circuits_3</th>\n",
       "      <th>oneHot_circuits_4</th>\n",
       "      <th>oneHot_circuits_5</th>\n",
       "      <th>oneHot_circuits_6</th>\n",
       "      <th>trackType2</th>\n",
       "    </tr>\n",
       "  </thead>\n",
       "  <tbody>\n",
       "    <tr>\n",
       "      <th>0</th>\n",
       "      <td>1</td>\n",
       "      <td>2</td>\n",
       "      <td>2</td>\n",
       "      <td>9</td>\n",
       "      <td>4</td>\n",
       "      <td>1</td>\n",
       "      <td>2009</td>\n",
       "      <td>1</td>\n",
       "      <td>Australia</td>\n",
       "      <td>10</td>\n",
       "      <td>...</td>\n",
       "      <td>72.0</td>\n",
       "      <td>78.0</td>\n",
       "      <td>66.0</td>\n",
       "      <td>0</td>\n",
       "      <td>1</td>\n",
       "      <td>0</td>\n",
       "      <td>0</td>\n",
       "      <td>0</td>\n",
       "      <td>0</td>\n",
       "      <td>1</td>\n",
       "    </tr>\n",
       "    <tr>\n",
       "      <th>1</th>\n",
       "      <td>1</td>\n",
       "      <td>3</td>\n",
       "      <td>3</td>\n",
       "      <td>5</td>\n",
       "      <td>4</td>\n",
       "      <td>1</td>\n",
       "      <td>2009</td>\n",
       "      <td>1</td>\n",
       "      <td>Australia</td>\n",
       "      <td>10</td>\n",
       "      <td>...</td>\n",
       "      <td>72.0</td>\n",
       "      <td>78.0</td>\n",
       "      <td>66.0</td>\n",
       "      <td>0</td>\n",
       "      <td>1</td>\n",
       "      <td>0</td>\n",
       "      <td>0</td>\n",
       "      <td>0</td>\n",
       "      <td>0</td>\n",
       "      <td>1</td>\n",
       "    </tr>\n",
       "    <tr>\n",
       "      <th>2</th>\n",
       "      <td>1</td>\n",
       "      <td>4</td>\n",
       "      <td>4</td>\n",
       "      <td>10</td>\n",
       "      <td>4</td>\n",
       "      <td>1</td>\n",
       "      <td>2009</td>\n",
       "      <td>1</td>\n",
       "      <td>Australia</td>\n",
       "      <td>10</td>\n",
       "      <td>...</td>\n",
       "      <td>72.0</td>\n",
       "      <td>78.0</td>\n",
       "      <td>66.0</td>\n",
       "      <td>0</td>\n",
       "      <td>1</td>\n",
       "      <td>0</td>\n",
       "      <td>0</td>\n",
       "      <td>0</td>\n",
       "      <td>0</td>\n",
       "      <td>1</td>\n",
       "    </tr>\n",
       "    <tr>\n",
       "      <th>3</th>\n",
       "      <td>1</td>\n",
       "      <td>6</td>\n",
       "      <td>3</td>\n",
       "      <td>11</td>\n",
       "      <td>1</td>\n",
       "      <td>0</td>\n",
       "      <td>2009</td>\n",
       "      <td>1</td>\n",
       "      <td>Australia</td>\n",
       "      <td>10</td>\n",
       "      <td>...</td>\n",
       "      <td>72.0</td>\n",
       "      <td>78.0</td>\n",
       "      <td>66.0</td>\n",
       "      <td>0</td>\n",
       "      <td>1</td>\n",
       "      <td>0</td>\n",
       "      <td>0</td>\n",
       "      <td>0</td>\n",
       "      <td>0</td>\n",
       "      <td>1</td>\n",
       "    </tr>\n",
       "    <tr>\n",
       "      <th>4</th>\n",
       "      <td>1</td>\n",
       "      <td>7</td>\n",
       "      <td>5</td>\n",
       "      <td>17</td>\n",
       "      <td>4</td>\n",
       "      <td>1</td>\n",
       "      <td>2009</td>\n",
       "      <td>1</td>\n",
       "      <td>Australia</td>\n",
       "      <td>10</td>\n",
       "      <td>...</td>\n",
       "      <td>72.0</td>\n",
       "      <td>78.0</td>\n",
       "      <td>66.0</td>\n",
       "      <td>0</td>\n",
       "      <td>1</td>\n",
       "      <td>0</td>\n",
       "      <td>0</td>\n",
       "      <td>0</td>\n",
       "      <td>0</td>\n",
       "      <td>1</td>\n",
       "    </tr>\n",
       "  </tbody>\n",
       "</table>\n",
       "<p>5 rows × 26 columns</p>\n",
       "</div>"
      ],
      "text/plain": [
       "   raceId  driverId  constructorId  grid  familyStatus  Completion Status  \\\n",
       "0       1         2              2     9             4                  1   \n",
       "1       1         3              3     5             4                  1   \n",
       "2       1         4              4    10             4                  1   \n",
       "3       1         6              3    11             1                  0   \n",
       "4       1         7              5    17             4                  1   \n",
       "\n",
       "   year  circuitId    country  alt  ...  TAVG  TMAX  TMIN  oneHot_circuits_1  \\\n",
       "0  2009          1  Australia   10  ...  72.0  78.0  66.0                  0   \n",
       "1  2009          1  Australia   10  ...  72.0  78.0  66.0                  0   \n",
       "2  2009          1  Australia   10  ...  72.0  78.0  66.0                  0   \n",
       "3  2009          1  Australia   10  ...  72.0  78.0  66.0                  0   \n",
       "4  2009          1  Australia   10  ...  72.0  78.0  66.0                  0   \n",
       "\n",
       "   oneHot_circuits_2  oneHot_circuits_3  oneHot_circuits_4  oneHot_circuits_5  \\\n",
       "0                  1                  0                  0                  0   \n",
       "1                  1                  0                  0                  0   \n",
       "2                  1                  0                  0                  0   \n",
       "3                  1                  0                  0                  0   \n",
       "4                  1                  0                  0                  0   \n",
       "\n",
       "   oneHot_circuits_6  trackType2  \n",
       "0                  0           1  \n",
       "1                  0           1  \n",
       "2                  0           1  \n",
       "3                  0           1  \n",
       "4                  0           1  \n",
       "\n",
       "[5 rows x 26 columns]"
      ]
     },
     "execution_count": 4,
     "metadata": {},
     "output_type": "execute_result"
    }
   ],
   "source": [
    "data_df.head()"
   ]
  },
  {
   "cell_type": "code",
   "execution_count": 5,
   "id": "4921c9e6",
   "metadata": {},
   "outputs": [
    {
     "data": {
      "text/plain": [
       "(9258, 26)"
      ]
     },
     "execution_count": 5,
     "metadata": {},
     "output_type": "execute_result"
    }
   ],
   "source": [
    "data_df.shape"
   ]
  },
  {
   "cell_type": "code",
   "execution_count": 6,
   "id": "cf80f4ed",
   "metadata": {},
   "outputs": [
    {
     "data": {
      "text/plain": [
       "raceId               0\n",
       "driverId             0\n",
       "constructorId        0\n",
       "grid                 0\n",
       "familyStatus         0\n",
       "Completion Status    0\n",
       "year                 0\n",
       "circuitId            0\n",
       "country              0\n",
       "alt                  0\n",
       "isHistoric           0\n",
       "nationality          0\n",
       "total_lap_time       0\n",
       "average_lap_time     0\n",
       "minimum_lap_time     0\n",
       "PRCP                 0\n",
       "TAVG                 0\n",
       "TMAX                 0\n",
       "TMIN                 0\n",
       "oneHot_circuits_1    0\n",
       "oneHot_circuits_2    0\n",
       "oneHot_circuits_3    0\n",
       "oneHot_circuits_4    0\n",
       "oneHot_circuits_5    0\n",
       "oneHot_circuits_6    0\n",
       "trackType2           0\n",
       "dtype: int64"
      ]
     },
     "execution_count": 6,
     "metadata": {},
     "output_type": "execute_result"
    }
   ],
   "source": [
    "data_df.isna().sum()"
   ]
  },
  {
   "cell_type": "code",
   "execution_count": 7,
   "id": "038908ce",
   "metadata": {},
   "outputs": [],
   "source": [
    "#Position, fastest lap, rank, fastest lap speed all contain nulls. \n",
    "#This suggests that they would have high correlation to our target Completion Status. \n",
    "#These columns will be excluded from our feature selection. "
   ]
  },
  {
   "cell_type": "code",
   "execution_count": 8,
   "id": "3a6e3520",
   "metadata": {},
   "outputs": [],
   "source": [
    "data_df = data_df.rename(columns={\"Completion Status\": \"CompletionStatus\"})\n",
    "y = data_df.loc[:, 'CompletionStatus'] #categorical"
   ]
  },
  {
   "cell_type": "code",
   "execution_count": 9,
   "id": "4c226855",
   "metadata": {},
   "outputs": [],
   "source": [
    "X = data_df.loc[:, ['trackType2', #categorical\n",
    "                        'alt', #numeric\n",
    "                        'grid', #numeric\n",
    "                        'average_lap_time', #numeric\n",
    "                        'minimum_lap_time', #numeric\n",
    "                        'year', #numeric\n",
    "                        'PRCP', #numeric\n",
    "                        'TAVG', #numeric\n",
    "                        'isHistoric', #categorical\n",
    "                        \"oneHot_circuits_1\",\n",
    "                    \"oneHot_circuits_2\",\"oneHot_circuits_3\",\"oneHot_circuits_4\",\"oneHot_circuits_5\",\n",
    "                    \"oneHot_circuits_6\"\n",
    "                    \n",
    "                       ]]"
   ]
  },
  {
   "cell_type": "code",
   "execution_count": 10,
   "id": "d7279ee0",
   "metadata": {},
   "outputs": [
    {
     "name": "stderr",
     "output_type": "stream",
     "text": [
      "/opt/anaconda3/lib/python3.8/site-packages/yellowbrick/model_selection/importances.py:194: YellowbrickWarning: detected multi-dimensional feature importances but stack=False, using mean to aggregate them.\n",
      "  warnings.warn(\n"
     ]
    },
    {
     "data": {
      "image/png": "[encoded data removed]",
      "text/plain": [
       "<Figure size 576x396 with 1 Axes>"
      ]
     },
     "metadata": {},
     "output_type": "display_data"
    },
    {
     "data": {
      "text/plain": [
       "<AxesSubplot:title={'center':'Feature Importances of 15 Features using LogisticRegression'}, xlabel='relative coefficient magnitude'>"
      ]
     },
     "execution_count": 10,
     "metadata": {},
     "output_type": "execute_result"
    }
   ],
   "source": [
    "from yellowbrick.features import FeatureImportances\n",
    "\n",
    "model = LogisticRegression()\n",
    "viz = FeatureImportances(model)\n",
    "viz.fit(X, y)\n",
    "viz.show()"
   ]
  },
  {
   "cell_type": "code",
   "execution_count": 11,
   "id": "c2e39fab",
   "metadata": {},
   "outputs": [
    {
     "data": {
      "image/png": "[encoded data removed]",
      "text/plain": [
       "<Figure size 1080x720 with 1 Axes>"
      ]
     },
     "metadata": {},
     "output_type": "display_data"
    },
    {
     "data": {
      "text/plain": [
       "<AxesSubplot:title={'center':'ROC Curves for LogisticRegression'}, xlabel='False Positive Rate', ylabel='True Positive Rate'>"
      ]
     },
     "execution_count": 11,
     "metadata": {},
     "output_type": "execute_result"
    }
   ],
   "source": [
    "from sklearn.linear_model import LogisticRegression\n",
    "from sklearn.model_selection import train_test_split\n",
    "\n",
    "from yellowbrick.classifier import ROCAUC\n",
    "\n",
    "\n",
    "# Specify the classes of the target\n",
    "classes = [0, 1]\n",
    "\n",
    "# Create the train and test data\n",
    "X_train, X_test, y_train, y_test = train_test_split(X, y, test_size=0.2)\n",
    "\n",
    "# Instantiate the visualizer with the classification model\n",
    "visualizer = ROCAUC(LogisticRegression(\n",
    "    multi_class=\"auto\", solver=\"liblinear\"\n",
    "    ), classes=classes, size=(1080, 720)\n",
    ")\n",
    "visualizer.fit(X_train, y_train)  # Fit the training data to the visualizer\n",
    "visualizer.score(X_test, y_test)  # Evaluate the model on the test data\n",
    "visualizer.show()                 # Draw the data"
   ]
  },
  {
   "cell_type": "code",
   "execution_count": 12,
   "id": "5fb5a4e2",
   "metadata": {},
   "outputs": [
    {
     "name": "stdout",
     "output_type": "stream",
     "text": [
      "SVC: 0.8724505327245053\n"
     ]
    },
    {
     "name": "stderr",
     "output_type": "stream",
     "text": [
      "/opt/anaconda3/lib/python3.8/site-packages/sklearn/svm/_base.py:985: ConvergenceWarning: Liblinear failed to converge, increase the number of iterations.\n",
      "  warnings.warn(\"Liblinear failed to converge, increase \"\n"
     ]
    },
    {
     "name": "stdout",
     "output_type": "stream",
     "text": [
      "LinearSVC: 0.8724505327245053\n",
      "KNeighborsClassifier: 0.8625929518267056\n",
      "LogisticRegression: 0.8729820286323485\n",
      "LogisticRegressionCV: 0.8735141725083816\n",
      "BaggingClassifier: 0.8723475917817446\n",
      "ExtraTreesClassifier: 0.8801858612678394\n",
      "RandomForestClassifier: 0.8838901753225273\n"
     ]
    }
   ],
   "source": [
    "#Test our data on various estimators.\n",
    "\n",
    "X_train, X_test, y_train, y_test = tts(X, y, test_size=0.20, random_state = 3)\n",
    "\n",
    "def score_model(X_train, y_train, X_test, y_test, estimator, **kwargs):\n",
    "   \n",
    "    estimator.fit(X_train, y_train, **kwargs)  \n",
    "    \n",
    "    expected  = y_test\n",
    "    predicted = estimator.predict(X_test)\n",
    "    \n",
    "    # Compute and return F1\n",
    "    print(\"{}: {}\".format(estimator.__class__.__name__, f1_score(expected, predicted)))\n",
    "    \n",
    "\n",
    "# Instantiate the classification models\n",
    "models = [\n",
    "    SVC(gamma='auto'), \n",
    "    LinearSVC(),  \n",
    "    KNeighborsClassifier(), \n",
    "    LogisticRegression(solver='lbfgs'), \n",
    "    LogisticRegressionCV(cv=3), \n",
    "    BaggingClassifier(), \n",
    "    ExtraTreesClassifier(n_estimators=100), \n",
    "    RandomForestClassifier(n_estimators=100)\n",
    "]\n",
    "\n",
    "for model in models:\n",
    "    score_model(X_train, y_train, X_test, y_test, model)"
   ]
  },
  {
   "cell_type": "code",
   "execution_count": 13,
   "id": "dd673068",
   "metadata": {},
   "outputs": [],
   "source": [
    "#These models are producing unsually high results. \n",
    "#It seems as if there is data leakage taking place. "
   ]
  },
  {
   "cell_type": "code",
   "execution_count": 14,
   "id": "f837b7cc",
   "metadata": {},
   "outputs": [
    {
     "data": {
      "text/plain": [
       "1    7108\n",
       "0    2150\n",
       "Name: CompletionStatus, dtype: int64"
      ]
     },
     "execution_count": 14,
     "metadata": {},
     "output_type": "execute_result"
    }
   ],
   "source": [
    "data_df.CompletionStatus.value_counts()"
   ]
  },
  {
   "cell_type": "code",
   "execution_count": 15,
   "id": "40462c7a",
   "metadata": {},
   "outputs": [],
   "source": [
    "#Data leakage is potentially caused by a class imbalance. "
   ]
  },
  {
   "cell_type": "code",
   "execution_count": 16,
   "id": "0187fe7b",
   "metadata": {},
   "outputs": [],
   "source": [
    "#Now to use SMOTE to address this issue. "
   ]
  },
  {
   "cell_type": "code",
   "execution_count": 17,
   "id": "65573afc",
   "metadata": {},
   "outputs": [
    {
     "name": "stdout",
     "output_type": "stream",
     "text": [
      "[(0, 7108), (1, 7108)]\n"
     ]
    }
   ],
   "source": [
    "from imblearn.over_sampling import SMOTE, ADASYN\n",
    "\n",
    "X_resampled, y_resampled = SMOTE().fit_resample(X, y)\n",
    "print(sorted(Counter(y_resampled).items()))"
   ]
  },
  {
   "cell_type": "code",
   "execution_count": 18,
   "id": "aa9de482",
   "metadata": {},
   "outputs": [],
   "source": [
    "#Now to test various models on our resampled data"
   ]
  },
  {
   "cell_type": "code",
   "execution_count": 19,
   "id": "36f7c13a",
   "metadata": {},
   "outputs": [
    {
     "name": "stdout",
     "output_type": "stream",
     "text": [
      "SVC: 1.0\n",
      "NuSVC: 1.0\n"
     ]
    },
    {
     "name": "stderr",
     "output_type": "stream",
     "text": [
      "/opt/anaconda3/lib/python3.8/site-packages/sklearn/svm/_base.py:985: ConvergenceWarning: Liblinear failed to converge, increase the number of iterations.\n",
      "  warnings.warn(\"Liblinear failed to converge, increase \"\n"
     ]
    },
    {
     "name": "stdout",
     "output_type": "stream",
     "text": [
      "LinearSVC: 0.0\n",
      "KNeighborsClassifier: 0.8662372110647973\n",
      "LogisticRegression: 0.6745513866231646\n",
      "LogisticRegressionCV: 0.6777462505066882\n",
      "BaggingClassifier: 0.9926650366748166\n",
      "ExtraTreesClassifier: 1.0\n",
      "RandomForestClassifier: 1.0\n"
     ]
    }
   ],
   "source": [
    "def score_model(X_resampled, y_resampled, X_test, y_test, estimator, **kwargs):\n",
    "    \"\"\"\n",
    "    Test various estimators.\n",
    "    \"\"\"\n",
    "    # Instantiate the classification model and visualizer\n",
    "    estimator.fit(X_resampled, y_resampled, **kwargs)  \n",
    "    \n",
    "    expected  = y_test\n",
    "    predicted = estimator.predict(X_test)\n",
    "    \n",
    "    # Compute and return F1 (harmonic mean of precision and recall)\n",
    "    print(\"{}: {}\".format(estimator.__class__.__name__, f1_score(expected, predicted)))\n",
    "    \n",
    "\n",
    "models = [\n",
    "    SVC(gamma='auto'), \n",
    "    NuSVC(gamma='auto'), \n",
    "    LinearSVC(),  \n",
    "    KNeighborsClassifier(), \n",
    "    LogisticRegression(solver='lbfgs'), \n",
    "    LogisticRegressionCV(cv=3), \n",
    "    BaggingClassifier(), \n",
    "    ExtraTreesClassifier(n_estimators=100), \n",
    "    RandomForestClassifier(n_estimators=100)\n",
    "]\n",
    "\n",
    "for model in models:\n",
    "    score_model(X_resampled, y_resampled, X_test, y_test, model)"
   ]
  },
  {
   "cell_type": "code",
   "execution_count": 20,
   "id": "3fe706d4",
   "metadata": {},
   "outputs": [],
   "source": [
    "#Logistic Regression, LogisticRegressionCV, LinearSVC, KNeighborsClassifier"
   ]
  },
  {
   "cell_type": "code",
   "execution_count": 21,
   "id": "567fbfe8",
   "metadata": {},
   "outputs": [
    {
     "data": {
      "image/png": "[encoded data removed]",
      "text/plain": [
       "<Figure size 600x360 with 2 Axes>"
      ]
     },
     "metadata": {},
     "output_type": "display_data"
    },
    {
     "data": {
      "image/png": "[encoded data removed]",
      "text/plain": [
       "<Figure size 600x360 with 2 Axes>"
      ]
     },
     "metadata": {},
     "output_type": "display_data"
    },
    {
     "name": "stderr",
     "output_type": "stream",
     "text": [
      "/opt/anaconda3/lib/python3.8/site-packages/sklearn/metrics/_classification.py:1248: UndefinedMetricWarning: Precision and F-score are ill-defined and being set to 0.0 in labels with no predicted samples. Use `zero_division` parameter to control this behavior.\n",
      "  _warn_prf(average, modifier, msg_start, len(result))\n"
     ]
    },
    {
     "data": {
      "image/png": "[encoded data removed]",
      "text/plain": [
       "<Figure size 600x360 with 2 Axes>"
      ]
     },
     "metadata": {},
     "output_type": "display_data"
    },
    {
     "data": {
      "image/png": "[encoded data removed]",
      "text/plain": [
       "<Figure size 600x360 with 2 Axes>"
      ]
     },
     "metadata": {},
     "output_type": "display_data"
    },
    {
     "data": {
      "image/png": "[encoded data removed]",
      "text/plain": [
       "<Figure size 600x360 with 2 Axes>"
      ]
     },
     "metadata": {},
     "output_type": "display_data"
    },
    {
     "data": {
      "image/png": "[encoded data removed]",
      "text/plain": [
       "<Figure size 600x360 with 2 Axes>"
      ]
     },
     "metadata": {},
     "output_type": "display_data"
    },
    {
     "data": {
      "image/png": "[encoded data removed]",
      "text/plain": [
       "<Figure size 600x360 with 2 Axes>"
      ]
     },
     "metadata": {},
     "output_type": "display_data"
    },
    {
     "data": {
      "image/png": "[encoded data removed]",
      "text/plain": [
       "<Figure size 600x360 with 2 Axes>"
      ]
     },
     "metadata": {},
     "output_type": "display_data"
    },
    {
     "data": {
      "image/png": "[encoded data removed]",
      "text/plain": [
       "<Figure size 600x360 with 2 Axes>"
      ]
     },
     "metadata": {},
     "output_type": "display_data"
    }
   ],
   "source": [
    "def visualize_model(X, y, estimator):\n",
    "    \"\"\"\n",
    "    Test various estimators.\n",
    "    \"\"\" \n",
    "    # Instantiate the classification model and visualizer\n",
    "    visualizer = ClassificationReport(\n",
    "        estimator, \n",
    "        classes=[0,1], \n",
    "        cmap=\"Reds\", \n",
    "        support=True,\n",
    "        size=(600, 360)\n",
    "    )\n",
    "    \n",
    "    X_train, X_test, y_train, y_test = tts(X, y, test_size=0.20, random_state = 3)\n",
    "    X_resampled, y_resampled = SMOTE().fit_resample(X_train, y_train)\n",
    "    visualizer.fit(X_resampled, y_resampled)  \n",
    "    visualizer.score(X_test, y_test)\n",
    "    visualizer.show()  \n",
    "\n",
    "for model in models:\n",
    "    visualize_model(X, y, model)"
   ]
  },
  {
   "cell_type": "code",
   "execution_count": 22,
   "id": "e60b8b35",
   "metadata": {},
   "outputs": [],
   "source": [
    "#LogisticRegression & LogisticRegressionCV seem to be our most viable models"
   ]
  },
  {
   "cell_type": "code",
   "execution_count": 23,
   "id": "8ea49002",
   "metadata": {},
   "outputs": [
    {
     "data": {
      "text/plain": [
       "LogisticRegression(solver='liblinear')"
      ]
     },
     "execution_count": 23,
     "metadata": {},
     "output_type": "execute_result"
    }
   ],
   "source": [
    "# train a logistic regression model on the resammpled data \n",
    "from sklearn.linear_model import LogisticRegression\n",
    "logreg = LogisticRegression(solver='liblinear')\n",
    "logreg.fit(X_resampled, y_resampled)"
   ]
  },
  {
   "cell_type": "code",
   "execution_count": 24,
   "id": "77fe3840",
   "metadata": {},
   "outputs": [],
   "source": [
    "y_pred_class = logreg.predict(X_test)"
   ]
  },
  {
   "cell_type": "code",
   "execution_count": 25,
   "id": "7b21a709",
   "metadata": {},
   "outputs": [],
   "source": [
    "#Classification Accuracy"
   ]
  },
  {
   "cell_type": "code",
   "execution_count": 26,
   "id": "8bee4391",
   "metadata": {},
   "outputs": [
    {
     "name": "stdout",
     "output_type": "stream",
     "text": [
      "0.7316414686825053\n"
     ]
    }
   ],
   "source": [
    "from sklearn import metrics\n",
    "print(metrics.accuracy_score(y_test, y_pred_class))"
   ]
  },
  {
   "cell_type": "code",
   "execution_count": 27,
   "id": "623e7ea7",
   "metadata": {},
   "outputs": [],
   "source": [
    "#Null Accuracy - accuracy that could be achieved by always predicting the most frequent class"
   ]
  },
  {
   "cell_type": "code",
   "execution_count": 28,
   "id": "3044ee33",
   "metadata": {},
   "outputs": [
    {
     "data": {
      "text/plain": [
       "1    1433\n",
       "0     419\n",
       "Name: CompletionStatus, dtype: int64"
      ]
     },
     "execution_count": 28,
     "metadata": {},
     "output_type": "execute_result"
    }
   ],
   "source": [
    "# examine the class distribution of the testing set (using a Pandas Series method)\n",
    "y_test.value_counts()"
   ]
  },
  {
   "cell_type": "code",
   "execution_count": 29,
   "id": "7579e124",
   "metadata": {},
   "outputs": [
    {
     "data": {
      "text/plain": [
       "0.7737580993520519"
      ]
     },
     "execution_count": 29,
     "metadata": {},
     "output_type": "execute_result"
    }
   ],
   "source": [
    "# calculate the percentage of ones\n",
    "y_test.mean()"
   ]
  },
  {
   "cell_type": "code",
   "execution_count": 30,
   "id": "bc43697f",
   "metadata": {},
   "outputs": [
    {
     "data": {
      "text/plain": [
       "0.22624190064794814"
      ]
     },
     "execution_count": 30,
     "metadata": {},
     "output_type": "execute_result"
    }
   ],
   "source": [
    "# calculate the percentage of zeros\n",
    "1 - y_test.mean()"
   ]
  },
  {
   "cell_type": "code",
   "execution_count": 31,
   "id": "43cfd1e6",
   "metadata": {},
   "outputs": [
    {
     "data": {
      "text/plain": [
       "0.7737580993520519"
      ]
     },
     "execution_count": 31,
     "metadata": {},
     "output_type": "execute_result"
    }
   ],
   "source": [
    "# calculate null accuracy\n",
    "max(y_test.mean(), 1 - y_test.mean())"
   ]
  },
  {
   "cell_type": "code",
   "execution_count": 32,
   "id": "03da54b5",
   "metadata": {},
   "outputs": [
    {
     "name": "stdout",
     "output_type": "stream",
     "text": [
      "[[  37  382]\n",
      " [ 115 1318]]\n"
     ]
    }
   ],
   "source": [
    "# IMPORTANT: first argument is true values, second argument is predicted values\n",
    "print(metrics.confusion_matrix(y_test, y_pred_class))"
   ]
  },
  {
   "cell_type": "code",
   "execution_count": 33,
   "id": "932f133d",
   "metadata": {},
   "outputs": [],
   "source": [
    "# save confusion matrix and slice into four pieces\n",
    "confusion = metrics.confusion_matrix(y_test, y_pred_class)\n",
    "TP = confusion[1, 1]\n",
    "TN = confusion[0, 0]\n",
    "FP = confusion[0, 1]\n",
    "FN = confusion[1, 0]"
   ]
  },
  {
   "cell_type": "code",
   "execution_count": 34,
   "id": "105789a1",
   "metadata": {},
   "outputs": [],
   "source": [
    "#Classification Accuracy: Overall, how often is the classifier correct?"
   ]
  },
  {
   "cell_type": "code",
   "execution_count": 35,
   "id": "3c08dd46",
   "metadata": {},
   "outputs": [
    {
     "name": "stdout",
     "output_type": "stream",
     "text": [
      "0.7316414686825053\n",
      "0.7316414686825053\n"
     ]
    }
   ],
   "source": [
    "print((TP + TN) / (TP + TN + FP + FN))\n",
    "print(metrics.accuracy_score(y_test, y_pred_class))"
   ]
  },
  {
   "cell_type": "code",
   "execution_count": 36,
   "id": "cc55e15c",
   "metadata": {},
   "outputs": [],
   "source": [
    "#Classification Error: Overall, how often is the classifier incorrect?"
   ]
  },
  {
   "cell_type": "code",
   "execution_count": 37,
   "id": "90749e61",
   "metadata": {},
   "outputs": [
    {
     "name": "stdout",
     "output_type": "stream",
     "text": [
      "0.2683585313174946\n",
      "0.26835853131749465\n"
     ]
    }
   ],
   "source": [
    "print((FP + FN) / (TP + TN + FP + FN))\n",
    "print(1 - metrics.accuracy_score(y_test, y_pred_class))"
   ]
  },
  {
   "cell_type": "code",
   "execution_count": 38,
   "id": "4a67ce03",
   "metadata": {},
   "outputs": [],
   "source": [
    "#Sensitivity: When the actual value is positive, how often is the prediction correct?"
   ]
  },
  {
   "cell_type": "code",
   "execution_count": 39,
   "id": "a6df4dda",
   "metadata": {},
   "outputs": [
    {
     "name": "stdout",
     "output_type": "stream",
     "text": [
      "0.9197487787857641\n",
      "0.9197487787857641\n"
     ]
    }
   ],
   "source": [
    "print(TP / (TP + FN))\n",
    "print(metrics.recall_score(y_test, y_pred_class))"
   ]
  },
  {
   "cell_type": "code",
   "execution_count": 40,
   "id": "769c7eec",
   "metadata": {},
   "outputs": [],
   "source": [
    "#Specificity: When the actual value is negative, how often is the prediction correct?\n",
    "#In this case, when we predict crash, how often are we correct?\n",
    "#In this case we want to optimize specificity"
   ]
  },
  {
   "cell_type": "code",
   "execution_count": 41,
   "id": "d6066fee",
   "metadata": {},
   "outputs": [
    {
     "name": "stdout",
     "output_type": "stream",
     "text": [
      "0.0883054892601432\n"
     ]
    }
   ],
   "source": [
    "#Specificity:\n",
    "\n",
    "print(TN / (TN + FP))"
   ]
  },
  {
   "cell_type": "code",
   "execution_count": 42,
   "id": "dfd8d1bf",
   "metadata": {},
   "outputs": [],
   "source": [
    "#False Positive Rate: When the actual value is negative, how often is the prediction incorrect?"
   ]
  },
  {
   "cell_type": "code",
   "execution_count": 43,
   "id": "b3ab40a8",
   "metadata": {},
   "outputs": [
    {
     "name": "stdout",
     "output_type": "stream",
     "text": [
      "0.9116945107398569\n"
     ]
    }
   ],
   "source": [
    "print(FP / (TN + FP))"
   ]
  },
  {
   "cell_type": "code",
   "execution_count": 44,
   "id": "c3e55279",
   "metadata": {},
   "outputs": [],
   "source": [
    "#Precision: When a positive value is predicted, how often is the prediction correct?"
   ]
  },
  {
   "cell_type": "code",
   "execution_count": 45,
   "id": "f2e91341",
   "metadata": {},
   "outputs": [
    {
     "name": "stdout",
     "output_type": "stream",
     "text": [
      "0.7752941176470588\n",
      "0.7752941176470588\n"
     ]
    }
   ],
   "source": [
    "print(TP / (TP + FP))\n",
    "print(metrics.precision_score(y_test, y_pred_class))"
   ]
  },
  {
   "cell_type": "code",
   "execution_count": 46,
   "id": "a89c5599",
   "metadata": {},
   "outputs": [],
   "source": [
    "#Adjusting the classification threshold"
   ]
  },
  {
   "cell_type": "code",
   "execution_count": 47,
   "id": "9b4cd6e3",
   "metadata": {},
   "outputs": [
    {
     "data": {
      "text/plain": [
       "array([[0.2656263 , 0.7343737 ],\n",
       "       [0.50459922, 0.49540078],\n",
       "       [0.27220582, 0.72779418],\n",
       "       ...,\n",
       "       [0.34204148, 0.65795852],\n",
       "       [0.42799521, 0.57200479],\n",
       "       [0.26134652, 0.73865348]])"
      ]
     },
     "execution_count": 47,
     "metadata": {},
     "output_type": "execute_result"
    }
   ],
   "source": [
    "logreg.predict_proba(X_test)"
   ]
  },
  {
   "cell_type": "code",
   "execution_count": 48,
   "id": "73ae118d",
   "metadata": {},
   "outputs": [
    {
     "data": {
      "text/plain": [
       "array([0.2656263 , 0.50459922, 0.27220582, 0.29458557, 0.49234535,\n",
       "       0.35537911, 0.18118916, 0.75742041, 0.32000822, 0.33716918])"
      ]
     },
     "execution_count": 48,
     "metadata": {},
     "output_type": "execute_result"
    }
   ],
   "source": [
    "logreg.predict_proba(X_test)[0:10, 0]"
   ]
  },
  {
   "cell_type": "code",
   "execution_count": 49,
   "id": "75e92fb4",
   "metadata": {},
   "outputs": [],
   "source": [
    "y_pred_prob = logreg.predict_proba(X_test)[:, 0]"
   ]
  },
  {
   "cell_type": "code",
   "execution_count": 50,
   "id": "d46b302c",
   "metadata": {},
   "outputs": [],
   "source": [
    "# allow plots to appear in the notebook\n",
    "%matplotlib inline\n",
    "import matplotlib.pyplot as plt"
   ]
  },
  {
   "cell_type": "code",
   "execution_count": 51,
   "id": "c39c23a9",
   "metadata": {},
   "outputs": [
    {
     "data": {
      "text/plain": [
       "Text(0, 0.5, 'Frequency')"
      ]
     },
     "execution_count": 51,
     "metadata": {},
     "output_type": "execute_result"
    },
    {
     "data": {
      "image/png": "[encoded data removed]",
      "text/plain": [
       "<Figure size 432x288 with 1 Axes>"
      ]
     },
     "metadata": {
      "needs_background": "light"
     },
     "output_type": "display_data"
    }
   ],
   "source": [
    "# histogram of predicted probabilities\n",
    "plt.hist(y_pred_prob, bins=8)\n",
    "plt.xlim(0, 1)\n",
    "plt.title('Histogram of predicted probabilities')\n",
    "plt.xlabel('Predicted probability of Finishing')\n",
    "plt.ylabel('Frequency')"
   ]
  },
  {
   "cell_type": "code",
   "execution_count": 52,
   "id": "6951de91",
   "metadata": {},
   "outputs": [],
   "source": [
    "#Increase the threshold for predicting crashes in order to increase the specificity of the classifier"
   ]
  },
  {
   "cell_type": "code",
   "execution_count": 53,
   "id": "e4fcd85d",
   "metadata": {},
   "outputs": [],
   "source": [
    "# predict crash if the predicted probability is less than 0.3\n",
    "from sklearn.preprocessing import binarize\n",
    "y_pred_class = binarize([y_pred_prob], threshold=0.3)[0]"
   ]
  },
  {
   "cell_type": "code",
   "execution_count": 54,
   "id": "24999c67",
   "metadata": {},
   "outputs": [
    {
     "data": {
      "text/plain": [
       "array([0.2656263 , 0.50459922, 0.27220582, 0.29458557, 0.49234535,\n",
       "       0.35537911, 0.18118916, 0.75742041, 0.32000822, 0.33716918])"
      ]
     },
     "execution_count": 54,
     "metadata": {},
     "output_type": "execute_result"
    }
   ],
   "source": [
    "# print the first 10 predicted probabilities\n",
    "y_pred_prob[0:10]"
   ]
  },
  {
   "cell_type": "code",
   "execution_count": 55,
   "id": "edae8c1a",
   "metadata": {},
   "outputs": [
    {
     "data": {
      "text/plain": [
       "array([0., 1., 0., 0., 1., 1., 0., 1., 1., 1.])"
      ]
     },
     "execution_count": 55,
     "metadata": {},
     "output_type": "execute_result"
    }
   ],
   "source": [
    "# print the first 10 predicted classes with the lower threshold\n",
    "y_pred_class[0:10]"
   ]
  },
  {
   "cell_type": "code",
   "execution_count": 56,
   "id": "47b2e2a6",
   "metadata": {},
   "outputs": [
    {
     "name": "stdout",
     "output_type": "stream",
     "text": [
      "[[  37  382]\n",
      " [ 115 1318]]\n"
     ]
    }
   ],
   "source": [
    "# previous confusion matrix (default threshold of 0.5)\n",
    "print(confusion)"
   ]
  },
  {
   "cell_type": "code",
   "execution_count": 57,
   "id": "6f40deab",
   "metadata": {},
   "outputs": [
    {
     "name": "stdout",
     "output_type": "stream",
     "text": [
      "[[ 82 337]\n",
      " [440 993]]\n"
     ]
    }
   ],
   "source": [
    "# new confusion matrix (threshold of 0.3)\n",
    "print(metrics.confusion_matrix(y_test, y_pred_class))"
   ]
  },
  {
   "cell_type": "code",
   "execution_count": 58,
   "id": "56863274",
   "metadata": {},
   "outputs": [
    {
     "data": {
      "image/png": "[encoded data removed]",
      "text/plain": [
       "<Figure size 432x288 with 1 Axes>"
      ]
     },
     "metadata": {
      "needs_background": "light"
     },
     "output_type": "display_data"
    }
   ],
   "source": [
    "# IMPORTANT: first argument is true values, second argument is predicted probabilities\n",
    "fpr, tpr, thresholds = metrics.roc_curve(y_test, y_pred_prob)\n",
    "plt.plot(fpr, tpr)\n",
    "plt.xlim([0.0, 1.0])\n",
    "plt.ylim([0.0, 1.0])\n",
    "plt.title('ROC curve for Crash classifier')\n",
    "#'True Positive Rate (Sensitivity)'\n",
    "plt.xlabel('True Positive Rate (Sensitivity)')\n",
    "plt.ylabel('Specificity')\n",
    "plt.grid(True)"
   ]
  },
  {
   "cell_type": "code",
   "execution_count": 59,
   "id": "ed4f3863",
   "metadata": {},
   "outputs": [],
   "source": [
    "def evaluate_threshold(threshold):\n",
    "    print('Sensitivity:', tpr[thresholds > threshold][-1])\n",
    "    print('Specificity:', 1 - fpr[thresholds > threshold][-1])\n"
   ]
  },
  {
   "cell_type": "code",
   "execution_count": 60,
   "id": "d37dd9c2",
   "metadata": {},
   "outputs": [
    {
     "name": "stdout",
     "output_type": "stream",
     "text": [
      "Sensitivity: 0.08025122121423586\n",
      "Specificity: 0.9116945107398569\n"
     ]
    }
   ],
   "source": [
    "evaluate_threshold(0.5)"
   ]
  },
  {
   "cell_type": "code",
   "execution_count": 61,
   "id": "c2032720",
   "metadata": {},
   "outputs": [
    {
     "name": "stdout",
     "output_type": "stream",
     "text": [
      "Sensitivity: 0.6922540125610607\n",
      "Specificity: 0.19570405727923623\n"
     ]
    }
   ],
   "source": [
    "evaluate_threshold(0.3)"
   ]
  },
  {
   "cell_type": "code",
   "execution_count": 62,
   "id": "076d8179",
   "metadata": {},
   "outputs": [
    {
     "name": "stdout",
     "output_type": "stream",
     "text": [
      "0.414738177996659\n"
     ]
    }
   ],
   "source": [
    "print(metrics.roc_auc_score(y_test, y_pred_prob))"
   ]
  },
  {
   "cell_type": "code",
   "execution_count": 63,
   "id": "262cd64f",
   "metadata": {},
   "outputs": [
    {
     "data": {
      "text/plain": [
       "0.5650058060066808"
      ]
     },
     "execution_count": 63,
     "metadata": {},
     "output_type": "execute_result"
    }
   ],
   "source": [
    "# calculate cross-validated AUC\n",
    "from sklearn.model_selection import cross_val_score\n",
    "cross_val_score(logreg, X, y, cv=10, scoring='roc_auc').mean()"
   ]
  },
  {
   "cell_type": "code",
   "execution_count": 64,
   "id": "ce73e40a",
   "metadata": {},
   "outputs": [],
   "source": [
    "#Parameter tuning using GridSearchCV"
   ]
  },
  {
   "cell_type": "code",
   "execution_count": 71,
   "id": "560a9780",
   "metadata": {},
   "outputs": [
    {
     "name": "stdout",
     "output_type": "stream",
     "text": [
      "Cross-validation score: 0.6989057497862641\n",
      "Test score: 0.6832531972655611\n"
     ]
    }
   ],
   "source": [
    "from sklearn.model_selection import GridSearchCV\n",
    "\n",
    "\n",
    "X_train, X_test, y_train, y_test = train_test_split(X,\n",
    "                                                    y,\n",
    "                                                    test_size=0.2,\n",
    "                                                    stratify=y,\n",
    "                                                    random_state=11)\n",
    "\n",
    "\n",
    "pipeline = imbpipeline(steps = [['smote', SMOTE(random_state=11)],\n",
    "                                ['scaler', MinMaxScaler()],\n",
    "                                ['classifier', LogisticRegression(random_state=11,\n",
    "                                                                  max_iter=1000)]])\n",
    "\n",
    "stratified_kfold = StratifiedKFold(n_splits=3,\n",
    "                                       shuffle=True,\n",
    "                                       random_state=11)\n",
    "    \n",
    "param_grid = {'classifier__C':[0.001, 0.01, 0.1, 1, 10, 100, 1000]}\n",
    "grid_search = GridSearchCV(estimator=pipeline,\n",
    "                           param_grid=param_grid,\n",
    "                           scoring='roc_auc',\n",
    "                           cv=stratified_kfold,\n",
    "                           n_jobs=-1)\n",
    "\n",
    "grid_search.fit(X_train, y_train)\n",
    "cv_score = grid_search.best_score_\n",
    "test_score = grid_search.score(X_test, y_test)\n",
    "print(f'Cross-validation score: {cv_score}\\nTest score: {test_score}')"
   ]
  },
  {
   "cell_type": "code",
   "execution_count": 76,
   "id": "aefce5a0",
   "metadata": {},
   "outputs": [
    {
     "name": "stdout",
     "output_type": "stream",
     "text": [
      "Cross-validation score: 0.6985369574965311\n",
      "Test score: 0.6828345271972001\n"
     ]
    }
   ],
   "source": [
    "from sklearn.model_selection import GridSearchCV\n",
    "\n",
    "\n",
    "X_train, X_test, y_train, y_test = train_test_split(X,\n",
    "                                                    y,\n",
    "                                                    test_size=0.2,\n",
    "                                                    stratify=y,\n",
    "                                                    random_state=11)\n",
    "\n",
    "\n",
    "pipeline = imbpipeline(steps = [['smote', SMOTE(random_state=11)],\n",
    "                                ['scaler', MinMaxScaler()],\n",
    "                                ['classifier', LinearSVC()]])\n",
    "\n",
    "stratified_kfold = StratifiedKFold(n_splits=3,\n",
    "                                       shuffle=True,\n",
    "                                       random_state=11)\n",
    "    \n",
    "param_grid = {'classifier__C':[0.001, 0.01, 0.1, 1, 10, 100, 1000]}\n",
    "grid_search = GridSearchCV(estimator=pipeline,\n",
    "                           param_grid=param_grid,\n",
    "                           scoring='roc_auc',\n",
    "                           cv=stratified_kfold,\n",
    "                           n_jobs=-1)\n",
    "\n",
    "grid_search.fit(X_train, y_train)\n",
    "cv_score = grid_search.best_score_\n",
    "test_score = grid_search.score(X_test, y_test)\n",
    "print(f'Cross-validation score: {cv_score}\\nTest score: {test_score}')"
   ]
  },
  {
   "cell_type": "code",
   "execution_count": 68,
   "id": "e0f6bbe0",
   "metadata": {},
   "outputs": [],
   "source": [
    "#Logisitc Regression, LogisticRegressionCV, LinearSVC, KNeighborsClassifier"
   ]
  },
  {
   "cell_type": "code",
   "execution_count": 72,
   "id": "8a9dc9c3",
   "metadata": {},
   "outputs": [
    {
     "data": {
      "text/plain": [
       "{'classifier__C': 10}"
      ]
     },
     "execution_count": 72,
     "metadata": {},
     "output_type": "execute_result"
    }
   ],
   "source": [
    "grid_search.best_params_"
   ]
  },
  {
   "cell_type": "code",
   "execution_count": 75,
   "id": "2503711e",
   "metadata": {},
   "outputs": [
    {
     "name": "stdout",
     "output_type": "stream",
     "text": [
      "Cross-validation score: 0.6989495951189406\n",
      "Test score: 0.683240113825925\n"
     ]
    }
   ],
   "source": [
    "from sklearn.model_selection import GridSearchCV\n",
    "from sklearn.model_selection import KFold\n",
    "\n",
    "X_train, X_test, y_train, y_test = train_test_split(X,\n",
    "                                                    y,\n",
    "                                                    test_size=0.2,\n",
    "                                                    stratify=y,\n",
    "                                                    random_state=11)\n",
    "\n",
    "\n",
    "pipeline = imbpipeline(steps = [['smote', SMOTE(random_state=11)],\n",
    "                                ['scaler', MinMaxScaler()],\n",
    "                                ['classifier', LogisticRegression(random_state=11,\n",
    "                                                                  max_iter=1000)]])\n",
    "\n",
    "stratified_kfold = StratifiedKFold(n_splits=3,\n",
    "                                       shuffle=True,\n",
    "                                       random_state=11)\n",
    "\n",
    "param_grid = {'classifier__penalty' : ['l1', 'l2'],\n",
    "              \"classifier__C\":[0.001, 0.01, 0.1, 1, 10, 100, 1000],\n",
    "              'classifier__solver' : ['liblinear']}\n",
    "\n",
    "             \n",
    "grid_search = GridSearchCV(estimator=pipeline,\n",
    "                           param_grid=param_grid,\n",
    "                           scoring='roc_auc',\n",
    "                           cv=stratified_kfold,\n",
    "                           n_jobs=-1)\n",
    "\n",
    "grid_search.fit(X_train, y_train)\n",
    "cv_score = grid_search.best_score_\n",
    "test_score = grid_search.score(X_test, y_test)\n",
    "print(f'Cross-validation score: {cv_score}\\nTest score: {test_score}')"
   ]
  },
  {
   "cell_type": "code",
   "execution_count": null,
   "id": "233d695b",
   "metadata": {},
   "outputs": [],
   "source": []
  }
 ],
 "metadata": {
  "kernelspec": {
   "display_name": "Python 3",
   "language": "python",
   "name": "python3"
  },
  "language_info": {
   "codemirror_mode": {
    "name": "ipython",
    "version": 3
   },
   "file_extension": ".py",
   "mimetype": "text/x-python",
   "name": "python",
   "nbconvert_exporter": "python",
   "pygments_lexer": "ipython3",
   "version": "3.8.3"
  }
 },
 "nbformat": 4,
 "nbformat_minor": 5
}
