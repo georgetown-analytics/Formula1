{
 "cells": [
  {
   "cell_type": "markdown",
   "id": "d384730c",
   "metadata": {},
   "source": [
    "# Interactive Widget: Back End Code: Bagging Classifier"
   ]
  },
  {
   "cell_type": "markdown",
   "id": "39a8e906",
   "metadata": {},
   "source": [
    "This is our official final version of the widget's back end code.\n",
    "\n",
    "Throughout this workbook, we used steps from the following web pages to inform our widgets.\n",
    "- https://ipywidgets.readthedocs.io/en/latest/examples/Widget%20Basics.html\n",
    "- https://ipywidgets.readthedocs.io/en/latest/examples/Widget%20List.html\n",
    "- https://ipywidgets.readthedocs.io/en/latest/examples/Using%20Interact.html"
   ]
  },
  {
   "cell_type": "markdown",
   "id": "832de4d2",
   "metadata": {},
   "source": [
    "## Setting Up the Model for the Widget"
   ]
  },
  {
   "cell_type": "markdown",
   "id": "5d51f2ee",
   "metadata": {},
   "source": [
    "### Set up the training and testing sets."
   ]
  },
  {
   "cell_type": "code",
   "execution_count": 1,
   "id": "79471aae",
   "metadata": {},
   "outputs": [],
   "source": [
    "# Import necessary data libraries.\n",
    "from collections import Counter\n",
    "from imblearn.datasets import fetch_datasets\n",
    "from sklearn.model_selection import train_test_split\n",
    "from sklearn.pipeline import make_pipeline\n",
    "from imblearn.pipeline import make_pipeline as make_pipeline_imb\n",
    "from imblearn.over_sampling import SMOTE\n",
    "from imblearn.under_sampling import NearMiss\n",
    "from imblearn.metrics import classification_report_imbalanced\n",
    "from sklearn.metrics import precision_score, recall_score, f1_score, roc_auc_score, accuracy_score, classification_report\n",
    "import numpy as np \n",
    "import pandas as pd"
   ]
  },
  {
   "cell_type": "code",
   "execution_count": 2,
   "id": "9a1df123",
   "metadata": {},
   "outputs": [],
   "source": [
    "# Set up datasets.\n",
    "features_url = 'https://raw.githubusercontent.com/georgetown-analytics/Formula1/main/data/processed/final_features.csv'\n",
    "features = pd.read_csv(features_url, sep = ',', engine = 'python', encoding = 'latin-1')"
   ]
  },
  {
   "cell_type": "code",
   "execution_count": 3,
   "id": "79ac3ef0",
   "metadata": {},
   "outputs": [
    {
     "data": {
      "text/plain": [
       "Index(['raceId', 'driverId', 'CompletionStatus', 'alt', 'grid', 'trackType',\n",
       "       'average_lap_time', 'minimum_lap_time', 'year', 'PRCP', 'TAVG',\n",
       "       'isHistoric', 'oneHot_circuits_1', 'oneHot_circuits_2',\n",
       "       'oneHot_circuits_3', 'oneHot_circuits_4', 'oneHot_circuits_5',\n",
       "       'oneHot_circuits_6', 'alt_trans', 'PRCP_trans', 'normalized_minLapTime',\n",
       "       'normalized_avgLapTime'],\n",
       "      dtype='object')"
      ]
     },
     "execution_count": 3,
     "metadata": {},
     "output_type": "execute_result"
    }
   ],
   "source": [
    "# What columns are in this dataset?\n",
    "features.columns"
   ]
  },
  {
   "cell_type": "code",
   "execution_count": 4,
   "id": "66e0bf21",
   "metadata": {},
   "outputs": [
    {
     "data": {
      "text/plain": [
       "(9258, 22)"
      ]
     },
     "execution_count": 4,
     "metadata": {},
     "output_type": "execute_result"
    }
   ],
   "source": [
    "features.shape"
   ]
  },
  {
   "cell_type": "code",
   "execution_count": 5,
   "id": "32810dc0",
   "metadata": {},
   "outputs": [],
   "source": [
    "# Establish our X (independent) variables.\n",
    "X = features[['trackType', 'alt_trans', 'grid', 'normalized_minLapTime', 'normalized_avgLapTime', 'year', 'PRCP_trans', \n",
    "'TAVG', 'isHistoric', \"oneHot_circuits_1\", \"oneHot_circuits_2\", \"oneHot_circuits_3\",\n",
    "\"oneHot_circuits_4\",\"oneHot_circuits_5\",\"oneHot_circuits_6\"]]"
   ]
  },
  {
   "cell_type": "code",
   "execution_count": 6,
   "id": "4518d1bf",
   "metadata": {},
   "outputs": [],
   "source": [
    "# Establish our y (dependent, target) variable.\n",
    "y = features['CompletionStatus']"
   ]
  },
  {
   "cell_type": "code",
   "execution_count": 7,
   "id": "ab6d4479",
   "metadata": {},
   "outputs": [],
   "source": [
    "# Split our data into training and testing sets.\n",
    "X_train, X_test, y_train, y_test = train_test_split(X, y, test_size=0.2)"
   ]
  },
  {
   "cell_type": "code",
   "execution_count": 8,
   "id": "1cd45bf6",
   "metadata": {},
   "outputs": [],
   "source": [
    "# Import SMOTE so we can deal with our class imbalance.\n",
    "from imblearn.over_sampling import SMOTE, ADASYN"
   ]
  },
  {
   "cell_type": "code",
   "execution_count": 9,
   "id": "0cecf5ae",
   "metadata": {},
   "outputs": [],
   "source": [
    "# Use SMOTE on our X_ and y_train to create X_ and y_resampled.\n",
    "X_resampled, y_resampled = SMOTE().fit_resample(X_train, y_train)"
   ]
  },
  {
   "cell_type": "code",
   "execution_count": 10,
   "id": "e850283f",
   "metadata": {},
   "outputs": [
    {
     "name": "stdout",
     "output_type": "stream",
     "text": [
      "[(0, 5694), (1, 5694)]\n"
     ]
    }
   ],
   "source": [
    "# Check the balance of our resampled data.\n",
    "print(sorted(Counter(y_resampled).items()))"
   ]
  },
  {
   "cell_type": "markdown",
   "id": "82fa41c8",
   "metadata": {},
   "source": [
    "Above we can see that we've fixed the class imbalance of our training sets."
   ]
  },
  {
   "cell_type": "markdown",
   "id": "293a923c",
   "metadata": {},
   "source": [
    "### Create CSV Files\n",
    "\n",
    "In order to not have a randomized training set every time someone uses the widget, we'll create CSV files of our training data that we can call back to. Although the files say they were for the K-Neighbors widget, we did not change anything in the resampling or testing data, so we will still use these files."
   ]
  },
  {
   "cell_type": "code",
   "execution_count": 11,
   "id": "c349f3ff",
   "metadata": {},
   "outputs": [],
   "source": [
    "# Use pandas.DataFrame.to_csv to create the CSV file.\n",
    "X_resampled.to_csv(\"data/interim/X_resampled_forKNeighborWidget.csv\", index = False)"
   ]
  },
  {
   "cell_type": "code",
   "execution_count": 12,
   "id": "b2fde7e0",
   "metadata": {},
   "outputs": [],
   "source": [
    "# Use pandas.DataFrame.to_csv to create the CSV file.\n",
    "y_resampled.to_csv(\"data/interim/y_resampled_forKNeighborWidget.csv\", index = False)"
   ]
  },
  {
   "cell_type": "code",
   "execution_count": 13,
   "id": "c2bd9c00",
   "metadata": {},
   "outputs": [],
   "source": [
    "# Use pandas.DataFrame.to_csv to create the CSV file.\n",
    "X_test.to_csv(\"data/interim/X_test_forKNeighborWidget.csv\", index = False)"
   ]
  },
  {
   "cell_type": "code",
   "execution_count": 14,
   "id": "878f104c",
   "metadata": {},
   "outputs": [],
   "source": [
    "# Use pandas.DataFrame.to_csv to create the CSV file.\n",
    "y_test.to_csv(\"data/interim/y_test_forKNeighborWidget.csv\", index = False)"
   ]
  },
  {
   "cell_type": "markdown",
   "id": "19e8f7e4",
   "metadata": {},
   "source": [
    "Further down, upon running our model and after we brought in the above CSV files, we got an error stating `\"A column-vector y was passed when a 1d array was expected.\"` We know that the model worked before hand, so we need to revert our new y_resampled to the same type it used to be."
   ]
  },
  {
   "cell_type": "code",
   "execution_count": 15,
   "id": "fafb125f",
   "metadata": {},
   "outputs": [
    {
     "data": {
      "text/plain": [
       "pandas.core.series.Series"
      ]
     },
     "execution_count": 15,
     "metadata": {},
     "output_type": "execute_result"
    }
   ],
   "source": [
    "# What type was y_resampled?\n",
    "type(y_resampled)"
   ]
  },
  {
   "cell_type": "markdown",
   "id": "e858f8a5",
   "metadata": {},
   "source": [
    "The result above says that `y_resampled` used to be pandas.core.series.Series."
   ]
  },
  {
   "cell_type": "markdown",
   "id": "2ca44ec5",
   "metadata": {},
   "source": [
    "### Set Up the Initial Model\n",
    "\n",
    "Although our work involves several models, we're only using one for now: Bagging Classifier. This model will run with the regular `X_test` and `y_test` data."
   ]
  },
  {
   "cell_type": "code",
   "execution_count": 16,
   "id": "0285bb0b",
   "metadata": {},
   "outputs": [],
   "source": [
    "# Import the necessary data libraries that we'll need for our model.\n",
    "from sklearn.metrics import f1_score\n",
    "from sklearn.pipeline import Pipeline\n",
    "from sklearn.model_selection import train_test_split as tts\n",
    "from sklearn.preprocessing import OneHotEncoder, LabelEncoder\n",
    "from yellowbrick.classifier import ClassificationReport\n",
    "from sklearn.ensemble import BaggingClassifier"
   ]
  },
  {
   "cell_type": "markdown",
   "id": "99978da5",
   "metadata": {},
   "source": [
    "Although the URLs say they were for the K-Neighbors widget, we did not change anything in the resampling or testing data, so we will still use these files."
   ]
  },
  {
   "cell_type": "code",
   "execution_count": 17,
   "id": "c4e53b0d",
   "metadata": {},
   "outputs": [],
   "source": [
    "# Set up datasets. \n",
    "X_resampled_url = 'https://raw.githubusercontent.com/georgetown-analytics/Formula1/main/data/interim/X_resampled_forKNeighborWidget.csv'\n",
    "X_resampled = pd.read_csv(X_resampled_url, sep = ',', engine = 'python')\n",
    "y_resampled_url = 'https://raw.githubusercontent.com/georgetown-analytics/Formula1/main/data/interim/y_resampled_forKNeighborWidget.csv'\n",
    "y_resampled = pd.read_csv(y_resampled_url, sep = ',', engine = 'python')\n",
    "X_test_url = 'https://raw.githubusercontent.com/georgetown-analytics/Formula1/main/data/interim/X_test_forKNeighborWidget.csv'\n",
    "X_test = pd.read_csv(X_test_url, sep = ',', engine = 'python')\n",
    "y_test_url = 'https://raw.githubusercontent.com/georgetown-analytics/Formula1/main/data/interim/y_test_forKNeighborWidget.csv'\n",
    "y_test = pd.read_csv(y_test_url, sep = ',', engine = 'python')"
   ]
  },
  {
   "cell_type": "code",
   "execution_count": 18,
   "id": "948d9b68",
   "metadata": {},
   "outputs": [
    {
     "data": {
      "text/html": [
       "<div>\n",
       "<style scoped>\n",
       "    .dataframe tbody tr th:only-of-type {\n",
       "        vertical-align: middle;\n",
       "    }\n",
       "\n",
       "    .dataframe tbody tr th {\n",
       "        vertical-align: top;\n",
       "    }\n",
       "\n",
       "    .dataframe thead th {\n",
       "        text-align: right;\n",
       "    }\n",
       "</style>\n",
       "<table border=\"1\" class=\"dataframe\">\n",
       "  <thead>\n",
       "    <tr style=\"text-align: right;\">\n",
       "      <th></th>\n",
       "      <th>grid</th>\n",
       "      <th>trackType</th>\n",
       "      <th>year</th>\n",
       "      <th>TAVG</th>\n",
       "      <th>isHistoric</th>\n",
       "      <th>oneHot_circuits_1</th>\n",
       "      <th>oneHot_circuits_2</th>\n",
       "      <th>oneHot_circuits_3</th>\n",
       "      <th>oneHot_circuits_4</th>\n",
       "      <th>oneHot_circuits_5</th>\n",
       "      <th>oneHot_circuits_6</th>\n",
       "      <th>alt_trans</th>\n",
       "      <th>PRCP_trans</th>\n",
       "      <th>normalized_minLapTime</th>\n",
       "      <th>normalized_avgLapTime</th>\n",
       "    </tr>\n",
       "  </thead>\n",
       "  <tbody>\n",
       "    <tr>\n",
       "      <th>0</th>\n",
       "      <td>1</td>\n",
       "      <td>0</td>\n",
       "      <td>2018</td>\n",
       "      <td>84.0</td>\n",
       "      <td>0</td>\n",
       "      <td>1</td>\n",
       "      <td>0</td>\n",
       "      <td>0</td>\n",
       "      <td>0</td>\n",
       "      <td>0</td>\n",
       "      <td>0</td>\n",
       "      <td>5.605802</td>\n",
       "      <td>0.00000</td>\n",
       "      <td>0.987352</td>\n",
       "      <td>-0.020431</td>\n",
       "    </tr>\n",
       "    <tr>\n",
       "      <th>1</th>\n",
       "      <td>15</td>\n",
       "      <td>0</td>\n",
       "      <td>2001</td>\n",
       "      <td>73.0</td>\n",
       "      <td>0</td>\n",
       "      <td>0</td>\n",
       "      <td>0</td>\n",
       "      <td>0</td>\n",
       "      <td>1</td>\n",
       "      <td>0</td>\n",
       "      <td>0</td>\n",
       "      <td>5.463832</td>\n",
       "      <td>0.00000</td>\n",
       "      <td>1.006597</td>\n",
       "      <td>0.003767</td>\n",
       "    </tr>\n",
       "    <tr>\n",
       "      <th>2</th>\n",
       "      <td>14</td>\n",
       "      <td>0</td>\n",
       "      <td>2005</td>\n",
       "      <td>84.0</td>\n",
       "      <td>0</td>\n",
       "      <td>0</td>\n",
       "      <td>0</td>\n",
       "      <td>1</td>\n",
       "      <td>0</td>\n",
       "      <td>0</td>\n",
       "      <td>0</td>\n",
       "      <td>2.708050</td>\n",
       "      <td>0.00000</td>\n",
       "      <td>0.996195</td>\n",
       "      <td>-0.011305</td>\n",
       "    </tr>\n",
       "    <tr>\n",
       "      <th>3</th>\n",
       "      <td>16</td>\n",
       "      <td>1</td>\n",
       "      <td>2016</td>\n",
       "      <td>83.0</td>\n",
       "      <td>0</td>\n",
       "      <td>0</td>\n",
       "      <td>0</td>\n",
       "      <td>0</td>\n",
       "      <td>1</td>\n",
       "      <td>0</td>\n",
       "      <td>0</td>\n",
       "      <td>3.258097</td>\n",
       "      <td>0.24686</td>\n",
       "      <td>1.011321</td>\n",
       "      <td>0.002241</td>\n",
       "    </tr>\n",
       "    <tr>\n",
       "      <th>4</th>\n",
       "      <td>11</td>\n",
       "      <td>1</td>\n",
       "      <td>2015</td>\n",
       "      <td>62.0</td>\n",
       "      <td>1</td>\n",
       "      <td>1</td>\n",
       "      <td>0</td>\n",
       "      <td>0</td>\n",
       "      <td>0</td>\n",
       "      <td>0</td>\n",
       "      <td>0</td>\n",
       "      <td>2.708050</td>\n",
       "      <td>0.00000</td>\n",
       "      <td>1.001290</td>\n",
       "      <td>-0.000971</td>\n",
       "    </tr>\n",
       "  </tbody>\n",
       "</table>\n",
       "</div>"
      ],
      "text/plain": [
       "   grid  trackType  year  TAVG  isHistoric  oneHot_circuits_1  \\\n",
       "0     1          0  2018  84.0           0                  1   \n",
       "1    15          0  2001  73.0           0                  0   \n",
       "2    14          0  2005  84.0           0                  0   \n",
       "3    16          1  2016  83.0           0                  0   \n",
       "4    11          1  2015  62.0           1                  1   \n",
       "\n",
       "   oneHot_circuits_2  oneHot_circuits_3  oneHot_circuits_4  oneHot_circuits_5  \\\n",
       "0                  0                  0                  0                  0   \n",
       "1                  0                  0                  1                  0   \n",
       "2                  0                  1                  0                  0   \n",
       "3                  0                  0                  1                  0   \n",
       "4                  0                  0                  0                  0   \n",
       "\n",
       "   oneHot_circuits_6  alt_trans  PRCP_trans  normalized_minLapTime  \\\n",
       "0                  0   5.605802     0.00000               0.987352   \n",
       "1                  0   5.463832     0.00000               1.006597   \n",
       "2                  0   2.708050     0.00000               0.996195   \n",
       "3                  0   3.258097     0.24686               1.011321   \n",
       "4                  0   2.708050     0.00000               1.001290   \n",
       "\n",
       "   normalized_avgLapTime  \n",
       "0              -0.020431  \n",
       "1               0.003767  \n",
       "2              -0.011305  \n",
       "3               0.002241  \n",
       "4              -0.000971  "
      ]
     },
     "execution_count": 18,
     "metadata": {},
     "output_type": "execute_result"
    }
   ],
   "source": [
    "# View X_resampled.\n",
    "X_resampled.head()"
   ]
  },
  {
   "cell_type": "markdown",
   "id": "01fc9657",
   "metadata": {},
   "source": [
    "We know from testing the type of `y_resampled` before we brought in the CSV files that `y_resampled` and `y_test` need to be a series in order for our model to run correctly. We also know from this site (https://datatofish.com/pandas-dataframe-to-series/) how to change a dataframe into a series."
   ]
  },
  {
   "cell_type": "code",
   "execution_count": 19,
   "id": "8464a347",
   "metadata": {},
   "outputs": [],
   "source": [
    "# Change the y_resampled dataframe into a y_resampled series.\n",
    "y_resampled = y_resampled.squeeze()"
   ]
  },
  {
   "cell_type": "code",
   "execution_count": 20,
   "id": "824d5bb7",
   "metadata": {},
   "outputs": [
    {
     "data": {
      "text/plain": [
       "0    1\n",
       "1    1\n",
       "2    1\n",
       "3    1\n",
       "4    1\n",
       "Name: CompletionStatus, dtype: int64"
      ]
     },
     "execution_count": 20,
     "metadata": {},
     "output_type": "execute_result"
    }
   ],
   "source": [
    "# View y_resampled.\n",
    "y_resampled.head()"
   ]
  },
  {
   "cell_type": "code",
   "execution_count": 21,
   "id": "0a44042a",
   "metadata": {},
   "outputs": [],
   "source": [
    "# Change the y_test dataframe into a y_test series.\n",
    "y_test = y_test.squeeze()"
   ]
  },
  {
   "cell_type": "code",
   "execution_count": 22,
   "id": "14a3fa3f",
   "metadata": {},
   "outputs": [],
   "source": [
    "# Create the function score_model.\n",
    "def score_model(X_resampled, y_resampled, X_test, y_test, estimator, **kwargs):\n",
    "    \"\"\"\n",
    "    Test various estimators.\n",
    "    \"\"\"\n",
    "    # Instantiate the classification model and visualizer.\n",
    "    estimator.fit(X_resampled, y_resampled, **kwargs)  \n",
    "    \n",
    "    expected  = y_test\n",
    "    predicted = estimator.predict(X_test)\n",
    "    \n",
    "    # Compute and return F1 (harmonic mean of precision and recall).\n",
    "    print(\"{}: {}\".format(estimator.__class__.__name__, f1_score(expected, predicted)))"
   ]
  },
  {
   "cell_type": "code",
   "execution_count": 23,
   "id": "851232f7",
   "metadata": {},
   "outputs": [
    {
     "name": "stdout",
     "output_type": "stream",
     "text": [
      "BaggingClassifier: 0.854182087342709\n"
     ]
    }
   ],
   "source": [
    "# Run the Bagging Classifier model.\n",
    "score_model(X_resampled, y_resampled, X_test, y_test, BaggingClassifier())"
   ]
  },
  {
   "cell_type": "markdown",
   "id": "37851b38",
   "metadata": {},
   "source": [
    "## Widget Experimentation"
   ]
  },
  {
   "cell_type": "markdown",
   "id": "c8c3331f",
   "metadata": {},
   "source": [
    "### Set Up"
   ]
  },
  {
   "cell_type": "code",
   "execution_count": 24,
   "id": "ebfd2cc0",
   "metadata": {},
   "outputs": [],
   "source": [
    "# Import necessary data libraries.\n",
    "import pandas as pd\n",
    "import os \n",
    "import csv\n",
    "import io\n",
    "import requests\n",
    "import numpy as np\n",
    "import matplotlib.pyplot as plt\n",
    "import category_encoders as ce\n",
    "import scipy.stats as stats\n",
    "\n",
    "# The following are for Classification Accuracy.\n",
    "from sklearn import metrics\n",
    "\n",
    "# The following are for Jupyter Widgets.\n",
    "import ipywidgets as widgets\n",
    "from IPython.display import display\n",
    "from __future__ import print_function\n",
    "from ipywidgets import interact, interactive, fixed, interact_manual\n",
    "import ipywidgets as widgets\n",
    "from ipywidgets import FloatSlider"
   ]
  },
  {
   "cell_type": "markdown",
   "id": "18d716ea",
   "metadata": {},
   "source": [
    "### Working with the Data in the Input Columns"
   ]
  },
  {
   "cell_type": "code",
   "execution_count": 25,
   "id": "24e26083",
   "metadata": {},
   "outputs": [
    {
     "data": {
      "text/plain": [
       "Index(['grid', 'trackType', 'year', 'TAVG', 'isHistoric', 'oneHot_circuits_1',\n",
       "       'oneHot_circuits_2', 'oneHot_circuits_3', 'oneHot_circuits_4',\n",
       "       'oneHot_circuits_5', 'oneHot_circuits_6', 'alt_trans', 'PRCP_trans',\n",
       "       'normalized_minLapTime', 'normalized_avgLapTime'],\n",
       "      dtype='object')"
      ]
     },
     "execution_count": 25,
     "metadata": {},
     "output_type": "execute_result"
    }
   ],
   "source": [
    "# What features are in X_resampled and will therefore be required for our widget?\n",
    "X_resampled.columns"
   ]
  },
  {
   "cell_type": "markdown",
   "id": "8b036728",
   "metadata": {},
   "source": [
    "As shown above, with slight changes to account for the one-hot encoding, we'll have to ask interactors to choose grid, trackType, year, average temperature, whether the track is historic or not, a binned circuit, altitude, precipitation, minimum lap time, and average lap time."
   ]
  },
  {
   "cell_type": "code",
   "execution_count": 26,
   "id": "ef7cebe0",
   "metadata": {},
   "outputs": [
    {
     "data": {
      "text/html": [
       "<div>\n",
       "<style scoped>\n",
       "    .dataframe tbody tr th:only-of-type {\n",
       "        vertical-align: middle;\n",
       "    }\n",
       "\n",
       "    .dataframe tbody tr th {\n",
       "        vertical-align: top;\n",
       "    }\n",
       "\n",
       "    .dataframe thead th {\n",
       "        text-align: right;\n",
       "    }\n",
       "</style>\n",
       "<table border=\"1\" class=\"dataframe\">\n",
       "  <thead>\n",
       "    <tr style=\"text-align: right;\">\n",
       "      <th></th>\n",
       "      <th>grid</th>\n",
       "      <th>trackType</th>\n",
       "      <th>year</th>\n",
       "      <th>TAVG</th>\n",
       "      <th>isHistoric</th>\n",
       "      <th>oneHot_circuits_1</th>\n",
       "      <th>oneHot_circuits_2</th>\n",
       "      <th>oneHot_circuits_3</th>\n",
       "      <th>oneHot_circuits_4</th>\n",
       "      <th>oneHot_circuits_5</th>\n",
       "      <th>oneHot_circuits_6</th>\n",
       "      <th>alt_trans</th>\n",
       "      <th>PRCP_trans</th>\n",
       "      <th>normalized_minLapTime</th>\n",
       "      <th>normalized_avgLapTime</th>\n",
       "    </tr>\n",
       "  </thead>\n",
       "  <tbody>\n",
       "    <tr>\n",
       "      <th>count</th>\n",
       "      <td>11386.000000</td>\n",
       "      <td>11386.000000</td>\n",
       "      <td>11386.000000</td>\n",
       "      <td>11386.000000</td>\n",
       "      <td>11386.000000</td>\n",
       "      <td>11386.000000</td>\n",
       "      <td>11386.000000</td>\n",
       "      <td>11386.000000</td>\n",
       "      <td>11386.000000</td>\n",
       "      <td>11386.000000</td>\n",
       "      <td>11386.000000</td>\n",
       "      <td>11386.000000</td>\n",
       "      <td>11386.000000</td>\n",
       "      <td>11386.000000</td>\n",
       "      <td>11386.000000</td>\n",
       "    </tr>\n",
       "    <tr>\n",
       "      <th>mean</th>\n",
       "      <td>11.407167</td>\n",
       "      <td>0.227297</td>\n",
       "      <td>2007.588793</td>\n",
       "      <td>67.905169</td>\n",
       "      <td>0.270244</td>\n",
       "      <td>0.246267</td>\n",
       "      <td>0.212103</td>\n",
       "      <td>0.154400</td>\n",
       "      <td>0.107149</td>\n",
       "      <td>0.083524</td>\n",
       "      <td>0.033989</td>\n",
       "      <td>4.370972</td>\n",
       "      <td>0.077372</td>\n",
       "      <td>0.998519</td>\n",
       "      <td>-0.004070</td>\n",
       "    </tr>\n",
       "    <tr>\n",
       "      <th>std</th>\n",
       "      <td>6.212801</td>\n",
       "      <td>0.419104</td>\n",
       "      <td>7.380854</td>\n",
       "      <td>8.954640</td>\n",
       "      <td>0.444105</td>\n",
       "      <td>0.430855</td>\n",
       "      <td>0.408815</td>\n",
       "      <td>0.361348</td>\n",
       "      <td>0.309316</td>\n",
       "      <td>0.276684</td>\n",
       "      <td>0.181209</td>\n",
       "      <td>1.449241</td>\n",
       "      <td>0.187889</td>\n",
       "      <td>0.016467</td>\n",
       "      <td>0.021178</td>\n",
       "    </tr>\n",
       "    <tr>\n",
       "      <th>min</th>\n",
       "      <td>0.000000</td>\n",
       "      <td>0.000000</td>\n",
       "      <td>1996.000000</td>\n",
       "      <td>44.000000</td>\n",
       "      <td>0.000000</td>\n",
       "      <td>0.000000</td>\n",
       "      <td>0.000000</td>\n",
       "      <td>0.000000</td>\n",
       "      <td>0.000000</td>\n",
       "      <td>0.000000</td>\n",
       "      <td>0.000000</td>\n",
       "      <td>0.000000</td>\n",
       "      <td>0.000000</td>\n",
       "      <td>0.941946</td>\n",
       "      <td>-0.079882</td>\n",
       "    </tr>\n",
       "    <tr>\n",
       "      <th>25%</th>\n",
       "      <td>6.000000</td>\n",
       "      <td>0.000000</td>\n",
       "      <td>2001.000000</td>\n",
       "      <td>61.000000</td>\n",
       "      <td>0.000000</td>\n",
       "      <td>0.000000</td>\n",
       "      <td>0.000000</td>\n",
       "      <td>0.000000</td>\n",
       "      <td>0.000000</td>\n",
       "      <td>0.000000</td>\n",
       "      <td>0.000000</td>\n",
       "      <td>2.993564</td>\n",
       "      <td>0.000000</td>\n",
       "      <td>0.989047</td>\n",
       "      <td>-0.015462</td>\n",
       "    </tr>\n",
       "    <tr>\n",
       "      <th>50%</th>\n",
       "      <td>12.000000</td>\n",
       "      <td>0.000000</td>\n",
       "      <td>2007.000000</td>\n",
       "      <td>67.000000</td>\n",
       "      <td>0.000000</td>\n",
       "      <td>0.000000</td>\n",
       "      <td>0.000000</td>\n",
       "      <td>0.000000</td>\n",
       "      <td>0.000000</td>\n",
       "      <td>0.000000</td>\n",
       "      <td>0.000000</td>\n",
       "      <td>4.709530</td>\n",
       "      <td>0.000000</td>\n",
       "      <td>0.997514</td>\n",
       "      <td>-0.005171</td>\n",
       "    </tr>\n",
       "    <tr>\n",
       "      <th>75%</th>\n",
       "      <td>17.000000</td>\n",
       "      <td>0.000000</td>\n",
       "      <td>2014.000000</td>\n",
       "      <td>74.489699</td>\n",
       "      <td>1.000000</td>\n",
       "      <td>0.000000</td>\n",
       "      <td>0.000000</td>\n",
       "      <td>0.000000</td>\n",
       "      <td>0.000000</td>\n",
       "      <td>0.000000</td>\n",
       "      <td>0.000000</td>\n",
       "      <td>5.463832</td>\n",
       "      <td>0.057923</td>\n",
       "      <td>1.008695</td>\n",
       "      <td>0.007451</td>\n",
       "    </tr>\n",
       "    <tr>\n",
       "      <th>max</th>\n",
       "      <td>24.000000</td>\n",
       "      <td>1.000000</td>\n",
       "      <td>2021.000000</td>\n",
       "      <td>94.200000</td>\n",
       "      <td>1.000000</td>\n",
       "      <td>1.000000</td>\n",
       "      <td>1.000000</td>\n",
       "      <td>1.000000</td>\n",
       "      <td>1.000000</td>\n",
       "      <td>1.000000</td>\n",
       "      <td>1.000000</td>\n",
       "      <td>7.711997</td>\n",
       "      <td>1.987874</td>\n",
       "      <td>1.049380</td>\n",
       "      <td>0.067129</td>\n",
       "    </tr>\n",
       "  </tbody>\n",
       "</table>\n",
       "</div>"
      ],
      "text/plain": [
       "               grid     trackType          year          TAVG    isHistoric  \\\n",
       "count  11386.000000  11386.000000  11386.000000  11386.000000  11386.000000   \n",
       "mean      11.407167      0.227297   2007.588793     67.905169      0.270244   \n",
       "std        6.212801      0.419104      7.380854      8.954640      0.444105   \n",
       "min        0.000000      0.000000   1996.000000     44.000000      0.000000   \n",
       "25%        6.000000      0.000000   2001.000000     61.000000      0.000000   \n",
       "50%       12.000000      0.000000   2007.000000     67.000000      0.000000   \n",
       "75%       17.000000      0.000000   2014.000000     74.489699      1.000000   \n",
       "max       24.000000      1.000000   2021.000000     94.200000      1.000000   \n",
       "\n",
       "       oneHot_circuits_1  oneHot_circuits_2  oneHot_circuits_3  \\\n",
       "count       11386.000000       11386.000000       11386.000000   \n",
       "mean            0.246267           0.212103           0.154400   \n",
       "std             0.430855           0.408815           0.361348   \n",
       "min             0.000000           0.000000           0.000000   \n",
       "25%             0.000000           0.000000           0.000000   \n",
       "50%             0.000000           0.000000           0.000000   \n",
       "75%             0.000000           0.000000           0.000000   \n",
       "max             1.000000           1.000000           1.000000   \n",
       "\n",
       "       oneHot_circuits_4  oneHot_circuits_5  oneHot_circuits_6     alt_trans  \\\n",
       "count       11386.000000       11386.000000       11386.000000  11386.000000   \n",
       "mean            0.107149           0.083524           0.033989      4.370972   \n",
       "std             0.309316           0.276684           0.181209      1.449241   \n",
       "min             0.000000           0.000000           0.000000      0.000000   \n",
       "25%             0.000000           0.000000           0.000000      2.993564   \n",
       "50%             0.000000           0.000000           0.000000      4.709530   \n",
       "75%             0.000000           0.000000           0.000000      5.463832   \n",
       "max             1.000000           1.000000           1.000000      7.711997   \n",
       "\n",
       "         PRCP_trans  normalized_minLapTime  normalized_avgLapTime  \n",
       "count  11386.000000           11386.000000           11386.000000  \n",
       "mean       0.077372               0.998519              -0.004070  \n",
       "std        0.187889               0.016467               0.021178  \n",
       "min        0.000000               0.941946              -0.079882  \n",
       "25%        0.000000               0.989047              -0.015462  \n",
       "50%        0.000000               0.997514              -0.005171  \n",
       "75%        0.057923               1.008695               0.007451  \n",
       "max        1.987874               1.049380               0.067129  "
      ]
     },
     "execution_count": 26,
     "metadata": {},
     "output_type": "execute_result"
    }
   ],
   "source": [
    "# What minimum and maximum numbers will we have to allow for in our input columns?\n",
    "X_resampled.describe()"
   ]
  },
  {
   "cell_type": "markdown",
   "id": "2202fc4a",
   "metadata": {},
   "source": [
    "- grid has a min of 0 and a max of 24.\n",
    "- year has a min of 1996 and a max of 2021.\n",
    "- TAVG has a min of 49.0 and a max of 94.2.\n",
    "- alt, non-transformed, has a min of -7.0 and a max of 2227.0. We know this from Feature_Transformation.csv.\n",
    "- average_lap_time has a min of -0.079882 and a max of 0.067129. We know from Feature_Transformation.csv, however, that the min of the value we're actually asking for (aka the non-transformed and non-imputed but normalized average lap time), is 0.523032. The max of that same value is 4.702234.\n",
    "- minimum_lap_time has a min of 0.942567 and a max of 1.049380. We know from Feature_Transformation.csv, however, that the min of the value we're actually asking for (aka the non-imputed but normalized minimum lap time), is 0.768296. The max of that same value is 4.837281.\n",
    "- PRCP, non-transformed, has a min of 0.0 and a max of 6.3. We know this from Feature_Transformation.csv."
   ]
  },
  {
   "cell_type": "markdown",
   "id": "1d259ccb",
   "metadata": {},
   "source": [
    "### Building the Widget"
   ]
  },
  {
   "cell_type": "code",
   "execution_count": 27,
   "id": "8ca51ccb",
   "metadata": {},
   "outputs": [],
   "source": [
    "# Create the function score_model.\n",
    "def widgetpred(X_resampled, y_resampled, X_test, y_test, input_test, estimator, **kwargs):\n",
    "    \"\"\"\n",
    "    Test various estimators.\n",
    "    \"\"\"\n",
    "    # Instantiate the classification model and visualizer.\n",
    "    estimator.fit(X_resampled, y_resampled, **kwargs)  \n",
    "    \n",
    "    expected  = y_test\n",
    "    predicted = estimator.predict(X_test)\n",
    "    \n",
    "    inputpred = estimator.predict(input_test)\n",
    "    \n",
    "    # Compute and return the prediction.\n",
    "    return [predicted, inputpred]"
   ]
  },
  {
   "cell_type": "code",
   "execution_count": 28,
   "id": "afbb6fe0",
   "metadata": {},
   "outputs": [],
   "source": [
    "# Create the function conmatrix.\n",
    "def conmatrix(y_test, predicted, inputpred):\n",
    "    \"\"\"\n",
    "    Compute the confusion matrix and return the results.\n",
    "    \"\"\"\n",
    "    confusion = metrics.confusion_matrix(y_test, predicted)\n",
    "    TP = confusion[1, 1]\n",
    "    TN = confusion[0, 0]\n",
    "    FP = confusion[0, 1]\n",
    "    FN = confusion[1, 0]\n",
    "    \n",
    "    # When the prediction is positive, how often is it correct? Define truepositive_rate.\n",
    "    truepositive_rate = round((TP / (TP + FP)) * 100, 2)\n",
    "    \n",
    "    # When the prediction is negative, how often is it correct? Define truenegative_rate.\n",
    "    truenegative_rate = round((TN / (TN + FN)) * 100, 2)\n",
    "    \n",
    "    # Use an if-else statement to print a statement about the true positive or negative rate, depending on the prediction.\n",
    "    if inputpred == 1:\n",
    "        print(\"When our model predicts that a car will finish the race, it is correct\", truepositive_rate, \"% of the time.\")\n",
    "    else:\n",
    "        print(\"When our model predicts that a car will not finish the race, it is correct\", truenegative_rate, \"% of the time.\")"
   ]
  },
  {
   "cell_type": "code",
   "execution_count": 29,
   "id": "d7d64e60",
   "metadata": {},
   "outputs": [],
   "source": [
    "\"\"\"\n",
    "Establish function \"predict\" which allows selection of two track types, whether\n",
    "the track is historic or not, and how popular the circuit is,\n",
    "as well as the input of one of each of the following values:\n",
    "year, grid, alt, average_lap_time, minimum_lap_time, PRCP, TAVG.\n",
    "\n",
    "Place these values in the dataframe input_df and display the dataframe.\n",
    "\n",
    "Create prediction based on widgetpred function and display the prediction:\n",
    "0 for did not finish, 1 for did finish.\n",
    "\"\"\"\n",
    "def predictfinish(trackType, historic, circuit, year, grid, alt, average_lap_time, normalized_minLapTime, PRCP, TAVG):    \n",
    "    # Use an if-else statement to determine the output based on the input track.\n",
    "    if trackType == \"Race\":\n",
    "        trackType = 0\n",
    "    else:\n",
    "        trackType = 1\n",
    "        \n",
    "    # Use an if-else statement to determine the output based on the input historic.\n",
    "    if historic == \"Not Historic\":\n",
    "        isHistoric = 0\n",
    "    else:\n",
    "        isHistoric = 1\n",
    "    \n",
    "    # Use an if-else statement to determine the output based on the input circuit.\n",
    "    if circuit == \"Used 500+ times\":\n",
    "        oneHot_circuits_1 = 1\n",
    "        oneHot_circuits_2 = 0\n",
    "        oneHot_circuits_3 = 0\n",
    "        oneHot_circuits_4 = 0\n",
    "        oneHot_circuits_5 = 0\n",
    "        oneHot_circuits_6 = 0\n",
    "    elif circuit == \"Used 400-499 times\":\n",
    "        oneHot_circuits_1 = 0\n",
    "        oneHot_circuits_2 = 1\n",
    "        oneHot_circuits_3 = 0\n",
    "        oneHot_circuits_4 = 0\n",
    "        oneHot_circuits_5 = 0\n",
    "        oneHot_circuits_6 = 0\n",
    "    elif circuit == \"Used 300-399 times\":\n",
    "        oneHot_circuits_1 = 0\n",
    "        oneHot_circuits_2 = 0\n",
    "        oneHot_circuits_3 = 1\n",
    "        oneHot_circuits_4 = 0\n",
    "        oneHot_circuits_5 = 0\n",
    "        oneHot_circuits_6 = 0\n",
    "    elif circuit == \"Used 200-299 times\":\n",
    "        oneHot_circuits_1 = 0\n",
    "        oneHot_circuits_2 = 0\n",
    "        oneHot_circuits_3 = 0\n",
    "        oneHot_circuits_4 = 1\n",
    "        oneHot_circuits_5 = 0\n",
    "        oneHot_circuits_6 = 0\n",
    "    elif circuit == \"Used 100-199 times\":\n",
    "        oneHot_circuits_1 = 0\n",
    "        oneHot_circuits_2 = 0\n",
    "        oneHot_circuits_3 = 0\n",
    "        oneHot_circuits_4 = 0\n",
    "        oneHot_circuits_5 = 1\n",
    "        oneHot_circuits_6 = 0\n",
    "    elif circuit == \"Used less than 100 times\":\n",
    "        oneHot_circuits_1 = 0\n",
    "        oneHot_circuits_2 = 0\n",
    "        oneHot_circuits_3 = 0\n",
    "        oneHot_circuits_4 = 0\n",
    "        oneHot_circuits_5 = 0\n",
    "        oneHot_circuits_6 = 1\n",
    "    \n",
    "    # Transform average_lap_time.\n",
    "    normalized_avgLapTime = np.log(average_lap_time)\n",
    "    \n",
    "    # Use an if-else statement to move any potential outliers from average_lap_time.\n",
    "    avgQ1 = -0.019303\n",
    "    avgQ3 = 0.006690\n",
    "    avgIQR = avgQ3 - avgQ1\n",
    "    avglowertail = avgQ1 - 2.5 * avgIQR\n",
    "    avguppertail = avgQ3 + 2.5 * avgIQR\n",
    "    avgmedian = -0.005962837883204569\n",
    "    if normalized_avgLapTime > avguppertail or normalized_avgLapTime < avglowertail:\n",
    "        normalized_avgLapTime = avgmedian\n",
    "        \n",
    "    # Use an if-else statement to move any potential outliers from normalized_minLapTime.\n",
    "    minQ1 = 0.984717\n",
    "    minQ3 = 1.006281\n",
    "    minIQR = minQ3 - minQ1\n",
    "    minlowertail = minQ1 - 2.0 * minIQR\n",
    "    minuppertail = minQ3 + 2.0 * minIQR\n",
    "    minmedian = 0.995628475361378\n",
    "    if normalized_minLapTime > minuppertail or normalized_minLapTime < minlowertail:\n",
    "        normalized_minLapTime = minmedian\n",
    "    \n",
    "    # Transform altitude.\n",
    "    alt_trans = np.log(alt + 1 - (-7))\n",
    "    \n",
    "    # Transform precipitation.\n",
    "    PRCP_trans = np.log(PRCP + 1)\n",
    "    \n",
    "    # Establish the data of our input_df dataframe.\n",
    "    inputdata = [[grid, trackType, year, TAVG, isHistoric, oneHot_circuits_1, oneHot_circuits_2,\n",
    "                 oneHot_circuits_3, oneHot_circuits_4, oneHot_circuits_5, oneHot_circuits_6, alt_trans,\n",
    "                 PRCP_trans, normalized_minLapTime, normalized_avgLapTime]]\n",
    "    \n",
    "    # Establish the dataframe input_df itself with pd.DataFrame.\n",
    "    input_df = pd.DataFrame(inputdata, columns =\n",
    "                ['grid', 'trackType', 'year', 'TAVG',\n",
    "             'isHistoric', 'oneHot_circuits_1', 'oneHot_circuits_2',\n",
    "             'oneHot_circuits_3', 'oneHot_circuits_4', 'oneHot_circuits_5',\n",
    "             'oneHot_circuits_6', 'alt_trans', 'PRCP_trans', 'normalized_minLapTime',\n",
    "             'normalized_avgLapTime'])\n",
    "    \n",
    "    display(input_df)\n",
    "    \n",
    "    # Using the widgetpred function, predict whether the car will finish the race or not given input_df.\n",
    "    pred = widgetpred(X_resampled, y_resampled, X_test, y_test, input_df, BaggingClassifier())\n",
    "    \n",
    "    # Using an if-else statement, determine what interactors will see given the data they input.\n",
    "    if pred[1] == 1:\n",
    "        writtenpred = \"finish the race.\"\n",
    "    else:\n",
    "        writtenpred = \"not finish the race.\"\n",
    "    \n",
    "    # Print the model's prediction.\n",
    "    print(\"According to our Bagging Classifier model, your car is predicted to\", writtenpred)\n",
    "    \n",
    "    \"\"\"\n",
    "    Using the conmatrix function, print out a statement about\n",
    "    the true positive or negative rate, depending on the prediction.\n",
    "    \"\"\"\n",
    "    conmatrix(y_test, pred[0], pred[1])"
   ]
  },
  {
   "cell_type": "code",
   "execution_count": 30,
   "id": "c341c0ad",
   "metadata": {},
   "outputs": [
    {
     "data": {
      "application/vnd.jupyter.widget-view+json": {
       "model_id": "a81969b8763843059131221b458c3c6c",
       "version_major": 2,
       "version_minor": 0
      },
      "text/plain": [
       "interactive(children=(Dropdown(description='Track Type', options=('Race', 'Street'), value='Race'), Dropdown(d…"
      ]
     },
     "metadata": {},
     "output_type": "display_data"
    }
   ],
   "source": [
    "# Create a widget that will interact with the predictfinish function.\n",
    "interact(predictfinish, trackType = widgets.Dropdown(options = [\"Race\", \"Street\"], value = \"Race\", description = 'Track Type'),\n",
    "         historic = widgets.Dropdown(options = [\"Not Historic\", \"Historic\"], value = \"Not Historic\", description = 'Historic?'),\n",
    "         circuit = widgets.Dropdown(options = [\"Used 500+ times\", \"Used 400-499 times\", \"Used 300-399 times\", \"Used 200-299 times\", \"Used 100-199 times\", \"Used less than 100 times\"], value = \"Used less than 100 times\", description = 'Circuit'),\n",
    "         year = widgets.IntSlider(min = 1996, max = 2021, description = 'Year', disabled = False, continuous_update = False),\n",
    "         grid = widgets.IntSlider(min = 0, max = 30, description = 'Grid', disabled = False, continuous_update = False),\n",
    "         alt = widgets.BoundedFloatText(min = -100, max = 2500, description = 'Altitude', disabled = False, continuous_update = False),\n",
    "         average_lap_time = widgets.FloatSlider(min = 0.1, max = 6.0, value = 0.1, description = 'Avg Lap Time', disabled = False, continuous_update = False),\n",
    "         normalized_minLapTime = widgets.FloatSlider(min = 0.1, max = 6.0, value = 0.1, description = 'Min Lap Time', disabled = False, continuous_update = False),\n",
    "         PRCP = widgets.FloatSlider(min = 0, max = 10, description = 'Precipitation', disabled = False, continuous_update = False),\n",
    "         TAVG = widgets.FloatSlider(min = 0, max = 110, description = 'Avg Temp (F)', disabled = False, continuous_update = False));"
   ]
  },
  {
   "cell_type": "code",
   "execution_count": null,
   "id": "b640c46b",
   "metadata": {},
   "outputs": [],
   "source": []
  }
 ],
 "metadata": {
  "kernelspec": {
   "display_name": "Python 3",
   "language": "python",
   "name": "python3"
  },
  "language_info": {
   "codemirror_mode": {
    "name": "ipython",
    "version": 3
   },
   "file_extension": ".py",
   "mimetype": "text/x-python",
   "name": "python",
   "nbconvert_exporter": "python",
   "pygments_lexer": "ipython3",
   "version": "3.8.3"
  }
 },
 "nbformat": 4,
 "nbformat_minor": 5
}
