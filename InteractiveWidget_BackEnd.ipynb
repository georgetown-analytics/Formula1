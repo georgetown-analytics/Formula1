{
 "cells": [
  {
   "cell_type": "markdown",
   "id": "22a8984d",
   "metadata": {},
   "source": [
    "# Interactive Widget: Back End Code"
   ]
  },
  {
   "cell_type": "markdown",
   "id": "65d8631d",
   "metadata": {},
   "source": [
    "Throughout this workbook, we used steps from the following web pages to inform our widgets.\n",
    "- https://ipywidgets.readthedocs.io/en/latest/examples/Widget%20Basics.html\n",
    "- https://ipywidgets.readthedocs.io/en/latest/examples/Widget%20List.html\n",
    "- https://ipywidgets.readthedocs.io/en/latest/examples/Using%20Interact.html"
   ]
  },
  {
   "cell_type": "markdown",
   "id": "832de4d2",
   "metadata": {},
   "source": [
    "## Setting Up the Model for the Widget"
   ]
  },
  {
   "cell_type": "markdown",
   "id": "831ed024",
   "metadata": {},
   "source": [
    "### Set up the training and testing sets."
   ]
  },
  {
   "cell_type": "code",
   "execution_count": 1,
   "id": "79471aae",
   "metadata": {},
   "outputs": [],
   "source": [
    "# Import necessary data libraries.\n",
    "from collections import Counter\n",
    "from imblearn.datasets import fetch_datasets\n",
    "from sklearn.model_selection import train_test_split\n",
    "from sklearn.pipeline import make_pipeline\n",
    "from imblearn.pipeline import make_pipeline as make_pipeline_imb\n",
    "from imblearn.over_sampling import SMOTE\n",
    "from imblearn.under_sampling import NearMiss\n",
    "from imblearn.metrics import classification_report_imbalanced\n",
    "from sklearn.metrics import precision_score, recall_score, f1_score, roc_auc_score, accuracy_score, classification_report\n",
    "import numpy as np \n",
    "import pandas as pd"
   ]
  },
  {
   "cell_type": "code",
   "execution_count": 2,
   "id": "9a1df123",
   "metadata": {},
   "outputs": [],
   "source": [
    "# Set up datasets.\n",
    "master_data_url = 'https://raw.githubusercontent.com/georgetown-analytics/Formula1/main/data/processed/MasterData5.csv'\n",
    "master_data = pd.read_csv(master_data_url, sep = ',', engine = 'python')\n",
    "one_hot_url = 'https://raw.githubusercontent.com/georgetown-analytics/Formula1/main/data/processed/OneHot_MasterData5.csv'\n",
    "one_hot = pd.read_csv(one_hot_url, sep = ',', engine = 'python')"
   ]
  },
  {
   "cell_type": "code",
   "execution_count": 3,
   "id": "055c5456",
   "metadata": {},
   "outputs": [],
   "source": [
    "# Drop any nulls.\n",
    "data_df = one_hot.dropna(axis=0)"
   ]
  },
  {
   "cell_type": "code",
   "execution_count": 4,
   "id": "32810dc0",
   "metadata": {},
   "outputs": [],
   "source": [
    "# Establish our X (independent) variables.\n",
    "X = data_df[['grid',\n",
    "       'alt',\n",
    "        'average_lap_time',\n",
    "       'minimum_lap_time', 'PRCP', 'TAVG', 'TMAX', 'TMIN',\n",
    "       'country_CompletionStatus_1',\n",
    "       'nationality_CompletionStatus_1',\n",
    "       'binned_circuits_CompletionStatus_1',\n",
    "       'country_CompletionStatus_2', 'nationality_CompletionStatus_2',\n",
    "       'binned_circuits_CompletionStatus_2']]"
   ]
  },
  {
   "cell_type": "code",
   "execution_count": 5,
   "id": "4518d1bf",
   "metadata": {},
   "outputs": [],
   "source": [
    "# Establish our y (dependent, target) variable.\n",
    "y = data_df['CompletionStatus']"
   ]
  },
  {
   "cell_type": "code",
   "execution_count": 6,
   "id": "ab6d4479",
   "metadata": {},
   "outputs": [],
   "source": [
    "# Split our data into training and testing sets.\n",
    "X_train, X_test, y_train, y_test = train_test_split(X, y, test_size=0.2)"
   ]
  },
  {
   "cell_type": "code",
   "execution_count": 7,
   "id": "1cd45bf6",
   "metadata": {},
   "outputs": [],
   "source": [
    "# Import SMOTE so we can deal with our class imbalance.\n",
    "from imblearn.over_sampling import SMOTE, ADASYN"
   ]
  },
  {
   "cell_type": "code",
   "execution_count": 8,
   "id": "0cecf5ae",
   "metadata": {},
   "outputs": [],
   "source": [
    "# Use SMOTE on our X_ and y_train to create X_ and y_resampled.\n",
    "X_resampled, y_resampled = SMOTE().fit_resample(X_train, y_train)"
   ]
  },
  {
   "cell_type": "code",
   "execution_count": 9,
   "id": "e850283f",
   "metadata": {},
   "outputs": [
    {
     "name": "stdout",
     "output_type": "stream",
     "text": [
      "[(0, 4401), (1, 4401)]\n"
     ]
    }
   ],
   "source": [
    "# Check the balance of our resampled data.\n",
    "print(sorted(Counter(y_resampled).items()))"
   ]
  },
  {
   "cell_type": "markdown",
   "id": "ccc59bf5",
   "metadata": {},
   "source": [
    "Above we can see that we've fixed the class imbalance of our training sets."
   ]
  },
  {
   "cell_type": "markdown",
   "id": "ce442e93",
   "metadata": {},
   "source": [
    "### Create CSV Files\n",
    "\n",
    "In order to not have a randomized training set every time someone uses the widget, we'll create CSV files of our training data that we can call back to."
   ]
  },
  {
   "cell_type": "code",
   "execution_count": 10,
   "id": "c349f3ff",
   "metadata": {},
   "outputs": [],
   "source": [
    "# Use pandas.DataFrame.to_csv to create the CSV file.\n",
    "X_resampled.to_csv(\"data/interim/X_resampled_forWidget.csv\", index = False)"
   ]
  },
  {
   "cell_type": "code",
   "execution_count": 11,
   "id": "c0c2200c",
   "metadata": {},
   "outputs": [],
   "source": [
    "# Use pandas.DataFrame.to_csv to create the CSV file.\n",
    "y_resampled.to_csv(\"data/interim/y_resampled_forWidget.csv\", index = False)"
   ]
  },
  {
   "cell_type": "markdown",
   "id": "87e81c5b",
   "metadata": {},
   "source": [
    "Further down, upon running our model and after we brought in the above CSV files, we got an error stating \"A column-vector y was passed when a 1d array was expected.\" We know that the model worked before hand, so we need to revert our new y_resampled to the same type it used to be."
   ]
  },
  {
   "cell_type": "code",
   "execution_count": 12,
   "id": "27d5d22b",
   "metadata": {},
   "outputs": [
    {
     "data": {
      "text/plain": [
       "pandas.core.series.Series"
      ]
     },
     "execution_count": 12,
     "metadata": {},
     "output_type": "execute_result"
    }
   ],
   "source": [
    "# What type was y_resampled?\n",
    "type(y_resampled)"
   ]
  },
  {
   "cell_type": "markdown",
   "id": "ff53c580",
   "metadata": {},
   "source": [
    "The result above says that y_resampled used to be pandas.core.series.Series."
   ]
  },
  {
   "cell_type": "markdown",
   "id": "2d60e550",
   "metadata": {},
   "source": [
    "### Set Up the Initial Model\n",
    "\n",
    "Although our work involves several models, we're only using one for now: Logistic Regression. This model will run with the regular X_test and y_test data."
   ]
  },
  {
   "cell_type": "code",
   "execution_count": 13,
   "id": "0285bb0b",
   "metadata": {},
   "outputs": [],
   "source": [
    "# Import the necessary data libraries that we'll need for our model.\n",
    "from sklearn.metrics import f1_score\n",
    "from sklearn.pipeline import Pipeline\n",
    "from sklearn.model_selection import train_test_split as tts\n",
    "from sklearn.preprocessing import OneHotEncoder, LabelEncoder\n",
    "from sklearn.linear_model import LogisticRegression\n",
    "from yellowbrick.classifier import ClassificationReport"
   ]
  },
  {
   "cell_type": "code",
   "execution_count": 14,
   "id": "e6a8d1b8",
   "metadata": {},
   "outputs": [],
   "source": [
    "# Set up datasets.\n",
    "X_resampled_url = 'https://raw.githubusercontent.com/georgetown-analytics/Formula1/main/data/interim/X_resampled_forWidget.csv'\n",
    "X_resampled = pd.read_csv(X_resampled_url, sep = ',', engine = 'python')\n",
    "y_resampled_url = 'https://raw.githubusercontent.com/georgetown-analytics/Formula1/main/data/interim/y_resampled_forWidget.csv'\n",
    "y_resampled = pd.read_csv(y_resampled_url, sep = ',', engine = 'python')"
   ]
  },
  {
   "cell_type": "code",
   "execution_count": 15,
   "id": "917334ce",
   "metadata": {},
   "outputs": [
    {
     "data": {
      "text/html": [
       "<div>\n",
       "<style scoped>\n",
       "    .dataframe tbody tr th:only-of-type {\n",
       "        vertical-align: middle;\n",
       "    }\n",
       "\n",
       "    .dataframe tbody tr th {\n",
       "        vertical-align: top;\n",
       "    }\n",
       "\n",
       "    .dataframe thead th {\n",
       "        text-align: right;\n",
       "    }\n",
       "</style>\n",
       "<table border=\"1\" class=\"dataframe\">\n",
       "  <thead>\n",
       "    <tr style=\"text-align: right;\">\n",
       "      <th></th>\n",
       "      <th>grid</th>\n",
       "      <th>alt</th>\n",
       "      <th>average_lap_time</th>\n",
       "      <th>minimum_lap_time</th>\n",
       "      <th>PRCP</th>\n",
       "      <th>TAVG</th>\n",
       "      <th>TMAX</th>\n",
       "      <th>TMIN</th>\n",
       "      <th>country_CompletionStatus_1</th>\n",
       "      <th>nationality_CompletionStatus_1</th>\n",
       "      <th>binned_circuits_CompletionStatus_1</th>\n",
       "      <th>country_CompletionStatus_2</th>\n",
       "      <th>nationality_CompletionStatus_2</th>\n",
       "      <th>binned_circuits_CompletionStatus_2</th>\n",
       "    </tr>\n",
       "  </thead>\n",
       "  <tbody>\n",
       "    <tr>\n",
       "      <th>0</th>\n",
       "      <td>3</td>\n",
       "      <td>7</td>\n",
       "      <td>84139.820513</td>\n",
       "      <td>78854</td>\n",
       "      <td>0.0</td>\n",
       "      <td>62.0</td>\n",
       "      <td>74.0</td>\n",
       "      <td>50.0</td>\n",
       "      <td>0.351562</td>\n",
       "      <td>0.209566</td>\n",
       "      <td>0.253451</td>\n",
       "      <td>0.648438</td>\n",
       "      <td>0.790434</td>\n",
       "      <td>0.746549</td>\n",
       "    </tr>\n",
       "    <tr>\n",
       "      <th>1</th>\n",
       "      <td>16</td>\n",
       "      <td>785</td>\n",
       "      <td>78966.323944</td>\n",
       "      <td>72385</td>\n",
       "      <td>0.0</td>\n",
       "      <td>72.0</td>\n",
       "      <td>78.0</td>\n",
       "      <td>66.0</td>\n",
       "      <td>0.261224</td>\n",
       "      <td>0.176166</td>\n",
       "      <td>0.277588</td>\n",
       "      <td>0.738776</td>\n",
       "      <td>0.823834</td>\n",
       "      <td>0.722412</td>\n",
       "    </tr>\n",
       "    <tr>\n",
       "      <th>2</th>\n",
       "      <td>17</td>\n",
       "      <td>2</td>\n",
       "      <td>105510.433962</td>\n",
       "      <td>102685</td>\n",
       "      <td>0.0</td>\n",
       "      <td>57.0</td>\n",
       "      <td>78.0</td>\n",
       "      <td>42.0</td>\n",
       "      <td>0.113636</td>\n",
       "      <td>0.209566</td>\n",
       "      <td>0.213611</td>\n",
       "      <td>0.886364</td>\n",
       "      <td>0.790434</td>\n",
       "      <td>0.786389</td>\n",
       "    </tr>\n",
       "    <tr>\n",
       "      <th>3</th>\n",
       "      <td>3</td>\n",
       "      <td>4</td>\n",
       "      <td>105870.403509</td>\n",
       "      <td>99156</td>\n",
       "      <td>0.0</td>\n",
       "      <td>75.0</td>\n",
       "      <td>84.0</td>\n",
       "      <td>66.0</td>\n",
       "      <td>0.219697</td>\n",
       "      <td>0.240838</td>\n",
       "      <td>0.213611</td>\n",
       "      <td>0.780303</td>\n",
       "      <td>0.759162</td>\n",
       "      <td>0.786389</td>\n",
       "    </tr>\n",
       "    <tr>\n",
       "      <th>4</th>\n",
       "      <td>3</td>\n",
       "      <td>7</td>\n",
       "      <td>96760.859649</td>\n",
       "      <td>94756</td>\n",
       "      <td>0.0</td>\n",
       "      <td>86.0</td>\n",
       "      <td>99.0</td>\n",
       "      <td>77.0</td>\n",
       "      <td>0.177112</td>\n",
       "      <td>0.209566</td>\n",
       "      <td>0.235686</td>\n",
       "      <td>0.822888</td>\n",
       "      <td>0.790434</td>\n",
       "      <td>0.764314</td>\n",
       "    </tr>\n",
       "  </tbody>\n",
       "</table>\n",
       "</div>"
      ],
      "text/plain": [
       "   grid  alt  average_lap_time  minimum_lap_time  PRCP  TAVG  TMAX  TMIN  \\\n",
       "0     3    7      84139.820513             78854   0.0  62.0  74.0  50.0   \n",
       "1    16  785      78966.323944             72385   0.0  72.0  78.0  66.0   \n",
       "2    17    2     105510.433962            102685   0.0  57.0  78.0  42.0   \n",
       "3     3    4     105870.403509             99156   0.0  75.0  84.0  66.0   \n",
       "4     3    7      96760.859649             94756   0.0  86.0  99.0  77.0   \n",
       "\n",
       "   country_CompletionStatus_1  nationality_CompletionStatus_1  \\\n",
       "0                    0.351562                        0.209566   \n",
       "1                    0.261224                        0.176166   \n",
       "2                    0.113636                        0.209566   \n",
       "3                    0.219697                        0.240838   \n",
       "4                    0.177112                        0.209566   \n",
       "\n",
       "   binned_circuits_CompletionStatus_1  country_CompletionStatus_2  \\\n",
       "0                            0.253451                    0.648438   \n",
       "1                            0.277588                    0.738776   \n",
       "2                            0.213611                    0.886364   \n",
       "3                            0.213611                    0.780303   \n",
       "4                            0.235686                    0.822888   \n",
       "\n",
       "   nationality_CompletionStatus_2  binned_circuits_CompletionStatus_2  \n",
       "0                        0.790434                            0.746549  \n",
       "1                        0.823834                            0.722412  \n",
       "2                        0.790434                            0.786389  \n",
       "3                        0.759162                            0.786389  \n",
       "4                        0.790434                            0.764314  "
      ]
     },
     "execution_count": 15,
     "metadata": {},
     "output_type": "execute_result"
    }
   ],
   "source": [
    "# View X_resampled.\n",
    "X_resampled.head()"
   ]
  },
  {
   "cell_type": "markdown",
   "id": "bbe4e81e",
   "metadata": {},
   "source": [
    "We know from testing the type of y_resampled before we brought in the CSV files that y_resampled needs to be a series in order for our model to run correctly. We also know from this site (https://datatofish.com/pandas-dataframe-to-series/) how to change a dataframe into a series."
   ]
  },
  {
   "cell_type": "code",
   "execution_count": 16,
   "id": "6ab5a42d",
   "metadata": {},
   "outputs": [],
   "source": [
    "# Change the y_resampled dataframe into a y_resampled series.\n",
    "y_resampled = y_resampled.squeeze()"
   ]
  },
  {
   "cell_type": "code",
   "execution_count": 17,
   "id": "d6afa3c3",
   "metadata": {},
   "outputs": [
    {
     "data": {
      "text/plain": [
       "0    1\n",
       "1    1\n",
       "2    1\n",
       "3    1\n",
       "4    1\n",
       "Name: CompletionStatus, dtype: int64"
      ]
     },
     "execution_count": 17,
     "metadata": {},
     "output_type": "execute_result"
    }
   ],
   "source": [
    "# View y_resampled.\n",
    "y_resampled.head()"
   ]
  },
  {
   "cell_type": "code",
   "execution_count": 45,
   "id": "14a3fa3f",
   "metadata": {},
   "outputs": [],
   "source": [
    "# Create the function score_model.\n",
    "def score_model(X_resampled, y_resampled, X_test, y_test, estimator, **kwargs):\n",
    "    \"\"\"\n",
    "    Test various estimators.\n",
    "    \"\"\"\n",
    "    # Instantiate the classification model and visualizer.\n",
    "    estimator.fit(X_resampled, y_resampled, **kwargs)  \n",
    "    \n",
    "    expected  = y_test\n",
    "    predicted = estimator.predict(X_test)\n",
    "    \n",
    "    # Compute and return F1 (harmonic mean of precision and recall).\n",
    "    print(\"{}: {}\".format(estimator.__class__.__name__, f1_score(expected, predicted)))"
   ]
  },
  {
   "cell_type": "code",
   "execution_count": 46,
   "id": "78047240",
   "metadata": {},
   "outputs": [
    {
     "name": "stdout",
     "output_type": "stream",
     "text": [
      "LogisticRegression: 0.8648373983739837\n"
     ]
    }
   ],
   "source": [
    "# Run the Logistic Regression model.\n",
    "score_model(X_resampled, y_resampled, X_test, y_test, LogisticRegression(solver='lbfgs'))"
   ]
  },
  {
   "cell_type": "markdown",
   "id": "08403487",
   "metadata": {},
   "source": [
    "## Widget Experimentation"
   ]
  },
  {
   "cell_type": "markdown",
   "id": "f28d118e",
   "metadata": {},
   "source": [
    "### Set Up"
   ]
  },
  {
   "cell_type": "code",
   "execution_count": 20,
   "id": "ebfd2cc0",
   "metadata": {},
   "outputs": [],
   "source": [
    "# Import necessary data libraries.\n",
    "import pandas as pd\n",
    "import os \n",
    "import csv\n",
    "import io\n",
    "import requests\n",
    "import numpy as np\n",
    "import matplotlib.pyplot as plt\n",
    "from sklearn.preprocessing import OneHotEncoder\n",
    "import category_encoders as ce\n",
    "\n",
    "# The following are for Jupyter Widgets.\n",
    "import ipywidgets as widgets\n",
    "from IPython.display import display\n",
    "from __future__ import print_function\n",
    "from ipywidgets import interact, interactive, fixed, interact_manual\n",
    "import ipywidgets as widgets\n",
    "from ipywidgets import FloatSlider"
   ]
  },
  {
   "cell_type": "code",
   "execution_count": 21,
   "id": "908e7149",
   "metadata": {},
   "outputs": [
    {
     "data": {
      "text/plain": [
       "Index(['raceId', 'driverId', 'constructorId', 'grid', 'position',\n",
       "       'positionOrder', 'laps', 'fastestLap', 'rank', 'fastestLapSpeed',\n",
       "       'familyStatus', 'CompletionStatus', 'year', 'circuitId', 'alt',\n",
       "       'isHistoric', 'total_lap_time', 'average_lap_time', 'minimum_lap_time',\n",
       "       'PRCP', 'TAVG', 'TMAX', 'TMIN', 'positionText_CompletionStatus_1',\n",
       "       'country_CompletionStatus_1', 'trackType_CompletionStatus_1',\n",
       "       'nationality_CompletionStatus_1',\n",
       "       'bundled_circuitId_CompletionStatus_1',\n",
       "       'binned_circuits_CompletionStatus_1', 'positionText_CompletionStatus_2',\n",
       "       'country_CompletionStatus_2', 'trackType_CompletionStatus_2',\n",
       "       'nationality_CompletionStatus_2',\n",
       "       'bundled_circuitId_CompletionStatus_2',\n",
       "       'binned_circuits_CompletionStatus_2'],\n",
       "      dtype='object')"
      ]
     },
     "execution_count": 21,
     "metadata": {},
     "output_type": "execute_result"
    }
   ],
   "source": [
    "# What columns are in one_hot?\n",
    "one_hot.columns"
   ]
  },
  {
   "cell_type": "code",
   "execution_count": 22,
   "id": "5f7549ce",
   "metadata": {},
   "outputs": [],
   "source": [
    "# Select the identifiable columns and the columns that are one-hot encoded. Put these into refined_one_hot.\n",
    "refined_one_hot = one_hot[['raceId', 'driverId',\n",
    "       'country_CompletionStatus_1', 'trackType_CompletionStatus_1',\n",
    "       'nationality_CompletionStatus_1',\n",
    "       'binned_circuits_CompletionStatus_1',\n",
    "       'country_CompletionStatus_2', 'trackType_CompletionStatus_2',\n",
    "       'nationality_CompletionStatus_2',\n",
    "       'binned_circuits_CompletionStatus_2']]"
   ]
  },
  {
   "cell_type": "code",
   "execution_count": 23,
   "id": "e3b9cd29",
   "metadata": {},
   "outputs": [
    {
     "data": {
      "text/plain": [
       "Index(['raceId', 'driverId', 'country_CompletionStatus_1',\n",
       "       'trackType_CompletionStatus_1', 'nationality_CompletionStatus_1',\n",
       "       'binned_circuits_CompletionStatus_1', 'country_CompletionStatus_2',\n",
       "       'trackType_CompletionStatus_2', 'nationality_CompletionStatus_2',\n",
       "       'binned_circuits_CompletionStatus_2'],\n",
       "      dtype='object')"
      ]
     },
     "execution_count": 23,
     "metadata": {},
     "output_type": "execute_result"
    }
   ],
   "source": [
    "# Check we have the correct columns in refined_one_hot.\n",
    "refined_one_hot.columns"
   ]
  },
  {
   "cell_type": "code",
   "execution_count": 24,
   "id": "1e5996dd",
   "metadata": {},
   "outputs": [
    {
     "data": {
      "text/plain": [
       "Index(['raceId', 'driverId', 'constructorId', 'grid', 'laps', 'familyStatus',\n",
       "       'Completion Status', 'year', 'circuitId', 'country', 'alt',\n",
       "       'isHistoric', 'trackType', 'nationality', 'total_lap_time',\n",
       "       'average_lap_time', 'minimum_lap_time', 'PRCP', 'TAVG', 'TMAX', 'TMIN',\n",
       "       'binned_circuits'],\n",
       "      dtype='object')"
      ]
     },
     "execution_count": 24,
     "metadata": {},
     "output_type": "execute_result"
    }
   ],
   "source": [
    "# What columns are in master_data?\n",
    "master_data.columns"
   ]
  },
  {
   "cell_type": "code",
   "execution_count": 25,
   "id": "9b8087dd",
   "metadata": {},
   "outputs": [],
   "source": [
    "# Select the identifiable columns and the columns that will be one-hot encoded. Put these into refined_master.\n",
    "refined_master = master_data[['raceId', 'driverId', 'country', 'trackType', 'nationality', 'binned_circuits']]"
   ]
  },
  {
   "cell_type": "code",
   "execution_count": 26,
   "id": "5d67c90b",
   "metadata": {},
   "outputs": [
    {
     "data": {
      "text/plain": [
       "Index(['raceId', 'driverId', 'country', 'trackType', 'nationality',\n",
       "       'binned_circuits'],\n",
       "      dtype='object')"
      ]
     },
     "execution_count": 26,
     "metadata": {},
     "output_type": "execute_result"
    }
   ],
   "source": [
    "# Check we have the correct columns in refined_master.\n",
    "refined_master.columns"
   ]
  },
  {
   "cell_type": "code",
   "execution_count": 27,
   "id": "a6fc7f7f",
   "metadata": {},
   "outputs": [
    {
     "data": {
      "text/html": [
       "<div>\n",
       "<style scoped>\n",
       "    .dataframe tbody tr th:only-of-type {\n",
       "        vertical-align: middle;\n",
       "    }\n",
       "\n",
       "    .dataframe tbody tr th {\n",
       "        vertical-align: top;\n",
       "    }\n",
       "\n",
       "    .dataframe thead th {\n",
       "        text-align: right;\n",
       "    }\n",
       "</style>\n",
       "<table border=\"1\" class=\"dataframe\">\n",
       "  <thead>\n",
       "    <tr style=\"text-align: right;\">\n",
       "      <th></th>\n",
       "      <th>raceId</th>\n",
       "      <th>driverId</th>\n",
       "      <th>country</th>\n",
       "      <th>trackType</th>\n",
       "      <th>nationality</th>\n",
       "      <th>binned_circuits</th>\n",
       "      <th>country_CompletionStatus_1</th>\n",
       "      <th>trackType_CompletionStatus_1</th>\n",
       "      <th>nationality_CompletionStatus_1</th>\n",
       "      <th>binned_circuits_CompletionStatus_1</th>\n",
       "      <th>country_CompletionStatus_2</th>\n",
       "      <th>trackType_CompletionStatus_2</th>\n",
       "      <th>nationality_CompletionStatus_2</th>\n",
       "      <th>binned_circuits_CompletionStatus_2</th>\n",
       "    </tr>\n",
       "  </thead>\n",
       "  <tbody>\n",
       "    <tr>\n",
       "      <th>0</th>\n",
       "      <td>1</td>\n",
       "      <td>2</td>\n",
       "      <td>Australia</td>\n",
       "      <td>2</td>\n",
       "      <td>German</td>\n",
       "      <td>Tier2</td>\n",
       "      <td>0.351812</td>\n",
       "      <td>0.287045</td>\n",
       "      <td>0.209566</td>\n",
       "      <td>0.277588</td>\n",
       "      <td>0.648188</td>\n",
       "      <td>0.712955</td>\n",
       "      <td>0.790434</td>\n",
       "      <td>0.722412</td>\n",
       "    </tr>\n",
       "    <tr>\n",
       "      <th>1</th>\n",
       "      <td>1</td>\n",
       "      <td>3</td>\n",
       "      <td>Australia</td>\n",
       "      <td>2</td>\n",
       "      <td>German</td>\n",
       "      <td>Tier2</td>\n",
       "      <td>0.351812</td>\n",
       "      <td>0.287045</td>\n",
       "      <td>0.209566</td>\n",
       "      <td>0.277588</td>\n",
       "      <td>0.648188</td>\n",
       "      <td>0.712955</td>\n",
       "      <td>0.790434</td>\n",
       "      <td>0.722412</td>\n",
       "    </tr>\n",
       "    <tr>\n",
       "      <th>2</th>\n",
       "      <td>1</td>\n",
       "      <td>4</td>\n",
       "      <td>Australia</td>\n",
       "      <td>2</td>\n",
       "      <td>Spanish</td>\n",
       "      <td>Tier2</td>\n",
       "      <td>0.351812</td>\n",
       "      <td>0.287045</td>\n",
       "      <td>0.231140</td>\n",
       "      <td>0.277588</td>\n",
       "      <td>0.648188</td>\n",
       "      <td>0.712955</td>\n",
       "      <td>0.768860</td>\n",
       "      <td>0.722412</td>\n",
       "    </tr>\n",
       "    <tr>\n",
       "      <th>3</th>\n",
       "      <td>1</td>\n",
       "      <td>6</td>\n",
       "      <td>Australia</td>\n",
       "      <td>2</td>\n",
       "      <td>Japanese</td>\n",
       "      <td>Tier2</td>\n",
       "      <td>0.351812</td>\n",
       "      <td>0.287045</td>\n",
       "      <td>0.361371</td>\n",
       "      <td>0.277588</td>\n",
       "      <td>0.648188</td>\n",
       "      <td>0.712955</td>\n",
       "      <td>0.638629</td>\n",
       "      <td>0.722412</td>\n",
       "    </tr>\n",
       "    <tr>\n",
       "      <th>4</th>\n",
       "      <td>1</td>\n",
       "      <td>7</td>\n",
       "      <td>Australia</td>\n",
       "      <td>2</td>\n",
       "      <td>French</td>\n",
       "      <td>Tier2</td>\n",
       "      <td>0.351812</td>\n",
       "      <td>0.287045</td>\n",
       "      <td>0.258394</td>\n",
       "      <td>0.277588</td>\n",
       "      <td>0.648188</td>\n",
       "      <td>0.712955</td>\n",
       "      <td>0.741606</td>\n",
       "      <td>0.722412</td>\n",
       "    </tr>\n",
       "  </tbody>\n",
       "</table>\n",
       "</div>"
      ],
      "text/plain": [
       "   raceId  driverId    country  trackType nationality binned_circuits  \\\n",
       "0       1         2  Australia          2      German           Tier2   \n",
       "1       1         3  Australia          2      German           Tier2   \n",
       "2       1         4  Australia          2     Spanish           Tier2   \n",
       "3       1         6  Australia          2    Japanese           Tier2   \n",
       "4       1         7  Australia          2      French           Tier2   \n",
       "\n",
       "   country_CompletionStatus_1  trackType_CompletionStatus_1  \\\n",
       "0                    0.351812                      0.287045   \n",
       "1                    0.351812                      0.287045   \n",
       "2                    0.351812                      0.287045   \n",
       "3                    0.351812                      0.287045   \n",
       "4                    0.351812                      0.287045   \n",
       "\n",
       "   nationality_CompletionStatus_1  binned_circuits_CompletionStatus_1  \\\n",
       "0                        0.209566                            0.277588   \n",
       "1                        0.209566                            0.277588   \n",
       "2                        0.231140                            0.277588   \n",
       "3                        0.361371                            0.277588   \n",
       "4                        0.258394                            0.277588   \n",
       "\n",
       "   country_CompletionStatus_2  trackType_CompletionStatus_2  \\\n",
       "0                    0.648188                      0.712955   \n",
       "1                    0.648188                      0.712955   \n",
       "2                    0.648188                      0.712955   \n",
       "3                    0.648188                      0.712955   \n",
       "4                    0.648188                      0.712955   \n",
       "\n",
       "   nationality_CompletionStatus_2  binned_circuits_CompletionStatus_2  \n",
       "0                        0.790434                            0.722412  \n",
       "1                        0.790434                            0.722412  \n",
       "2                        0.768860                            0.722412  \n",
       "3                        0.638629                            0.722412  \n",
       "4                        0.741606                            0.722412  "
      ]
     },
     "execution_count": 27,
     "metadata": {},
     "output_type": "execute_result"
    }
   ],
   "source": [
    "# Merge refined_one_hot with refined_master by \"raceId\" and \"driverId\" to get refined_total.\n",
    "refined_total = pd.merge(refined_master, refined_one_hot, on = [\"raceId\", \"driverId\"])\n",
    "refined_total.head()"
   ]
  },
  {
   "cell_type": "markdown",
   "id": "3da5ec27",
   "metadata": {},
   "source": [
    "### Working with the Data in the Input Columns"
   ]
  },
  {
   "cell_type": "code",
   "execution_count": 32,
   "id": "3a131d34",
   "metadata": {},
   "outputs": [
    {
     "data": {
      "text/plain": [
       "Index(['grid', 'alt', 'average_lap_time', 'minimum_lap_time', 'PRCP', 'TAVG',\n",
       "       'TMAX', 'TMIN', 'country_CompletionStatus_1',\n",
       "       'nationality_CompletionStatus_1', 'binned_circuits_CompletionStatus_1',\n",
       "       'country_CompletionStatus_2', 'nationality_CompletionStatus_2',\n",
       "       'binned_circuits_CompletionStatus_2'],\n",
       "      dtype='object')"
      ]
     },
     "execution_count": 32,
     "metadata": {},
     "output_type": "execute_result"
    }
   ],
   "source": [
    "# What features are in X_resampled and will therefore be required for our widget?\n",
    "X_resampled.columns"
   ]
  },
  {
   "cell_type": "markdown",
   "id": "7a78065c",
   "metadata": {},
   "source": [
    "As shown above, with slight changes to account for the one-hot encoding, we'll have to ask interactors to choose grid, altitude, an average lap time and minimum lap time, precipitation, temperatures (average, minimum, and maximum), country, nationality, and circuit. We will change the country, nationality, and circuit in the function to match their one-hot encoding. Because there are so many options, though, we will only allow a few choices for these."
   ]
  },
  {
   "cell_type": "code",
   "execution_count": 28,
   "id": "a17ba2da",
   "metadata": {},
   "outputs": [
    {
     "data": {
      "text/plain": [
       "nationality    nationality_CompletionStatus_1  nationality_CompletionStatus_2\n",
       "German         0.209566                        0.790434                          1561\n",
       "British        0.240838                        0.759162                          1314\n",
       "Brazilian      0.292359                        0.707641                           871\n",
       "Finnish        0.206369                        0.793631                           776\n",
       "French         0.258394                        0.741606                           663\n",
       "Italian        0.317841                        0.682159                           657\n",
       "Spanish        0.231140                        0.768860                           612\n",
       "Australian     0.209360                        0.790640                           397\n",
       "Japanese       0.361371                        0.638629                           308\n",
       "Dutch          0.316901                        0.683099                           281\n",
       "Canadian       0.278810                        0.721190                           263\n",
       "Mexican        0.148438                        0.851562                           249\n",
       "Russian        0.176166                        0.823834                           188\n",
       "Austrian       0.296053                        0.703947                           150\n",
       "Danish         0.262069                        0.737931                           136\n",
       "Polish         0.154639                        0.845361                            95\n",
       "Swedish        0.239583                        0.760417                            93\n",
       "Colombian      0.336957                        0.663043                            89\n",
       "Venezuelan     0.296703                        0.703297                            87\n",
       "Monegasque     0.156250                        0.843750                            64\n",
       "Belgian        0.166667                        0.833333                            60\n",
       "Indian         0.280702                        0.719298                            53\n",
       "Swiss          0.269231                        0.730769                            52\n",
       "Portuguese     0.260000                        0.740000                            48\n",
       "Argentine      0.512821                        0.487179                            39\n",
       "Thai           0.078947                        0.921053                            38\n",
       "American       0.322581                        0.677419                            31\n",
       "New Zealander  0.304348                        0.695652                            23\n",
       "Hungarian      0.400000                        0.600000                            20\n",
       "Malaysian      0.571428                        0.428572                            14\n",
       "Irish          0.384615                        0.615385                            12\n",
       "Indonesian     0.181821                        0.818179                            11\n",
       "Czech          0.323293                        0.676707                             3\n",
       "dtype: int64"
      ]
     },
     "execution_count": 28,
     "metadata": {},
     "output_type": "execute_result"
    }
   ],
   "source": [
    "# What are the most popular nationalities?\n",
    "refined_total[[\"nationality\", \"nationality_CompletionStatus_1\", \"nationality_CompletionStatus_2\"]].value_counts()"
   ]
  },
  {
   "cell_type": "markdown",
   "id": "bd9de06a",
   "metadata": {},
   "source": [
    "The most popular nationalities of drivers are German, British, and Brazilian."
   ]
  },
  {
   "cell_type": "code",
   "execution_count": 29,
   "id": "60fe7c9d",
   "metadata": {},
   "outputs": [
    {
     "data": {
      "text/plain": [
       "country     country_CompletionStatus_1  country_CompletionStatus_2\n",
       "Italy       0.279099                    0.720901                      786\n",
       "Germany     0.291429                    0.708571                      690\n",
       "Spain       0.219697                    0.780303                      651\n",
       "UK          0.220339                    0.779661                      523\n",
       "Hungary     0.229446                    0.770554                      513\n",
       "Monaco      0.351562                    0.648438                      496\n",
       "Japan       0.217039                    0.782961                      485\n",
       "Brazil      0.261224                    0.738776                      474\n",
       "Canada      0.334737                    0.665263                      453\n",
       "Australia   0.351812                    0.648188                      449\n",
       "Belgium     0.230088                    0.769912                      441\n",
       "Malaysia    0.260759                    0.739241                      389\n",
       "Bahrain     0.177112                    0.822888                      358\n",
       "Austria     0.271930                    0.728070                      335\n",
       "China       0.154303                    0.845697                      334\n",
       "France      0.256098                    0.743902                      324\n",
       "USA         0.253289                    0.746711                      292\n",
       "Singapore   0.219124                    0.780876                      249\n",
       "UAE         0.120000                    0.880000                      245\n",
       "Turkey      0.159763                    0.840237                      164\n",
       "Russia      0.113636                    0.886364                      130\n",
       "Mexico      0.148515                    0.851485                       98\n",
       "Azerbaijan  0.240000                    0.760000                       97\n",
       "Korea       0.193548                    0.806452                       93\n",
       "India       0.159420                    0.840580                       67\n",
       "Argentina   0.484375                    0.515625                       62\n",
       "Portugal    0.100000                    0.900000                       60\n",
       "dtype: int64"
      ]
     },
     "execution_count": 29,
     "metadata": {},
     "output_type": "execute_result"
    }
   ],
   "source": [
    "# What are the most popular countries?\n",
    "refined_total[[\"country\", \"country_CompletionStatus_1\", \"country_CompletionStatus_2\"]].value_counts()"
   ]
  },
  {
   "cell_type": "markdown",
   "id": "c4dfed80",
   "metadata": {},
   "source": [
    "The most popular countries are Italy, Germany, and Spain."
   ]
  },
  {
   "cell_type": "code",
   "execution_count": 30,
   "id": "82335e55",
   "metadata": {},
   "outputs": [
    {
     "data": {
      "text/plain": [
       "binned_circuits  binned_circuits_CompletionStatus_1  binned_circuits_CompletionStatus_2\n",
       "Tier1            0.253451                            0.746549                              2558\n",
       "Tier2            0.277588                            0.722412                              2262\n",
       "Tier3            0.235686                            0.764314                              1771\n",
       "Tier4            0.244750                            0.755250                              1218\n",
       "Tier5            0.213611                            0.786389                              1030\n",
       "Tier6            0.223529                            0.776471                               419\n",
       "dtype: int64"
      ]
     },
     "execution_count": 30,
     "metadata": {},
     "output_type": "execute_result"
    }
   ],
   "source": [
    "# What are the most popular binned circuits?\n",
    "refined_total[[\"binned_circuits\", \"binned_circuits_CompletionStatus_1\", \"binned_circuits_CompletionStatus_2\"]].value_counts()"
   ]
  },
  {
   "cell_type": "markdown",
   "id": "354d5946",
   "metadata": {},
   "source": [
    "The most popular binned circuits are Tier1, Tier2, and Tier3."
   ]
  },
  {
   "cell_type": "code",
   "execution_count": 50,
   "id": "c377aa1f",
   "metadata": {},
   "outputs": [
    {
     "data": {
      "text/html": [
       "<div>\n",
       "<style scoped>\n",
       "    .dataframe tbody tr th:only-of-type {\n",
       "        vertical-align: middle;\n",
       "    }\n",
       "\n",
       "    .dataframe tbody tr th {\n",
       "        vertical-align: top;\n",
       "    }\n",
       "\n",
       "    .dataframe thead th {\n",
       "        text-align: right;\n",
       "    }\n",
       "</style>\n",
       "<table border=\"1\" class=\"dataframe\">\n",
       "  <thead>\n",
       "    <tr style=\"text-align: right;\">\n",
       "      <th></th>\n",
       "      <th>grid</th>\n",
       "      <th>alt</th>\n",
       "      <th>average_lap_time</th>\n",
       "      <th>minimum_lap_time</th>\n",
       "      <th>PRCP</th>\n",
       "      <th>TAVG</th>\n",
       "      <th>TMAX</th>\n",
       "      <th>TMIN</th>\n",
       "      <th>country_CompletionStatus_1</th>\n",
       "      <th>nationality_CompletionStatus_1</th>\n",
       "      <th>binned_circuits_CompletionStatus_1</th>\n",
       "      <th>country_CompletionStatus_2</th>\n",
       "      <th>nationality_CompletionStatus_2</th>\n",
       "      <th>binned_circuits_CompletionStatus_2</th>\n",
       "    </tr>\n",
       "  </thead>\n",
       "  <tbody>\n",
       "    <tr>\n",
       "      <th>count</th>\n",
       "      <td>8798.000000</td>\n",
       "      <td>8798.000000</td>\n",
       "      <td>8798.000000</td>\n",
       "      <td>8798.000000</td>\n",
       "      <td>8798.000000</td>\n",
       "      <td>8798.000000</td>\n",
       "      <td>8798.000000</td>\n",
       "      <td>8798.000000</td>\n",
       "      <td>8798.000000</td>\n",
       "      <td>8798.000000</td>\n",
       "      <td>8798.000000</td>\n",
       "      <td>8798.000000</td>\n",
       "      <td>8798.000000</td>\n",
       "      <td>8798.000000</td>\n",
       "    </tr>\n",
       "    <tr>\n",
       "      <th>mean</th>\n",
       "      <td>11.090702</td>\n",
       "      <td>189.777449</td>\n",
       "      <td>99294.361920</td>\n",
       "      <td>91097.400318</td>\n",
       "      <td>0.165548</td>\n",
       "      <td>68.974788</td>\n",
       "      <td>77.457074</td>\n",
       "      <td>60.900833</td>\n",
       "      <td>0.242983</td>\n",
       "      <td>0.242448</td>\n",
       "      <td>0.248584</td>\n",
       "      <td>0.757017</td>\n",
       "      <td>0.757552</td>\n",
       "      <td>0.751416</td>\n",
       "    </tr>\n",
       "    <tr>\n",
       "      <th>std</th>\n",
       "      <td>5.635227</td>\n",
       "      <td>284.088432</td>\n",
       "      <td>18537.780378</td>\n",
       "      <td>12491.855148</td>\n",
       "      <td>0.427171</td>\n",
       "      <td>8.640878</td>\n",
       "      <td>9.371242</td>\n",
       "      <td>9.138187</td>\n",
       "      <td>0.059838</td>\n",
       "      <td>0.047371</td>\n",
       "      <td>0.018984</td>\n",
       "      <td>0.059838</td>\n",
       "      <td>0.047371</td>\n",
       "      <td>0.018984</td>\n",
       "    </tr>\n",
       "    <tr>\n",
       "      <th>min</th>\n",
       "      <td>0.000000</td>\n",
       "      <td>-7.000000</td>\n",
       "      <td>62932.344828</td>\n",
       "      <td>55404.000000</td>\n",
       "      <td>0.000000</td>\n",
       "      <td>49.000000</td>\n",
       "      <td>56.000000</td>\n",
       "      <td>36.000000</td>\n",
       "      <td>0.100000</td>\n",
       "      <td>0.078947</td>\n",
       "      <td>0.213611</td>\n",
       "      <td>0.648188</td>\n",
       "      <td>0.600000</td>\n",
       "      <td>0.722412</td>\n",
       "    </tr>\n",
       "    <tr>\n",
       "      <th>25%</th>\n",
       "      <td>7.000000</td>\n",
       "      <td>10.000000</td>\n",
       "      <td>85458.936163</td>\n",
       "      <td>80035.250000</td>\n",
       "      <td>0.000000</td>\n",
       "      <td>62.000000</td>\n",
       "      <td>69.451743</td>\n",
       "      <td>55.000000</td>\n",
       "      <td>0.217039</td>\n",
       "      <td>0.209566</td>\n",
       "      <td>0.235686</td>\n",
       "      <td>0.720901</td>\n",
       "      <td>0.722708</td>\n",
       "      <td>0.741051</td>\n",
       "    </tr>\n",
       "    <tr>\n",
       "      <th>50%</th>\n",
       "      <td>11.000000</td>\n",
       "      <td>103.000000</td>\n",
       "      <td>98423.931360</td>\n",
       "      <td>90275.500000</td>\n",
       "      <td>0.000000</td>\n",
       "      <td>68.899459</td>\n",
       "      <td>77.393918</td>\n",
       "      <td>61.000000</td>\n",
       "      <td>0.231431</td>\n",
       "      <td>0.240838</td>\n",
       "      <td>0.250847</td>\n",
       "      <td>0.768569</td>\n",
       "      <td>0.759162</td>\n",
       "      <td>0.749153</td>\n",
       "    </tr>\n",
       "    <tr>\n",
       "      <th>75%</th>\n",
       "      <td>15.000000</td>\n",
       "      <td>247.000000</td>\n",
       "      <td>109011.072851</td>\n",
       "      <td>100146.000000</td>\n",
       "      <td>0.140000</td>\n",
       "      <td>75.417726</td>\n",
       "      <td>84.253814</td>\n",
       "      <td>67.000000</td>\n",
       "      <td>0.279099</td>\n",
       "      <td>0.277292</td>\n",
       "      <td>0.258949</td>\n",
       "      <td>0.782961</td>\n",
       "      <td>0.790434</td>\n",
       "      <td>0.764314</td>\n",
       "    </tr>\n",
       "    <tr>\n",
       "      <th>max</th>\n",
       "      <td>24.000000</td>\n",
       "      <td>2227.000000</td>\n",
       "      <td>216112.776119</td>\n",
       "      <td>122930.000000</td>\n",
       "      <td>6.300000</td>\n",
       "      <td>94.200000</td>\n",
       "      <td>102.000000</td>\n",
       "      <td>88.400000</td>\n",
       "      <td>0.351812</td>\n",
       "      <td>0.400000</td>\n",
       "      <td>0.277588</td>\n",
       "      <td>0.900000</td>\n",
       "      <td>0.921053</td>\n",
       "      <td>0.786389</td>\n",
       "    </tr>\n",
       "  </tbody>\n",
       "</table>\n",
       "</div>"
      ],
      "text/plain": [
       "              grid          alt  average_lap_time  minimum_lap_time  \\\n",
       "count  8798.000000  8798.000000       8798.000000       8798.000000   \n",
       "mean     11.090702   189.777449      99294.361920      91097.400318   \n",
       "std       5.635227   284.088432      18537.780378      12491.855148   \n",
       "min       0.000000    -7.000000      62932.344828      55404.000000   \n",
       "25%       7.000000    10.000000      85458.936163      80035.250000   \n",
       "50%      11.000000   103.000000      98423.931360      90275.500000   \n",
       "75%      15.000000   247.000000     109011.072851     100146.000000   \n",
       "max      24.000000  2227.000000     216112.776119     122930.000000   \n",
       "\n",
       "              PRCP         TAVG         TMAX         TMIN  \\\n",
       "count  8798.000000  8798.000000  8798.000000  8798.000000   \n",
       "mean      0.165548    68.974788    77.457074    60.900833   \n",
       "std       0.427171     8.640878     9.371242     9.138187   \n",
       "min       0.000000    49.000000    56.000000    36.000000   \n",
       "25%       0.000000    62.000000    69.451743    55.000000   \n",
       "50%       0.000000    68.899459    77.393918    61.000000   \n",
       "75%       0.140000    75.417726    84.253814    67.000000   \n",
       "max       6.300000    94.200000   102.000000    88.400000   \n",
       "\n",
       "       country_CompletionStatus_1  nationality_CompletionStatus_1  \\\n",
       "count                 8798.000000                     8798.000000   \n",
       "mean                     0.242983                        0.242448   \n",
       "std                      0.059838                        0.047371   \n",
       "min                      0.100000                        0.078947   \n",
       "25%                      0.217039                        0.209566   \n",
       "50%                      0.231431                        0.240838   \n",
       "75%                      0.279099                        0.277292   \n",
       "max                      0.351812                        0.400000   \n",
       "\n",
       "       binned_circuits_CompletionStatus_1  country_CompletionStatus_2  \\\n",
       "count                         8798.000000                 8798.000000   \n",
       "mean                             0.248584                    0.757017   \n",
       "std                              0.018984                    0.059838   \n",
       "min                              0.213611                    0.648188   \n",
       "25%                              0.235686                    0.720901   \n",
       "50%                              0.250847                    0.768569   \n",
       "75%                              0.258949                    0.782961   \n",
       "max                              0.277588                    0.900000   \n",
       "\n",
       "       nationality_CompletionStatus_2  binned_circuits_CompletionStatus_2  \n",
       "count                     8798.000000                         8798.000000  \n",
       "mean                         0.757552                            0.751416  \n",
       "std                          0.047371                            0.018984  \n",
       "min                          0.600000                            0.722412  \n",
       "25%                          0.722708                            0.741051  \n",
       "50%                          0.759162                            0.749153  \n",
       "75%                          0.790434                            0.764314  \n",
       "max                          0.921053                            0.786389  "
      ]
     },
     "execution_count": 50,
     "metadata": {},
     "output_type": "execute_result"
    }
   ],
   "source": [
    "# What minimum and maximum numbers will we have to allow for in our input columns?\n",
    "X_resampled.describe()"
   ]
  },
  {
   "cell_type": "markdown",
   "id": "79c5c213",
   "metadata": {},
   "source": [
    "- grid has a min of 0 and a max of 24.\n",
    "- alt has a min of -7.0 and a max of 2227.0.\n",
    "- average_lap_time has a min of 62932.344828 and a max of 216112.776119.\n",
    "- minimum_lap_time has a min of 55404.000000 and a max of 122930.000000.\n",
    "- PRCP has a min of 0.0 and a max of 6.3.\n",
    "- TAVG has a min of 49.0 and a max of 94.2.\n",
    "- TMAX has a min of 56.0 and a max of 102.0.\n",
    "- TMIN has a min of 36.0 and a max of 88.4."
   ]
  },
  {
   "cell_type": "markdown",
   "id": "a2335834",
   "metadata": {},
   "source": [
    "### Building the Widget"
   ]
  },
  {
   "cell_type": "markdown",
   "id": "729149cf",
   "metadata": {},
   "source": [
    "Because the final widget's function will have a lot of code in it, we're going to slowly build the function one step at a time. These steps include:\n",
    "- Building a dropdown widget connected to a function containing an elif statement. This statement will change the display depending on what the user selects in the dropdown menu.\n",
    "- Building three dropdown widgets that all connect to the same function. Each widget connects to a different elif statement within that function, and each elif statement changes its own display.\n",
    "- Using the build from the prior widget, each elif statement changes the one-hot encoding for the connected dropdown menu. Each one-hot encoding number is placed in a new dataframe, which is displayed with the dropdown menus.\n",
    "- Using the build from the prior widget, we add all of the numeric columns that did not have to be one-hot encoded. These are not based on dropdown menus, but are instead bounded text boxes (both int and float). These are also placed in the dataframe, as well as displayed separately.\n",
    "- Using the build from the prior widget, we stop displaying the numeric features. We also add a modeling function that predicts whether a car will finish the race or not, based on the features that users input through the widget. Finally, we use an if-else statement to print a car's predicted outcome.\n",
    "\n",
    "These steps are enacted below."
   ]
  },
  {
   "cell_type": "code",
   "execution_count": 31,
   "id": "fd119b48",
   "metadata": {},
   "outputs": [
    {
     "data": {
      "application/vnd.jupyter.widget-view+json": {
       "model_id": "3d7ea1b18d074ca38e15e7396709624f",
       "version_major": 2,
       "version_minor": 0
      },
      "text/plain": [
       "interactive(children=(Dropdown(description='nationality', options=('German', 'British', 'Brazilian'), value='G…"
      ]
     },
     "metadata": {},
     "output_type": "display_data"
    }
   ],
   "source": [
    "\"\"\"\n",
    "Establish function \"nationality\" which allows selection of three nationalities, then returns a country.\n",
    "\"\"\"\n",
    "def nationality(nationality):\n",
    "    # Use an elif statement to determine the output country name based on the input nationality.\n",
    "    if nationality == \"German\":\n",
    "        countryname = \"Germany\"\n",
    "    elif nationality == \"British\":\n",
    "        countryname = \"England\"\n",
    "    else:\n",
    "        countryname = \"Brazil\"\n",
    "    display(countryname)\n",
    "\n",
    "# Create a widget that will interact with the nationality function.\n",
    "interact(nationality, nationality = widgets.Dropdown(options = [\"German\", \"British\", \"Brazilian\"], value = \"German\"));\n"
   ]
  },
  {
   "cell_type": "code",
   "execution_count": 38,
   "id": "75b48d79",
   "metadata": {},
   "outputs": [
    {
     "data": {
      "application/vnd.jupyter.widget-view+json": {
       "model_id": "1861453516fd499eb20004db0ccc294e",
       "version_major": 2,
       "version_minor": 0
      },
      "text/plain": [
       "interactive(children=(Dropdown(description='nationality', options=('German', 'British', 'Brazilian'), value='G…"
      ]
     },
     "metadata": {},
     "output_type": "display_data"
    }
   ],
   "source": [
    "\"\"\"\n",
    "Establish function \"threereturn\" which allows selection of three nationalities,\n",
    "countries, and circuit tiers, then returns a country, language, and number.\n",
    "\"\"\"\n",
    "def threereturn(nationality, country, circuit):\n",
    "    # Use an elif statement to determine the output country name based on the input nationality.\n",
    "    if nationality == \"German\":\n",
    "        countryname = \"Germany\"\n",
    "    elif nationality == \"British\":\n",
    "        countryname = \"Great Britain\"\n",
    "    else:\n",
    "        countryname = \"Brazil\"\n",
    "    display(countryname)\n",
    "    \n",
    "    # Use an elif statement to determine the output language based on the input country.\n",
    "    if country == \"Italy\":\n",
    "        language = \"Italian\"\n",
    "    elif country == \"Germany\":\n",
    "        language = \"German\"\n",
    "    else:\n",
    "        language = \"Spanish\"\n",
    "    display(language)\n",
    "    \n",
    "    # Use an elif statement to determine the output number based on the input circuit.\n",
    "    if circuit == \"Tier1\":\n",
    "        number = \"1\"\n",
    "    elif circuit == \"Tier2\":\n",
    "        number = \"2\"\n",
    "    else:\n",
    "        number = \"3\"\n",
    "    display(number)\n",
    "    \n",
    "# Create a widget that will interact with the nationality function.\n",
    "interact(threereturn, nationality = widgets.Dropdown(options = [\"German\", \"British\", \"Brazilian\"], value = \"German\"),\n",
    "         country = widgets.Dropdown(options = [\"Italy\", \"Germany\", \"Spain\"], value = \"Italy\"),\n",
    "         circuit = widgets.Dropdown(options = [\"Tier1\", \"Tier2\", \"Tier3\"], value = \"Tier1\"));"
   ]
  },
  {
   "cell_type": "markdown",
   "id": "0a91a1d6",
   "metadata": {},
   "source": [
    "In the function below we create a single row dataframe using this site (https://www.geeksforgeeks.org/different-ways-to-create-pandas-dataframe/)."
   ]
  },
  {
   "cell_type": "code",
   "execution_count": 39,
   "id": "15df21fb",
   "metadata": {},
   "outputs": [
    {
     "data": {
      "application/vnd.jupyter.widget-view+json": {
       "model_id": "f15b67d4398447a68d845aee9f387694",
       "version_major": 2,
       "version_minor": 0
      },
      "text/plain": [
       "interactive(children=(Dropdown(description='nationality', options=('German', 'British', 'Brazilian'), value='G…"
      ]
     },
     "metadata": {},
     "output_type": "display_data"
    }
   ],
   "source": [
    "\"\"\"\n",
    "Establish function \"onehot\" which allows selection of three nationalities,\n",
    "countries, and circuit tiers, then inputs them into dataframe input_df and returns the dataframe.\n",
    "\"\"\"\n",
    "def onehot(nationality, country, circuit):\n",
    "    # Use an elif statement to determine the output one-hot encoding based on the input nationality.\n",
    "    if nationality == \"German\":\n",
    "        nationality_CompletionStatus_1 = 0.209566\n",
    "        nationality_CompletionStatus_2 = 0.790434\n",
    "    elif nationality == \"British\":\n",
    "        nationality_CompletionStatus_1 = 0.240838\n",
    "        nationality_CompletionStatus_2 = 0.759162\n",
    "    else:\n",
    "        nationality_CompletionStatus_1 = 0.292359\n",
    "        nationality_CompletionStatus_2 = 0.707641\n",
    "    \n",
    "    # Use an elif statement to determine the output one-hot encoding based on the input country.\n",
    "    if country == \"Italy\":\n",
    "        country_CompletionStatus_1 = 0.279099\n",
    "        country_CompletionStatus_2 = 0.720901\n",
    "    elif country == \"Germany\":\n",
    "        country_CompletionStatus_1 = 0.291429\n",
    "        country_CompletionStatus_2 = 0.708571\n",
    "    else:\n",
    "        country_CompletionStatus_1 = 0.219697\n",
    "        country_CompletionStatus_2 = 0.780303\n",
    "    \n",
    "    # Use an elif statement to determine the output one-hot encoding based on the input circuit.\n",
    "    if circuit == \"Tier1\":\n",
    "        binned_circuits_CompletionStatus_1 = 0.253451\n",
    "        binned_circuits_CompletionStatus_2 = 0.746549\n",
    "    elif circuit == \"Tier2\":\n",
    "        binned_circuits_CompletionStatus_1 = 0.277588\n",
    "        binned_circuits_CompletionStatus_2 = 0.722412\n",
    "    else:\n",
    "        binned_circuits_CompletionStatus_1 = 0.235686\n",
    "        binned_circuits_CompletionStatus_2 = 0.764314\n",
    "    \n",
    "    # Establish the data of our input_df dataframe.\n",
    "    inputdata = [[nationality_CompletionStatus_1, nationality_CompletionStatus_2,\n",
    "                country_CompletionStatus_1, country_CompletionStatus_2,\n",
    "                binned_circuits_CompletionStatus_1, binned_circuits_CompletionStatus_2]]\n",
    "    \n",
    "    # Establish the dataframe input_df itself with pd.DataFrame.\n",
    "    input_df = pd.DataFrame(inputdata, columns = [\"nationality_CompletionStatus_1\", \"nationality_CompletionStatus_2\",\n",
    "                \"country_CompletionStatus_1\", \"country_CompletionStatus_2\",\n",
    "                \"binned_circuits_CompletionStatus_1\", \"binned_circuits_CompletionStatus_2\"])\n",
    "    \n",
    "    return(input_df)\n",
    "    \n",
    "# Create a widget that will interact with the onehot function.\n",
    "interact(onehot, nationality = widgets.Dropdown(options=[\"German\", \"British\", \"Brazilian\"], value=\"German\"),\n",
    "         country = widgets.Dropdown(options=[\"Italy\", \"Germany\", \"Spain\"], value=\"Italy\"),\n",
    "         circuit = widgets.Dropdown(options=[\"Tier1\", \"Tier2\", \"Tier3\"], value=\"Tier1\"));"
   ]
  },
  {
   "cell_type": "code",
   "execution_count": 40,
   "id": "8cd90228",
   "metadata": {},
   "outputs": [
    {
     "data": {
      "application/vnd.jupyter.widget-view+json": {
       "model_id": "c1c10a3555784836bcf7f50fdbbe3fea",
       "version_major": 2,
       "version_minor": 0
      },
      "text/plain": [
       "interactive(children=(Dropdown(description='nationality', options=('German', 'British', 'Brazilian'), value='G…"
      ]
     },
     "metadata": {},
     "output_type": "display_data"
    }
   ],
   "source": [
    "\"\"\"\n",
    "Establish function \"showvalues\" which allows selection of three nationalities,\n",
    "countries, and circuit tiers, as well as input one of each of the following values:\n",
    "grid, alt, average_lap_time, minimum_lap_time, PRCP, TAVG, TMAX, TMIN. Display the values.\n",
    "\n",
    "Place these values in the dataframe input_df and display the dataframe.\n",
    "\"\"\"\n",
    "def showvalues(nationality, country, circuit, grid, alt, average_lap_time, minimum_lap_time, PRCP, TAVG, TMAX, TMIN):\n",
    "    # Use an elif statement to determine the output one-hot encoding based on the input nationality.\n",
    "    if nationality == \"German\":\n",
    "        nationality_CompletionStatus_1 = 0.209566\n",
    "        nationality_CompletionStatus_2 = 0.790434\n",
    "    elif nationality == \"British\":\n",
    "        nationality_CompletionStatus_1 = 0.240838\n",
    "        nationality_CompletionStatus_2 = 0.759162\n",
    "    else:\n",
    "        nationality_CompletionStatus_1 = 0.292359\n",
    "        nationality_CompletionStatus_2 = 0.707641\n",
    "    \n",
    "    # Use an elif statement to determine the output one-hot encoding based on the input country.\n",
    "    if country == \"Italy\":\n",
    "        country_CompletionStatus_1 = 0.279099\n",
    "        country_CompletionStatus_2 = 0.720901\n",
    "    elif country == \"Germany\":\n",
    "        country_CompletionStatus_1 = 0.291429\n",
    "        country_CompletionStatus_2 = 0.708571\n",
    "    else:\n",
    "        country_CompletionStatus_1 = 0.219697\n",
    "        country_CompletionStatus_2 = 0.780303\n",
    "    \n",
    "    # Use an elif statement to determine the output one-hot encoding based on the input circuit.\n",
    "    if circuit == \"Tier1\":\n",
    "        binned_circuits_CompletionStatus_1 = 0.253451\n",
    "        binned_circuits_CompletionStatus_2 = 0.746549\n",
    "    elif circuit == \"Tier2\":\n",
    "        binned_circuits_CompletionStatus_1 = 0.277588\n",
    "        binned_circuits_CompletionStatus_2 = 0.722412\n",
    "    else:\n",
    "        binned_circuits_CompletionStatus_1 = 0.235686\n",
    "        binned_circuits_CompletionStatus_2 = 0.764314\n",
    "    \n",
    "    # Establish the data of our input_df dataframe.\n",
    "    inputdata = [[nationality_CompletionStatus_1, nationality_CompletionStatus_2,\n",
    "                country_CompletionStatus_1, country_CompletionStatus_2,\n",
    "                binned_circuits_CompletionStatus_1, binned_circuits_CompletionStatus_2,\n",
    "                grid, alt, average_lap_time, minimum_lap_time, PRCP, TAVG, TMAX, TMIN]]\n",
    "    \n",
    "    # Establish the dataframe input_df itself with pd.DataFrame.\n",
    "    input_df = pd.DataFrame(inputdata, columns =\n",
    "                [\"nationality_CompletionStatus_1\", \"nationality_CompletionStatus_2\",\n",
    "                \"country_CompletionStatus_1\", \"country_CompletionStatus_2\",\n",
    "                \"binned_circuits_CompletionStatus_1\", \"binned_circuits_CompletionStatus_2\",\n",
    "                \"grid\", \"alt\", \"average_lap_time\", \"minimum_lap_time\", \"PRCP\", \"TAVG\", \"TMAX\", \"TMIN\"])\n",
    "    \n",
    "    display(grid, alt, average_lap_time, minimum_lap_time, PRCP, TAVG, TMAX, TMIN)\n",
    "    \n",
    "    display(input_df)\n",
    "    \n",
    "# Create a widget that will interact with the showvalues function.\n",
    "interact(showvalues, nationality = widgets.Dropdown(options = [\"German\", \"British\", \"Brazilian\"], value = \"German\"),\n",
    "         country = widgets.Dropdown(options = [\"Italy\", \"Germany\", \"Spain\"], value = \"Italy\"),\n",
    "         circuit = widgets.Dropdown(options = [\"Tier1\", \"Tier2\", \"Tier3\"], value = \"Tier1\"),\n",
    "         grid = widgets.BoundedIntText(min = 0, max = 30, description = 'Grid:', disabled = False, continuous_update = False),\n",
    "         alt = widgets.BoundedFloatText(min = -100, max = 2500, description = 'Altitude:', disabled = False, continuous_update = False),\n",
    "         average_lap_time = widgets.BoundedFloatText(min = 0, max = 300000, description = 'Average Lap Time:', disabled = False, continuous_update = False),\n",
    "         minimum_lap_time = widgets.BoundedFloatText(min = 0, max = 300000, description = 'Minimum Lap Time:', disabled = False, continuous_update = False),\n",
    "         PRCP = widgets.BoundedFloatText(min = 0, max = 20, description = 'Precipitation:', disabled = False, continuous_update = False),\n",
    "         TAVG = widgets.BoundedFloatText(min = 0, max = 120, description = 'Average Temperature - Fahrenheit:', disabled = False, continuous_update = False),\n",
    "         TMAX = widgets.BoundedFloatText(min = 0, max = 120, description = 'Max Temperature - Fahrenheit:', disabled = False, continuous_update = False),\n",
    "         TMIN = widgets.BoundedFloatText(min = 0, max = 120, description = 'Min Temperature - Fahrenheit:', disabled = False, continuous_update = False));\n"
   ]
  },
  {
   "cell_type": "code",
   "execution_count": 41,
   "id": "f7fb10c4",
   "metadata": {},
   "outputs": [],
   "source": [
    "# Create the function widgetpred. We'll use this in the function predict.\n",
    "def widgetpred(X_resampled, y_resampled, X_test, estimator, **kwargs):\n",
    "    \"\"\"\n",
    "    Test various estimators.\n",
    "    \"\"\"\n",
    "    # Instantiate the classification model and visualizer\n",
    "    estimator.fit(X_resampled, y_resampled, **kwargs)  \n",
    "    \n",
    "    predicted = estimator.predict(X_test)\n",
    "    \n",
    "    # Compute and return F1 (harmonic mean of precision and recall)\n",
    "    return predicted"
   ]
  },
  {
   "cell_type": "code",
   "execution_count": 42,
   "id": "411ff127",
   "metadata": {},
   "outputs": [
    {
     "data": {
      "application/vnd.jupyter.widget-view+json": {
       "model_id": "bcd5123bd3664da0aa86bd153bc2e182",
       "version_major": 2,
       "version_minor": 0
      },
      "text/plain": [
       "interactive(children=(Dropdown(description='nationality', options=('German', 'British', 'Brazilian'), value='G…"
      ]
     },
     "metadata": {},
     "output_type": "display_data"
    }
   ],
   "source": [
    "\"\"\"\n",
    "Establish function \"predict\" which allows selection of three nationalities,\n",
    "countries, and circuit tiers, as well as input one of each of the following values:\n",
    "grid, alt, average_lap_time, minimum_lap_time, PRCP, TAVG, TMAX, TMIN.\n",
    "\n",
    "Place these values in the dataframe input_df and display the dataframe.\n",
    "\n",
    "Create prediction based on widgetpred function and display the prediction:\n",
    "0 for did not finish, 1 for did finish.\n",
    "\"\"\"\n",
    "def predictfinish(nationality, country, circuit, grid, alt, average_lap_time, minimum_lap_time, PRCP, TAVG, TMAX, TMIN):\n",
    "    # Use an elif statement to determine the output one-hot encoding based on the input nationality.\n",
    "    if nationality == \"German\":\n",
    "        nationality_CompletionStatus_1 = 0.209566\n",
    "        nationality_CompletionStatus_2 = 0.790434\n",
    "    elif nationality == \"British\":\n",
    "        nationality_CompletionStatus_1 = 0.240838\n",
    "        nationality_CompletionStatus_2 = 0.759162\n",
    "    else:\n",
    "        nationality_CompletionStatus_1 = 0.292359\n",
    "        nationality_CompletionStatus_2 = 0.707641\n",
    "    \n",
    "    # Use an elif statement to determine the output one-hot encoding based on the input country.\n",
    "    if country == \"Italy\":\n",
    "        country_CompletionStatus_1 = 0.279099\n",
    "        country_CompletionStatus_2 = 0.720901\n",
    "    elif country == \"Germany\":\n",
    "        country_CompletionStatus_1 = 0.291429\n",
    "        country_CompletionStatus_2 = 0.708571\n",
    "    else:\n",
    "        country_CompletionStatus_1 = 0.219697\n",
    "        country_CompletionStatus_2 = 0.780303\n",
    "    \n",
    "    # Use an elif statement to determine the output one-hot encoding based on the input circuit.\n",
    "    if circuit == \"Tier1\":\n",
    "        binned_circuits_CompletionStatus_1 = 0.253451\n",
    "        binned_circuits_CompletionStatus_2 = 0.746549\n",
    "    elif circuit == \"Tier2\":\n",
    "        binned_circuits_CompletionStatus_1 = 0.277588\n",
    "        binned_circuits_CompletionStatus_2 = 0.722412\n",
    "    else:\n",
    "        binned_circuits_CompletionStatus_1 = 0.235686\n",
    "        binned_circuits_CompletionStatus_2 = 0.764314\n",
    "    \n",
    "    # Establish the data of our input_df dataframe.\n",
    "    inputdata = [[nationality_CompletionStatus_1, nationality_CompletionStatus_2,\n",
    "                country_CompletionStatus_1, country_CompletionStatus_2,\n",
    "                binned_circuits_CompletionStatus_1, binned_circuits_CompletionStatus_2,\n",
    "                grid, alt, average_lap_time, minimum_lap_time, PRCP, TAVG, TMAX, TMIN]]\n",
    "    \n",
    "    # Establish the dataframe input_df itself with pd.DataFrame.\n",
    "    input_df = pd.DataFrame(inputdata, columns =\n",
    "                [\"nationality_CompletionStatus_1\", \"nationality_CompletionStatus_2\",\n",
    "                \"country_CompletionStatus_1\", \"country_CompletionStatus_2\",\n",
    "                \"binned_circuits_CompletionStatus_1\", \"binned_circuits_CompletionStatus_2\",\n",
    "                \"grid\", \"alt\", \"average_lap_time\", \"minimum_lap_time\", \"PRCP\", \"TAVG\", \"TMAX\", \"TMIN\"])\n",
    "    \n",
    "    display(input_df)\n",
    "    \n",
    "    # Using the widgetpred function, predict whether the car will finish the race or not given input_df.\n",
    "    pred = widgetpred(X_resampled, y_resampled, input_df, LogisticRegression(solver='lbfgs'))\n",
    "    \n",
    "    # Using an if-else statement, determine what interactors will see given the data they input.\n",
    "    if pred[0] == 1:\n",
    "        writtenpred = \"finish the race.\"\n",
    "    else:\n",
    "        writtenpred = \"not finish the race.\"\n",
    "    \n",
    "    print(\"According to our Logistic Regression model, your car is predicted to\", writtenpred)\n",
    "\n",
    "# Create a widget that will interact with the predictfinish function.\n",
    "interact(predictfinish, nationality = widgets.Dropdown(options = [\"German\", \"British\", \"Brazilian\"], value = \"German\"),\n",
    "         country = widgets.Dropdown(options = [\"Italy\", \"Germany\", \"Spain\"], value = \"Italy\"),\n",
    "         circuit = widgets.Dropdown(options = [\"Tier1\", \"Tier2\", \"Tier3\"], value = \"Tier1\"),\n",
    "         grid = widgets.BoundedIntText(min = 0, max = 30, description = 'Grid:', disabled = False, continuous_update = False),\n",
    "         alt = widgets.BoundedFloatText(min = -100, max = 2500, description = 'Altitude:', disabled = False, continuous_update = False),\n",
    "         average_lap_time = widgets.BoundedFloatText(min = 0, max = 300000, description = 'Average Lap Time:', disabled = False, continuous_update = False),\n",
    "         minimum_lap_time = widgets.BoundedFloatText(min = 0, max = 300000, description = 'Minimum Lap Time:', disabled = False, continuous_update = False),\n",
    "         PRCP = widgets.BoundedFloatText(min = 0, max = 20, description = 'Precipitation:', disabled = False, continuous_update = False),\n",
    "         TAVG = widgets.BoundedFloatText(min = 0, max = 120, description = 'Average Temperature - Fahrenheit:', disabled = False, continuous_update = False),\n",
    "         TMAX = widgets.BoundedFloatText(min = 0, max = 120, description = 'Max Temperature - Fahrenheit:', disabled = False, continuous_update = False),\n",
    "         TMIN = widgets.BoundedFloatText(min = 0, max = 120, description = 'Min Temperature - Fahrenheit:', disabled = False, continuous_update = False));"
   ]
  },
  {
   "cell_type": "code",
   "execution_count": null,
   "id": "b4fa73d5",
   "metadata": {},
   "outputs": [],
   "source": []
  }
 ],
 "metadata": {
  "kernelspec": {
   "display_name": "Python 3",
   "language": "python",
   "name": "python3"
  },
  "language_info": {
   "codemirror_mode": {
    "name": "ipython",
    "version": 3
   },
   "file_extension": ".py",
   "mimetype": "text/x-python",
   "name": "python",
   "nbconvert_exporter": "python",
   "pygments_lexer": "ipython3",
   "version": "3.8.3"
  }
 },
 "nbformat": 4,
 "nbformat_minor": 5
}
