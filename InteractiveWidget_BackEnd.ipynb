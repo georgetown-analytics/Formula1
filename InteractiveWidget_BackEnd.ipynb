{
 "cells": [
  {
   "cell_type": "markdown",
   "id": "d384730c",
   "metadata": {},
   "source": [
    "# Interactive Widget: Back End Code"
   ]
  },
  {
   "cell_type": "markdown",
   "id": "39a8e906",
   "metadata": {},
   "source": [
    "Throughout this workbook, we used steps from the following web pages to inform our widgets.\n",
    "- https://ipywidgets.readthedocs.io/en/latest/examples/Widget%20Basics.html\n",
    "- https://ipywidgets.readthedocs.io/en/latest/examples/Widget%20List.html\n",
    "- https://ipywidgets.readthedocs.io/en/latest/examples/Using%20Interact.html"
   ]
  },
  {
   "cell_type": "markdown",
   "id": "832de4d2",
   "metadata": {},
   "source": [
    "## Setting Up the Model for the Widget"
   ]
  },
  {
   "cell_type": "markdown",
   "id": "5d51f2ee",
   "metadata": {},
   "source": [
    "### Set up the training and testing sets."
   ]
  },
  {
   "cell_type": "code",
   "execution_count": 51,
   "id": "79471aae",
   "metadata": {},
   "outputs": [],
   "source": [
    "# Import necessary data libraries.\n",
    "from collections import Counter\n",
    "from imblearn.datasets import fetch_datasets\n",
    "from sklearn.model_selection import train_test_split\n",
    "from sklearn.pipeline import make_pipeline\n",
    "from imblearn.pipeline import make_pipeline as make_pipeline_imb\n",
    "from imblearn.over_sampling import SMOTE\n",
    "from imblearn.under_sampling import NearMiss\n",
    "from imblearn.metrics import classification_report_imbalanced\n",
    "from sklearn.metrics import precision_score, recall_score, f1_score, roc_auc_score, accuracy_score, classification_report\n",
    "import numpy as np \n",
    "import pandas as pd"
   ]
  },
  {
   "cell_type": "code",
   "execution_count": 52,
   "id": "9a1df123",
   "metadata": {},
   "outputs": [],
   "source": [
    "# Set up datasets.\n",
    "master_data_url = 'https://raw.githubusercontent.com/georgetown-analytics/Formula1/main/data/processed/MasterData5.csv'\n",
    "master_data = pd.read_csv(master_data_url, sep = ',', engine = 'python')\n",
    "one_hot_url = 'https://raw.githubusercontent.com/georgetown-analytics/Formula1/main/data/processed/OneHot_MasterData5.csv'\n",
    "one_hot = pd.read_csv(one_hot_url, sep = ',', engine = 'python')"
   ]
  },
  {
   "cell_type": "code",
   "execution_count": 3,
   "id": "055c5456",
   "metadata": {},
   "outputs": [],
   "source": [
    "# Drop any nulls.\n",
    "data_df = one_hot.dropna(axis=0)"
   ]
  },
  {
   "cell_type": "code",
   "execution_count": 54,
   "id": "32810dc0",
   "metadata": {},
   "outputs": [],
   "source": [
    "# Establish our X (independent) variables.\n",
    "X = data_df[['grid', 'alt', 'average_lap_time',\n",
    "       'minimum_lap_time', 'PRCP', 'TAVG', 'TMAX', 'TMIN',\n",
    "       'country_CompletionStatus_1', 'nationality_CompletionStatus_1',\n",
    "       'binned_circuits_CompletionStatus_1', \"trackType_CompletionStatus_1\",\n",
    "       'country_CompletionStatus_2', 'nationality_CompletionStatus_2',\n",
    "       'binned_circuits_CompletionStatus_2', \"trackType_CompletionStatus_2\"]]"
   ]
  },
  {
   "cell_type": "code",
   "execution_count": 55,
   "id": "4518d1bf",
   "metadata": {},
   "outputs": [],
   "source": [
    "# Establish our y (dependent, target) variable.\n",
    "y = data_df['CompletionStatus']"
   ]
  },
  {
   "cell_type": "code",
   "execution_count": 56,
   "id": "ab6d4479",
   "metadata": {},
   "outputs": [],
   "source": [
    "# Split our data into training and testing sets.\n",
    "X_train, X_test, y_train, y_test = train_test_split(X, y, test_size=0.2)"
   ]
  },
  {
   "cell_type": "code",
   "execution_count": 57,
   "id": "1cd45bf6",
   "metadata": {},
   "outputs": [],
   "source": [
    "# Import SMOTE so we can deal with our class imbalance.\n",
    "from imblearn.over_sampling import SMOTE, ADASYN"
   ]
  },
  {
   "cell_type": "code",
   "execution_count": 58,
   "id": "0cecf5ae",
   "metadata": {},
   "outputs": [],
   "source": [
    "# Use SMOTE on our X_ and y_train to create X_ and y_resampled.\n",
    "X_resampled, y_resampled = SMOTE().fit_resample(X_train, y_train)"
   ]
  },
  {
   "cell_type": "code",
   "execution_count": 59,
   "id": "e850283f",
   "metadata": {},
   "outputs": [
    {
     "name": "stdout",
     "output_type": "stream",
     "text": [
      "[(0, 4405), (1, 4405)]\n"
     ]
    }
   ],
   "source": [
    "# Check the balance of our resampled data.\n",
    "print(sorted(Counter(y_resampled).items()))"
   ]
  },
  {
   "cell_type": "markdown",
   "id": "82fa41c8",
   "metadata": {},
   "source": [
    "Above we can see that we've fixed the class imbalance of our training sets."
   ]
  },
  {
   "cell_type": "markdown",
   "id": "293a923c",
   "metadata": {},
   "source": [
    "### Create CSV Files\n",
    "\n",
    "In order to not have a randomized training set every time someone uses the widget, we'll create CSV files of our training data that we can call back to."
   ]
  },
  {
   "cell_type": "code",
   "execution_count": 60,
   "id": "c349f3ff",
   "metadata": {},
   "outputs": [],
   "source": [
    "# Use pandas.DataFrame.to_csv to create the CSV file.\n",
    "X_resampled.to_csv(\"data/interim/X_resampled_forWidget.csv\", index = False)"
   ]
  },
  {
   "cell_type": "code",
   "execution_count": 61,
   "id": "b2fde7e0",
   "metadata": {},
   "outputs": [],
   "source": [
    "# Use pandas.DataFrame.to_csv to create the CSV file.\n",
    "y_resampled.to_csv(\"data/interim/y_resampled_forWidget.csv\", index = False)"
   ]
  },
  {
   "cell_type": "markdown",
   "id": "19e8f7e4",
   "metadata": {},
   "source": [
    "Further down, upon running our model and after we brought in the above CSV files, we got an error stating `\"A column-vector y was passed when a 1d array was expected.\"` We know that the model worked before hand, so we need to revert our new y_resampled to the same type it used to be."
   ]
  },
  {
   "cell_type": "code",
   "execution_count": 62,
   "id": "fafb125f",
   "metadata": {},
   "outputs": [
    {
     "data": {
      "text/plain": [
       "pandas.core.series.Series"
      ]
     },
     "execution_count": 62,
     "metadata": {},
     "output_type": "execute_result"
    }
   ],
   "source": [
    "# What type was y_resampled?\n",
    "type(y_resampled)"
   ]
  },
  {
   "cell_type": "markdown",
   "id": "e858f8a5",
   "metadata": {},
   "source": [
    "The result above says that `y_resampled` used to be pandas.core.series.Series."
   ]
  },
  {
   "cell_type": "markdown",
   "id": "2ca44ec5",
   "metadata": {},
   "source": [
    "### Set Up the Initial Model\n",
    "\n",
    "Although our work involves several models, we're only using one for now: Logistic Regression. This model will run with the regular `X_test` and `y_test` data."
   ]
  },
  {
   "cell_type": "code",
   "execution_count": 63,
   "id": "0285bb0b",
   "metadata": {},
   "outputs": [],
   "source": [
    "# Import the necessary data libraries that we'll need for our model.\n",
    "from sklearn.metrics import f1_score\n",
    "from sklearn.pipeline import Pipeline\n",
    "from sklearn.model_selection import train_test_split as tts\n",
    "from sklearn.preprocessing import OneHotEncoder, LabelEncoder\n",
    "from sklearn.linear_model import LogisticRegression\n",
    "from yellowbrick.classifier import ClassificationReport"
   ]
  },
  {
   "cell_type": "code",
   "execution_count": 64,
   "id": "c4e53b0d",
   "metadata": {},
   "outputs": [],
   "source": [
    "# Set up datasets.\n",
    "X_resampled_url = 'https://raw.githubusercontent.com/georgetown-analytics/Formula1/main/data/interim/X_resampled_forWidget.csv'\n",
    "X_resampled = pd.read_csv(X_resampled_url, sep = ',', engine = 'python')\n",
    "y_resampled_url = 'https://raw.githubusercontent.com/georgetown-analytics/Formula1/main/data/interim/y_resampled_forWidget.csv'\n",
    "y_resampled = pd.read_csv(y_resampled_url, sep = ',', engine = 'python')"
   ]
  },
  {
   "cell_type": "code",
   "execution_count": 65,
   "id": "948d9b68",
   "metadata": {},
   "outputs": [
    {
     "data": {
      "text/html": [
       "<div>\n",
       "<style scoped>\n",
       "    .dataframe tbody tr th:only-of-type {\n",
       "        vertical-align: middle;\n",
       "    }\n",
       "\n",
       "    .dataframe tbody tr th {\n",
       "        vertical-align: top;\n",
       "    }\n",
       "\n",
       "    .dataframe thead th {\n",
       "        text-align: right;\n",
       "    }\n",
       "</style>\n",
       "<table border=\"1\" class=\"dataframe\">\n",
       "  <thead>\n",
       "    <tr style=\"text-align: right;\">\n",
       "      <th></th>\n",
       "      <th>grid</th>\n",
       "      <th>alt</th>\n",
       "      <th>average_lap_time</th>\n",
       "      <th>minimum_lap_time</th>\n",
       "      <th>PRCP</th>\n",
       "      <th>TAVG</th>\n",
       "      <th>TMAX</th>\n",
       "      <th>TMIN</th>\n",
       "      <th>country_CompletionStatus_1</th>\n",
       "      <th>nationality_CompletionStatus_1</th>\n",
       "      <th>binned_circuits_CompletionStatus_1</th>\n",
       "      <th>trackType_CompletionStatus_1</th>\n",
       "      <th>country_CompletionStatus_2</th>\n",
       "      <th>nationality_CompletionStatus_2</th>\n",
       "      <th>binned_circuits_CompletionStatus_2</th>\n",
       "      <th>trackType_CompletionStatus_2</th>\n",
       "    </tr>\n",
       "  </thead>\n",
       "  <tbody>\n",
       "    <tr>\n",
       "      <th>0</th>\n",
       "      <td>20</td>\n",
       "      <td>678</td>\n",
       "      <td>71014.471429</td>\n",
       "      <td>68216</td>\n",
       "      <td>0.00</td>\n",
       "      <td>61.0</td>\n",
       "      <td>67.0</td>\n",
       "      <td>50.0</td>\n",
       "      <td>0.271930</td>\n",
       "      <td>0.239583</td>\n",
       "      <td>0.244750</td>\n",
       "      <td>0.237243</td>\n",
       "      <td>0.728070</td>\n",
       "      <td>0.760417</td>\n",
       "      <td>0.755250</td>\n",
       "      <td>0.762757</td>\n",
       "    </tr>\n",
       "    <tr>\n",
       "      <th>1</th>\n",
       "      <td>24</td>\n",
       "      <td>785</td>\n",
       "      <td>91658.782609</td>\n",
       "      <td>81085</td>\n",
       "      <td>0.00</td>\n",
       "      <td>74.0</td>\n",
       "      <td>81.0</td>\n",
       "      <td>67.0</td>\n",
       "      <td>0.261224</td>\n",
       "      <td>0.231140</td>\n",
       "      <td>0.277588</td>\n",
       "      <td>0.237243</td>\n",
       "      <td>0.738776</td>\n",
       "      <td>0.768860</td>\n",
       "      <td>0.722412</td>\n",
       "      <td>0.762757</td>\n",
       "    </tr>\n",
       "    <tr>\n",
       "      <th>2</th>\n",
       "      <td>16</td>\n",
       "      <td>2</td>\n",
       "      <td>108154.058824</td>\n",
       "      <td>103979</td>\n",
       "      <td>0.00</td>\n",
       "      <td>57.0</td>\n",
       "      <td>78.0</td>\n",
       "      <td>42.0</td>\n",
       "      <td>0.113636</td>\n",
       "      <td>0.239583</td>\n",
       "      <td>0.213611</td>\n",
       "      <td>0.237243</td>\n",
       "      <td>0.886364</td>\n",
       "      <td>0.760417</td>\n",
       "      <td>0.786389</td>\n",
       "      <td>0.762757</td>\n",
       "    </tr>\n",
       "    <tr>\n",
       "      <th>3</th>\n",
       "      <td>10</td>\n",
       "      <td>-7</td>\n",
       "      <td>110366.686275</td>\n",
       "      <td>106822</td>\n",
       "      <td>0.83</td>\n",
       "      <td>59.0</td>\n",
       "      <td>65.0</td>\n",
       "      <td>51.0</td>\n",
       "      <td>0.240000</td>\n",
       "      <td>0.240838</td>\n",
       "      <td>0.213611</td>\n",
       "      <td>0.287045</td>\n",
       "      <td>0.760000</td>\n",
       "      <td>0.759162</td>\n",
       "      <td>0.786389</td>\n",
       "      <td>0.712955</td>\n",
       "    </tr>\n",
       "    <tr>\n",
       "      <th>4</th>\n",
       "      <td>2</td>\n",
       "      <td>678</td>\n",
       "      <td>70065.746479</td>\n",
       "      <td>67058</td>\n",
       "      <td>0.00</td>\n",
       "      <td>72.0</td>\n",
       "      <td>82.0</td>\n",
       "      <td>62.0</td>\n",
       "      <td>0.271930</td>\n",
       "      <td>0.240838</td>\n",
       "      <td>0.244750</td>\n",
       "      <td>0.237243</td>\n",
       "      <td>0.728070</td>\n",
       "      <td>0.759162</td>\n",
       "      <td>0.755250</td>\n",
       "      <td>0.762757</td>\n",
       "    </tr>\n",
       "  </tbody>\n",
       "</table>\n",
       "</div>"
      ],
      "text/plain": [
       "   grid  alt  average_lap_time  minimum_lap_time  PRCP  TAVG  TMAX  TMIN  \\\n",
       "0    20  678      71014.471429             68216  0.00  61.0  67.0  50.0   \n",
       "1    24  785      91658.782609             81085  0.00  74.0  81.0  67.0   \n",
       "2    16    2     108154.058824            103979  0.00  57.0  78.0  42.0   \n",
       "3    10   -7     110366.686275            106822  0.83  59.0  65.0  51.0   \n",
       "4     2  678      70065.746479             67058  0.00  72.0  82.0  62.0   \n",
       "\n",
       "   country_CompletionStatus_1  nationality_CompletionStatus_1  \\\n",
       "0                    0.271930                        0.239583   \n",
       "1                    0.261224                        0.231140   \n",
       "2                    0.113636                        0.239583   \n",
       "3                    0.240000                        0.240838   \n",
       "4                    0.271930                        0.240838   \n",
       "\n",
       "   binned_circuits_CompletionStatus_1  trackType_CompletionStatus_1  \\\n",
       "0                            0.244750                      0.237243   \n",
       "1                            0.277588                      0.237243   \n",
       "2                            0.213611                      0.237243   \n",
       "3                            0.213611                      0.287045   \n",
       "4                            0.244750                      0.237243   \n",
       "\n",
       "   country_CompletionStatus_2  nationality_CompletionStatus_2  \\\n",
       "0                    0.728070                        0.760417   \n",
       "1                    0.738776                        0.768860   \n",
       "2                    0.886364                        0.760417   \n",
       "3                    0.760000                        0.759162   \n",
       "4                    0.728070                        0.759162   \n",
       "\n",
       "   binned_circuits_CompletionStatus_2  trackType_CompletionStatus_2  \n",
       "0                            0.755250                      0.762757  \n",
       "1                            0.722412                      0.762757  \n",
       "2                            0.786389                      0.762757  \n",
       "3                            0.786389                      0.712955  \n",
       "4                            0.755250                      0.762757  "
      ]
     },
     "execution_count": 65,
     "metadata": {},
     "output_type": "execute_result"
    }
   ],
   "source": [
    "# View X_resampled.\n",
    "X_resampled.head()"
   ]
  },
  {
   "cell_type": "markdown",
   "id": "01fc9657",
   "metadata": {},
   "source": [
    "We know from testing the type of `y_resampled` before we brought in the CSV files that `y_resampled` needs to be a series in order for our model to run correctly. We also know from this site (https://datatofish.com/pandas-dataframe-to-series/) how to change a dataframe into a series."
   ]
  },
  {
   "cell_type": "code",
   "execution_count": 66,
   "id": "8464a347",
   "metadata": {},
   "outputs": [],
   "source": [
    "# Change the y_resampled dataframe into a y_resampled series.\n",
    "y_resampled = y_resampled.squeeze()"
   ]
  },
  {
   "cell_type": "code",
   "execution_count": 67,
   "id": "824d5bb7",
   "metadata": {},
   "outputs": [
    {
     "data": {
      "text/plain": [
       "0    1\n",
       "1    1\n",
       "2    1\n",
       "3    1\n",
       "4    1\n",
       "Name: CompletionStatus, dtype: int64"
      ]
     },
     "execution_count": 67,
     "metadata": {},
     "output_type": "execute_result"
    }
   ],
   "source": [
    "# View y_resampled.\n",
    "y_resampled.head()"
   ]
  },
  {
   "cell_type": "code",
   "execution_count": 68,
   "id": "14a3fa3f",
   "metadata": {},
   "outputs": [],
   "source": [
    "# Create the function score_model.\n",
    "def score_model(X_resampled, y_resampled, X_test, y_test, estimator, **kwargs):\n",
    "    \"\"\"\n",
    "    Test various estimators.\n",
    "    \"\"\"\n",
    "    # Instantiate the classification model and visualizer.\n",
    "    estimator.fit(X_resampled, y_resampled, **kwargs)  \n",
    "    \n",
    "    expected  = y_test\n",
    "    predicted = estimator.predict(X_test)\n",
    "    \n",
    "    # Compute and return F1 (harmonic mean of precision and recall).\n",
    "    print(\"{}: {}\".format(estimator.__class__.__name__, f1_score(expected, predicted)))"
   ]
  },
  {
   "cell_type": "code",
   "execution_count": 69,
   "id": "851232f7",
   "metadata": {},
   "outputs": [
    {
     "name": "stdout",
     "output_type": "stream",
     "text": [
      "LogisticRegression: 0.6375921375921376\n"
     ]
    }
   ],
   "source": [
    "# Run the Logistic Regression model.\n",
    "score_model(X_resampled, y_resampled, X_test, y_test, LogisticRegression(solver='lbfgs'))"
   ]
  },
  {
   "cell_type": "markdown",
   "id": "37851b38",
   "metadata": {},
   "source": [
    "## Widget Experimentation"
   ]
  },
  {
   "cell_type": "markdown",
   "id": "c8c3331f",
   "metadata": {},
   "source": [
    "### Set Up"
   ]
  },
  {
   "cell_type": "code",
   "execution_count": 70,
   "id": "ebfd2cc0",
   "metadata": {},
   "outputs": [],
   "source": [
    "# Import necessary data libraries.\n",
    "import pandas as pd\n",
    "import os \n",
    "import csv\n",
    "import io\n",
    "import requests\n",
    "import numpy as np\n",
    "import matplotlib.pyplot as plt\n",
    "from sklearn.preprocessing import OneHotEncoder\n",
    "import category_encoders as ce\n",
    "\n",
    "# The following are for Jupyter Widgets.\n",
    "import ipywidgets as widgets\n",
    "from IPython.display import display\n",
    "from __future__ import print_function\n",
    "from ipywidgets import interact, interactive, fixed, interact_manual\n",
    "import ipywidgets as widgets\n",
    "from ipywidgets import FloatSlider"
   ]
  },
  {
   "cell_type": "code",
   "execution_count": 71,
   "id": "908e7149",
   "metadata": {},
   "outputs": [
    {
     "data": {
      "text/plain": [
       "Index(['raceId', 'driverId', 'constructorId', 'grid', 'position',\n",
       "       'positionOrder', 'laps', 'fastestLap', 'rank', 'fastestLapSpeed',\n",
       "       'familyStatus', 'CompletionStatus', 'year', 'circuitId', 'alt',\n",
       "       'isHistoric', 'total_lap_time', 'average_lap_time', 'minimum_lap_time',\n",
       "       'PRCP', 'TAVG', 'TMAX', 'TMIN', 'positionText_CompletionStatus_1',\n",
       "       'country_CompletionStatus_1', 'trackType_CompletionStatus_1',\n",
       "       'nationality_CompletionStatus_1',\n",
       "       'bundled_circuitId_CompletionStatus_1',\n",
       "       'binned_circuits_CompletionStatus_1', 'positionText_CompletionStatus_2',\n",
       "       'country_CompletionStatus_2', 'trackType_CompletionStatus_2',\n",
       "       'nationality_CompletionStatus_2',\n",
       "       'bundled_circuitId_CompletionStatus_2',\n",
       "       'binned_circuits_CompletionStatus_2'],\n",
       "      dtype='object')"
      ]
     },
     "execution_count": 71,
     "metadata": {},
     "output_type": "execute_result"
    }
   ],
   "source": [
    "# What columns are in one_hot?\n",
    "one_hot.columns"
   ]
  },
  {
   "cell_type": "code",
   "execution_count": 72,
   "id": "5f7549ce",
   "metadata": {},
   "outputs": [],
   "source": [
    "# Select the identifiable columns and the columns that are one-hot encoded. Put these into refined_one_hot.\n",
    "refined_one_hot = one_hot[['raceId', 'driverId',\n",
    "       'country_CompletionStatus_1', 'trackType_CompletionStatus_1',\n",
    "       'nationality_CompletionStatus_1',\n",
    "       'binned_circuits_CompletionStatus_1',\n",
    "       'country_CompletionStatus_2', 'trackType_CompletionStatus_2',\n",
    "       'nationality_CompletionStatus_2',\n",
    "       'binned_circuits_CompletionStatus_2']]"
   ]
  },
  {
   "cell_type": "code",
   "execution_count": 73,
   "id": "e3b9cd29",
   "metadata": {},
   "outputs": [
    {
     "data": {
      "text/plain": [
       "Index(['raceId', 'driverId', 'country_CompletionStatus_1',\n",
       "       'trackType_CompletionStatus_1', 'nationality_CompletionStatus_1',\n",
       "       'binned_circuits_CompletionStatus_1', 'country_CompletionStatus_2',\n",
       "       'trackType_CompletionStatus_2', 'nationality_CompletionStatus_2',\n",
       "       'binned_circuits_CompletionStatus_2'],\n",
       "      dtype='object')"
      ]
     },
     "execution_count": 73,
     "metadata": {},
     "output_type": "execute_result"
    }
   ],
   "source": [
    "# Check we have the correct columns in refined_one_hot.\n",
    "refined_one_hot.columns"
   ]
  },
  {
   "cell_type": "code",
   "execution_count": 74,
   "id": "1e5996dd",
   "metadata": {},
   "outputs": [
    {
     "data": {
      "text/plain": [
       "Index(['raceId', 'driverId', 'constructorId', 'grid', 'laps', 'familyStatus',\n",
       "       'Completion Status', 'year', 'circuitId', 'country', 'alt',\n",
       "       'isHistoric', 'trackType', 'nationality', 'total_lap_time',\n",
       "       'average_lap_time', 'minimum_lap_time', 'PRCP', 'TAVG', 'TMAX', 'TMIN',\n",
       "       'binned_circuits'],\n",
       "      dtype='object')"
      ]
     },
     "execution_count": 74,
     "metadata": {},
     "output_type": "execute_result"
    }
   ],
   "source": [
    "# What columns are in master_data?\n",
    "master_data.columns"
   ]
  },
  {
   "cell_type": "code",
   "execution_count": 75,
   "id": "7104cb61",
   "metadata": {},
   "outputs": [],
   "source": [
    "# Select the identifiable columns and the columns that will be one-hot encoded. Put these into refined_master.\n",
    "refined_master = master_data[['raceId', 'driverId', 'country', 'trackType', 'nationality', 'binned_circuits']]"
   ]
  },
  {
   "cell_type": "code",
   "execution_count": 76,
   "id": "5d67c90b",
   "metadata": {},
   "outputs": [
    {
     "data": {
      "text/plain": [
       "Index(['raceId', 'driverId', 'country', 'trackType', 'nationality',\n",
       "       'binned_circuits'],\n",
       "      dtype='object')"
      ]
     },
     "execution_count": 76,
     "metadata": {},
     "output_type": "execute_result"
    }
   ],
   "source": [
    "# Check we have the correct columns in refined_master.\n",
    "refined_master.columns"
   ]
  },
  {
   "cell_type": "code",
   "execution_count": 77,
   "id": "a6fc7f7f",
   "metadata": {},
   "outputs": [
    {
     "data": {
      "text/html": [
       "<div>\n",
       "<style scoped>\n",
       "    .dataframe tbody tr th:only-of-type {\n",
       "        vertical-align: middle;\n",
       "    }\n",
       "\n",
       "    .dataframe tbody tr th {\n",
       "        vertical-align: top;\n",
       "    }\n",
       "\n",
       "    .dataframe thead th {\n",
       "        text-align: right;\n",
       "    }\n",
       "</style>\n",
       "<table border=\"1\" class=\"dataframe\">\n",
       "  <thead>\n",
       "    <tr style=\"text-align: right;\">\n",
       "      <th></th>\n",
       "      <th>raceId</th>\n",
       "      <th>driverId</th>\n",
       "      <th>country</th>\n",
       "      <th>trackType</th>\n",
       "      <th>nationality</th>\n",
       "      <th>binned_circuits</th>\n",
       "      <th>country_CompletionStatus_1</th>\n",
       "      <th>trackType_CompletionStatus_1</th>\n",
       "      <th>nationality_CompletionStatus_1</th>\n",
       "      <th>binned_circuits_CompletionStatus_1</th>\n",
       "      <th>country_CompletionStatus_2</th>\n",
       "      <th>trackType_CompletionStatus_2</th>\n",
       "      <th>nationality_CompletionStatus_2</th>\n",
       "      <th>binned_circuits_CompletionStatus_2</th>\n",
       "    </tr>\n",
       "  </thead>\n",
       "  <tbody>\n",
       "    <tr>\n",
       "      <th>0</th>\n",
       "      <td>1</td>\n",
       "      <td>2</td>\n",
       "      <td>Australia</td>\n",
       "      <td>2</td>\n",
       "      <td>German</td>\n",
       "      <td>Tier2</td>\n",
       "      <td>0.351812</td>\n",
       "      <td>0.287045</td>\n",
       "      <td>0.209566</td>\n",
       "      <td>0.277588</td>\n",
       "      <td>0.648188</td>\n",
       "      <td>0.712955</td>\n",
       "      <td>0.790434</td>\n",
       "      <td>0.722412</td>\n",
       "    </tr>\n",
       "    <tr>\n",
       "      <th>1</th>\n",
       "      <td>1</td>\n",
       "      <td>3</td>\n",
       "      <td>Australia</td>\n",
       "      <td>2</td>\n",
       "      <td>German</td>\n",
       "      <td>Tier2</td>\n",
       "      <td>0.351812</td>\n",
       "      <td>0.287045</td>\n",
       "      <td>0.209566</td>\n",
       "      <td>0.277588</td>\n",
       "      <td>0.648188</td>\n",
       "      <td>0.712955</td>\n",
       "      <td>0.790434</td>\n",
       "      <td>0.722412</td>\n",
       "    </tr>\n",
       "    <tr>\n",
       "      <th>2</th>\n",
       "      <td>1</td>\n",
       "      <td>4</td>\n",
       "      <td>Australia</td>\n",
       "      <td>2</td>\n",
       "      <td>Spanish</td>\n",
       "      <td>Tier2</td>\n",
       "      <td>0.351812</td>\n",
       "      <td>0.287045</td>\n",
       "      <td>0.231140</td>\n",
       "      <td>0.277588</td>\n",
       "      <td>0.648188</td>\n",
       "      <td>0.712955</td>\n",
       "      <td>0.768860</td>\n",
       "      <td>0.722412</td>\n",
       "    </tr>\n",
       "    <tr>\n",
       "      <th>3</th>\n",
       "      <td>1</td>\n",
       "      <td>6</td>\n",
       "      <td>Australia</td>\n",
       "      <td>2</td>\n",
       "      <td>Japanese</td>\n",
       "      <td>Tier2</td>\n",
       "      <td>0.351812</td>\n",
       "      <td>0.287045</td>\n",
       "      <td>0.361371</td>\n",
       "      <td>0.277588</td>\n",
       "      <td>0.648188</td>\n",
       "      <td>0.712955</td>\n",
       "      <td>0.638629</td>\n",
       "      <td>0.722412</td>\n",
       "    </tr>\n",
       "    <tr>\n",
       "      <th>4</th>\n",
       "      <td>1</td>\n",
       "      <td>7</td>\n",
       "      <td>Australia</td>\n",
       "      <td>2</td>\n",
       "      <td>French</td>\n",
       "      <td>Tier2</td>\n",
       "      <td>0.351812</td>\n",
       "      <td>0.287045</td>\n",
       "      <td>0.258394</td>\n",
       "      <td>0.277588</td>\n",
       "      <td>0.648188</td>\n",
       "      <td>0.712955</td>\n",
       "      <td>0.741606</td>\n",
       "      <td>0.722412</td>\n",
       "    </tr>\n",
       "  </tbody>\n",
       "</table>\n",
       "</div>"
      ],
      "text/plain": [
       "   raceId  driverId    country  trackType nationality binned_circuits  \\\n",
       "0       1         2  Australia          2      German           Tier2   \n",
       "1       1         3  Australia          2      German           Tier2   \n",
       "2       1         4  Australia          2     Spanish           Tier2   \n",
       "3       1         6  Australia          2    Japanese           Tier2   \n",
       "4       1         7  Australia          2      French           Tier2   \n",
       "\n",
       "   country_CompletionStatus_1  trackType_CompletionStatus_1  \\\n",
       "0                    0.351812                      0.287045   \n",
       "1                    0.351812                      0.287045   \n",
       "2                    0.351812                      0.287045   \n",
       "3                    0.351812                      0.287045   \n",
       "4                    0.351812                      0.287045   \n",
       "\n",
       "   nationality_CompletionStatus_1  binned_circuits_CompletionStatus_1  \\\n",
       "0                        0.209566                            0.277588   \n",
       "1                        0.209566                            0.277588   \n",
       "2                        0.231140                            0.277588   \n",
       "3                        0.361371                            0.277588   \n",
       "4                        0.258394                            0.277588   \n",
       "\n",
       "   country_CompletionStatus_2  trackType_CompletionStatus_2  \\\n",
       "0                    0.648188                      0.712955   \n",
       "1                    0.648188                      0.712955   \n",
       "2                    0.648188                      0.712955   \n",
       "3                    0.648188                      0.712955   \n",
       "4                    0.648188                      0.712955   \n",
       "\n",
       "   nationality_CompletionStatus_2  binned_circuits_CompletionStatus_2  \n",
       "0                        0.790434                            0.722412  \n",
       "1                        0.790434                            0.722412  \n",
       "2                        0.768860                            0.722412  \n",
       "3                        0.638629                            0.722412  \n",
       "4                        0.741606                            0.722412  "
      ]
     },
     "execution_count": 77,
     "metadata": {},
     "output_type": "execute_result"
    }
   ],
   "source": [
    "# Merge refined_one_hot with refined_master by \"raceId\" and \"driverId\" to get refined_total.\n",
    "refined_total = pd.merge(refined_master, refined_one_hot, on = [\"raceId\", \"driverId\"])\n",
    "refined_total.head()"
   ]
  },
  {
   "cell_type": "markdown",
   "id": "18d716ea",
   "metadata": {},
   "source": [
    "### Working with the Data in the Input Columns"
   ]
  },
  {
   "cell_type": "code",
   "execution_count": 78,
   "id": "24e26083",
   "metadata": {},
   "outputs": [
    {
     "data": {
      "text/plain": [
       "Index(['grid', 'alt', 'average_lap_time', 'minimum_lap_time', 'PRCP', 'TAVG',\n",
       "       'TMAX', 'TMIN', 'country_CompletionStatus_1',\n",
       "       'nationality_CompletionStatus_1', 'binned_circuits_CompletionStatus_1',\n",
       "       'trackType_CompletionStatus_1', 'country_CompletionStatus_2',\n",
       "       'nationality_CompletionStatus_2', 'binned_circuits_CompletionStatus_2',\n",
       "       'trackType_CompletionStatus_2'],\n",
       "      dtype='object')"
      ]
     },
     "execution_count": 78,
     "metadata": {},
     "output_type": "execute_result"
    }
   ],
   "source": [
    "# What features are in X_resampled and will therefore be required for our widget?\n",
    "X_resampled.columns"
   ]
  },
  {
   "cell_type": "markdown",
   "id": "8b036728",
   "metadata": {},
   "source": [
    "As shown above, with slight changes to account for the one-hot encoding, we'll have to ask interactors to choose grid, altitude, an average lap time and minimum lap time, precipitation, temperatures (average, minimum, and maximum), country, nationality, circuit, and track type. We will change the country, nationality, circuit, and track type in the function to match their one-hot encoding. Because there are so many options, though, we will only allow a few choices for these. Track type will be the only one-hot encoded feature that shows all possible choices, as there are only two to begin with."
   ]
  },
  {
   "cell_type": "code",
   "execution_count": 79,
   "id": "a17ba2da",
   "metadata": {},
   "outputs": [
    {
     "data": {
      "text/plain": [
       "nationality    nationality_CompletionStatus_1  nationality_CompletionStatus_2\n",
       "German         0.209566                        0.790434                          1561\n",
       "British        0.240838                        0.759162                          1314\n",
       "Brazilian      0.292359                        0.707641                           871\n",
       "Finnish        0.206369                        0.793631                           776\n",
       "French         0.258394                        0.741606                           663\n",
       "Italian        0.317841                        0.682159                           657\n",
       "Spanish        0.231140                        0.768860                           612\n",
       "Australian     0.209360                        0.790640                           397\n",
       "Japanese       0.361371                        0.638629                           308\n",
       "Dutch          0.316901                        0.683099                           281\n",
       "Canadian       0.278810                        0.721190                           263\n",
       "Mexican        0.148438                        0.851562                           249\n",
       "Russian        0.176166                        0.823834                           188\n",
       "Austrian       0.296053                        0.703947                           150\n",
       "Danish         0.262069                        0.737931                           136\n",
       "Polish         0.154639                        0.845361                            95\n",
       "Swedish        0.239583                        0.760417                            93\n",
       "Colombian      0.336957                        0.663043                            89\n",
       "Venezuelan     0.296703                        0.703297                            87\n",
       "Monegasque     0.156250                        0.843750                            64\n",
       "Belgian        0.166667                        0.833333                            60\n",
       "Indian         0.280702                        0.719298                            53\n",
       "Swiss          0.269231                        0.730769                            52\n",
       "Portuguese     0.260000                        0.740000                            48\n",
       "Argentine      0.512821                        0.487179                            39\n",
       "Thai           0.078947                        0.921053                            38\n",
       "American       0.322581                        0.677419                            31\n",
       "New Zealander  0.304348                        0.695652                            23\n",
       "Hungarian      0.400000                        0.600000                            20\n",
       "Malaysian      0.571428                        0.428572                            14\n",
       "Irish          0.384615                        0.615385                            12\n",
       "Indonesian     0.181821                        0.818179                            11\n",
       "Czech          0.323293                        0.676707                             3\n",
       "dtype: int64"
      ]
     },
     "execution_count": 79,
     "metadata": {},
     "output_type": "execute_result"
    }
   ],
   "source": [
    "# What are the most popular nationalities?\n",
    "refined_total[[\"nationality\", \"nationality_CompletionStatus_1\", \"nationality_CompletionStatus_2\"]].value_counts()"
   ]
  },
  {
   "cell_type": "markdown",
   "id": "6fdbfa76",
   "metadata": {},
   "source": [
    "The most popular nationalities of drivers are German, British, and Brazilian."
   ]
  },
  {
   "cell_type": "code",
   "execution_count": 80,
   "id": "39cecdee",
   "metadata": {},
   "outputs": [
    {
     "data": {
      "text/plain": [
       "country     country_CompletionStatus_1  country_CompletionStatus_2\n",
       "Italy       0.279099                    0.720901                      786\n",
       "Germany     0.291429                    0.708571                      690\n",
       "Spain       0.219697                    0.780303                      651\n",
       "UK          0.220339                    0.779661                      523\n",
       "Hungary     0.229446                    0.770554                      513\n",
       "Monaco      0.351562                    0.648438                      496\n",
       "Japan       0.217039                    0.782961                      485\n",
       "Brazil      0.261224                    0.738776                      474\n",
       "Canada      0.334737                    0.665263                      453\n",
       "Australia   0.351812                    0.648188                      449\n",
       "Belgium     0.230088                    0.769912                      441\n",
       "Malaysia    0.260759                    0.739241                      389\n",
       "Bahrain     0.177112                    0.822888                      358\n",
       "Austria     0.271930                    0.728070                      335\n",
       "China       0.154303                    0.845697                      334\n",
       "France      0.256098                    0.743902                      324\n",
       "USA         0.253289                    0.746711                      292\n",
       "Singapore   0.219124                    0.780876                      249\n",
       "UAE         0.120000                    0.880000                      245\n",
       "Turkey      0.159763                    0.840237                      164\n",
       "Russia      0.113636                    0.886364                      130\n",
       "Mexico      0.148515                    0.851485                       98\n",
       "Azerbaijan  0.240000                    0.760000                       97\n",
       "Korea       0.193548                    0.806452                       93\n",
       "India       0.159420                    0.840580                       67\n",
       "Argentina   0.484375                    0.515625                       62\n",
       "Portugal    0.100000                    0.900000                       60\n",
       "dtype: int64"
      ]
     },
     "execution_count": 80,
     "metadata": {},
     "output_type": "execute_result"
    }
   ],
   "source": [
    "# What are the most popular countries?\n",
    "refined_total[[\"country\", \"country_CompletionStatus_1\", \"country_CompletionStatus_2\"]].value_counts()"
   ]
  },
  {
   "cell_type": "markdown",
   "id": "76939c84",
   "metadata": {},
   "source": [
    "The most popular countries are Italy, Germany, and Spain."
   ]
  },
  {
   "cell_type": "code",
   "execution_count": 81,
   "id": "0758aa8d",
   "metadata": {},
   "outputs": [
    {
     "data": {
      "text/plain": [
       "binned_circuits  binned_circuits_CompletionStatus_1  binned_circuits_CompletionStatus_2\n",
       "Tier1            0.253451                            0.746549                              2558\n",
       "Tier2            0.277588                            0.722412                              2262\n",
       "Tier3            0.235686                            0.764314                              1771\n",
       "Tier4            0.244750                            0.755250                              1218\n",
       "Tier5            0.213611                            0.786389                              1030\n",
       "Tier6            0.223529                            0.776471                               419\n",
       "dtype: int64"
      ]
     },
     "execution_count": 81,
     "metadata": {},
     "output_type": "execute_result"
    }
   ],
   "source": [
    "# What are the most popular binned circuits?\n",
    "refined_total[[\"binned_circuits\", \"binned_circuits_CompletionStatus_1\", \"binned_circuits_CompletionStatus_2\"]].value_counts()"
   ]
  },
  {
   "cell_type": "markdown",
   "id": "f1467c85",
   "metadata": {},
   "source": [
    "The most popular binned circuits are Tier1, Tier2, and Tier3."
   ]
  },
  {
   "cell_type": "code",
   "execution_count": 88,
   "id": "158c41b7",
   "metadata": {},
   "outputs": [
    {
     "data": {
      "text/plain": [
       "trackType  trackType_CompletionStatus_1  trackType_CompletionStatus_2\n",
       "0          0.237243                      0.762757                        7070\n",
       "2          0.287045                      0.712955                        2188\n",
       "dtype: int64"
      ]
     },
     "execution_count": 88,
     "metadata": {},
     "output_type": "execute_result"
    }
   ],
   "source": [
    "# How was trackType one-hot encoded?\n",
    "refined_total[[\"trackType\", \"trackType_CompletionStatus_1\", \"trackType_CompletionStatus_2\"]].value_counts()"
   ]
  },
  {
   "cell_type": "code",
   "execution_count": 90,
   "id": "ef7cebe0",
   "metadata": {},
   "outputs": [
    {
     "data": {
      "text/html": [
       "<div>\n",
       "<style scoped>\n",
       "    .dataframe tbody tr th:only-of-type {\n",
       "        vertical-align: middle;\n",
       "    }\n",
       "\n",
       "    .dataframe tbody tr th {\n",
       "        vertical-align: top;\n",
       "    }\n",
       "\n",
       "    .dataframe thead th {\n",
       "        text-align: right;\n",
       "    }\n",
       "</style>\n",
       "<table border=\"1\" class=\"dataframe\">\n",
       "  <thead>\n",
       "    <tr style=\"text-align: right;\">\n",
       "      <th></th>\n",
       "      <th>grid</th>\n",
       "      <th>alt</th>\n",
       "      <th>average_lap_time</th>\n",
       "      <th>minimum_lap_time</th>\n",
       "      <th>PRCP</th>\n",
       "      <th>TAVG</th>\n",
       "      <th>TMAX</th>\n",
       "      <th>TMIN</th>\n",
       "      <th>country_CompletionStatus_1</th>\n",
       "      <th>nationality_CompletionStatus_1</th>\n",
       "      <th>binned_circuits_CompletionStatus_1</th>\n",
       "      <th>trackType_CompletionStatus_1</th>\n",
       "      <th>country_CompletionStatus_2</th>\n",
       "      <th>nationality_CompletionStatus_2</th>\n",
       "      <th>binned_circuits_CompletionStatus_2</th>\n",
       "      <th>trackType_CompletionStatus_2</th>\n",
       "    </tr>\n",
       "  </thead>\n",
       "  <tbody>\n",
       "    <tr>\n",
       "      <th>count</th>\n",
       "      <td>8810.000000</td>\n",
       "      <td>8810.000000</td>\n",
       "      <td>8810.000000</td>\n",
       "      <td>8810.000000</td>\n",
       "      <td>8810.000000</td>\n",
       "      <td>8810.000000</td>\n",
       "      <td>8810.000000</td>\n",
       "      <td>8810.000000</td>\n",
       "      <td>8810.000000</td>\n",
       "      <td>8810.000000</td>\n",
       "      <td>8810.000000</td>\n",
       "      <td>8810.000000</td>\n",
       "      <td>8810.000000</td>\n",
       "      <td>8810.000000</td>\n",
       "      <td>8810.000000</td>\n",
       "      <td>8810.000000</td>\n",
       "    </tr>\n",
       "    <tr>\n",
       "      <th>mean</th>\n",
       "      <td>10.919864</td>\n",
       "      <td>182.187514</td>\n",
       "      <td>99737.115665</td>\n",
       "      <td>91672.348014</td>\n",
       "      <td>0.153843</td>\n",
       "      <td>69.569506</td>\n",
       "      <td>78.066776</td>\n",
       "      <td>61.450084</td>\n",
       "      <td>0.241976</td>\n",
       "      <td>0.242690</td>\n",
       "      <td>0.248192</td>\n",
       "      <td>0.251982</td>\n",
       "      <td>0.758024</td>\n",
       "      <td>0.757310</td>\n",
       "      <td>0.751808</td>\n",
       "      <td>0.748018</td>\n",
       "    </tr>\n",
       "    <tr>\n",
       "      <th>std</th>\n",
       "      <td>5.713557</td>\n",
       "      <td>288.710481</td>\n",
       "      <td>18197.500233</td>\n",
       "      <td>12762.446022</td>\n",
       "      <td>0.417893</td>\n",
       "      <td>8.757608</td>\n",
       "      <td>9.327086</td>\n",
       "      <td>9.340140</td>\n",
       "      <td>0.060899</td>\n",
       "      <td>0.046514</td>\n",
       "      <td>0.019098</td>\n",
       "      <td>0.021369</td>\n",
       "      <td>0.060899</td>\n",
       "      <td>0.046514</td>\n",
       "      <td>0.019098</td>\n",
       "      <td>0.021369</td>\n",
       "    </tr>\n",
       "    <tr>\n",
       "      <th>min</th>\n",
       "      <td>0.000000</td>\n",
       "      <td>-7.000000</td>\n",
       "      <td>62932.344828</td>\n",
       "      <td>55404.000000</td>\n",
       "      <td>0.000000</td>\n",
       "      <td>49.000000</td>\n",
       "      <td>56.000000</td>\n",
       "      <td>36.000000</td>\n",
       "      <td>0.100000</td>\n",
       "      <td>0.078947</td>\n",
       "      <td>0.213611</td>\n",
       "      <td>0.237243</td>\n",
       "      <td>0.648188</td>\n",
       "      <td>0.600000</td>\n",
       "      <td>0.722412</td>\n",
       "      <td>0.712955</td>\n",
       "    </tr>\n",
       "    <tr>\n",
       "      <th>25%</th>\n",
       "      <td>6.000000</td>\n",
       "      <td>10.000000</td>\n",
       "      <td>86016.985797</td>\n",
       "      <td>80717.000000</td>\n",
       "      <td>0.000000</td>\n",
       "      <td>62.694237</td>\n",
       "      <td>70.000000</td>\n",
       "      <td>55.000000</td>\n",
       "      <td>0.217039</td>\n",
       "      <td>0.209566</td>\n",
       "      <td>0.235686</td>\n",
       "      <td>0.237243</td>\n",
       "      <td>0.723534</td>\n",
       "      <td>0.723092</td>\n",
       "      <td>0.741868</td>\n",
       "      <td>0.722256</td>\n",
       "    </tr>\n",
       "    <tr>\n",
       "      <th>50%</th>\n",
       "      <td>11.000000</td>\n",
       "      <td>75.000000</td>\n",
       "      <td>98747.952296</td>\n",
       "      <td>90706.000000</td>\n",
       "      <td>0.000000</td>\n",
       "      <td>69.983245</td>\n",
       "      <td>78.000000</td>\n",
       "      <td>61.776486</td>\n",
       "      <td>0.230088</td>\n",
       "      <td>0.240838</td>\n",
       "      <td>0.247582</td>\n",
       "      <td>0.237243</td>\n",
       "      <td>0.769912</td>\n",
       "      <td>0.759162</td>\n",
       "      <td>0.752418</td>\n",
       "      <td>0.762757</td>\n",
       "    </tr>\n",
       "    <tr>\n",
       "      <th>75%</th>\n",
       "      <td>15.000000</td>\n",
       "      <td>228.000000</td>\n",
       "      <td>109138.300678</td>\n",
       "      <td>100598.500000</td>\n",
       "      <td>0.110000</td>\n",
       "      <td>76.000000</td>\n",
       "      <td>85.000000</td>\n",
       "      <td>67.815465</td>\n",
       "      <td>0.276466</td>\n",
       "      <td>0.276908</td>\n",
       "      <td>0.258132</td>\n",
       "      <td>0.277744</td>\n",
       "      <td>0.782961</td>\n",
       "      <td>0.790434</td>\n",
       "      <td>0.764314</td>\n",
       "      <td>0.762757</td>\n",
       "    </tr>\n",
       "    <tr>\n",
       "      <th>max</th>\n",
       "      <td>24.000000</td>\n",
       "      <td>2227.000000</td>\n",
       "      <td>213946.550725</td>\n",
       "      <td>122930.000000</td>\n",
       "      <td>6.300000</td>\n",
       "      <td>94.200000</td>\n",
       "      <td>102.000000</td>\n",
       "      <td>88.400000</td>\n",
       "      <td>0.351812</td>\n",
       "      <td>0.400000</td>\n",
       "      <td>0.277588</td>\n",
       "      <td>0.287045</td>\n",
       "      <td>0.900000</td>\n",
       "      <td>0.921053</td>\n",
       "      <td>0.786389</td>\n",
       "      <td>0.762757</td>\n",
       "    </tr>\n",
       "  </tbody>\n",
       "</table>\n",
       "</div>"
      ],
      "text/plain": [
       "              grid          alt  average_lap_time  minimum_lap_time  \\\n",
       "count  8810.000000  8810.000000       8810.000000       8810.000000   \n",
       "mean     10.919864   182.187514      99737.115665      91672.348014   \n",
       "std       5.713557   288.710481      18197.500233      12762.446022   \n",
       "min       0.000000    -7.000000      62932.344828      55404.000000   \n",
       "25%       6.000000    10.000000      86016.985797      80717.000000   \n",
       "50%      11.000000    75.000000      98747.952296      90706.000000   \n",
       "75%      15.000000   228.000000     109138.300678     100598.500000   \n",
       "max      24.000000  2227.000000     213946.550725     122930.000000   \n",
       "\n",
       "              PRCP         TAVG         TMAX         TMIN  \\\n",
       "count  8810.000000  8810.000000  8810.000000  8810.000000   \n",
       "mean      0.153843    69.569506    78.066776    61.450084   \n",
       "std       0.417893     8.757608     9.327086     9.340140   \n",
       "min       0.000000    49.000000    56.000000    36.000000   \n",
       "25%       0.000000    62.694237    70.000000    55.000000   \n",
       "50%       0.000000    69.983245    78.000000    61.776486   \n",
       "75%       0.110000    76.000000    85.000000    67.815465   \n",
       "max       6.300000    94.200000   102.000000    88.400000   \n",
       "\n",
       "       country_CompletionStatus_1  nationality_CompletionStatus_1  \\\n",
       "count                 8810.000000                     8810.000000   \n",
       "mean                     0.241976                        0.242690   \n",
       "std                      0.060899                        0.046514   \n",
       "min                      0.100000                        0.078947   \n",
       "25%                      0.217039                        0.209566   \n",
       "50%                      0.230088                        0.240838   \n",
       "75%                      0.276466                        0.276908   \n",
       "max                      0.351812                        0.400000   \n",
       "\n",
       "       binned_circuits_CompletionStatus_1  trackType_CompletionStatus_1  \\\n",
       "count                         8810.000000                   8810.000000   \n",
       "mean                             0.248192                      0.251982   \n",
       "std                              0.019098                      0.021369   \n",
       "min                              0.213611                      0.237243   \n",
       "25%                              0.235686                      0.237243   \n",
       "50%                              0.247582                      0.237243   \n",
       "75%                              0.258132                      0.277744   \n",
       "max                              0.277588                      0.287045   \n",
       "\n",
       "       country_CompletionStatus_2  nationality_CompletionStatus_2  \\\n",
       "count                 8810.000000                     8810.000000   \n",
       "mean                     0.758024                        0.757310   \n",
       "std                      0.060899                        0.046514   \n",
       "min                      0.648188                        0.600000   \n",
       "25%                      0.723534                        0.723092   \n",
       "50%                      0.769912                        0.759162   \n",
       "75%                      0.782961                        0.790434   \n",
       "max                      0.900000                        0.921053   \n",
       "\n",
       "       binned_circuits_CompletionStatus_2  trackType_CompletionStatus_2  \n",
       "count                         8810.000000                   8810.000000  \n",
       "mean                             0.751808                      0.748018  \n",
       "std                              0.019098                      0.021369  \n",
       "min                              0.722412                      0.712955  \n",
       "25%                              0.741868                      0.722256  \n",
       "50%                              0.752418                      0.762757  \n",
       "75%                              0.764314                      0.762757  \n",
       "max                              0.786389                      0.762757  "
      ]
     },
     "execution_count": 90,
     "metadata": {},
     "output_type": "execute_result"
    }
   ],
   "source": [
    "# What minimum and maximum numbers will we have to allow for in our input columns?\n",
    "X_resampled.describe()"
   ]
  },
  {
   "cell_type": "markdown",
   "id": "2202fc4a",
   "metadata": {},
   "source": [
    "- grid has a min of 0 and a max of 24.\n",
    "- alt has a min of -7.0 and a max of 2227.0.\n",
    "- average_lap_time has a min of 62932.344828 and a max of 216112.776119.\n",
    "- minimum_lap_time has a min of 55404.000000 and a max of 122930.000000.\n",
    "- PRCP has a min of 0.0 and a max of 6.3.\n",
    "- TAVG has a min of 49.0 and a max of 94.2.\n",
    "- TMAX has a min of 56.0 and a max of 102.0.\n",
    "- TMIN has a min of 36.0 and a max of 88.4."
   ]
  },
  {
   "cell_type": "markdown",
   "id": "1d259ccb",
   "metadata": {},
   "source": [
    "### Building the Widget"
   ]
  },
  {
   "cell_type": "markdown",
   "id": "a254b3a3",
   "metadata": {},
   "source": [
    "Because the final widget's function will have a lot of code in it, we're going to slowly build the function one step at a time. These steps include:\n",
    "1. Building a dropdown widget connected to a function containing an elif statement. This statement will change the display depending on what the user selects in the dropdown menu.\n",
    "2. Building four dropdown widgets that all connect to the same function. Each widget connects to a different elif or if-else statement within that function, and each elif or if-else statement changes its own display.\n",
    "3. Using the build from the prior widget, each elif or if-else statement changes the one-hot encoding for the connected dropdown menu. Each one-hot encoding number is placed in a new dataframe, which is displayed with the dropdown menus.\n",
    "4. Using the build from the prior widget, we add all of the numeric columns that did not have to be one-hot encoded. These are not based on dropdown menus, but are instead bounded text boxes (both int and float). These are also placed in the dataframe, as well as displayed separately.\n",
    "5. Using the build from the prior widget, we stop displaying the numeric features. We also add a modeling function that predicts whether a car will finish the race or not, based on the features that users input through the widget. Finally, we use an if-else statement to print a car's predicted outcome.\n",
    "\n",
    "These steps are enacted below."
   ]
  },
  {
   "cell_type": "code",
   "execution_count": 31,
   "id": "fd119b48",
   "metadata": {},
   "outputs": [
    {
     "data": {
      "application/vnd.jupyter.widget-view+json": {
       "model_id": "3d7ea1b18d074ca38e15e7396709624f",
       "version_major": 2,
       "version_minor": 0
      },
      "text/plain": [
       "interactive(children=(Dropdown(description='nationality', options=('German', 'British', 'Brazilian'), value='G…"
      ]
     },
     "metadata": {},
     "output_type": "display_data"
    }
   ],
   "source": [
    "\"\"\"\n",
    "Establish function \"nationality\" which allows selection of three nationalities, then returns a country.\n",
    "\"\"\"\n",
    "def nationality(nationality):\n",
    "    # Use an elif statement to determine the output country name based on the input nationality.\n",
    "    if nationality == \"German\":\n",
    "        countryname = \"Germany\"\n",
    "    elif nationality == \"British\":\n",
    "        countryname = \"England\"\n",
    "    else:\n",
    "        countryname = \"Brazil\"\n",
    "    display(countryname)\n",
    "\n",
    "# Create a widget that will interact with the nationality function.\n",
    "interact(nationality, nationality = widgets.Dropdown(options = [\"German\", \"British\", \"Brazilian\"], value = \"German\"));\n"
   ]
  },
  {
   "cell_type": "code",
   "execution_count": 99,
   "id": "94863c7b",
   "metadata": {},
   "outputs": [
    {
     "data": {
      "application/vnd.jupyter.widget-view+json": {
       "model_id": "adf1d5a1284d4a60b98bab3e4b5993ec",
       "version_major": 2,
       "version_minor": 0
      },
      "text/plain": [
       "interactive(children=(Dropdown(description='Nationality', options=('German', 'British', 'Brazilian'), value='G…"
      ]
     },
     "metadata": {},
     "output_type": "display_data"
    }
   ],
   "source": [
    "\"\"\"\n",
    "Establish function \"fourreturn\" which allows selection of three nationalities,\n",
    "countries, and circuit tiers, then returns a country, language, and number.\n",
    "It also includes a selection of two track types, which returns a type number.\n",
    "\"\"\"\n",
    "def fourreturn(nationality, country, circuit, trackType):\n",
    "    # Use an elif statement to determine the output country name based on the input nationality.\n",
    "    if nationality == \"German\":\n",
    "        countryname = \"Germany\"\n",
    "    elif nationality == \"British\":\n",
    "        countryname = \"Great Britain\"\n",
    "    else:\n",
    "        countryname = \"Brazil\"\n",
    "    display(countryname)\n",
    "    \n",
    "    # Use an elif statement to determine the output language based on the input country.\n",
    "    if country == \"Italy\":\n",
    "        language = \"Italian\"\n",
    "    elif country == \"Germany\":\n",
    "        language = \"German\"\n",
    "    else:\n",
    "        language = \"Spanish\"\n",
    "    display(language)\n",
    "    \n",
    "    # Use an elif statement to determine the output number based on the input circuit.\n",
    "    if circuit == \"Tier1\":\n",
    "        number = \"1\"\n",
    "    elif circuit == \"Tier2\":\n",
    "        number = \"2\"\n",
    "    else:\n",
    "        number = \"3\"\n",
    "    display(number)\n",
    "    \n",
    "    # Use an if-else statement to determine the output typetrack based on the input track.\n",
    "    if trackType == \"race\":\n",
    "        typetrack = \"type0\"\n",
    "    else:\n",
    "        typetrack = \"type2\"\n",
    "    display(typetrack)\n",
    "    \n",
    "# Create a widget that will interact with the nationality function.\n",
    "interact(fourreturn, nationality = widgets.Dropdown(options = [\"German\", \"British\", \"Brazilian\"], value = \"German\", description = \"Nationality\"),\n",
    "         country = widgets.Dropdown(options = [\"Italy\", \"Germany\", \"Spain\"], value = \"Italy\", description = \"Country\"),\n",
    "         circuit = widgets.Dropdown(options = [\"Tier1\", \"Tier2\", \"Tier3\"], value = \"Tier1\", description = \"Circuit\"),\n",
    "         trackType = widgets.Dropdown(options = [\"race\", \"street\"], value = \"race\", description = \"Track Type\"));"
   ]
  },
  {
   "cell_type": "markdown",
   "id": "1504ba46",
   "metadata": {},
   "source": [
    "In the function below we create a single row dataframe using this site (https://www.geeksforgeeks.org/different-ways-to-create-pandas-dataframe/)."
   ]
  },
  {
   "cell_type": "code",
   "execution_count": 102,
   "id": "b89cfec4",
   "metadata": {},
   "outputs": [
    {
     "data": {
      "application/vnd.jupyter.widget-view+json": {
       "model_id": "9c63df16905b47ab895ab3f098215e41",
       "version_major": 2,
       "version_minor": 0
      },
      "text/plain": [
       "interactive(children=(Dropdown(description='Nationality', options=('German', 'British', 'Brazilian'), value='G…"
      ]
     },
     "metadata": {},
     "output_type": "display_data"
    }
   ],
   "source": [
    "\"\"\"\n",
    "Establish function \"onehot\" which allows selection of three nationalities,\n",
    "countries, and circuit tiers, then inputs them into dataframe input_df and returns the dataframe.\n",
    "It also allows the selection of two track types, and inputs that selection into the dataframe as well.\n",
    "\"\"\"\n",
    "def onehot(nationality, country, circuit, trackType):\n",
    "    # Use an elif statement to determine the output one-hot encoding based on the input nationality.\n",
    "    if nationality == \"German\":\n",
    "        nationality_CompletionStatus_1 = 0.209566\n",
    "        nationality_CompletionStatus_2 = 0.790434\n",
    "    elif nationality == \"British\":\n",
    "        nationality_CompletionStatus_1 = 0.240838\n",
    "        nationality_CompletionStatus_2 = 0.759162\n",
    "    else:\n",
    "        nationality_CompletionStatus_1 = 0.292359\n",
    "        nationality_CompletionStatus_2 = 0.707641\n",
    "    \n",
    "    # Use an elif statement to determine the output one-hot encoding based on the input country.\n",
    "    if country == \"Italy\":\n",
    "        country_CompletionStatus_1 = 0.279099\n",
    "        country_CompletionStatus_2 = 0.720901\n",
    "    elif country == \"Germany\":\n",
    "        country_CompletionStatus_1 = 0.291429\n",
    "        country_CompletionStatus_2 = 0.708571\n",
    "    else:\n",
    "        country_CompletionStatus_1 = 0.219697\n",
    "        country_CompletionStatus_2 = 0.780303\n",
    "    \n",
    "    # Use an elif statement to determine the output one-hot encoding based on the input circuit.\n",
    "    if circuit == \"Tier1\":\n",
    "        binned_circuits_CompletionStatus_1 = 0.253451\n",
    "        binned_circuits_CompletionStatus_2 = 0.746549\n",
    "    elif circuit == \"Tier2\":\n",
    "        binned_circuits_CompletionStatus_1 = 0.277588\n",
    "        binned_circuits_CompletionStatus_2 = 0.722412\n",
    "    else:\n",
    "        binned_circuits_CompletionStatus_1 = 0.235686\n",
    "        binned_circuits_CompletionStatus_2 = 0.764314\n",
    "    \n",
    "    # Use an if-else statement to determine the output one-hot encoding based on the input track.\n",
    "    if trackType == \"race\":\n",
    "        trackType_CompletionStatus_1 = 0.237243\n",
    "        trackType_CompletionStatus_2 = 0.762757\n",
    "    else:\n",
    "        trackType_CompletionStatus_1 = 0.287045\n",
    "        trackType_CompletionStatus_2 = 0.712955\n",
    "    \n",
    "    # Establish the data of our input_df dataframe.\n",
    "    inputdata = [[nationality_CompletionStatus_1, nationality_CompletionStatus_2,\n",
    "                country_CompletionStatus_1, country_CompletionStatus_2,\n",
    "                binned_circuits_CompletionStatus_1, binned_circuits_CompletionStatus_2,\n",
    "                trackType_CompletionStatus_1, trackType_CompletionStatus_2]]\n",
    "    \n",
    "    # Establish the dataframe input_df itself with pd.DataFrame.\n",
    "    input_df = pd.DataFrame(inputdata, columns = [\"nationality_CompletionStatus_1\", \"nationality_CompletionStatus_2\",\n",
    "                \"country_CompletionStatus_1\", \"country_CompletionStatus_2\",\n",
    "                \"binned_circuits_CompletionStatus_1\", \"binned_circuits_CompletionStatus_2\",\n",
    "                \"trackType_CompletionStatus_1\", \"trackType_CompletionStatus_2\"])\n",
    "    \n",
    "    return(input_df)\n",
    "    \n",
    "# Create a widget that will interact with the onehot function.\n",
    "interact(onehot, nationality = widgets.Dropdown(options = [\"German\", \"British\", \"Brazilian\"], value = \"German\", description = \"Nationality\"),\n",
    "         country = widgets.Dropdown(options = [\"Italy\", \"Germany\", \"Spain\"], value = \"Italy\", description = \"Country\"),\n",
    "         circuit = widgets.Dropdown(options = [\"Tier1\", \"Tier2\", \"Tier3\"], value = \"Tier1\", description = \"Circuit\"),\n",
    "         trackType = widgets.Dropdown(options = [\"race\", \"street\"], value = \"race\", description = \"Track Type\"));"
   ]
  },
  {
   "cell_type": "code",
   "execution_count": 104,
   "id": "9a4adb93",
   "metadata": {},
   "outputs": [
    {
     "data": {
      "application/vnd.jupyter.widget-view+json": {
       "model_id": "837541ee07e04315ab61112ecb5de439",
       "version_major": 2,
       "version_minor": 0
      },
      "text/plain": [
       "interactive(children=(Dropdown(description='Nationality', options=('German', 'British', 'Brazilian'), value='G…"
      ]
     },
     "metadata": {},
     "output_type": "display_data"
    }
   ],
   "source": [
    "\"\"\"\n",
    "Establish function \"showvalues\" which allows selection of three nationalities,\n",
    "countries, and circuit tiers, as well as a selection of two track types and\n",
    "input of one of each of the following values:\n",
    "grid, alt, average_lap_time, minimum_lap_time, PRCP, TAVG, TMAX, TMIN. Display the values.\n",
    "\n",
    "Place these values in the dataframe input_df and display the dataframe.\n",
    "\"\"\"\n",
    "def showvalues(nationality, country, circuit, trackType, grid, alt, average_lap_time, minimum_lap_time, PRCP, TAVG, TMAX, TMIN):\n",
    "    # Use an elif statement to determine the output one-hot encoding based on the input nationality.\n",
    "    if nationality == \"German\":\n",
    "        nationality_CompletionStatus_1 = 0.209566\n",
    "        nationality_CompletionStatus_2 = 0.790434\n",
    "    elif nationality == \"British\":\n",
    "        nationality_CompletionStatus_1 = 0.240838\n",
    "        nationality_CompletionStatus_2 = 0.759162\n",
    "    else:\n",
    "        nationality_CompletionStatus_1 = 0.292359\n",
    "        nationality_CompletionStatus_2 = 0.707641\n",
    "    \n",
    "    # Use an elif statement to determine the output one-hot encoding based on the input country.\n",
    "    if country == \"Italy\":\n",
    "        country_CompletionStatus_1 = 0.279099\n",
    "        country_CompletionStatus_2 = 0.720901\n",
    "    elif country == \"Germany\":\n",
    "        country_CompletionStatus_1 = 0.291429\n",
    "        country_CompletionStatus_2 = 0.708571\n",
    "    else:\n",
    "        country_CompletionStatus_1 = 0.219697\n",
    "        country_CompletionStatus_2 = 0.780303\n",
    "    \n",
    "    # Use an elif statement to determine the output one-hot encoding based on the input circuit.\n",
    "    if circuit == \"Tier1\":\n",
    "        binned_circuits_CompletionStatus_1 = 0.253451\n",
    "        binned_circuits_CompletionStatus_2 = 0.746549\n",
    "    elif circuit == \"Tier2\":\n",
    "        binned_circuits_CompletionStatus_1 = 0.277588\n",
    "        binned_circuits_CompletionStatus_2 = 0.722412\n",
    "    else:\n",
    "        binned_circuits_CompletionStatus_1 = 0.235686\n",
    "        binned_circuits_CompletionStatus_2 = 0.764314\n",
    "        \n",
    "    # Use an if-else statement to determine the output one-hot encoding based on the input track.\n",
    "    if trackType == \"race\":\n",
    "        trackType_CompletionStatus_1 = 0.237243\n",
    "        trackType_CompletionStatus_2 = 0.762757\n",
    "    else:\n",
    "        trackType_CompletionStatus_1 = 0.287045\n",
    "        trackType_CompletionStatus_2 = 0.712955\n",
    "    \n",
    "    # Establish the data of our input_df dataframe.\n",
    "    inputdata = [[nationality_CompletionStatus_1, nationality_CompletionStatus_2,\n",
    "                country_CompletionStatus_1, country_CompletionStatus_2,\n",
    "                binned_circuits_CompletionStatus_1, binned_circuits_CompletionStatus_2,\n",
    "                trackType_CompletionStatus_1, trackType_CompletionStatus_2,\n",
    "                grid, alt, average_lap_time, minimum_lap_time, PRCP, TAVG, TMAX, TMIN]]\n",
    "    \n",
    "    # Establish the dataframe input_df itself with pd.DataFrame.\n",
    "    input_df = pd.DataFrame(inputdata, columns =\n",
    "                [\"nationality_CompletionStatus_1\", \"nationality_CompletionStatus_2\",\n",
    "                \"country_CompletionStatus_1\", \"country_CompletionStatus_2\",\n",
    "                \"binned_circuits_CompletionStatus_1\", \"binned_circuits_CompletionStatus_2\",\n",
    "                \"trackType_CompletionStatus_1\", \"trackType_CompletionStatus_2\",\n",
    "                \"grid\", \"alt\", \"average_lap_time\", \"minimum_lap_time\", \"PRCP\", \"TAVG\", \"TMAX\", \"TMIN\"])\n",
    "    \n",
    "    display(grid, alt, average_lap_time, minimum_lap_time, PRCP, TAVG, TMAX, TMIN)\n",
    "    \n",
    "    display(input_df)\n",
    "    \n",
    "# Create a widget that will interact with the showvalues function.\n",
    "interact(showvalues, nationality = widgets.Dropdown(options = [\"German\", \"British\", \"Brazilian\"], value = \"German\", description = 'Nationality'),\n",
    "         country = widgets.Dropdown(options = [\"Italy\", \"Germany\", \"Spain\"], value = \"Italy\", description = 'Country'),\n",
    "         circuit = widgets.Dropdown(options = [\"Tier1\", \"Tier2\", \"Tier3\"], value = \"Tier1\", description = 'Circuit'),\n",
    "         trackType = widgets.Dropdown(options = [\"race\", \"street\"], value = \"race\", description = 'Track Type'),\n",
    "         grid = widgets.BoundedIntText(min = 0, max = 30, description = 'Grid', disabled = False, continuous_update = False),\n",
    "         alt = widgets.BoundedFloatText(min = -100, max = 2500, description = 'Altitude', disabled = False, continuous_update = False),\n",
    "         average_lap_time = widgets.BoundedFloatText(min = 0, max = 300000, description = 'Avg Lap Time', disabled = False, continuous_update = False),\n",
    "         minimum_lap_time = widgets.BoundedFloatText(min = 0, max = 300000, description = 'Min Lap Time', disabled = False, continuous_update = False),\n",
    "         PRCP = widgets.BoundedFloatText(min = 0, max = 20, description = 'Precipitation', disabled = False, continuous_update = False),\n",
    "         TAVG = widgets.BoundedFloatText(min = 0, max = 120, description = 'Avg Temp (F)', disabled = False, continuous_update = False),\n",
    "         TMAX = widgets.BoundedFloatText(min = 0, max = 120, description = 'Max Temp (F)', disabled = False, continuous_update = False),\n",
    "         TMIN = widgets.BoundedFloatText(min = 0, max = 120, description = 'Min Temp (F)', disabled = False, continuous_update = False));"
   ]
  },
  {
   "cell_type": "code",
   "execution_count": 105,
   "id": "8ca51ccb",
   "metadata": {},
   "outputs": [],
   "source": [
    "# Create the function widgetpred. We'll use this in the function predict.\n",
    "def widgetpred(X_resampled, y_resampled, X_test, estimator, **kwargs):\n",
    "    \"\"\"\n",
    "    Test various estimators.\n",
    "    \"\"\"\n",
    "    # Instantiate the classification model and visualizer\n",
    "    estimator.fit(X_resampled, y_resampled, **kwargs)  \n",
    "    \n",
    "    predicted = estimator.predict(X_test)\n",
    "    \n",
    "    # Compute and return F1 (harmonic mean of precision and recall)\n",
    "    return predicted"
   ]
  },
  {
   "cell_type": "code",
   "execution_count": 106,
   "id": "d7d64e60",
   "metadata": {},
   "outputs": [
    {
     "data": {
      "application/vnd.jupyter.widget-view+json": {
       "model_id": "df1b6acae1354bd88c57997f939c3cc9",
       "version_major": 2,
       "version_minor": 0
      },
      "text/plain": [
       "interactive(children=(Dropdown(description='Nationality', options=('German', 'British', 'Brazilian'), value='G…"
      ]
     },
     "metadata": {},
     "output_type": "display_data"
    }
   ],
   "source": [
    "\"\"\"\n",
    "Establish function \"predict\" which allows selection of three nationalities,\n",
    "countries, and circuit tiers, as well as a selection of two track types and\n",
    "input of one of each of the following values:\n",
    "grid, alt, average_lap_time, minimum_lap_time, PRCP, TAVG, TMAX, TMIN.\n",
    "\n",
    "Place these values in the dataframe input_df and display the dataframe.\n",
    "\n",
    "Create prediction based on widgetpred function and display the prediction:\n",
    "0 for did not finish, 1 for did finish.\n",
    "\"\"\"\n",
    "def predictfinish(nationality, country, circuit, trackType, grid, alt, average_lap_time, minimum_lap_time, PRCP, TAVG, TMAX, TMIN):\n",
    "    # Use an elif statement to determine the output one-hot encoding based on the input nationality.\n",
    "    if nationality == \"German\":\n",
    "        nationality_CompletionStatus_1 = 0.209566\n",
    "        nationality_CompletionStatus_2 = 0.790434\n",
    "    elif nationality == \"British\":\n",
    "        nationality_CompletionStatus_1 = 0.240838\n",
    "        nationality_CompletionStatus_2 = 0.759162\n",
    "    else:\n",
    "        nationality_CompletionStatus_1 = 0.292359\n",
    "        nationality_CompletionStatus_2 = 0.707641\n",
    "    \n",
    "    # Use an elif statement to determine the output one-hot encoding based on the input country.\n",
    "    if country == \"Italy\":\n",
    "        country_CompletionStatus_1 = 0.279099\n",
    "        country_CompletionStatus_2 = 0.720901\n",
    "    elif country == \"Germany\":\n",
    "        country_CompletionStatus_1 = 0.291429\n",
    "        country_CompletionStatus_2 = 0.708571\n",
    "    else:\n",
    "        country_CompletionStatus_1 = 0.219697\n",
    "        country_CompletionStatus_2 = 0.780303\n",
    "    \n",
    "    # Use an elif statement to determine the output one-hot encoding based on the input circuit.\n",
    "    if circuit == \"Tier1\":\n",
    "        binned_circuits_CompletionStatus_1 = 0.253451\n",
    "        binned_circuits_CompletionStatus_2 = 0.746549\n",
    "    elif circuit == \"Tier2\":\n",
    "        binned_circuits_CompletionStatus_1 = 0.277588\n",
    "        binned_circuits_CompletionStatus_2 = 0.722412\n",
    "    else:\n",
    "        binned_circuits_CompletionStatus_1 = 0.235686\n",
    "        binned_circuits_CompletionStatus_2 = 0.764314\n",
    "        \n",
    "    # Use an if-else statement to determine the output one-hot encoding based on the input track.\n",
    "    if trackType == \"race\":\n",
    "        trackType_CompletionStatus_1 = 0.237243\n",
    "        trackType_CompletionStatus_2 = 0.762757\n",
    "    else:\n",
    "        trackType_CompletionStatus_1 = 0.287045\n",
    "        trackType_CompletionStatus_2 = 0.712955\n",
    "    \n",
    "    # Establish the data of our input_df dataframe.\n",
    "    inputdata = [[nationality_CompletionStatus_1, nationality_CompletionStatus_2,\n",
    "                country_CompletionStatus_1, country_CompletionStatus_2,\n",
    "                binned_circuits_CompletionStatus_1, binned_circuits_CompletionStatus_2,\n",
    "                trackType_CompletionStatus_1, trackType_CompletionStatus_2,\n",
    "                grid, alt, average_lap_time, minimum_lap_time, PRCP, TAVG, TMAX, TMIN]]\n",
    "    \n",
    "    # Establish the dataframe input_df itself with pd.DataFrame.\n",
    "    input_df = pd.DataFrame(inputdata, columns =\n",
    "                [\"nationality_CompletionStatus_1\", \"nationality_CompletionStatus_2\",\n",
    "                \"country_CompletionStatus_1\", \"country_CompletionStatus_2\",\n",
    "                \"binned_circuits_CompletionStatus_1\", \"binned_circuits_CompletionStatus_2\",\n",
    "                \"trackType_CompletionStatus_1\", \"trackType_CompletionStatus_2\",\n",
    "                \"grid\", \"alt\", \"average_lap_time\", \"minimum_lap_time\", \"PRCP\", \"TAVG\", \"TMAX\", \"TMIN\"])\n",
    "    \n",
    "    display(input_df)\n",
    "    \n",
    "    # Using the widgetpred function, predict whether the car will finish the race or not given input_df.\n",
    "    pred = widgetpred(X_resampled, y_resampled, input_df, LogisticRegression(solver='lbfgs'))\n",
    "    \n",
    "    # Using an if-else statement, determine what interactors will see given the data they input.\n",
    "    if pred[0] == 1:\n",
    "        writtenpred = \"finish the race.\"\n",
    "    else:\n",
    "        writtenpred = \"not finish the race.\"\n",
    "    \n",
    "    print(\"According to our Logistic Regression model, your car is predicted to\", writtenpred)\n",
    "\n",
    "# Create a widget that will interact with the predictfinish function.\n",
    "interact(predictfinish, nationality = widgets.Dropdown(options = [\"German\", \"British\", \"Brazilian\"], value = \"German\", description = 'Nationality'),\n",
    "         country = widgets.Dropdown(options = [\"Italy\", \"Germany\", \"Spain\"], value = \"Italy\", description = 'Country'),\n",
    "         circuit = widgets.Dropdown(options = [\"Tier1\", \"Tier2\", \"Tier3\"], value = \"Tier1\", description = 'Circuit'),\n",
    "         trackType = widgets.Dropdown(options = [\"race\", \"street\"], value = \"race\", description = 'Track Type'),\n",
    "         grid = widgets.BoundedIntText(min = 0, max = 30, description = 'Grid', disabled = False, continuous_update = False),\n",
    "         alt = widgets.BoundedFloatText(min = -100, max = 2500, description = 'Altitude', disabled = False, continuous_update = False),\n",
    "         average_lap_time = widgets.BoundedFloatText(min = 0, max = 300000, description = 'Avg Lap Time', disabled = False, continuous_update = False),\n",
    "         minimum_lap_time = widgets.BoundedFloatText(min = 0, max = 300000, description = 'Min Lap Time', disabled = False, continuous_update = False),\n",
    "         PRCP = widgets.BoundedFloatText(min = 0, max = 20, description = 'Precipitation', disabled = False, continuous_update = False),\n",
    "         TAVG = widgets.BoundedFloatText(min = 0, max = 120, description = 'Avg Temp (F)', disabled = False, continuous_update = False),\n",
    "         TMAX = widgets.BoundedFloatText(min = 0, max = 120, description = 'Max Temp (F)', disabled = False, continuous_update = False),\n",
    "         TMIN = widgets.BoundedFloatText(min = 0, max = 120, description = 'Min Temp (F)', disabled = False, continuous_update = False));"
   ]
  },
  {
   "cell_type": "code",
   "execution_count": null,
   "id": "c341c0ad",
   "metadata": {},
   "outputs": [],
   "source": []
  }
 ],
 "metadata": {
  "kernelspec": {
   "display_name": "Python 3",
   "language": "python",
   "name": "python3"
  },
  "language_info": {
   "codemirror_mode": {
    "name": "ipython",
    "version": 3
   },
   "file_extension": ".py",
   "mimetype": "text/x-python",
   "name": "python",
   "nbconvert_exporter": "python",
   "pygments_lexer": "ipython3",
   "version": "3.8.3"
  }
 },
 "nbformat": 4,
 "nbformat_minor": 5
}
