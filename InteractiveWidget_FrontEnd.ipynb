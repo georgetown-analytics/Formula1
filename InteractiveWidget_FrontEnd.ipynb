{
 "cells": [
  {
   "cell_type": "markdown",
   "id": "27dc67ce",
   "metadata": {},
   "source": [
    "# Interactive Widget: Front End Code"
   ]
  },
  {
   "cell_type": "markdown",
   "id": "7ac9c844",
   "metadata": {},
   "source": [
    "Throughout this workbook, we used steps from the following web pages to inform our widgets.\n",
    "- https://ipywidgets.readthedocs.io/en/latest/examples/Widget%20Basics.html\n",
    "- https://ipywidgets.readthedocs.io/en/latest/examples/Widget%20List.html\n",
    "- https://ipywidgets.readthedocs.io/en/latest/examples/Using%20Interact.html"
   ]
  },
  {
   "cell_type": "markdown",
   "id": "97285cc6",
   "metadata": {},
   "source": [
    "### Set Up"
   ]
  },
  {
   "cell_type": "code",
   "execution_count": 4,
   "id": "9c6271f8",
   "metadata": {},
   "outputs": [],
   "source": [
    "# Import the necessary data libraries.\n",
    "import numpy as np \n",
    "import pandas as pd\n",
    "from sklearn.model_selection import train_test_split as tts\n",
    "from sklearn.linear_model import LogisticRegression\n",
    "\n",
    "# The following are for Jupyter Widgets.\n",
    "import ipywidgets as widgets\n",
    "from IPython.display import display\n",
    "from __future__ import print_function\n",
    "from ipywidgets import interact, interactive, fixed, interact_manual\n",
    "import ipywidgets as widgets\n",
    "from ipywidgets import FloatSlider"
   ]
  },
  {
   "cell_type": "code",
   "execution_count": 2,
   "id": "6d865c95",
   "metadata": {},
   "outputs": [],
   "source": [
    "# Set up datasets.\n",
    "X_resampled_url = 'https://raw.githubusercontent.com/georgetown-analytics/Formula1/main/data/interim/X_resampled_forWidget.csv'\n",
    "X_resampled = pd.read_csv(X_resampled_url, sep = ',', engine = 'python')\n",
    "y_resampled_url = 'https://raw.githubusercontent.com/georgetown-analytics/Formula1/main/data/interim/y_resampled_forWidget.csv'\n",
    "y_resampled = pd.read_csv(y_resampled_url, sep = ',', engine = 'python')"
   ]
  },
  {
   "cell_type": "markdown",
   "id": "ce3f9689",
   "metadata": {},
   "source": [
    "We know from testing the type of `y_resampled` in `InteractiveWidget_BackEnd.ipynb` that `y_resampled` needs to be a series in order for our model to run correctly. We also know from this site (https://datatofish.com/pandas-dataframe-to-series/) how to change a dataframe into a series."
   ]
  },
  {
   "cell_type": "code",
   "execution_count": 3,
   "id": "24ebcac1",
   "metadata": {},
   "outputs": [],
   "source": [
    "# Change the y_resampled dataframe into a y_resampled series.\n",
    "y_resampled = y_resampled.squeeze()"
   ]
  },
  {
   "cell_type": "markdown",
   "id": "d33f6383",
   "metadata": {},
   "source": [
    "### Create the Modeling Function"
   ]
  },
  {
   "cell_type": "code",
   "execution_count": 5,
   "id": "9be5ac1e",
   "metadata": {},
   "outputs": [],
   "source": [
    "# Create the function widgetpred. We'll use this in the function predict.\n",
    "def widgetpred(X_resampled, y_resampled, X_test, estimator, **kwargs):\n",
    "    \"\"\"\n",
    "    Test various estimators.\n",
    "    \"\"\"\n",
    "    # Instantiate the classification model and visualizer\n",
    "    estimator.fit(X_resampled, y_resampled, **kwargs)  \n",
    "    \n",
    "    predicted = estimator.predict(X_test)\n",
    "    \n",
    "    # Compute and return F1 (harmonic mean of precision and recall)\n",
    "    return predicted"
   ]
  },
  {
   "cell_type": "markdown",
   "id": "6db7d78e",
   "metadata": {},
   "source": [
    "### Create the Widget"
   ]
  },
  {
   "cell_type": "code",
   "execution_count": 6,
   "id": "81e96ded",
   "metadata": {},
   "outputs": [
    {
     "data": {
      "application/vnd.jupyter.widget-view+json": {
       "model_id": "4840fe074ad44a2ea134e30e3c925a30",
       "version_major": 2,
       "version_minor": 0
      },
      "text/plain": [
       "interactive(children=(Dropdown(description='nationality', options=('German', 'British', 'Brazilian'), value='G…"
      ]
     },
     "metadata": {},
     "output_type": "display_data"
    }
   ],
   "source": [
    "\"\"\"\n",
    "Establish function \"predict\" which allows selection of three nationalities,\n",
    "countries, and circuit tiers, as well as input one of each of the following values:\n",
    "grid, alt, average_lap_time, minimum_lap_time, PRCP, TAVG, TMAX, TMIN.\n",
    "\n",
    "Place these values in the dataframe input_df and display the dataframe.\n",
    "\n",
    "Create prediction based on widgetpred function and display the prediction:\n",
    "0 for did not finish, 1 for did finish.\n",
    "\"\"\"\n",
    "def predictfinish(nationality, country, circuit, grid, alt, average_lap_time, minimum_lap_time, PRCP, TAVG, TMAX, TMIN):\n",
    "    # Use an elif statement to determine the output one-hot encoding based on the input nationality.\n",
    "    if nationality == \"German\":\n",
    "        nationality_CompletionStatus_1 = 0.209566\n",
    "        nationality_CompletionStatus_2 = 0.790434\n",
    "    elif nationality == \"British\":\n",
    "        nationality_CompletionStatus_1 = 0.240838\n",
    "        nationality_CompletionStatus_2 = 0.759162\n",
    "    else:\n",
    "        nationality_CompletionStatus_1 = 0.292359\n",
    "        nationality_CompletionStatus_2 = 0.707641\n",
    "    \n",
    "    # Use an elif statement to determine the output one-hot encoding based on the input country.\n",
    "    if country == \"Italy\":\n",
    "        country_CompletionStatus_1 = 0.279099\n",
    "        country_CompletionStatus_2 = 0.720901\n",
    "    elif country == \"Germany\":\n",
    "        country_CompletionStatus_1 = 0.291429\n",
    "        country_CompletionStatus_2 = 0.708571\n",
    "    else:\n",
    "        country_CompletionStatus_1 = 0.219697\n",
    "        country_CompletionStatus_2 = 0.780303\n",
    "    \n",
    "    # Use an elif statement to determine the output one-hot encoding based on the input circuit.\n",
    "    if circuit == \"Tier1\":\n",
    "        binned_circuits_CompletionStatus_1 = 0.253451\n",
    "        binned_circuits_CompletionStatus_2 = 0.746549\n",
    "    elif circuit == \"Tier2\":\n",
    "        binned_circuits_CompletionStatus_1 = 0.277588\n",
    "        binned_circuits_CompletionStatus_2 = 0.722412\n",
    "    else:\n",
    "        binned_circuits_CompletionStatus_1 = 0.235686\n",
    "        binned_circuits_CompletionStatus_2 = 0.764314\n",
    "    \n",
    "    # Establish the data of our input_df dataframe.\n",
    "    inputdata = [[nationality_CompletionStatus_1, nationality_CompletionStatus_2,\n",
    "                country_CompletionStatus_1, country_CompletionStatus_2,\n",
    "                binned_circuits_CompletionStatus_1, binned_circuits_CompletionStatus_2,\n",
    "                grid, alt, average_lap_time, minimum_lap_time, PRCP, TAVG, TMAX, TMIN]]\n",
    "    \n",
    "    # Establish the dataframe input_df itself with pd.DataFrame.\n",
    "    input_df = pd.DataFrame(inputdata, columns =\n",
    "                [\"nationality_CompletionStatus_1\", \"nationality_CompletionStatus_2\",\n",
    "                \"country_CompletionStatus_1\", \"country_CompletionStatus_2\",\n",
    "                \"binned_circuits_CompletionStatus_1\", \"binned_circuits_CompletionStatus_2\",\n",
    "                \"grid\", \"alt\", \"average_lap_time\", \"minimum_lap_time\", \"PRCP\", \"TAVG\", \"TMAX\", \"TMIN\"])\n",
    "    \n",
    "    display(input_df)\n",
    "    \n",
    "    # Using the widgetpred function, predict whether the car will finish the race or not given input_df.\n",
    "    pred = widgetpred(X_resampled, y_resampled, input_df, LogisticRegression(solver='lbfgs'))\n",
    "    \n",
    "    # Using an if-else statement, determine what interactors will see given the data they input.\n",
    "    if pred[0] == 1:\n",
    "        writtenpred = \"finish the race.\"\n",
    "    else:\n",
    "        writtenpred = \"not finish the race.\"\n",
    "    \n",
    "    print(\"According to our Logistic Regression model, your car is predicted to\", writtenpred)\n",
    "\n",
    "# Create a widget that will interact with the predictfinish function.\n",
    "interact(predictfinish, nationality = widgets.Dropdown(options = [\"German\", \"British\", \"Brazilian\"], value = \"German\"),\n",
    "         country = widgets.Dropdown(options = [\"Italy\", \"Germany\", \"Spain\"], value = \"Italy\"),\n",
    "         circuit = widgets.Dropdown(options = [\"Tier1\", \"Tier2\", \"Tier3\"], value = \"Tier1\"),\n",
    "         grid = widgets.BoundedIntText(min = 0, max = 30, description = 'Grid:', disabled = False, continuous_update = False),\n",
    "         alt = widgets.BoundedFloatText(min = -100, max = 2500, description = 'Altitude:', disabled = False, continuous_update = False),\n",
    "         average_lap_time = widgets.BoundedFloatText(min = 0, max = 300000, description = 'Average Lap Time:', disabled = False, continuous_update = False),\n",
    "         minimum_lap_time = widgets.BoundedFloatText(min = 0, max = 300000, description = 'Minimum Lap Time:', disabled = False, continuous_update = False),\n",
    "         PRCP = widgets.BoundedFloatText(min = 0, max = 20, description = 'Precipitation:', disabled = False, continuous_update = False),\n",
    "         TAVG = widgets.BoundedFloatText(min = 0, max = 120, description = 'Average Temperature - Fahrenheit:', disabled = False, continuous_update = False),\n",
    "         TMAX = widgets.BoundedFloatText(min = 0, max = 120, description = 'Max Temperature - Fahrenheit:', disabled = False, continuous_update = False),\n",
    "         TMIN = widgets.BoundedFloatText(min = 0, max = 120, description = 'Min Temperature - Fahrenheit:', disabled = False, continuous_update = False));"
   ]
  },
  {
   "cell_type": "code",
   "execution_count": null,
   "id": "b44c7886",
   "metadata": {},
   "outputs": [],
   "source": []
  }
 ],
 "metadata": {
  "kernelspec": {
   "display_name": "Python 3",
   "language": "python",
   "name": "python3"
  },
  "language_info": {
   "codemirror_mode": {
    "name": "ipython",
    "version": 3
   },
   "file_extension": ".py",
   "mimetype": "text/x-python",
   "name": "python",
   "nbconvert_exporter": "python",
   "pygments_lexer": "ipython3",
   "version": "3.8.3"
  }
 },
 "nbformat": 4,
 "nbformat_minor": 5
}
