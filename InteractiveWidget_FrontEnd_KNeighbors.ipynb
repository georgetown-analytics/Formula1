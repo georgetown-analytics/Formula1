{
 "cells": [
  {
   "cell_type": "markdown",
   "id": "2bc6bd7d",
   "metadata": {},
   "source": [
    "# Interactive Widget: Front End Code: KNeighbors"
   ]
  },
  {
   "cell_type": "markdown",
   "id": "280add52",
   "metadata": {},
   "source": [
    "This is our final version of the widget.\n",
    "\n",
    "Throughout this workbook, we used steps from the following web pages to inform our widgets.\n",
    "- https://ipywidgets.readthedocs.io/en/latest/examples/Widget%20Basics.html\n",
    "- https://ipywidgets.readthedocs.io/en/latest/examples/Widget%20List.html\n",
    "- https://ipywidgets.readthedocs.io/en/latest/examples/Using%20Interact.html"
   ]
  },
  {
   "cell_type": "markdown",
   "id": "87df053c",
   "metadata": {},
   "source": [
    "### Set Up"
   ]
  },
  {
   "cell_type": "code",
   "execution_count": 1,
   "id": "02b6b096",
   "metadata": {},
   "outputs": [],
   "source": [
    "# Import the necessary data libraries.\n",
    "import numpy as np \n",
    "import pandas as pd\n",
    "from sklearn.model_selection import train_test_split as tts\n",
    "from sklearn.neighbors import KNeighborsClassifier\n",
    "import scipy.stats as stats\n",
    "\n",
    "# Classification Accuracy\n",
    "from sklearn import metrics\n",
    "\n",
    "# The following are for Jupyter Widgets.\n",
    "import ipywidgets as widgets\n",
    "from IPython.display import display\n",
    "from __future__ import print_function\n",
    "from ipywidgets import interact, interactive, fixed, interact_manual\n",
    "import ipywidgets as widgets\n",
    "from ipywidgets import FloatSlider"
   ]
  },
  {
   "cell_type": "code",
   "execution_count": 2,
   "id": "58d86450",
   "metadata": {},
   "outputs": [],
   "source": [
    "# Set up datasets.\n",
    "X_resampled_url = 'https://raw.githubusercontent.com/georgetown-analytics/Formula1/main/data/interim/X_resampled_forKNeighborWidget.csv'\n",
    "X_resampled = pd.read_csv(X_resampled_url, sep = ',', engine = 'python')\n",
    "y_resampled_url = 'https://raw.githubusercontent.com/georgetown-analytics/Formula1/main/data/interim/y_resampled_forKNeighborWidget.csv'\n",
    "y_resampled = pd.read_csv(y_resampled_url, sep = ',', engine = 'python')\n",
    "X_test_url = 'https://raw.githubusercontent.com/georgetown-analytics/Formula1/main/data/interim/X_test_forKNeighborWidget.csv'\n",
    "X_test = pd.read_csv(X_test_url, sep = ',', engine = 'python')\n",
    "y_test_url = 'https://raw.githubusercontent.com/georgetown-analytics/Formula1/main/data/interim/y_test_forKNeighborWidget.csv'\n",
    "y_test = pd.read_csv(y_test_url, sep = ',', engine = 'python')"
   ]
  },
  {
   "cell_type": "markdown",
   "id": "523b2f36",
   "metadata": {},
   "source": [
    "We know from testing the type of `y_resampled` in `InteractiveWidget_BackEnd.ipynb` that `y_resampled` and `y_test` need to be a series in order for our model to run correctly. We also know from this site (https://datatofish.com/pandas-dataframe-to-series/) how to change a dataframe into a series."
   ]
  },
  {
   "cell_type": "code",
   "execution_count": 3,
   "id": "dc76a7f6",
   "metadata": {},
   "outputs": [],
   "source": [
    "# Change the y_resampled dataframe into a y_resampled series.\n",
    "y_resampled = y_resampled.squeeze()"
   ]
  },
  {
   "cell_type": "code",
   "execution_count": 4,
   "id": "9a7bbb02",
   "metadata": {},
   "outputs": [],
   "source": [
    "# Change the y_test dataframe into a y_test series.\n",
    "y_test = y_test.squeeze()"
   ]
  },
  {
   "cell_type": "markdown",
   "id": "8021bf14",
   "metadata": {},
   "source": [
    "### Create the Modeling Functions"
   ]
  },
  {
   "cell_type": "code",
   "execution_count": 5,
   "id": "8cb81360",
   "metadata": {},
   "outputs": [],
   "source": [
    "# Create the function score_model.\n",
    "def widgetpred(X_resampled, y_resampled, X_test, y_test, input_test, estimator, **kwargs):\n",
    "    \"\"\"\n",
    "    Test various estimators.\n",
    "    \"\"\"\n",
    "    # Instantiate the classification model and visualizer.\n",
    "    estimator.fit(X_resampled, y_resampled, **kwargs)  \n",
    "    \n",
    "    expected  = y_test\n",
    "    predicted = estimator.predict(X_test)\n",
    "    \n",
    "    inputpred = estimator.predict(input_test)\n",
    "    \n",
    "    # Compute and return the prediction.\n",
    "    return [predicted, inputpred]"
   ]
  },
  {
   "cell_type": "code",
   "execution_count": 6,
   "id": "132e1999",
   "metadata": {},
   "outputs": [],
   "source": [
    "# Create the function conmatrix.\n",
    "def conmatrix(y_test, predicted, inputpred):\n",
    "    \"\"\"\n",
    "    Compute the confusion matrix and return the results.\n",
    "    \"\"\"\n",
    "    confusion = metrics.confusion_matrix(y_test, predicted)\n",
    "    TP = confusion[1, 1]\n",
    "    TN = confusion[0, 0]\n",
    "    FP = confusion[0, 1]\n",
    "    FN = confusion[1, 0]\n",
    "    \n",
    "    # When the prediction is positive, how often is it correct?\n",
    "    truepositive_rate = round((TP / (TP + FP)) * 100, 2)\n",
    "    \n",
    "    # When the prediction is negative, how often is it correct?\n",
    "    truenegative_rate = round((TN / (TN + FN)) * 100, 2)\n",
    "    \n",
    "    if inputpred == 1:\n",
    "        print(\"When our model predicts that a car will finish the race, it is correct\", truepositive_rate, \"% of the time.\")\n",
    "    else:\n",
    "        print(\"When our model predicts that a car will not finish the race, it is correct\", truenegative_rate, \"% of the time.\")"
   ]
  },
  {
   "cell_type": "markdown",
   "id": "4db2e3a2",
   "metadata": {},
   "source": [
    "### Create the Widget"
   ]
  },
  {
   "cell_type": "code",
   "execution_count": 7,
   "id": "e0ae7d0f",
   "metadata": {},
   "outputs": [],
   "source": [
    "\"\"\"\n",
    "Establish function \"predict\" which allows selection of two track types, whether\n",
    "the track is historic or not, and how popular the circuit is,\n",
    "as well as the input of one of each of the following values:\n",
    "year, grid, alt, average_lap_time, minimum_lap_time, PRCP, TAVG.\n",
    "\n",
    "Place these values in the dataframe input_df and display the dataframe.\n",
    "\n",
    "Create prediction based on widgetpred function and display the prediction:\n",
    "0 for did not finish, 1 for did finish.\n",
    "\"\"\"\n",
    "def predictfinish(trackType, historic, circuit, year, grid, alt, average_lap_time, normalized_minLapTime, PRCP, TAVG):    \n",
    "    # Use an if-else statement to determine the output based on the input track.\n",
    "    if trackType == \"Race\":\n",
    "        trackType = 0\n",
    "    else:\n",
    "        trackType = 1\n",
    "        \n",
    "    # Use an if-else statement to determine the output based on the input historic.\n",
    "    if historic == \"Not Historic\":\n",
    "        isHistoric = 0\n",
    "    else:\n",
    "        isHistoric = 1\n",
    "    \n",
    "    # Use an if-else statement to determine the output based on the input circuit.\n",
    "    if circuit == \"Used 500+ times\":\n",
    "        oneHot_circuits_1 = 1\n",
    "        oneHot_circuits_2 = 0\n",
    "        oneHot_circuits_3 = 0\n",
    "        oneHot_circuits_4 = 0\n",
    "        oneHot_circuits_5 = 0\n",
    "        oneHot_circuits_6 = 0\n",
    "    elif circuit == \"Used 400-499 times\":\n",
    "        oneHot_circuits_1 = 0\n",
    "        oneHot_circuits_2 = 1\n",
    "        oneHot_circuits_3 = 0\n",
    "        oneHot_circuits_4 = 0\n",
    "        oneHot_circuits_5 = 0\n",
    "        oneHot_circuits_6 = 0\n",
    "    elif circuit == \"Used 300-399 times\":\n",
    "        oneHot_circuits_1 = 0\n",
    "        oneHot_circuits_2 = 0\n",
    "        oneHot_circuits_3 = 1\n",
    "        oneHot_circuits_4 = 0\n",
    "        oneHot_circuits_5 = 0\n",
    "        oneHot_circuits_6 = 0\n",
    "    elif circuit == \"Used 200-299 times\":\n",
    "        oneHot_circuits_1 = 0\n",
    "        oneHot_circuits_2 = 0\n",
    "        oneHot_circuits_3 = 0\n",
    "        oneHot_circuits_4 = 1\n",
    "        oneHot_circuits_5 = 0\n",
    "        oneHot_circuits_6 = 0\n",
    "    elif circuit == \"Used 100-199 times\":\n",
    "        oneHot_circuits_1 = 0\n",
    "        oneHot_circuits_2 = 0\n",
    "        oneHot_circuits_3 = 0\n",
    "        oneHot_circuits_4 = 0\n",
    "        oneHot_circuits_5 = 1\n",
    "        oneHot_circuits_6 = 0\n",
    "    elif circuit == \"Used less than 100 times\":\n",
    "        oneHot_circuits_1 = 0\n",
    "        oneHot_circuits_2 = 0\n",
    "        oneHot_circuits_3 = 0\n",
    "        oneHot_circuits_4 = 0\n",
    "        oneHot_circuits_5 = 0\n",
    "        oneHot_circuits_6 = 1\n",
    "    \n",
    "    # Transform average_lap_time.\n",
    "    normalized_avgLapTime = np.log(average_lap_time)\n",
    "    \n",
    "    # Use an if-else statement to move any potential outliers from average_lap_time.\n",
    "    avgQ1 = -0.019303\n",
    "    avgQ3 = 0.006690\n",
    "    avgIQR = avgQ3 - avgQ1\n",
    "    avglowertail = avgQ1 - 2.5 * avgIQR\n",
    "    avguppertail = avgQ3 + 2.5 * avgIQR\n",
    "    avgmedian = -0.005962837883204569\n",
    "    if normalized_avgLapTime > avguppertail or normalized_avgLapTime < avglowertail:\n",
    "        normalized_avgLapTime = avgmedian\n",
    "        \n",
    "    # Use an if-else statement to move any potential outliers from normalized_minLapTime.\n",
    "    minQ1 = 0.984717\n",
    "    minQ3 = 1.006281\n",
    "    minIQR = minQ3 - minQ1\n",
    "    minlowertail = minQ1 - 2.0 * minIQR\n",
    "    minuppertail = minQ3 + 2.0 * minIQR\n",
    "    minmedian = 0.995628475361378\n",
    "    if normalized_minLapTime > minuppertail or normalized_minLapTime < minlowertail:\n",
    "        normalized_minLapTime = minmedian\n",
    "    \n",
    "    # Transform altitude.\n",
    "    alt_trans = np.log(alt + 1 - (-7))\n",
    "    \n",
    "    # Transform precipitation.\n",
    "    PRCP_trans = np.log(PRCP + 1)\n",
    "    \n",
    "    # Establish the data of our input_df dataframe.\n",
    "    inputdata = [[grid, trackType, year, TAVG, isHistoric, oneHot_circuits_1, oneHot_circuits_2,\n",
    "                 oneHot_circuits_3, oneHot_circuits_4, oneHot_circuits_5, oneHot_circuits_6, alt_trans,\n",
    "                 PRCP_trans, normalized_minLapTime, normalized_avgLapTime]]\n",
    "    \n",
    "    # Establish the dataframe input_df itself with pd.DataFrame.\n",
    "    input_df = pd.DataFrame(inputdata, columns =\n",
    "                ['grid', 'trackType', 'year', 'TAVG',\n",
    "             'isHistoric', 'oneHot_circuits_1', 'oneHot_circuits_2',\n",
    "             'oneHot_circuits_3', 'oneHot_circuits_4', 'oneHot_circuits_5',\n",
    "             'oneHot_circuits_6', 'alt_trans', 'PRCP_trans', 'normalized_minLapTime',\n",
    "             'normalized_avgLapTime'])\n",
    "    \n",
    "    display(input_df)\n",
    "    \n",
    "    # Using the widgetpred function, predict whether the car will finish the race or not given input_df.\n",
    "    pred = widgetpred(X_resampled, y_resampled, X_test, y_test, input_df, KNeighborsClassifier())\n",
    "    \n",
    "    # Using an if-else statement, determine what interactors will see given the data they input.\n",
    "    if pred[1] == 1:\n",
    "        writtenpred = \"finish the race.\"\n",
    "    else:\n",
    "        writtenpred = \"not finish the race.\"\n",
    "    \n",
    "    print(\"According to our KNeighbors model, your car is predicted to\", writtenpred)\n",
    "    \n",
    "    conmatrix(y_test, pred[0], pred[1])"
   ]
  },
  {
   "cell_type": "code",
   "execution_count": 8,
   "id": "0a96c2be",
   "metadata": {},
   "outputs": [
    {
     "data": {
      "application/vnd.jupyter.widget-view+json": {
       "model_id": "8ccd119d42694146ab2642d96b730ec1",
       "version_major": 2,
       "version_minor": 0
      },
      "text/plain": [
       "interactive(children=(Dropdown(description='Track Type', options=('Race', 'Street'), value='Race'), Dropdown(d…"
      ]
     },
     "metadata": {},
     "output_type": "display_data"
    }
   ],
   "source": [
    "# Create a widget that will interact with the predictfinish function.\n",
    "interact(predictfinish, trackType = widgets.Dropdown(options = [\"Race\", \"Street\"], value = \"Race\", description = 'Track Type'),\n",
    "         historic = widgets.Dropdown(options = [\"Not Historic\", \"Historic\"], value = \"Not Historic\", description = 'Historic?'),\n",
    "         circuit = widgets.Dropdown(options = [\"Used 500+ times\", \"Used 400-499 times\", \"Used 300-399 times\", \"Used 200-299 times\", \"Used 100-199 times\", \"Used less than 100 times\"], value = \"Used less than 100 times\", description = 'Circuit'),\n",
    "         year = widgets.IntSlider(min = 1996, max = 2021, description = 'Year', disabled = False, continuous_update = False),\n",
    "         grid = widgets.IntSlider(min = 0, max = 30, description = 'Grid', disabled = False, continuous_update = False),\n",
    "         alt = widgets.BoundedFloatText(min = -100, max = 2500, description = 'Altitude', disabled = False, continuous_update = False),\n",
    "         average_lap_time = widgets.FloatSlider(min = 0.1, max = 6.0, value = 0.1, description = 'Avg Lap Time', disabled = False, continuous_update = False),\n",
    "         normalized_minLapTime = widgets.FloatSlider(min = 0.1, max = 6.0, value = 0.1, description = 'Min Lap Time', disabled = False, continuous_update = False),\n",
    "         PRCP = widgets.FloatSlider(min = 0, max = 10, description = 'Precipitation', disabled = False, continuous_update = False),\n",
    "         TAVG = widgets.FloatSlider(min = 0, max = 110, description = 'Avg Temp (F)', disabled = False, continuous_update = False));"
   ]
  },
  {
   "cell_type": "code",
   "execution_count": null,
   "id": "58fd711f",
   "metadata": {},
   "outputs": [],
   "source": []
  }
 ],
 "metadata": {
  "kernelspec": {
   "display_name": "Python 3",
   "language": "python",
   "name": "python3"
  },
  "language_info": {
   "codemirror_mode": {
    "name": "ipython",
    "version": 3
   },
   "file_extension": ".py",
   "mimetype": "text/x-python",
   "name": "python",
   "nbconvert_exporter": "python",
   "pygments_lexer": "ipython3",
   "version": "3.8.3"
  }
 },
 "nbformat": 4,
 "nbformat_minor": 5
}
