{
 "cells": [
  {
   "cell_type": "code",
   "execution_count": 1,
   "id": "05c61ddf-6ba4-4b2f-ba60-04f00e714651",
   "metadata": {},
   "outputs": [],
   "source": [
    "#This is a test Git upload. By Billy"
   ]
  }
 ],
 "metadata": {
  "kernelspec": {
   "display_name": "Python 3",
   "language": "python",
   "name": "python3"
  },
  "language_info": {
   "codemirror_mode": {
    "name": "ipython",
    "version": 3
   },
   "file_extension": ".py",
   "mimetype": "text/x-python",
   "name": "python",
   "nbconvert_exporter": "python",
   "pygments_lexer": "ipython3",
   "version": "3.8.8"
  }
 },
 "nbformat": 4,
 "nbformat_minor": 5
}
